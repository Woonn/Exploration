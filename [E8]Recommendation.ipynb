{
 "cells": [
  {
   "cell_type": "markdown",
   "id": "adaptive-germany",
   "metadata": {},
   "source": [
    "해당 노드는 다음과 같이 구성됩니다.\n",
    "1. Data import & preprocessing\n",
    "2. EDA\n",
    "3. My preference\n",
    "4. CSR Matrix\n",
    "5. Training\n",
    "6. recommendation"
   ]
  },
  {
   "cell_type": "markdown",
   "id": "annoying-milton",
   "metadata": {},
   "source": [
    "# 1) 데이터 전처리"
   ]
  },
  {
   "cell_type": "code",
   "execution_count": 1,
   "id": "suspended-disclaimer",
   "metadata": {},
   "outputs": [
    {
     "data": {
      "text/html": [
       "<div>\n",
       "<style scoped>\n",
       "    .dataframe tbody tr th:only-of-type {\n",
       "        vertical-align: middle;\n",
       "    }\n",
       "\n",
       "    .dataframe tbody tr th {\n",
       "        vertical-align: top;\n",
       "    }\n",
       "\n",
       "    .dataframe thead th {\n",
       "        text-align: right;\n",
       "    }\n",
       "</style>\n",
       "<table border=\"1\" class=\"dataframe\">\n",
       "  <thead>\n",
       "    <tr style=\"text-align: right;\">\n",
       "      <th></th>\n",
       "      <th>user_id</th>\n",
       "      <th>movie_id</th>\n",
       "      <th>rating</th>\n",
       "      <th>timestamp</th>\n",
       "    </tr>\n",
       "  </thead>\n",
       "  <tbody>\n",
       "    <tr>\n",
       "      <th>0</th>\n",
       "      <td>1</td>\n",
       "      <td>1193</td>\n",
       "      <td>5</td>\n",
       "      <td>978300760</td>\n",
       "    </tr>\n",
       "    <tr>\n",
       "      <th>1</th>\n",
       "      <td>1</td>\n",
       "      <td>661</td>\n",
       "      <td>3</td>\n",
       "      <td>978302109</td>\n",
       "    </tr>\n",
       "    <tr>\n",
       "      <th>2</th>\n",
       "      <td>1</td>\n",
       "      <td>914</td>\n",
       "      <td>3</td>\n",
       "      <td>978301968</td>\n",
       "    </tr>\n",
       "    <tr>\n",
       "      <th>3</th>\n",
       "      <td>1</td>\n",
       "      <td>3408</td>\n",
       "      <td>4</td>\n",
       "      <td>978300275</td>\n",
       "    </tr>\n",
       "    <tr>\n",
       "      <th>4</th>\n",
       "      <td>1</td>\n",
       "      <td>2355</td>\n",
       "      <td>5</td>\n",
       "      <td>978824291</td>\n",
       "    </tr>\n",
       "  </tbody>\n",
       "</table>\n",
       "</div>"
      ],
      "text/plain": [
       "   user_id  movie_id  rating  timestamp\n",
       "0        1      1193       5  978300760\n",
       "1        1       661       3  978302109\n",
       "2        1       914       3  978301968\n",
       "3        1      3408       4  978300275\n",
       "4        1      2355       5  978824291"
      ]
     },
     "execution_count": 1,
     "metadata": {},
     "output_type": "execute_result"
    }
   ],
   "source": [
    "import os\n",
    "import pandas as pd\n",
    "rating_file_path=os.getenv('HOME') + '/aiffel/recommendata_iu/data/ml-1m/ratings.dat'\n",
    "ratings_cols = ['user_id', 'movie_id', 'rating', 'timestamp']\n",
    "ratings = pd.read_csv(rating_file_path, sep='::', names=ratings_cols, engine='python')\n",
    "orginal_data_size = len(ratings)\n",
    "ratings.head()"
   ]
  },
  {
   "cell_type": "code",
   "execution_count": 2,
   "id": "activated-measure",
   "metadata": {},
   "outputs": [
    {
     "name": "stdout",
     "output_type": "stream",
     "text": [
      "orginal_data_size: 1000209, filtered_data_size: 836478\n",
      "Ratio of Remaining Data is 83.63%\n"
     ]
    }
   ],
   "source": [
    "# 3점 이상만 남깁니다.\n",
    "ratings = ratings[ratings['rating']>=3]\n",
    "filtered_data_size = len(ratings)\n",
    "\n",
    "print(f'orginal_data_size: {orginal_data_size}, filtered_data_size: {filtered_data_size}')\n",
    "print(f'Ratio of Remaining Data is {filtered_data_size / orginal_data_size:.2%}')"
   ]
  },
  {
   "cell_type": "code",
   "execution_count": 3,
   "id": "affiliated-corporation",
   "metadata": {},
   "outputs": [],
   "source": [
    "# rating 컬럼의 이름을 count로 바꿉니다.\n",
    "ratings.rename(columns={'rating':'count'}, inplace=True)"
   ]
  },
  {
   "cell_type": "code",
   "execution_count": 4,
   "id": "initial-intent",
   "metadata": {},
   "outputs": [
    {
     "data": {
      "text/plain": [
       "0          5\n",
       "1          3\n",
       "2          3\n",
       "3          4\n",
       "4          5\n",
       "          ..\n",
       "1000203    3\n",
       "1000205    5\n",
       "1000206    5\n",
       "1000207    4\n",
       "1000208    4\n",
       "Name: count, Length: 836478, dtype: int64"
      ]
     },
     "execution_count": 4,
     "metadata": {},
     "output_type": "execute_result"
    }
   ],
   "source": [
    "ratings['count']"
   ]
  },
  {
   "cell_type": "code",
   "execution_count": 5,
   "id": "becoming-planning",
   "metadata": {},
   "outputs": [
    {
     "data": {
      "text/html": [
       "<div>\n",
       "<style scoped>\n",
       "    .dataframe tbody tr th:only-of-type {\n",
       "        vertical-align: middle;\n",
       "    }\n",
       "\n",
       "    .dataframe tbody tr th {\n",
       "        vertical-align: top;\n",
       "    }\n",
       "\n",
       "    .dataframe thead th {\n",
       "        text-align: right;\n",
       "    }\n",
       "</style>\n",
       "<table border=\"1\" class=\"dataframe\">\n",
       "  <thead>\n",
       "    <tr style=\"text-align: right;\">\n",
       "      <th></th>\n",
       "      <th>user_id</th>\n",
       "      <th>movie_id</th>\n",
       "      <th>count</th>\n",
       "      <th>timestamp</th>\n",
       "    </tr>\n",
       "  </thead>\n",
       "  <tbody>\n",
       "    <tr>\n",
       "      <th>0</th>\n",
       "      <td>1</td>\n",
       "      <td>1193</td>\n",
       "      <td>5</td>\n",
       "      <td>978300760</td>\n",
       "    </tr>\n",
       "    <tr>\n",
       "      <th>1</th>\n",
       "      <td>1</td>\n",
       "      <td>661</td>\n",
       "      <td>3</td>\n",
       "      <td>978302109</td>\n",
       "    </tr>\n",
       "    <tr>\n",
       "      <th>2</th>\n",
       "      <td>1</td>\n",
       "      <td>914</td>\n",
       "      <td>3</td>\n",
       "      <td>978301968</td>\n",
       "    </tr>\n",
       "    <tr>\n",
       "      <th>3</th>\n",
       "      <td>1</td>\n",
       "      <td>3408</td>\n",
       "      <td>4</td>\n",
       "      <td>978300275</td>\n",
       "    </tr>\n",
       "    <tr>\n",
       "      <th>4</th>\n",
       "      <td>1</td>\n",
       "      <td>2355</td>\n",
       "      <td>5</td>\n",
       "      <td>978824291</td>\n",
       "    </tr>\n",
       "  </tbody>\n",
       "</table>\n",
       "</div>"
      ],
      "text/plain": [
       "   user_id  movie_id  count  timestamp\n",
       "0        1      1193      5  978300760\n",
       "1        1       661      3  978302109\n",
       "2        1       914      3  978301968\n",
       "3        1      3408      4  978300275\n",
       "4        1      2355      5  978824291"
      ]
     },
     "execution_count": 5,
     "metadata": {},
     "output_type": "execute_result"
    }
   ],
   "source": [
    "ratings.head()"
   ]
  },
  {
   "cell_type": "code",
   "execution_count": 6,
   "id": "composite-obligation",
   "metadata": {},
   "outputs": [
    {
     "data": {
      "text/html": [
       "<div>\n",
       "<style scoped>\n",
       "    .dataframe tbody tr th:only-of-type {\n",
       "        vertical-align: middle;\n",
       "    }\n",
       "\n",
       "    .dataframe tbody tr th {\n",
       "        vertical-align: top;\n",
       "    }\n",
       "\n",
       "    .dataframe thead th {\n",
       "        text-align: right;\n",
       "    }\n",
       "</style>\n",
       "<table border=\"1\" class=\"dataframe\">\n",
       "  <thead>\n",
       "    <tr style=\"text-align: right;\">\n",
       "      <th></th>\n",
       "      <th>movie_id</th>\n",
       "      <th>title</th>\n",
       "      <th>genre</th>\n",
       "    </tr>\n",
       "  </thead>\n",
       "  <tbody>\n",
       "    <tr>\n",
       "      <th>0</th>\n",
       "      <td>1</td>\n",
       "      <td>Toy Story (1995)</td>\n",
       "      <td>Animation|Children's|Comedy</td>\n",
       "    </tr>\n",
       "    <tr>\n",
       "      <th>1</th>\n",
       "      <td>2</td>\n",
       "      <td>Jumanji (1995)</td>\n",
       "      <td>Adventure|Children's|Fantasy</td>\n",
       "    </tr>\n",
       "    <tr>\n",
       "      <th>2</th>\n",
       "      <td>3</td>\n",
       "      <td>Grumpier Old Men (1995)</td>\n",
       "      <td>Comedy|Romance</td>\n",
       "    </tr>\n",
       "    <tr>\n",
       "      <th>3</th>\n",
       "      <td>4</td>\n",
       "      <td>Waiting to Exhale (1995)</td>\n",
       "      <td>Comedy|Drama</td>\n",
       "    </tr>\n",
       "    <tr>\n",
       "      <th>4</th>\n",
       "      <td>5</td>\n",
       "      <td>Father of the Bride Part II (1995)</td>\n",
       "      <td>Comedy</td>\n",
       "    </tr>\n",
       "  </tbody>\n",
       "</table>\n",
       "</div>"
      ],
      "text/plain": [
       "   movie_id                               title                         genre\n",
       "0         1                    Toy Story (1995)   Animation|Children's|Comedy\n",
       "1         2                      Jumanji (1995)  Adventure|Children's|Fantasy\n",
       "2         3             Grumpier Old Men (1995)                Comedy|Romance\n",
       "3         4            Waiting to Exhale (1995)                  Comedy|Drama\n",
       "4         5  Father of the Bride Part II (1995)                        Comedy"
      ]
     },
     "execution_count": 6,
     "metadata": {},
     "output_type": "execute_result"
    }
   ],
   "source": [
    "# 영화 제목을 보기 위해 메타 데이터를 읽어옵니다.\n",
    "movie_file_path=os.getenv('HOME') + '/aiffel/recommendata_iu/data/ml-1m/movies.dat'\n",
    "cols = ['movie_id', 'title', 'genre'] \n",
    "movies = pd.read_csv(movie_file_path, sep='::', names=cols, engine='python', encoding = \"ISO-8859-1\")\n",
    "movies.head()"
   ]
  },
  {
   "cell_type": "code",
   "execution_count": 7,
   "id": "equal-replica",
   "metadata": {},
   "outputs": [
    {
     "data": {
      "text/html": [
       "<div>\n",
       "<style scoped>\n",
       "    .dataframe tbody tr th:only-of-type {\n",
       "        vertical-align: middle;\n",
       "    }\n",
       "\n",
       "    .dataframe tbody tr th {\n",
       "        vertical-align: top;\n",
       "    }\n",
       "\n",
       "    .dataframe thead th {\n",
       "        text-align: right;\n",
       "    }\n",
       "</style>\n",
       "<table border=\"1\" class=\"dataframe\">\n",
       "  <thead>\n",
       "    <tr style=\"text-align: right;\">\n",
       "      <th></th>\n",
       "      <th>movie_id</th>\n",
       "      <th>title</th>\n",
       "      <th>genre</th>\n",
       "    </tr>\n",
       "  </thead>\n",
       "  <tbody>\n",
       "    <tr>\n",
       "      <th>0</th>\n",
       "      <td>1</td>\n",
       "      <td>toy story (1995)</td>\n",
       "      <td>Animation|Children's|Comedy</td>\n",
       "    </tr>\n",
       "    <tr>\n",
       "      <th>1</th>\n",
       "      <td>2</td>\n",
       "      <td>jumanji (1995)</td>\n",
       "      <td>Adventure|Children's|Fantasy</td>\n",
       "    </tr>\n",
       "    <tr>\n",
       "      <th>2</th>\n",
       "      <td>3</td>\n",
       "      <td>grumpier old men (1995)</td>\n",
       "      <td>Comedy|Romance</td>\n",
       "    </tr>\n",
       "    <tr>\n",
       "      <th>3</th>\n",
       "      <td>4</td>\n",
       "      <td>waiting to exhale (1995)</td>\n",
       "      <td>Comedy|Drama</td>\n",
       "    </tr>\n",
       "    <tr>\n",
       "      <th>4</th>\n",
       "      <td>5</td>\n",
       "      <td>father of the bride part ii (1995)</td>\n",
       "      <td>Comedy</td>\n",
       "    </tr>\n",
       "  </tbody>\n",
       "</table>\n",
       "</div>"
      ],
      "text/plain": [
       "   movie_id                               title                         genre\n",
       "0         1                    toy story (1995)   Animation|Children's|Comedy\n",
       "1         2                      jumanji (1995)  Adventure|Children's|Fantasy\n",
       "2         3             grumpier old men (1995)                Comedy|Romance\n",
       "3         4            waiting to exhale (1995)                  Comedy|Drama\n",
       "4         5  father of the bride part ii (1995)                        Comedy"
      ]
     },
     "execution_count": 7,
     "metadata": {},
     "output_type": "execute_result"
    }
   ],
   "source": [
    "movies['title'] = movies['title'].str.lower()\n",
    "movies.head()"
   ]
  },
  {
   "cell_type": "code",
   "execution_count": 8,
   "id": "important-strategy",
   "metadata": {
    "scrolled": true
   },
   "outputs": [
    {
     "data": {
      "text/html": [
       "<div>\n",
       "<style scoped>\n",
       "    .dataframe tbody tr th:only-of-type {\n",
       "        vertical-align: middle;\n",
       "    }\n",
       "\n",
       "    .dataframe tbody tr th {\n",
       "        vertical-align: top;\n",
       "    }\n",
       "\n",
       "    .dataframe thead th {\n",
       "        text-align: right;\n",
       "    }\n",
       "</style>\n",
       "<table border=\"1\" class=\"dataframe\">\n",
       "  <thead>\n",
       "    <tr style=\"text-align: right;\">\n",
       "      <th></th>\n",
       "      <th>movie_id</th>\n",
       "      <th>title</th>\n",
       "      <th>genre</th>\n",
       "    </tr>\n",
       "  </thead>\n",
       "  <tbody>\n",
       "    <tr>\n",
       "      <th>1</th>\n",
       "      <td>2</td>\n",
       "      <td>jumanji (1995)</td>\n",
       "      <td>Adventure|Children's|Fantasy</td>\n",
       "    </tr>\n",
       "  </tbody>\n",
       "</table>\n",
       "</div>"
      ],
      "text/plain": [
       "   movie_id           title                         genre\n",
       "1         2  jumanji (1995)  Adventure|Children's|Fantasy"
      ]
     },
     "execution_count": 8,
     "metadata": {},
     "output_type": "execute_result"
    }
   ],
   "source": [
    "movies.loc[1:1, :]"
   ]
  },
  {
   "cell_type": "code",
   "execution_count": 9,
   "id": "apart-airline",
   "metadata": {},
   "outputs": [],
   "source": [
    "result = []\n",
    "for i in movies.loc[:, 'title']:\n",
    "    result.append(i[:-7])\n",
    "# print(result)\n",
    "# print(result)"
   ]
  },
  {
   "cell_type": "code",
   "execution_count": 10,
   "id": "theoretical-world",
   "metadata": {},
   "outputs": [
    {
     "name": "stdout",
     "output_type": "stream",
     "text": [
      "(3883,)\n"
     ]
    },
    {
     "data": {
      "text/plain": [
       "3841"
      ]
     },
     "execution_count": 10,
     "metadata": {},
     "output_type": "execute_result"
    }
   ],
   "source": [
    "# 리메이크, 혹은 같은 이름으로 된 영화가 있는지 확인\n",
    "# 년도를 제거했기 때문에 중복값이 생겼는지 확인\n",
    "print(movies['title'].unique().shape)\n",
    "len(set(result))"
   ]
  },
  {
   "cell_type": "code",
   "execution_count": 11,
   "id": "disciplinary-sweet",
   "metadata": {},
   "outputs": [],
   "source": [
    "# 이런식으로 변경하려 했는데 중복값이 있어서 안됨\n",
    "# movies['title'] = result"
   ]
  },
  {
   "cell_type": "code",
   "execution_count": 12,
   "id": "sunset-doubt",
   "metadata": {},
   "outputs": [
    {
     "data": {
      "text/html": [
       "<div>\n",
       "<style scoped>\n",
       "    .dataframe tbody tr th:only-of-type {\n",
       "        vertical-align: middle;\n",
       "    }\n",
       "\n",
       "    .dataframe tbody tr th {\n",
       "        vertical-align: top;\n",
       "    }\n",
       "\n",
       "    .dataframe thead th {\n",
       "        text-align: right;\n",
       "    }\n",
       "</style>\n",
       "<table border=\"1\" class=\"dataframe\">\n",
       "  <thead>\n",
       "    <tr style=\"text-align: right;\">\n",
       "      <th></th>\n",
       "      <th>movie_id</th>\n",
       "      <th>title</th>\n",
       "      <th>genre</th>\n",
       "    </tr>\n",
       "  </thead>\n",
       "  <tbody>\n",
       "    <tr>\n",
       "      <th>0</th>\n",
       "      <td>1</td>\n",
       "      <td>toy story (1995)</td>\n",
       "      <td>Animation|Children's|Comedy</td>\n",
       "    </tr>\n",
       "    <tr>\n",
       "      <th>1</th>\n",
       "      <td>2</td>\n",
       "      <td>jumanji (1995)</td>\n",
       "      <td>Adventure|Children's|Fantasy</td>\n",
       "    </tr>\n",
       "    <tr>\n",
       "      <th>2</th>\n",
       "      <td>3</td>\n",
       "      <td>grumpier old men (1995)</td>\n",
       "      <td>Comedy|Romance</td>\n",
       "    </tr>\n",
       "    <tr>\n",
       "      <th>3</th>\n",
       "      <td>4</td>\n",
       "      <td>waiting to exhale (1995)</td>\n",
       "      <td>Comedy|Drama</td>\n",
       "    </tr>\n",
       "    <tr>\n",
       "      <th>4</th>\n",
       "      <td>5</td>\n",
       "      <td>father of the bride part ii (1995)</td>\n",
       "      <td>Comedy</td>\n",
       "    </tr>\n",
       "  </tbody>\n",
       "</table>\n",
       "</div>"
      ],
      "text/plain": [
       "   movie_id                               title                         genre\n",
       "0         1                    toy story (1995)   Animation|Children's|Comedy\n",
       "1         2                      jumanji (1995)  Adventure|Children's|Fantasy\n",
       "2         3             grumpier old men (1995)                Comedy|Romance\n",
       "3         4            waiting to exhale (1995)                  Comedy|Drama\n",
       "4         5  father of the bride part ii (1995)                        Comedy"
      ]
     },
     "execution_count": 12,
     "metadata": {},
     "output_type": "execute_result"
    }
   ],
   "source": [
    "movies.head()"
   ]
  },
  {
   "cell_type": "code",
   "execution_count": 13,
   "id": "indonesian-alfred",
   "metadata": {},
   "outputs": [
    {
     "name": "stdout",
     "output_type": "stream",
     "text": [
      "1\n"
     ]
    }
   ],
   "source": [
    "print(movies['movie_id'][0])"
   ]
  },
  {
   "cell_type": "markdown",
   "id": "russian-citizen",
   "metadata": {},
   "source": [
    "# 2) 분석해 봅시다.\n",
    " * ratings에 있는 유니크한 영화 개수\n",
    " * rating에 있는 유니크한 사용자 수\n",
    " * 가장 인기 있는 영화 30개(인기순)"
   ]
  },
  {
   "cell_type": "code",
   "execution_count": 14,
   "id": "dramatic-review",
   "metadata": {},
   "outputs": [
    {
     "data": {
      "text/plain": [
       "3628"
      ]
     },
     "execution_count": 14,
     "metadata": {},
     "output_type": "execute_result"
    }
   ],
   "source": [
    "ratings['movie_id'].nunique()"
   ]
  },
  {
   "cell_type": "code",
   "execution_count": 15,
   "id": "cloudy-barbados",
   "metadata": {},
   "outputs": [
    {
     "data": {
      "text/plain": [
       "6039"
      ]
     },
     "execution_count": 15,
     "metadata": {},
     "output_type": "execute_result"
    }
   ],
   "source": [
    "ratings['user_id'].nunique()"
   ]
  },
  {
   "cell_type": "code",
   "execution_count": 16,
   "id": "loaded-minister",
   "metadata": {},
   "outputs": [
    {
     "data": {
      "text/plain": [
       "movie_id\n",
       "1    2000\n",
       "2     551\n",
       "3     339\n",
       "4     102\n",
       "5     214\n",
       "Name: count, dtype: int64"
      ]
     },
     "execution_count": 16,
     "metadata": {},
     "output_type": "execute_result"
    }
   ],
   "source": [
    "user_num = ratings.groupby('movie_id')['count'].count()\n",
    "user_num.head()"
   ]
  },
  {
   "cell_type": "code",
   "execution_count": 17,
   "id": "contemporary-provincial",
   "metadata": {},
   "outputs": [
    {
     "data": {
      "text/plain": [
       "movie_id\n",
       "2858    3211\n",
       "260     2910\n",
       "1196    2885\n",
       "1210    2716\n",
       "2028    2561\n",
       "589     2509\n",
       "593     2498\n",
       "1198    2473\n",
       "1270    2460\n",
       "2571    2434\n",
       "480     2413\n",
       "2762    2385\n",
       "608     2371\n",
       "110     2314\n",
       "1580    2297\n",
       "527     2257\n",
       "1197    2252\n",
       "2396    2213\n",
       "1617    2210\n",
       "318     2194\n",
       "858     2167\n",
       "1265    2121\n",
       "1097    2102\n",
       "2997    2066\n",
       "2716    2051\n",
       "296     2030\n",
       "356     2022\n",
       "1240    2019\n",
       "1       2000\n",
       "457     1941\n",
       "Name: count, dtype: int64"
      ]
     },
     "execution_count": 17,
     "metadata": {},
     "output_type": "execute_result"
    }
   ],
   "source": [
    "user_num.sort_values(ascending = False).head(30)"
   ]
  },
  {
   "cell_type": "code",
   "execution_count": 18,
   "id": "aerial-sending",
   "metadata": {},
   "outputs": [
    {
     "data": {
      "text/plain": [
       "user_id\n",
       "1     53\n",
       "2    116\n",
       "3     46\n",
       "4     19\n",
       "5    143\n",
       "Name: movie_id, dtype: int64"
      ]
     },
     "execution_count": 18,
     "metadata": {},
     "output_type": "execute_result"
    }
   ],
   "source": [
    "movie_rate = ratings.groupby('user_id')['movie_id'].count()\n",
    "movie_rate.head()"
   ]
  },
  {
   "cell_type": "code",
   "execution_count": 19,
   "id": "latin-hygiene",
   "metadata": {},
   "outputs": [
    {
     "name": "stdout",
     "output_type": "stream",
     "text": [
      "movie_id\n",
      "1    2000\n",
      "2     551\n",
      "3     339\n",
      "4     102\n",
      "5     214\n",
      "Name: count, dtype: int64\n"
     ]
    },
    {
     "data": {
      "text/plain": [
       "count    3628.000000\n",
       "mean      230.561742\n",
       "std       355.596393\n",
       "min         1.000000\n",
       "25%        23.000000\n",
       "50%        87.000000\n",
       "75%       285.000000\n",
       "max      3211.000000\n",
       "Name: count, dtype: float64"
      ]
     },
     "execution_count": 19,
     "metadata": {},
     "output_type": "execute_result"
    }
   ],
   "source": [
    "# 영화별 몇명의 관객이 봤는지에 대한 통계\n",
    "user_count = ratings.groupby('movie_id')['count'].count()\n",
    "print(user_count.head())\n",
    "user_count.describe()"
   ]
  },
  {
   "cell_type": "code",
   "execution_count": 20,
   "id": "ordinary-manual",
   "metadata": {},
   "outputs": [
    {
     "data": {
      "text/plain": [
       "count    6039.000000\n",
       "mean      138.512668\n",
       "std       156.241599\n",
       "min         1.000000\n",
       "25%        38.000000\n",
       "50%        81.000000\n",
       "75%       177.000000\n",
       "max      1968.000000\n",
       "Name: movie_id, dtype: float64"
      ]
     },
     "execution_count": 20,
     "metadata": {},
     "output_type": "execute_result"
    }
   ],
   "source": [
    "# 관람객별 몇개의 영화를 봤는지에 대한 통계\n",
    "user_count = ratings.groupby('user_id')['movie_id'].count()\n",
    "user_count.describe()"
   ]
  },
  {
   "cell_type": "markdown",
   "id": "exempt-tension",
   "metadata": {},
   "source": [
    "# 3) 내가 선호하는 영화를 5가지 골라서 rating에 추가해 줍시다."
   ]
  },
  {
   "cell_type": "code",
   "execution_count": 21,
   "id": "ceramic-communications",
   "metadata": {},
   "outputs": [
    {
     "data": {
      "text/plain": [
       "3883"
      ]
     },
     "execution_count": 21,
     "metadata": {},
     "output_type": "execute_result"
    }
   ],
   "source": [
    "movies['title'].nunique()"
   ]
  },
  {
   "cell_type": "code",
   "execution_count": 22,
   "id": "velvet-guyana",
   "metadata": {},
   "outputs": [
    {
     "data": {
      "text/plain": [
       "0                         toy story (1995)\n",
       "1                           jumanji (1995)\n",
       "2                  grumpier old men (1995)\n",
       "3                 waiting to exhale (1995)\n",
       "4       father of the bride part ii (1995)\n",
       "                       ...                \n",
       "3878               meet the parents (2000)\n",
       "3879            requiem for a dream (2000)\n",
       "3880                      tigerland (2000)\n",
       "3881               two family house (2000)\n",
       "3882                 contender, the (2000)\n",
       "Name: title, Length: 3883, dtype: object"
      ]
     },
     "execution_count": 22,
     "metadata": {},
     "output_type": "execute_result"
    }
   ],
   "source": [
    "(movies.loc[:,'title'])"
   ]
  },
  {
   "cell_type": "code",
   "execution_count": 23,
   "id": "complicated-tuesday",
   "metadata": {},
   "outputs": [],
   "source": [
    "# 초기 추천을 위한 선호영화\n",
    "my_favorite = ['toy story (1995)' , 'jumanji (1995)' ,'ghost and the darkness, the (1996)' ,'forrest gump (1994)' ,'bug\\'s life, a (1998)']"
   ]
  },
  {
   "cell_type": "code",
   "execution_count": 24,
   "id": "introductory-table",
   "metadata": {},
   "outputs": [
    {
     "name": "stdout",
     "output_type": "stream",
     "text": [
      "toy story (1995)\n",
      "1\n",
      "jumanji (1995)\n",
      "2\n",
      "forrest gump (1994)\n",
      "356\n",
      "ghost and the darkness, the (1996)\n",
      "1049\n",
      "bug's life, a (1998)\n",
      "2355\n"
     ]
    }
   ],
   "source": [
    "# 영화 제목을 id로 바꿔줌\n",
    "movie_idx = []\n",
    "for i, k in enumerate(movies['title']):\n",
    "    if k in my_favorite:\n",
    "        print(k)\n",
    "        print(movies['movie_id'][i])\n",
    "        movie_idx.append(movies['movie_id'][i])"
   ]
  },
  {
   "cell_type": "code",
   "execution_count": 25,
   "id": "functional-thomas",
   "metadata": {},
   "outputs": [
    {
     "name": "stdout",
     "output_type": "stream",
     "text": [
      "[1, 2, 356, 1049, 2355]\n"
     ]
    }
   ],
   "source": [
    "print(movie_idx)"
   ]
  },
  {
   "cell_type": "code",
   "execution_count": 26,
   "id": "recorded-trust",
   "metadata": {},
   "outputs": [
    {
     "data": {
      "text/html": [
       "<div>\n",
       "<style scoped>\n",
       "    .dataframe tbody tr th:only-of-type {\n",
       "        vertical-align: middle;\n",
       "    }\n",
       "\n",
       "    .dataframe tbody tr th {\n",
       "        vertical-align: top;\n",
       "    }\n",
       "\n",
       "    .dataframe thead th {\n",
       "        text-align: right;\n",
       "    }\n",
       "</style>\n",
       "<table border=\"1\" class=\"dataframe\">\n",
       "  <thead>\n",
       "    <tr style=\"text-align: right;\">\n",
       "      <th></th>\n",
       "      <th>user_id</th>\n",
       "      <th>movie_id</th>\n",
       "      <th>count</th>\n",
       "      <th>timestamp</th>\n",
       "    </tr>\n",
       "  </thead>\n",
       "  <tbody>\n",
       "    <tr>\n",
       "      <th>1000203</th>\n",
       "      <td>6040</td>\n",
       "      <td>1090</td>\n",
       "      <td>3</td>\n",
       "      <td>956715518.0</td>\n",
       "    </tr>\n",
       "    <tr>\n",
       "      <th>1000205</th>\n",
       "      <td>6040</td>\n",
       "      <td>1094</td>\n",
       "      <td>5</td>\n",
       "      <td>956704887.0</td>\n",
       "    </tr>\n",
       "    <tr>\n",
       "      <th>1000206</th>\n",
       "      <td>6040</td>\n",
       "      <td>562</td>\n",
       "      <td>5</td>\n",
       "      <td>956704746.0</td>\n",
       "    </tr>\n",
       "    <tr>\n",
       "      <th>1000207</th>\n",
       "      <td>6040</td>\n",
       "      <td>1096</td>\n",
       "      <td>4</td>\n",
       "      <td>956715648.0</td>\n",
       "    </tr>\n",
       "    <tr>\n",
       "      <th>1000208</th>\n",
       "      <td>6040</td>\n",
       "      <td>1097</td>\n",
       "      <td>4</td>\n",
       "      <td>956715569.0</td>\n",
       "    </tr>\n",
       "    <tr>\n",
       "      <th>0</th>\n",
       "      <td>zimin</td>\n",
       "      <td>1</td>\n",
       "      <td>5</td>\n",
       "      <td>NaN</td>\n",
       "    </tr>\n",
       "    <tr>\n",
       "      <th>1</th>\n",
       "      <td>zimin</td>\n",
       "      <td>2</td>\n",
       "      <td>5</td>\n",
       "      <td>NaN</td>\n",
       "    </tr>\n",
       "    <tr>\n",
       "      <th>2</th>\n",
       "      <td>zimin</td>\n",
       "      <td>356</td>\n",
       "      <td>5</td>\n",
       "      <td>NaN</td>\n",
       "    </tr>\n",
       "    <tr>\n",
       "      <th>3</th>\n",
       "      <td>zimin</td>\n",
       "      <td>1049</td>\n",
       "      <td>5</td>\n",
       "      <td>NaN</td>\n",
       "    </tr>\n",
       "    <tr>\n",
       "      <th>4</th>\n",
       "      <td>zimin</td>\n",
       "      <td>2355</td>\n",
       "      <td>5</td>\n",
       "      <td>NaN</td>\n",
       "    </tr>\n",
       "  </tbody>\n",
       "</table>\n",
       "</div>"
      ],
      "text/plain": [
       "        user_id  movie_id  count    timestamp\n",
       "1000203    6040      1090      3  956715518.0\n",
       "1000205    6040      1094      5  956704887.0\n",
       "1000206    6040       562      5  956704746.0\n",
       "1000207    6040      1096      4  956715648.0\n",
       "1000208    6040      1097      4  956715569.0\n",
       "0         zimin         1      5          NaN\n",
       "1         zimin         2      5          NaN\n",
       "2         zimin       356      5          NaN\n",
       "3         zimin      1049      5          NaN\n",
       "4         zimin      2355      5          NaN"
      ]
     },
     "execution_count": 26,
     "metadata": {},
     "output_type": "execute_result"
    }
   ],
   "source": [
    "# 'zimin'이라는 user_id가 영화를 5번씩 봤다고 가정\n",
    "my_playlist = pd.DataFrame({'user_id': ['zimin']*5, 'movie_id': movie_idx, 'count':[5]*5})\n",
    "\n",
    "if not ratings.isin({'user_id':['zimin']})['user_id'].any():  # user_id에 'zimin'이라는 데이터가 없다면\n",
    "    ratings = ratings.append(my_playlist)                           # 위에 임의로 만든 my_favorite 데이터를 추가해 줍니다. \n",
    "\n",
    "ratings.tail(10)       # 잘 추가되었는지 확인해 봅시다."
   ]
  },
  {
   "cell_type": "code",
   "execution_count": 27,
   "id": "negative-clone",
   "metadata": {},
   "outputs": [
    {
     "data": {
      "text/html": [
       "<div>\n",
       "<style scoped>\n",
       "    .dataframe tbody tr th:only-of-type {\n",
       "        vertical-align: middle;\n",
       "    }\n",
       "\n",
       "    .dataframe tbody tr th {\n",
       "        vertical-align: top;\n",
       "    }\n",
       "\n",
       "    .dataframe thead th {\n",
       "        text-align: right;\n",
       "    }\n",
       "</style>\n",
       "<table border=\"1\" class=\"dataframe\">\n",
       "  <thead>\n",
       "    <tr style=\"text-align: right;\">\n",
       "      <th></th>\n",
       "      <th>user_id</th>\n",
       "      <th>movie_id</th>\n",
       "      <th>count</th>\n",
       "    </tr>\n",
       "  </thead>\n",
       "  <tbody>\n",
       "    <tr>\n",
       "      <th>0</th>\n",
       "      <td>1</td>\n",
       "      <td>1193</td>\n",
       "      <td>5</td>\n",
       "    </tr>\n",
       "    <tr>\n",
       "      <th>1</th>\n",
       "      <td>1</td>\n",
       "      <td>661</td>\n",
       "      <td>3</td>\n",
       "    </tr>\n",
       "    <tr>\n",
       "      <th>2</th>\n",
       "      <td>1</td>\n",
       "      <td>914</td>\n",
       "      <td>3</td>\n",
       "    </tr>\n",
       "    <tr>\n",
       "      <th>3</th>\n",
       "      <td>1</td>\n",
       "      <td>3408</td>\n",
       "      <td>4</td>\n",
       "    </tr>\n",
       "    <tr>\n",
       "      <th>4</th>\n",
       "      <td>1</td>\n",
       "      <td>2355</td>\n",
       "      <td>5</td>\n",
       "    </tr>\n",
       "    <tr>\n",
       "      <th>...</th>\n",
       "      <td>...</td>\n",
       "      <td>...</td>\n",
       "      <td>...</td>\n",
       "    </tr>\n",
       "    <tr>\n",
       "      <th>0</th>\n",
       "      <td>zimin</td>\n",
       "      <td>1</td>\n",
       "      <td>5</td>\n",
       "    </tr>\n",
       "    <tr>\n",
       "      <th>1</th>\n",
       "      <td>zimin</td>\n",
       "      <td>2</td>\n",
       "      <td>5</td>\n",
       "    </tr>\n",
       "    <tr>\n",
       "      <th>2</th>\n",
       "      <td>zimin</td>\n",
       "      <td>356</td>\n",
       "      <td>5</td>\n",
       "    </tr>\n",
       "    <tr>\n",
       "      <th>3</th>\n",
       "      <td>zimin</td>\n",
       "      <td>1049</td>\n",
       "      <td>5</td>\n",
       "    </tr>\n",
       "    <tr>\n",
       "      <th>4</th>\n",
       "      <td>zimin</td>\n",
       "      <td>2355</td>\n",
       "      <td>5</td>\n",
       "    </tr>\n",
       "  </tbody>\n",
       "</table>\n",
       "<p>836483 rows × 3 columns</p>\n",
       "</div>"
      ],
      "text/plain": [
       "   user_id  movie_id  count\n",
       "0        1      1193      5\n",
       "1        1       661      3\n",
       "2        1       914      3\n",
       "3        1      3408      4\n",
       "4        1      2355      5\n",
       "..     ...       ...    ...\n",
       "0    zimin         1      5\n",
       "1    zimin         2      5\n",
       "2    zimin       356      5\n",
       "3    zimin      1049      5\n",
       "4    zimin      2355      5\n",
       "\n",
       "[836483 rows x 3 columns]"
      ]
     },
     "execution_count": 27,
     "metadata": {},
     "output_type": "execute_result"
    }
   ],
   "source": [
    "ratings = ratings.drop(columns = 'timestamp')\n",
    "ratings"
   ]
  },
  {
   "cell_type": "markdown",
   "id": "ancient-edition",
   "metadata": {},
   "source": [
    "### 모델에 활용하기 위한 전처리(indexing)"
   ]
  },
  {
   "cell_type": "code",
   "execution_count": 28,
   "id": "special-frontier",
   "metadata": {},
   "outputs": [],
   "source": [
    "# 고유한 유저, 아티스트를 찾아내는 코드\n",
    "user_unique = ratings['user_id'].unique()\n",
    "movie_unique = ratings['movie_id'].unique()\n",
    "\n",
    "# 유저, movie_id indexing\n",
    "user_to_idx = {v:k for k,v in enumerate(user_unique)}\n",
    "movie_to_idx = {v:k for k,v in enumerate(movie_unique)}"
   ]
  },
  {
   "cell_type": "code",
   "execution_count": 29,
   "id": "diverse-creation",
   "metadata": {},
   "outputs": [
    {
     "name": "stdout",
     "output_type": "stream",
     "text": [
      "6039\n",
      "1030\n"
     ]
    }
   ],
   "source": [
    "# 인덱싱이 잘 되었는지 확인해 봅니다. \n",
    "print(user_to_idx['zimin'])    # 6039명의 유저 중 마지막으로 추가된 유저 \n",
    "print(movie_to_idx[1090])"
   ]
  },
  {
   "cell_type": "code",
   "execution_count": 30,
   "id": "continuous-meditation",
   "metadata": {},
   "outputs": [
    {
     "data": {
      "text/plain": [
       "0       0\n",
       "1       0\n",
       "2       0\n",
       "3       0\n",
       "4       0\n",
       "     ... \n",
       "0    6039\n",
       "1    6039\n",
       "2    6039\n",
       "3    6039\n",
       "4    6039\n",
       "Name: user_id, Length: 836483, dtype: int64"
      ]
     },
     "execution_count": 30,
     "metadata": {},
     "output_type": "execute_result"
    }
   ],
   "source": [
    "ratings['user_id'].map(user_to_idx.get).dropna()"
   ]
  },
  {
   "cell_type": "code",
   "execution_count": 31,
   "id": "suspended-ranking",
   "metadata": {},
   "outputs": [
    {
     "data": {
      "text/plain": [
       "0      0\n",
       "1      1\n",
       "2      2\n",
       "3      3\n",
       "4      4\n",
       "    ... \n",
       "0     40\n",
       "1    513\n",
       "2    160\n",
       "3    176\n",
       "4      4\n",
       "Name: movie_id, Length: 836483, dtype: int64"
      ]
     },
     "execution_count": 31,
     "metadata": {},
     "output_type": "execute_result"
    }
   ],
   "source": [
    "ratings['movie_id'].map(movie_to_idx.get).dropna()"
   ]
  },
  {
   "cell_type": "code",
   "execution_count": 32,
   "id": "moving-express",
   "metadata": {},
   "outputs": [
    {
     "name": "stdout",
     "output_type": "stream",
     "text": [
      "user_id column indexing OK!!\n",
      "artist column indexing OK!!\n"
     ]
    },
    {
     "data": {
      "text/html": [
       "<div>\n",
       "<style scoped>\n",
       "    .dataframe tbody tr th:only-of-type {\n",
       "        vertical-align: middle;\n",
       "    }\n",
       "\n",
       "    .dataframe tbody tr th {\n",
       "        vertical-align: top;\n",
       "    }\n",
       "\n",
       "    .dataframe thead th {\n",
       "        text-align: right;\n",
       "    }\n",
       "</style>\n",
       "<table border=\"1\" class=\"dataframe\">\n",
       "  <thead>\n",
       "    <tr style=\"text-align: right;\">\n",
       "      <th></th>\n",
       "      <th>user_id</th>\n",
       "      <th>movie_id</th>\n",
       "      <th>count</th>\n",
       "    </tr>\n",
       "  </thead>\n",
       "  <tbody>\n",
       "    <tr>\n",
       "      <th>0</th>\n",
       "      <td>0</td>\n",
       "      <td>0</td>\n",
       "      <td>5</td>\n",
       "    </tr>\n",
       "    <tr>\n",
       "      <th>1</th>\n",
       "      <td>0</td>\n",
       "      <td>1</td>\n",
       "      <td>3</td>\n",
       "    </tr>\n",
       "    <tr>\n",
       "      <th>2</th>\n",
       "      <td>0</td>\n",
       "      <td>2</td>\n",
       "      <td>3</td>\n",
       "    </tr>\n",
       "    <tr>\n",
       "      <th>3</th>\n",
       "      <td>0</td>\n",
       "      <td>3</td>\n",
       "      <td>4</td>\n",
       "    </tr>\n",
       "    <tr>\n",
       "      <th>4</th>\n",
       "      <td>0</td>\n",
       "      <td>4</td>\n",
       "      <td>5</td>\n",
       "    </tr>\n",
       "    <tr>\n",
       "      <th>...</th>\n",
       "      <td>...</td>\n",
       "      <td>...</td>\n",
       "      <td>...</td>\n",
       "    </tr>\n",
       "    <tr>\n",
       "      <th>0</th>\n",
       "      <td>6039</td>\n",
       "      <td>40</td>\n",
       "      <td>5</td>\n",
       "    </tr>\n",
       "    <tr>\n",
       "      <th>1</th>\n",
       "      <td>6039</td>\n",
       "      <td>513</td>\n",
       "      <td>5</td>\n",
       "    </tr>\n",
       "    <tr>\n",
       "      <th>2</th>\n",
       "      <td>6039</td>\n",
       "      <td>160</td>\n",
       "      <td>5</td>\n",
       "    </tr>\n",
       "    <tr>\n",
       "      <th>3</th>\n",
       "      <td>6039</td>\n",
       "      <td>176</td>\n",
       "      <td>5</td>\n",
       "    </tr>\n",
       "    <tr>\n",
       "      <th>4</th>\n",
       "      <td>6039</td>\n",
       "      <td>4</td>\n",
       "      <td>5</td>\n",
       "    </tr>\n",
       "  </tbody>\n",
       "</table>\n",
       "<p>836483 rows × 3 columns</p>\n",
       "</div>"
      ],
      "text/plain": [
       "    user_id  movie_id  count\n",
       "0         0         0      5\n",
       "1         0         1      3\n",
       "2         0         2      3\n",
       "3         0         3      4\n",
       "4         0         4      5\n",
       "..      ...       ...    ...\n",
       "0      6039        40      5\n",
       "1      6039       513      5\n",
       "2      6039       160      5\n",
       "3      6039       176      5\n",
       "4      6039         4      5\n",
       "\n",
       "[836483 rows x 3 columns]"
      ]
     },
     "execution_count": 32,
     "metadata": {},
     "output_type": "execute_result"
    }
   ],
   "source": [
    "# indexing을 통해 데이터 컬럼 내 값을 바꾸는 코드\n",
    "# dictionary 자료형의 get 함수는 https://wikidocs.net/16 을 참고하세요.\n",
    "\n",
    "# user_to_idx.get을 통해 user_id 컬럼의 모든 값을 인덱싱한 Series를 구해 봅시다. \n",
    "# 혹시 정상적으로 인덱싱되지 않은 row가 있다면 인덱스가 NaN이 될 테니 dropna()로 제거합니다. \n",
    "temp_user_data = ratings['user_id'].map(user_to_idx.get).dropna()\n",
    "if len(temp_user_data) == len(ratings):   # 모든 row가 정상적으로 인덱싱되었다면\n",
    "    print('user_id column indexing OK!!')\n",
    "    ratings['user_id'] = temp_user_data   # data['user_id']을 인덱싱된 Series로 교체해 줍니다. \n",
    "else:\n",
    "    print('user_id column indexing Fail!!')\n",
    "\n",
    "# artist_to_idx을 통해 artist 컬럼도 동일한 방식으로 인덱싱해 줍니다. \n",
    "temp_movie_data = ratings['movie_id'].map(movie_to_idx.get).dropna()\n",
    "if len(temp_movie_data) == len(ratings):\n",
    "    print('artist column indexing OK!!')\n",
    "    ratings['movie_id'] = temp_movie_data\n",
    "else:\n",
    "    print('artist column indexing Fail!!')\n",
    "\n",
    "ratings"
   ]
  },
  {
   "cell_type": "code",
   "execution_count": 63,
   "id": "practical-magazine",
   "metadata": {},
   "outputs": [
    {
     "name": "stdout",
     "output_type": "stream",
     "text": [
      "836483\n",
      "Ratio of under_2 over all data is 0.00%\n",
      "Ratio of only_3 over all data is 31.23%\n",
      "Ratio of only_4 over all data is 41.72%\n",
      "Ratio of only_5 over all data is 27.06%\n"
     ]
    }
   ],
   "source": [
    "# 영화 시청 횟수에 따른 비율\n",
    "under_2 = ratings[ratings['count']<3]\n",
    "only_3 = ratings[ratings['count']==3]\n",
    "only_4 = ratings[ratings['count']==4]\n",
    "only_5 = ratings[ratings['count']==5]\n",
    "\n",
    "under_2 = len(under_2)\n",
    "three = len(only_3)\n",
    "four = len(only_4)\n",
    "five = len(only_5)\n",
    "all_data = len(ratings)\n",
    "\n",
    "\n",
    "print(f'{all_data}')\n",
    "print(f'Ratio of under_2 over all data is {under_2/all_data:.2%}')\n",
    "print(f'Ratio of only_3 over all data is {three/all_data:.2%}')\n",
    "print(f'Ratio of only_4 over all data is {four/all_data:.2%}')\n",
    "print(f'Ratio of only_5 over all data is {five/all_data:.2%}')"
   ]
  },
  {
   "cell_type": "markdown",
   "id": "lonely-schedule",
   "metadata": {},
   "source": [
    "영화의 별점을  본 횟수라고 정의했을 때, 한사람이 2회 이하 본 비율은 0%이고, 3회 본 비율은 31.23%, 4회 본 비율은 41.72%, 5회 본 비율은 27.05%로 나타났습니다."
   ]
  },
  {
   "cell_type": "code",
   "execution_count": 34,
   "id": "wrapped-divide",
   "metadata": {},
   "outputs": [
    {
     "data": {
      "text/plain": [
       "0    5\n",
       "1    3\n",
       "2    3\n",
       "3    4\n",
       "4    5\n",
       "    ..\n",
       "0    5\n",
       "1    5\n",
       "2    5\n",
       "3    5\n",
       "4    5\n",
       "Name: count, Length: 836483, dtype: int64"
      ]
     },
     "execution_count": 34,
     "metadata": {},
     "output_type": "execute_result"
    }
   ],
   "source": [
    "ratings['count']"
   ]
  },
  {
   "cell_type": "code",
   "execution_count": 35,
   "id": "formed-gauge",
   "metadata": {},
   "outputs": [
    {
     "data": {
      "text/plain": [
       "0       0\n",
       "1       0\n",
       "2       0\n",
       "3       0\n",
       "4       0\n",
       "     ... \n",
       "0    6039\n",
       "1    6039\n",
       "2    6039\n",
       "3    6039\n",
       "4    6039\n",
       "Name: user_id, Length: 836483, dtype: int64"
      ]
     },
     "execution_count": 35,
     "metadata": {},
     "output_type": "execute_result"
    }
   ],
   "source": [
    "ratings.user_id"
   ]
  },
  {
   "cell_type": "code",
   "execution_count": 36,
   "id": "behavioral-reach",
   "metadata": {},
   "outputs": [
    {
     "data": {
      "text/plain": [
       "0      0\n",
       "1      1\n",
       "2      2\n",
       "3      3\n",
       "4      4\n",
       "    ... \n",
       "0     40\n",
       "1    513\n",
       "2    160\n",
       "3    176\n",
       "4      4\n",
       "Name: movie_id, Length: 836483, dtype: int64"
      ]
     },
     "execution_count": 36,
     "metadata": {},
     "output_type": "execute_result"
    }
   ],
   "source": [
    "ratings.movie_id"
   ]
  },
  {
   "cell_type": "code",
   "execution_count": 37,
   "id": "broken-audio",
   "metadata": {},
   "outputs": [
    {
     "data": {
      "text/plain": [
       "6040"
      ]
     },
     "execution_count": 37,
     "metadata": {},
     "output_type": "execute_result"
    }
   ],
   "source": [
    "ratings['user_id'].nunique()"
   ]
  },
  {
   "cell_type": "code",
   "execution_count": 38,
   "id": "liberal-surrey",
   "metadata": {},
   "outputs": [
    {
     "data": {
      "text/plain": [
       "3628"
      ]
     },
     "execution_count": 38,
     "metadata": {},
     "output_type": "execute_result"
    }
   ],
   "source": [
    "ratings['movie_id'].nunique()"
   ]
  },
  {
   "cell_type": "markdown",
   "id": "subject-breach",
   "metadata": {},
   "source": [
    "# 4) CSR matrix를 직접 만들어 봅시다."
   ]
  },
  {
   "cell_type": "code",
   "execution_count": 39,
   "id": "structural-boating",
   "metadata": {},
   "outputs": [
    {
     "data": {
      "text/plain": [
       "matrix([[ 0,  1,  3,  5],\n",
       "        [ 6,  2,  0, 11],\n",
       "        [ 0,  7,  9,  0],\n",
       "        [ 0,  0, 10, 12]])"
      ]
     },
     "execution_count": 39,
     "metadata": {},
     "output_type": "execute_result"
    }
   ],
   "source": [
    "import numpy as np\n",
    "a = np.matrix([[0,1,3,5],\n",
    "        [6,2,0,11],\n",
    "        [0,7,9,0],\n",
    "        [0,0,10,12]\n",
    "       ])\n",
    "a"
   ]
  },
  {
   "cell_type": "code",
   "execution_count": 65,
   "id": "standard-edward",
   "metadata": {},
   "outputs": [
    {
     "data": {
      "text/plain": [
       "<6040x3628 sparse matrix of type '<class 'numpy.int64'>'\n",
       "\twith 836483 stored elements in Compressed Sparse Row format>"
      ]
     },
     "execution_count": 65,
     "metadata": {},
     "output_type": "execute_result"
    }
   ],
   "source": [
    "# 실습 위에 설명보고 이해해서 만들어보기\n",
    "from scipy.sparse import csr_matrix\n",
    "\n",
    "num_user = ratings['user_id'].nunique()\n",
    "num_movie = ratings['movie_id'].nunique()\n",
    "\n",
    "# 노드와 다르게 ratings.count를 넣으면 len() of unsized object 오류가 뜸. 따라서 ratings['count']로 series로 입력\n",
    "csr_data = csr_matrix((ratings['count'], (ratings.user_id, ratings.movie_id)), shape = (num_user, num_movie))\n",
    "csr_data"
   ]
  },
  {
   "cell_type": "code",
   "execution_count": 66,
   "id": "ideal-angola",
   "metadata": {},
   "outputs": [
    {
     "name": "stdout",
     "output_type": "stream",
     "text": [
      "0    5\n",
      "1    3\n",
      "2    3\n",
      "3    4\n",
      "4    5\n",
      "    ..\n",
      "0    5\n",
      "1    5\n",
      "2    5\n",
      "3    5\n",
      "4    5\n",
      "Name: count, Length: 836483, dtype: int64\n"
     ]
    }
   ],
   "source": [
    "print(ratings['count'])"
   ]
  },
  {
   "cell_type": "markdown",
   "id": "intelligent-return",
   "metadata": {},
   "source": [
    "# 5) als_model = AlternatingLeastSquares 모델을 직접 구성하여 훈련시켜 봅시다."
   ]
  },
  {
   "cell_type": "markdown",
   "id": "attended-coach",
   "metadata": {},
   "source": [
    " 1. factors : 유저와 아이템의 벡터를 몇 차원으로 할 것인지\n",
    " 2. regularization : 과적합을 방지하기 위해 정규화 값을 얼마나 사용할 것인지\n",
    " 3. use_gpu : GPU를 사용할 것인지\n",
    " 4. iterations : epochs"
   ]
  },
  {
   "cell_type": "code",
   "execution_count": 42,
   "id": "amended-peripheral",
   "metadata": {},
   "outputs": [],
   "source": [
    "from implicit.als import AlternatingLeastSquares\n",
    "import os\n",
    "import numpy as np\n",
    "\n",
    "# implicit 라이브러리에서 권장하고 있는 부분입니다. 학습 내용과는 무관합니다.\n",
    "os.environ['OPENBLAS_NUM_THREADS']='1'\n",
    "os.environ['KMP_DUPLICATE_LIB_OK']='True'\n",
    "os.environ['MKL_NUM_THREADS']='1'"
   ]
  },
  {
   "cell_type": "code",
   "execution_count": 43,
   "id": "communist-training",
   "metadata": {},
   "outputs": [],
   "source": [
    "# Implicit AlternatingLeastSquares 모델의 선언\n",
    "als_model = AlternatingLeastSquares(factors=200, regularization=0.01, use_gpu=False, iterations=20, dtype=np.float32)"
   ]
  },
  {
   "cell_type": "code",
   "execution_count": 44,
   "id": "processed-butler",
   "metadata": {},
   "outputs": [
    {
     "data": {
      "text/plain": [
       "<3628x6040 sparse matrix of type '<class 'numpy.int64'>'\n",
       "\twith 836483 stored elements in Compressed Sparse Column format>"
      ]
     },
     "execution_count": 44,
     "metadata": {},
     "output_type": "execute_result"
    }
   ],
   "source": [
    "# als 모델은 input으로 (item X user 꼴의 matrix를 받기 때문에 Transpose해줍니다.)\n",
    "csr_data_transpose = csr_data.T\n",
    "csr_data_transpose"
   ]
  },
  {
   "cell_type": "code",
   "execution_count": 45,
   "id": "experimental-omaha",
   "metadata": {},
   "outputs": [
    {
     "data": {
      "application/vnd.jupyter.widget-view+json": {
       "model_id": "5ed71f3a7eff4f749d4cb2525db39c03",
       "version_major": 2,
       "version_minor": 0
      },
      "text/plain": [
       "  0%|          | 0/20 [00:00<?, ?it/s]"
      ]
     },
     "metadata": {},
     "output_type": "display_data"
    }
   ],
   "source": [
    "# 모델 훈련\n",
    "als_model.fit(csr_data_transpose)"
   ]
  },
  {
   "cell_type": "markdown",
   "id": "religious-rhythm",
   "metadata": {},
   "source": [
    "# 6) 내가 선호하는 5가지 영화 중 하나와 그 외의 영화 하나를 골라 훈련된 모델이 예측한 나의 선호도를 파악해 보세요."
   ]
  },
  {
   "cell_type": "markdown",
   "id": "passive-smile",
   "metadata": {},
   "source": [
    "### 내가 선호하는 영화"
   ]
  },
  {
   "cell_type": "code",
   "execution_count": 46,
   "id": "unusual-constraint",
   "metadata": {},
   "outputs": [
    {
     "name": "stdout",
     "output_type": "stream",
     "text": [
      "슝=3\n"
     ]
    }
   ],
   "source": [
    "zimin, toy = user_to_idx['zimin'], movie_to_idx[1]\n",
    "zimin_vector, toy_vector = als_model.user_factors[zimin], als_model.item_factors[toy]\n",
    "\n",
    "print('슝=3')"
   ]
  },
  {
   "cell_type": "code",
   "execution_count": 47,
   "id": "emotional-telephone",
   "metadata": {},
   "outputs": [],
   "source": [
    "# zimin_vector"
   ]
  },
  {
   "cell_type": "code",
   "execution_count": 48,
   "id": "persistent-principal",
   "metadata": {},
   "outputs": [],
   "source": [
    "# toy_vector"
   ]
  },
  {
   "cell_type": "code",
   "execution_count": 49,
   "id": "brilliant-girlfriend",
   "metadata": {},
   "outputs": [
    {
     "data": {
      "text/plain": [
       "0.7833734"
      ]
     },
     "execution_count": 49,
     "metadata": {},
     "output_type": "execute_result"
    }
   ],
   "source": [
    "# zimin과 toy story를 내적하는 코드\n",
    "# factors와 iterations값을 수정헤가며 학습\n",
    "# factors : 100, iterations : 10 / 60\n",
    "# factors : 50,  iterations : 10 / 52\n",
    "# factors : 150, iterations : 10 / 68\n",
    "# factors : 200, iterations : 10 / 74\n",
    "# factors : 250, iterations : 10 / 85\n",
    "# factors : 200, iterations : 20 / 77\n",
    "\n",
    "np.dot(zimin_vector, toy_vector)"
   ]
  },
  {
   "cell_type": "markdown",
   "id": "understood-estate",
   "metadata": {},
   "source": [
    "### 내가 선호하지 않는 영화"
   ]
  },
  {
   "cell_type": "code",
   "execution_count": 50,
   "id": "interracial-sheet",
   "metadata": {},
   "outputs": [
    {
     "data": {
      "text/plain": [
       "0.04226034"
      ]
     },
     "execution_count": 50,
     "metadata": {},
     "output_type": "execute_result"
    }
   ],
   "source": [
    "heat = movie_to_idx[6]\n",
    "heat_vector = als_model.item_factors[heat]\n",
    "np.dot(zimin_vector, heat_vector)"
   ]
  },
  {
   "cell_type": "markdown",
   "id": "indirect-analysis",
   "metadata": {},
   "source": [
    "# 7) 내가 좋아하는 영화와 비슷한 영화를 추천받아 봅시다."
   ]
  },
  {
   "cell_type": "code",
   "execution_count": 51,
   "id": "sitting-timeline",
   "metadata": {},
   "outputs": [
    {
     "data": {
      "text/plain": [
       "[(2074, 0.99999994),\n",
       " (2834, 0.8243777),\n",
       " (3021, 0.8013024),\n",
       " (2021, 0.8006244),\n",
       " (3617, 0.7988223),\n",
       " (3386, 0.7959823),\n",
       " (3170, 0.79505944),\n",
       " (2142, 0.7949743),\n",
       " (3570, 0.79366994),\n",
       " (3486, 0.793528),\n",
       " (3590, 0.79203224),\n",
       " (3375, 0.79170793),\n",
       " (3524, 0.7912791),\n",
       " (2020, 0.7909459),\n",
       " (3493, 0.79060864)]"
      ]
     },
     "execution_count": 51,
     "metadata": {},
     "output_type": "execute_result"
    }
   ],
   "source": [
    "favorite_movie = 126#선호 영화를 저장해서\n",
    "movie_ids = movie_to_idx[favorite_movie]#인코딩하고\n",
    "similar_movie = als_model.similar_items(movie_ids, N=15)#유사한 영화 추출(15개)\n",
    "similar_movie"
   ]
  },
  {
   "cell_type": "code",
   "execution_count": 52,
   "id": "collected-mounting",
   "metadata": {},
   "outputs": [
    {
     "data": {
      "text/plain": [
       "[126,\n",
       " 1822,\n",
       " 243,\n",
       " 634,\n",
       " 1843,\n",
       " 2563,\n",
       " 734,\n",
       " 1322,\n",
       " 1107,\n",
       " 3057,\n",
       " 3164,\n",
       " 3419,\n",
       " 847,\n",
       " 631,\n",
       " 3595]"
      ]
     },
     "execution_count": 52,
     "metadata": {},
     "output_type": "execute_result"
    }
   ],
   "source": [
    "#artist_to_idx 를 뒤집어, index로부터 artist 이름을 얻는 dict를 생성합니다. \n",
    "idx_to_movie = {v:k for k,v in movie_to_idx.items()}\n",
    "[idx_to_movie[i[0]] for i in similar_movie]"
   ]
  },
  {
   "cell_type": "markdown",
   "id": "historic-holocaust",
   "metadata": {},
   "source": [
    "# 8) 내가 가장 좋아할 만한 영화들을 추천받아 봅시다."
   ]
  },
  {
   "cell_type": "code",
   "execution_count": 53,
   "id": "nervous-county",
   "metadata": {},
   "outputs": [
    {
     "name": "stdout",
     "output_type": "stream",
     "text": [
      "슝=3\n"
     ]
    }
   ],
   "source": [
    "# movie_id를 title로 변경하여 딕셔너리에 저장\n",
    "movie_to_title = {}\n",
    "for i, k in zip(movies['movie_id'], movies['title']):\n",
    "    movie_to_title[i] = k\n",
    "movie_to_title[1]\n",
    "    \n",
    "def get_similar_movie(movie_id: int):\n",
    "    movie_id = movie_to_idx[movie_id]\n",
    "    similar_movie = als_model.similar_items(movie_id)\n",
    "    similar_movie = [idx_to_movie[i[0]] for i in similar_movie]\n",
    "    similar_movie = [movie_to_title[i] for i in similar_movie]\n",
    "    return similar_movie\n",
    "\n",
    "print(\"슝=3\")"
   ]
  },
  {
   "cell_type": "markdown",
   "id": "latter-rover",
   "metadata": {},
   "source": [
    "### toy story (1995)와 유사한 영화"
   ]
  },
  {
   "cell_type": "code",
   "execution_count": 54,
   "id": "objective-yesterday",
   "metadata": {},
   "outputs": [
    {
     "data": {
      "text/plain": [
       "['toy story (1995)',\n",
       " 'toy story 2 (1999)',\n",
       " 'aladdin (1992)',\n",
       " 'lion king, the (1994)',\n",
       " \"bug's life, a (1998)\",\n",
       " 'groundhog day (1993)',\n",
       " 'story of xinghua, the (1993)',\n",
       " 'nobody loves me (keiner liebt mich) (1994)',\n",
       " 'paris, france (1993)',\n",
       " 'splendor (1999)']"
      ]
     },
     "execution_count": 54,
     "metadata": {},
     "output_type": "execute_result"
    }
   ],
   "source": [
    "get_similar_movie(1)"
   ]
  },
  {
   "cell_type": "markdown",
   "id": "south-california",
   "metadata": {},
   "source": [
    "### heat(action)와 유사한 영화"
   ]
  },
  {
   "cell_type": "code",
   "execution_count": 55,
   "id": "serious-machine",
   "metadata": {},
   "outputs": [
    {
     "data": {
      "text/plain": [
       "['heat (1995)',\n",
       " 'ronin (1998)',\n",
       " 'true romance (1993)',\n",
       " 'in the line of fire (1993)',\n",
       " 'out of sight (1998)',\n",
       " 'seven (se7en) (1995)',\n",
       " \"carlito's way (1993)\",\n",
       " 'long kiss goodnight, the (1996)',\n",
       " 'mixed nuts (1994)',\n",
       " 'out to sea (1997)']"
      ]
     },
     "execution_count": 55,
     "metadata": {},
     "output_type": "execute_result"
    }
   ],
   "source": [
    "get_similar_movie(6) # heat (1995, action)"
   ]
  },
  {
   "cell_type": "markdown",
   "id": "lesser-niger",
   "metadata": {},
   "source": [
    "### 유저의 취향과 유사한 영화 top 20"
   ]
  },
  {
   "cell_type": "code",
   "execution_count": 56,
   "id": "substantial-volunteer",
   "metadata": {},
   "outputs": [
    {
     "data": {
      "text/plain": [
       "[(50, 0.6228306),\n",
       " (173, 0.25642353),\n",
       " (33, 0.21621361),\n",
       " (458, 0.2127477),\n",
       " (1130, 0.21045566),\n",
       " (110, 0.19612263),\n",
       " (119, 0.18526527),\n",
       " (596, 0.18390682),\n",
       " (30, 0.18250354),\n",
       " (32, 0.17124534),\n",
       " (58, 0.15744473),\n",
       " (545, 0.15272406),\n",
       " (64, 0.15234669),\n",
       " (475, 0.15159908),\n",
       " (116, 0.14654353),\n",
       " (1736, 0.14607614),\n",
       " (330, 0.14262879),\n",
       " (10, 0.13900241),\n",
       " (663, 0.13730451),\n",
       " (435, 0.13708647)]"
      ]
     },
     "execution_count": 56,
     "metadata": {},
     "output_type": "execute_result"
    }
   ],
   "source": [
    "user = user_to_idx['zimin']\n",
    "# recommend에서는 user*item CSR Matrix를 받습니다.\n",
    "movie_recommended = als_model.recommend(user, csr_data, N=20, filter_already_liked_items=True)\n",
    "movie_recommended"
   ]
  },
  {
   "cell_type": "code",
   "execution_count": 57,
   "id": "better-marking",
   "metadata": {},
   "outputs": [],
   "source": [
    "### 유저의 취향과 유사한 영화 top 20 제목"
   ]
  },
  {
   "cell_type": "code",
   "execution_count": 58,
   "id": "better-mercy",
   "metadata": {},
   "outputs": [
    {
     "data": {
      "text/plain": [
       "[3114,\n",
       " 653,\n",
       " 588,\n",
       " 367,\n",
       " 60,\n",
       " 1265,\n",
       " 736,\n",
       " 3489,\n",
       " 2294,\n",
       " 1566,\n",
       " 648,\n",
       " 317,\n",
       " 1210,\n",
       " 2302,\n",
       " 590,\n",
       " 1920,\n",
       " 364,\n",
       " 595,\n",
       " 899,\n",
       " 2023]"
      ]
     },
     "execution_count": 58,
     "metadata": {},
     "output_type": "execute_result"
    }
   ],
   "source": [
    "recommended = [idx_to_movie[i[0]] for i in movie_recommended]\n",
    "recommended"
   ]
  },
  {
   "cell_type": "code",
   "execution_count": 59,
   "id": "foster-portland",
   "metadata": {},
   "outputs": [
    {
     "name": "stdout",
     "output_type": "stream",
     "text": [
      "1 : toy story 2 (1999)\n",
      "2 : dragonheart (1996)\n",
      "3 : aladdin (1992)\n",
      "4 : mask, the (1994)\n",
      "5 : indian in the cupboard, the (1995)\n",
      "6 : groundhog day (1993)\n",
      "7 : twister (1996)\n",
      "8 : hook (1991)\n",
      "9 : antz (1998)\n",
      "10 : hercules (1997)\n",
      "11 : mission: impossible (1996)\n",
      "12 : santa clause, the (1994)\n",
      "13 : star wars: episode vi - return of the jedi (1983)\n",
      "14 : my cousin vinny (1992)\n",
      "15 : dances with wolves (1990)\n",
      "16 : small soldiers (1998)\n",
      "17 : lion king, the (1994)\n",
      "18 : beauty and the beast (1991)\n",
      "19 : singin' in the rain (1952)\n",
      "20 : godfather: part iii, the (1990)\n"
     ]
    }
   ],
   "source": [
    "for i, k in enumerate(recommended):\n",
    "    print('{} : {}'.format(i+1, movie_to_title[k]))"
   ]
  },
  {
   "cell_type": "markdown",
   "id": "early-occasion",
   "metadata": {},
   "source": [
    "### 영향을 준 영화와 기여도"
   ]
  },
  {
   "cell_type": "code",
   "execution_count": 60,
   "id": "adjacent-third",
   "metadata": {},
   "outputs": [],
   "source": [
    "toystory2 = movie_to_idx[3114]"
   ]
  },
  {
   "cell_type": "code",
   "execution_count": 61,
   "id": "worst-perspective",
   "metadata": {},
   "outputs": [],
   "source": [
    "explain = als_model.explain(user, csr_data, itemid=toystory2)"
   ]
  },
  {
   "cell_type": "code",
   "execution_count": 62,
   "id": "wound-spine",
   "metadata": {},
   "outputs": [
    {
     "data": {
      "text/plain": [
       "[('cry, the beloved country (1995)', 0.3589728082431962),\n",
       " ('waiting to exhale (1995)', 0.21490745363567876),\n",
       " ('radioland murders (1994)', 0.03459507564092045),\n",
       " ('congo (1995)', 0.01080306465744144),\n",
       " ('living in oblivion (1995)', -0.008446357416171954)]"
      ]
     },
     "execution_count": 62,
     "metadata": {},
     "output_type": "execute_result"
    }
   ],
   "source": [
    "[(movie_to_title[i[0]], i[1]) for i in explain[1]]"
   ]
  },
  {
   "cell_type": "markdown",
   "id": "correct-concept",
   "metadata": {},
   "source": [
    "# 루브릭 항목\n",
    "\n",
    "### 1. CSR matrix가 정상적으로 만들어졌다.\n",
    "사용자와 아이템 개수를 바탕으로 6040x3628의 정확한 사이즈로 만들었습니다.\n",
    "\n",
    "\n",
    "### 2. MF 모델이 정상적으로 훈련되어 그럴듯한 추천이 이루어졌다.\n",
    "사용자와 아이템 벡터 내적수치가 의미있게 형성되었습니다. 하이퍼 파라미터를 조정하여 보다 높은 내적 수치를 찾았습니다.\n",
    "\n",
    "\n",
    "### 3. 비슷한 영화 찾기와 유저에게 추천하기의 과정이 정상적으로 진행되었다.\n",
    "MF모델이 예측한 유저 선호도 및 아이템간 유사도, 기여도가 의미있게 측정되었습니다. 선호 영화를 입력하면 그와 유사한 영화를 정상적으로 추천하도록 구현하였습니다."
   ]
  },
  {
   "cell_type": "markdown",
   "id": "harmful-primary",
   "metadata": {},
   "source": [
    "# 회고\n",
    "\n",
    "이번 노드의 과정은 개념적인 설명이 주가 되어 이해하는 것이 다소 어려웠습니다. 특히 CSR matrix로의 변환을 이해하는 것이 다소 어려웠습니다. 그러나 결국 개념적으로 접근하여 왜 해당 형태로 변형해야 하는지를 이해하고 변환을 하는데 성공했습니다. \n",
    "\n",
    "이외에는 크고 작은 코드문제들이 있었습니다. 데이터의 형태부터 노드의 내용과 다소 다른 점이 있어 코드를 그대로 사용하려했다가 시간이 더 소요되었습니다. 결국 주어진 데이터를 원하는 형태로 변환하는 기능(영화 제목을 인덱스로, 또는 인덱스를 영화 제목으로 바꾸거나 movie_id를 영화 제목으로 바꾸는 등)을 구현하여 해결할 수 있었습니다.\n",
    "\n",
    "하이퍼 파라미터의 경우 다음과 같은 여러 시도를 해보았습니다. \n",
    "* factors : 100, iterations : 10 / 60\n",
    "* factors : 50,  iterations : 10 / 52\n",
    "* factors : 150, iterations : 10 / 68\n",
    "* factors : 200, iterations : 10 / 74\n",
    "* factors : 250, iterations : 10 / 85\n",
    "* factors : 200, iterations : 20 / 77\n",
    "\n",
    "\n",
    "벡터를 몇차원으로 표현할 것인가에 대한 하이퍼 파라미터인 factors의 경우 커질수록 내적값이 증가하는 경향을 보였습니다. epoch에 해당하는 iterations의 경우 값이 커질수록 마찬가지로 내적값이 증가하였지만 10에서 20으로 증가시켜도 큰 상승을 보이지 않았습니다(소수점단위에 불과). factors가 커질수록 내적값이 증가하는 경향을 보였지만 factors의 값은 과적합을 방지하기 위해 일반적으로 50~200 사이의 값을 갖는다고 하여 200까지만 설정하였습니다. 따라서 최종적으로 factors : 200, iterations : 20으로 지정하여 학습하였습니다.\n",
    "\n",
    "다만 마지막 영향을 얼마나 줬는가에 대한 해석이 다소 모호했습니다. 추천영화까지는 직관적으로 이해가 가능했지만 이 부분에서는 수치가 1에 가까워야 하는가? 또는 과연 해당 영화들이 정말 영향을 준 것인가?가 모호했습니다."
   ]
  },
  {
   "cell_type": "markdown",
   "id": "floating-tractor",
   "metadata": {},
   "source": [
    "최근 가장 핫한 분야중 하나인 추천시스템에 대한 개념과 여러 방식에 대해 알 수 있어서 많은 도움이 되는 노드였습니다. 연관성을 단순히 주어진 feature만으로 비교하는 것이 아니고 '사용자가 아이템을 선택 했는가'의 정보를 벡터의 차원으로 나눠 특징을 비교한다(맞나..??)는 것을 알 수 있었습니다. 또 결과를 단순히 수치로 비교하는 것이 아닌 연구자의 인사이트를 통해 여러 의미를 도출 할수 있다는 점이 흥미로웠습니다. 다양한 추천 알고리즘이나 개념에 대해 더 공부하면 재밌을것 같습니다."
   ]
  }
 ],
 "metadata": {
  "kernelspec": {
   "display_name": "aiffel",
   "language": "python",
   "name": "aiffel"
  },
  "language_info": {
   "codemirror_mode": {
    "name": "ipython",
    "version": 3
   },
   "file_extension": ".py",
   "mimetype": "text/x-python",
   "name": "python",
   "nbconvert_exporter": "python",
   "pygments_lexer": "ipython3",
   "version": "3.7.9"
  }
 },
 "nbformat": 4,
 "nbformat_minor": 5
}
