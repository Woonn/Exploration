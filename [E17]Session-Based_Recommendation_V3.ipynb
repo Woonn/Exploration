{
 "cells": [
  {
   "cell_type": "markdown",
   "id": "checked-minute",
   "metadata": {},
   "source": [
    "## Session-Based Recommendation\n",
    "\n",
    "\n",
    "* 세션 데이터를 기반으로 유저가 다음에 클릭 또는 구매할 아이템을 예측하는 추천\n",
    "  * 쿠키: 로컬에 저장되는 사용자 정보(방문정보, 장바구니 정보 등)\n",
    "  * 세션: 웹에 저장되는 방문정보(로그인 정보, 구매정보 등)\n",
    "  * 캐시: 로딩 비용을 줄이기 위해 임시 저장한 데이터\n",
    "  \n",
    "  \n",
    "* 단점: 사용자의 profile이 없는 상태에서의 잠재정보에 한정된 Latent Vector를 사용하는 것이 어려움\n",
    "\n",
    "\n",
    "* 대안: 사용자의 순서정보를 이용한 추천시스템(RNN기반)\n",
    "  * session state: actual event(one-hot-vector), events in the session(가중치 합계)"
   ]
  },
  {
   "cell_type": "code",
   "execution_count": null,
   "id": "composite-community",
   "metadata": {},
   "outputs": [],
   "source": []
  },
  {
   "cell_type": "code",
   "execution_count": null,
   "id": "seasonal-genealogy",
   "metadata": {},
   "outputs": [],
   "source": []
  },
  {
   "cell_type": "code",
   "execution_count": null,
   "id": "hungarian-hebrew",
   "metadata": {},
   "outputs": [],
   "source": []
  },
  {
   "cell_type": "markdown",
   "id": "spare-worry",
   "metadata": {},
   "source": [
    "### Sequential Recommendation: 유저의 정보를 알 수 있는 데이터\n",
    "* 유저와 아이템의 추가 정보를 Sequential Recommendation 모델에 적용하는 분야는 Context-Aware 라는 키워드로 활발히 연구되고 있습니다.\n",
    "\n"
   ]
  },
  {
   "cell_type": "markdown",
   "id": "southwest-right",
   "metadata": {},
   "source": [
    "## 데이터 불러오기"
   ]
  },
  {
   "cell_type": "code",
   "execution_count": 1,
   "id": "charming-franklin",
   "metadata": {},
   "outputs": [],
   "source": [
    "import datetime as dt\n",
    "from pathlib import Path\n",
    "import os\n",
    "\n",
    "import numpy as np\n",
    "import pandas as pd\n",
    "import warnings\n",
    "import datetime\n",
    "warnings.filterwarnings('ignore')"
   ]
  },
  {
   "cell_type": "code",
   "execution_count": 2,
   "id": "practical-school",
   "metadata": {},
   "outputs": [
    {
     "data": {
      "text/html": [
       "<div>\n",
       "<style scoped>\n",
       "    .dataframe tbody tr th:only-of-type {\n",
       "        vertical-align: middle;\n",
       "    }\n",
       "\n",
       "    .dataframe tbody tr th {\n",
       "        vertical-align: top;\n",
       "    }\n",
       "\n",
       "    .dataframe thead th {\n",
       "        text-align: right;\n",
       "    }\n",
       "</style>\n",
       "<table border=\"1\" class=\"dataframe\">\n",
       "  <thead>\n",
       "    <tr style=\"text-align: right;\">\n",
       "      <th></th>\n",
       "      <th>UserId</th>\n",
       "      <th>ItemId</th>\n",
       "      <th>Rating</th>\n",
       "      <th>Time</th>\n",
       "    </tr>\n",
       "  </thead>\n",
       "  <tbody>\n",
       "    <tr>\n",
       "      <th>31</th>\n",
       "      <td>1</td>\n",
       "      <td>3186</td>\n",
       "      <td>4</td>\n",
       "      <td>978300019</td>\n",
       "    </tr>\n",
       "    <tr>\n",
       "      <th>22</th>\n",
       "      <td>1</td>\n",
       "      <td>1270</td>\n",
       "      <td>5</td>\n",
       "      <td>978300055</td>\n",
       "    </tr>\n",
       "    <tr>\n",
       "      <th>27</th>\n",
       "      <td>1</td>\n",
       "      <td>1721</td>\n",
       "      <td>4</td>\n",
       "      <td>978300055</td>\n",
       "    </tr>\n",
       "    <tr>\n",
       "      <th>37</th>\n",
       "      <td>1</td>\n",
       "      <td>1022</td>\n",
       "      <td>5</td>\n",
       "      <td>978300055</td>\n",
       "    </tr>\n",
       "    <tr>\n",
       "      <th>24</th>\n",
       "      <td>1</td>\n",
       "      <td>2340</td>\n",
       "      <td>3</td>\n",
       "      <td>978300103</td>\n",
       "    </tr>\n",
       "    <tr>\n",
       "      <th>...</th>\n",
       "      <td>...</td>\n",
       "      <td>...</td>\n",
       "      <td>...</td>\n",
       "      <td>...</td>\n",
       "    </tr>\n",
       "    <tr>\n",
       "      <th>1000019</th>\n",
       "      <td>6040</td>\n",
       "      <td>2917</td>\n",
       "      <td>4</td>\n",
       "      <td>997454429</td>\n",
       "    </tr>\n",
       "    <tr>\n",
       "      <th>999988</th>\n",
       "      <td>6040</td>\n",
       "      <td>1921</td>\n",
       "      <td>4</td>\n",
       "      <td>997454464</td>\n",
       "    </tr>\n",
       "    <tr>\n",
       "      <th>1000172</th>\n",
       "      <td>6040</td>\n",
       "      <td>1784</td>\n",
       "      <td>3</td>\n",
       "      <td>997454464</td>\n",
       "    </tr>\n",
       "    <tr>\n",
       "      <th>1000167</th>\n",
       "      <td>6040</td>\n",
       "      <td>161</td>\n",
       "      <td>3</td>\n",
       "      <td>997454486</td>\n",
       "    </tr>\n",
       "    <tr>\n",
       "      <th>1000042</th>\n",
       "      <td>6040</td>\n",
       "      <td>1221</td>\n",
       "      <td>4</td>\n",
       "      <td>998315055</td>\n",
       "    </tr>\n",
       "  </tbody>\n",
       "</table>\n",
       "<p>1000209 rows × 4 columns</p>\n",
       "</div>"
      ],
      "text/plain": [
       "         UserId  ItemId  Rating       Time\n",
       "31            1    3186       4  978300019\n",
       "22            1    1270       5  978300055\n",
       "27            1    1721       4  978300055\n",
       "37            1    1022       5  978300055\n",
       "24            1    2340       3  978300103\n",
       "...         ...     ...     ...        ...\n",
       "1000019    6040    2917       4  997454429\n",
       "999988     6040    1921       4  997454464\n",
       "1000172    6040    1784       3  997454464\n",
       "1000167    6040     161       3  997454486\n",
       "1000042    6040    1221       4  998315055\n",
       "\n",
       "[1000209 rows x 4 columns]"
      ]
     },
     "execution_count": 2,
     "metadata": {},
     "output_type": "execute_result"
    }
   ],
   "source": [
    "data_path = Path(os.getenv('HOME')+'/aiffel/yoochoose-data/ml-1m') \n",
    "train_path = data_path / 'ratings.dat'\n",
    "\n",
    "def load_data(data_path: Path, nrows=None):\n",
    "    data = pd.read_csv(data_path, sep='::', header=None, usecols=[0, 1, 2, 3], dtype={0: np.int32, 1: np.int32, 2: np.int32}, nrows=nrows)\n",
    "    data.columns = ['UserId', 'ItemId', 'Rating', 'Time']\n",
    "    return data\n",
    "\n",
    "data = load_data(train_path, None)\n",
    "data.sort_values(['UserId', 'Time'], inplace=True)  # data를 id와 시간 순서로 정렬해줍니다.\n",
    "data"
   ]
  },
  {
   "cell_type": "markdown",
   "id": "advance-spare",
   "metadata": {},
   "source": [
    "여기서 이전 실습내역과 가장 크게 다른 부분은 바로 SessionID 대신 UserID 항목이 들어갔다는 점입니다. 이 데이터셋은 명확한 1회 세션의 SessionID를 포함하지 않고 있습니다. 그래서 이번에는 UserID가 SessionID 역할을 해야 합니다.\n",
    "\n",
    "Rating 정보가 포함되어 있습니다. 이전 실습내역에서는 이런 항목이 포함되어 있지 않았으므로, 무시하고 제외할 수 있습니다. 하지만, 직전에 봤던 영화가 맘에 들었는지 여부가 비슷한 영화를 더 고르게 하는 것과 상관이 있을 수도 있습니다. 아울러, Rating이 낮은 데이터를 어떻게 처리할지도 고민해야 합니다.\n",
    "\n",
    "Time 항목에는 UTC time 가 포함되어, 1970년 1월 1일부터 경과된 초단위 시간이 기재되어 있습니다."
   ]
  },
  {
   "cell_type": "markdown",
   "id": "grand-european",
   "metadata": {},
   "source": [
    "### Step 1. 데이터의 전처리\n",
    "위와 같이 간단히 구성해 본 데이터셋을 꼼꼼이 살펴보면서 항목별 기본분석, session length, session time, cleaning 등의 작업을 진행합니다.\n",
    "특히, 이 데이터셋에서는 Session이 아닌 UserID 단위로 데이터가 생성되어 있으므로, 이를 Session 단위로 어떻게 해석할지에 주의합니다."
   ]
  },
  {
   "cell_type": "markdown",
   "id": "lyric-episode",
   "metadata": {},
   "source": [
    "추천시스템을 구축할 때 가장 먼저 확인해 볼 것은 유저수(세션 수)와 아이템 수 입니다."
   ]
  },
  {
   "cell_type": "code",
   "execution_count": 3,
   "id": "classical-heating",
   "metadata": {},
   "outputs": [
    {
     "data": {
      "text/plain": [
       "UserId      6040\n",
       "ItemId      3706\n",
       "Rating         5\n",
       "Time      458455\n",
       "dtype: int64"
      ]
     },
     "execution_count": 3,
     "metadata": {},
     "output_type": "execute_result"
    }
   ],
   "source": [
    "data.nunique()"
   ]
  },
  {
   "cell_type": "markdown",
   "id": "computational-overall",
   "metadata": {},
   "source": [
    "### 2.2 Session Length\n",
    "* 같은 SessionId를 공유하는 데이터 row의 개수\n",
    "* 로그인하지 않았기 때문에 이 사용자를 특정할 수 없기에, 특정 사용자의 행동을 SessionId 기준으로 모아서(개별 아이디로 판단) 분류"
   ]
  },
  {
   "cell_type": "code",
   "execution_count": 4,
   "id": "proper-honolulu",
   "metadata": {},
   "outputs": [
    {
     "data": {
      "text/plain": [
       "UserId\n",
       "1        53\n",
       "2       129\n",
       "3        51\n",
       "4        21\n",
       "5       198\n",
       "       ... \n",
       "6036    888\n",
       "6037    202\n",
       "6038     20\n",
       "6039    123\n",
       "6040    341\n",
       "Length: 6040, dtype: int64"
      ]
     },
     "execution_count": 4,
     "metadata": {},
     "output_type": "execute_result"
    }
   ],
   "source": [
    "session_length = data.groupby(['UserId']).size()\n",
    "session_length"
   ]
  },
  {
   "cell_type": "code",
   "execution_count": 5,
   "id": "lyric-cooking",
   "metadata": {},
   "outputs": [
    {
     "data": {
      "text/plain": [
       "(96.0, 165.5975165562914)"
      ]
     },
     "execution_count": 5,
     "metadata": {},
     "output_type": "execute_result"
    }
   ],
   "source": [
    "session_length.median(), session_length.mean()"
   ]
  },
  {
   "cell_type": "code",
   "execution_count": 6,
   "id": "swedish-concord",
   "metadata": {},
   "outputs": [
    {
     "data": {
      "text/plain": [
       "(20, 2314)"
      ]
     },
     "execution_count": 6,
     "metadata": {},
     "output_type": "execute_result"
    }
   ],
   "source": [
    "session_length.min(), session_length.max()"
   ]
  },
  {
   "cell_type": "code",
   "execution_count": 7,
   "id": "personal-cholesterol",
   "metadata": {},
   "outputs": [
    {
     "data": {
      "text/plain": [
       "1343.181000000005"
      ]
     },
     "execution_count": 7,
     "metadata": {},
     "output_type": "execute_result"
    }
   ],
   "source": [
    "session_length.quantile(q=0.999)"
   ]
  },
  {
   "cell_type": "code",
   "execution_count": 8,
   "id": "played-relative",
   "metadata": {},
   "outputs": [
    {
     "data": {
      "text/html": [
       "<div>\n",
       "<style scoped>\n",
       "    .dataframe tbody tr th:only-of-type {\n",
       "        vertical-align: middle;\n",
       "    }\n",
       "\n",
       "    .dataframe tbody tr th {\n",
       "        vertical-align: top;\n",
       "    }\n",
       "\n",
       "    .dataframe thead th {\n",
       "        text-align: right;\n",
       "    }\n",
       "</style>\n",
       "<table border=\"1\" class=\"dataframe\">\n",
       "  <thead>\n",
       "    <tr style=\"text-align: right;\">\n",
       "      <th></th>\n",
       "      <th>UserId</th>\n",
       "      <th>ItemId</th>\n",
       "      <th>Rating</th>\n",
       "      <th>Time</th>\n",
       "    </tr>\n",
       "  </thead>\n",
       "  <tbody>\n",
       "    <tr>\n",
       "      <th>696969</th>\n",
       "      <td>4169</td>\n",
       "      <td>1268</td>\n",
       "      <td>5</td>\n",
       "      <td>965333392</td>\n",
       "    </tr>\n",
       "    <tr>\n",
       "      <th>697168</th>\n",
       "      <td>4169</td>\n",
       "      <td>2617</td>\n",
       "      <td>4</td>\n",
       "      <td>965333392</td>\n",
       "    </tr>\n",
       "    <tr>\n",
       "      <th>697185</th>\n",
       "      <td>4169</td>\n",
       "      <td>2628</td>\n",
       "      <td>4</td>\n",
       "      <td>965333392</td>\n",
       "    </tr>\n",
       "    <tr>\n",
       "      <th>697219</th>\n",
       "      <td>4169</td>\n",
       "      <td>2653</td>\n",
       "      <td>4</td>\n",
       "      <td>965333392</td>\n",
       "    </tr>\n",
       "    <tr>\n",
       "      <th>697275</th>\n",
       "      <td>4169</td>\n",
       "      <td>423</td>\n",
       "      <td>3</td>\n",
       "      <td>965333392</td>\n",
       "    </tr>\n",
       "    <tr>\n",
       "      <th>...</th>\n",
       "      <td>...</td>\n",
       "      <td>...</td>\n",
       "      <td>...</td>\n",
       "      <td>...</td>\n",
       "    </tr>\n",
       "    <tr>\n",
       "      <th>697882</th>\n",
       "      <td>4169</td>\n",
       "      <td>3754</td>\n",
       "      <td>2</td>\n",
       "      <td>1024174347</td>\n",
       "    </tr>\n",
       "    <tr>\n",
       "      <th>695702</th>\n",
       "      <td>4169</td>\n",
       "      <td>1413</td>\n",
       "      <td>3</td>\n",
       "      <td>1024175031</td>\n",
       "    </tr>\n",
       "    <tr>\n",
       "      <th>697358</th>\n",
       "      <td>4169</td>\n",
       "      <td>494</td>\n",
       "      <td>4</td>\n",
       "      <td>1024175760</td>\n",
       "    </tr>\n",
       "    <tr>\n",
       "      <th>695945</th>\n",
       "      <td>4169</td>\n",
       "      <td>1804</td>\n",
       "      <td>2</td>\n",
       "      <td>1024175783</td>\n",
       "    </tr>\n",
       "    <tr>\n",
       "      <th>696446</th>\n",
       "      <td>4169</td>\n",
       "      <td>1548</td>\n",
       "      <td>3</td>\n",
       "      <td>1024176337</td>\n",
       "    </tr>\n",
       "  </tbody>\n",
       "</table>\n",
       "<p>2314 rows × 4 columns</p>\n",
       "</div>"
      ],
      "text/plain": [
       "        UserId  ItemId  Rating        Time\n",
       "696969    4169    1268       5   965333392\n",
       "697168    4169    2617       4   965333392\n",
       "697185    4169    2628       4   965333392\n",
       "697219    4169    2653       4   965333392\n",
       "697275    4169     423       3   965333392\n",
       "...        ...     ...     ...         ...\n",
       "697882    4169    3754       2  1024174347\n",
       "695702    4169    1413       3  1024175031\n",
       "697358    4169     494       4  1024175760\n",
       "695945    4169    1804       2  1024175783\n",
       "696446    4169    1548       3  1024176337\n",
       "\n",
       "[2314 rows x 4 columns]"
      ]
     },
     "execution_count": 8,
     "metadata": {},
     "output_type": "execute_result"
    }
   ],
   "source": [
    "long_session = session_length[session_length == 2314].index[0]\n",
    "data[data['UserId']==long_session]"
   ]
  },
  {
   "cell_type": "code",
   "execution_count": 56,
   "id": "textile-processor",
   "metadata": {},
   "outputs": [
    {
     "data": {
      "text/plain": [
       "1000209"
      ]
     },
     "execution_count": 56,
     "metadata": {},
     "output_type": "execute_result"
    }
   ],
   "source": [
    "len(data)"
   ]
  },
  {
   "cell_type": "markdown",
   "id": "suited-thomson",
   "metadata": {},
   "source": [
    "#### 세션길이 기준 하위 99.9%까지의 분포 누적합을 시각화"
   ]
  },
  {
   "cell_type": "code",
   "execution_count": 9,
   "id": "political-chick",
   "metadata": {},
   "outputs": [
    {
     "data": {
      "text/plain": [
       "20      0.014238\n",
       "21      0.029305\n",
       "22      0.042053\n",
       "23      0.055464\n",
       "24      0.068874\n",
       "          ...   \n",
       "1271    0.998179\n",
       "1277    0.998344\n",
       "1286    0.998510\n",
       "1302    0.998675\n",
       "1323    0.998841\n",
       "Length: 736, dtype: float64"
      ]
     },
     "execution_count": 9,
     "metadata": {},
     "output_type": "execute_result"
    }
   ],
   "source": [
    "length_count = session_length.groupby(session_length).size()\n",
    "length_percent_cumsum = length_count.cumsum() / length_count.sum()\n",
    "length_percent_cumsum_999 = length_percent_cumsum[length_percent_cumsum < 0.999]\n",
    "\n",
    "length_percent_cumsum_999"
   ]
  },
  {
   "cell_type": "code",
   "execution_count": 10,
   "id": "apart-puzzle",
   "metadata": {},
   "outputs": [],
   "source": [
    "# import matplotlib.pyplot as plt\n",
    "\n",
    "# plt.figure(figsize=(20, 10))\n",
    "# plt.bar(x=length_percent_cumsum_999.index,\n",
    "#         height=length_percent_cumsum_999, color='red')\n",
    "# plt.xticks(length_percent_cumsum_999.index)\n",
    "# plt.yticks(np.arange(0, 1.01, 0.05))\n",
    "# plt.title('Cumsum Percentage Until 0.999', size=20)\n",
    "# plt.show()"
   ]
  },
  {
   "cell_type": "markdown",
   "id": "systematic-disability",
   "metadata": {},
   "source": [
    "#### Session Time\n"
   ]
  },
  {
   "cell_type": "markdown",
   "id": "informational-satin",
   "metadata": {},
   "source": [
    "유저 클릭수의 이상 여부를 확인하기 위해 시간대별로 확인"
   ]
  },
  {
   "cell_type": "code",
   "execution_count": 11,
   "id": "defined-progress",
   "metadata": {},
   "outputs": [
    {
     "data": {
      "text/plain": [
       "pandas.core.series.Series"
      ]
     },
     "execution_count": 11,
     "metadata": {},
     "output_type": "execute_result"
    }
   ],
   "source": [
    "type(data['Time'])"
   ]
  },
  {
   "cell_type": "code",
   "execution_count": 12,
   "id": "internal-religious",
   "metadata": {},
   "outputs": [
    {
     "name": "stdout",
     "output_type": "stream",
     "text": [
      "956703932\n",
      "1046454590\n"
     ]
    }
   ],
   "source": [
    "oldest, latest = data['Time'].min(), data['Time'].max()\n",
    "print(oldest) \n",
    "print(latest)"
   ]
  },
  {
   "cell_type": "code",
   "execution_count": 13,
   "id": "vocal-newcastle",
   "metadata": {},
   "outputs": [
    {
     "data": {
      "text/plain": [
       "int"
      ]
     },
     "execution_count": 13,
     "metadata": {},
     "output_type": "execute_result"
    }
   ],
   "source": [
    "type(latest)"
   ]
  },
  {
   "cell_type": "code",
   "execution_count": 14,
   "id": "moving-elite",
   "metadata": {},
   "outputs": [
    {
     "data": {
      "text/plain": [
       "time.struct_time(tm_year=2000, tm_mon=4, tm_mday=26, tm_hour=8, tm_min=5, tm_sec=32, tm_wday=2, tm_yday=117, tm_isdst=0)"
      ]
     },
     "execution_count": 14,
     "metadata": {},
     "output_type": "execute_result"
    }
   ],
   "source": [
    "import time\n",
    "time.localtime(oldest)"
   ]
  },
  {
   "cell_type": "code",
   "execution_count": 15,
   "id": "verified-jersey",
   "metadata": {},
   "outputs": [
    {
     "name": "stdout",
     "output_type": "stream",
     "text": [
      "2000-04-26 08:05:32\n",
      "<class 'str'>\n"
     ]
    }
   ],
   "source": [
    "a = time.strftime('%Y-%m-%d %H:%M:%S', time.localtime(oldest))\n",
    "print(a)\n",
    "print(type(a))"
   ]
  },
  {
   "cell_type": "code",
   "execution_count": 16,
   "id": "cloudy-efficiency",
   "metadata": {},
   "outputs": [
    {
     "data": {
      "text/plain": [
       "'2003-03-01 02:49:50'"
      ]
     },
     "execution_count": 16,
     "metadata": {},
     "output_type": "execute_result"
    }
   ],
   "source": [
    "b = time.strftime('%Y-%m-%d %H:%M:%S', time.localtime(latest))\n",
    "b"
   ]
  },
  {
   "cell_type": "code",
   "execution_count": 17,
   "id": "innovative-reunion",
   "metadata": {},
   "outputs": [
    {
     "data": {
      "text/html": [
       "<div>\n",
       "<style scoped>\n",
       "    .dataframe tbody tr th:only-of-type {\n",
       "        vertical-align: middle;\n",
       "    }\n",
       "\n",
       "    .dataframe tbody tr th {\n",
       "        vertical-align: top;\n",
       "    }\n",
       "\n",
       "    .dataframe thead th {\n",
       "        text-align: right;\n",
       "    }\n",
       "</style>\n",
       "<table border=\"1\" class=\"dataframe\">\n",
       "  <thead>\n",
       "    <tr style=\"text-align: right;\">\n",
       "      <th></th>\n",
       "      <th>UserId</th>\n",
       "      <th>ItemId</th>\n",
       "      <th>Rating</th>\n",
       "      <th>Time</th>\n",
       "    </tr>\n",
       "  </thead>\n",
       "  <tbody>\n",
       "    <tr>\n",
       "      <th>31</th>\n",
       "      <td>1</td>\n",
       "      <td>3186</td>\n",
       "      <td>4</td>\n",
       "      <td>978300019</td>\n",
       "    </tr>\n",
       "    <tr>\n",
       "      <th>22</th>\n",
       "      <td>1</td>\n",
       "      <td>1270</td>\n",
       "      <td>5</td>\n",
       "      <td>978300055</td>\n",
       "    </tr>\n",
       "    <tr>\n",
       "      <th>27</th>\n",
       "      <td>1</td>\n",
       "      <td>1721</td>\n",
       "      <td>4</td>\n",
       "      <td>978300055</td>\n",
       "    </tr>\n",
       "    <tr>\n",
       "      <th>37</th>\n",
       "      <td>1</td>\n",
       "      <td>1022</td>\n",
       "      <td>5</td>\n",
       "      <td>978300055</td>\n",
       "    </tr>\n",
       "    <tr>\n",
       "      <th>24</th>\n",
       "      <td>1</td>\n",
       "      <td>2340</td>\n",
       "      <td>3</td>\n",
       "      <td>978300103</td>\n",
       "    </tr>\n",
       "    <tr>\n",
       "      <th>...</th>\n",
       "      <td>...</td>\n",
       "      <td>...</td>\n",
       "      <td>...</td>\n",
       "      <td>...</td>\n",
       "    </tr>\n",
       "    <tr>\n",
       "      <th>1000019</th>\n",
       "      <td>6040</td>\n",
       "      <td>2917</td>\n",
       "      <td>4</td>\n",
       "      <td>997454429</td>\n",
       "    </tr>\n",
       "    <tr>\n",
       "      <th>999988</th>\n",
       "      <td>6040</td>\n",
       "      <td>1921</td>\n",
       "      <td>4</td>\n",
       "      <td>997454464</td>\n",
       "    </tr>\n",
       "    <tr>\n",
       "      <th>1000172</th>\n",
       "      <td>6040</td>\n",
       "      <td>1784</td>\n",
       "      <td>3</td>\n",
       "      <td>997454464</td>\n",
       "    </tr>\n",
       "    <tr>\n",
       "      <th>1000167</th>\n",
       "      <td>6040</td>\n",
       "      <td>161</td>\n",
       "      <td>3</td>\n",
       "      <td>997454486</td>\n",
       "    </tr>\n",
       "    <tr>\n",
       "      <th>1000042</th>\n",
       "      <td>6040</td>\n",
       "      <td>1221</td>\n",
       "      <td>4</td>\n",
       "      <td>998315055</td>\n",
       "    </tr>\n",
       "  </tbody>\n",
       "</table>\n",
       "<p>1000209 rows × 4 columns</p>\n",
       "</div>"
      ],
      "text/plain": [
       "         UserId  ItemId  Rating       Time\n",
       "31            1    3186       4  978300019\n",
       "22            1    1270       5  978300055\n",
       "27            1    1721       4  978300055\n",
       "37            1    1022       5  978300055\n",
       "24            1    2340       3  978300103\n",
       "...         ...     ...     ...        ...\n",
       "1000019    6040    2917       4  997454429\n",
       "999988     6040    1921       4  997454464\n",
       "1000172    6040    1784       3  997454464\n",
       "1000167    6040     161       3  997454486\n",
       "1000042    6040    1221       4  998315055\n",
       "\n",
       "[1000209 rows x 4 columns]"
      ]
     },
     "execution_count": 17,
     "metadata": {},
     "output_type": "execute_result"
    }
   ],
   "source": [
    "data_1 = data.copy()\n",
    "data_1"
   ]
  },
  {
   "cell_type": "code",
   "execution_count": 18,
   "id": "first-telephone",
   "metadata": {},
   "outputs": [
    {
     "data": {
      "text/plain": [
       "['2001-01-01-07:00:19',\n",
       " '2001-01-01-07:00:55',\n",
       " '2001-01-01-07:00:55',\n",
       " '2001-01-01-07:00:55',\n",
       " '2001-01-01-07:01:43',\n",
       " '2001-01-01-07:02:52',\n",
       " '2001-01-01-07:04:35',\n",
       " '2001-01-01-07:11:59',\n",
       " '2001-01-01-07:11:59',\n",
       " '2001-01-01-07:12:40']"
      ]
     },
     "execution_count": 18,
     "metadata": {},
     "output_type": "execute_result"
    }
   ],
   "source": [
    "x = [time.strftime('%Y-%m-%d-%H:%M:%S', time.localtime(c_time)) for c_time in data_1['Time']]\n",
    "x[:10]"
   ]
  },
  {
   "cell_type": "code",
   "execution_count": 19,
   "id": "peripheral-pharmacology",
   "metadata": {},
   "outputs": [
    {
     "data": {
      "text/html": [
       "<div>\n",
       "<style scoped>\n",
       "    .dataframe tbody tr th:only-of-type {\n",
       "        vertical-align: middle;\n",
       "    }\n",
       "\n",
       "    .dataframe tbody tr th {\n",
       "        vertical-align: top;\n",
       "    }\n",
       "\n",
       "    .dataframe thead th {\n",
       "        text-align: right;\n",
       "    }\n",
       "</style>\n",
       "<table border=\"1\" class=\"dataframe\">\n",
       "  <thead>\n",
       "    <tr style=\"text-align: right;\">\n",
       "      <th></th>\n",
       "      <th>UserId</th>\n",
       "      <th>ItemId</th>\n",
       "      <th>Rating</th>\n",
       "      <th>Time</th>\n",
       "      <th>newTime</th>\n",
       "    </tr>\n",
       "  </thead>\n",
       "  <tbody>\n",
       "    <tr>\n",
       "      <th>31</th>\n",
       "      <td>1</td>\n",
       "      <td>3186</td>\n",
       "      <td>4</td>\n",
       "      <td>978300019</td>\n",
       "      <td>2001-01-01-07:00:19</td>\n",
       "    </tr>\n",
       "    <tr>\n",
       "      <th>22</th>\n",
       "      <td>1</td>\n",
       "      <td>1270</td>\n",
       "      <td>5</td>\n",
       "      <td>978300055</td>\n",
       "      <td>2001-01-01-07:00:55</td>\n",
       "    </tr>\n",
       "    <tr>\n",
       "      <th>27</th>\n",
       "      <td>1</td>\n",
       "      <td>1721</td>\n",
       "      <td>4</td>\n",
       "      <td>978300055</td>\n",
       "      <td>2001-01-01-07:00:55</td>\n",
       "    </tr>\n",
       "    <tr>\n",
       "      <th>37</th>\n",
       "      <td>1</td>\n",
       "      <td>1022</td>\n",
       "      <td>5</td>\n",
       "      <td>978300055</td>\n",
       "      <td>2001-01-01-07:00:55</td>\n",
       "    </tr>\n",
       "    <tr>\n",
       "      <th>24</th>\n",
       "      <td>1</td>\n",
       "      <td>2340</td>\n",
       "      <td>3</td>\n",
       "      <td>978300103</td>\n",
       "      <td>2001-01-01-07:01:43</td>\n",
       "    </tr>\n",
       "    <tr>\n",
       "      <th>...</th>\n",
       "      <td>...</td>\n",
       "      <td>...</td>\n",
       "      <td>...</td>\n",
       "      <td>...</td>\n",
       "      <td>...</td>\n",
       "    </tr>\n",
       "    <tr>\n",
       "      <th>1000019</th>\n",
       "      <td>6040</td>\n",
       "      <td>2917</td>\n",
       "      <td>4</td>\n",
       "      <td>997454429</td>\n",
       "      <td>2001-08-10-23:40:29</td>\n",
       "    </tr>\n",
       "    <tr>\n",
       "      <th>999988</th>\n",
       "      <td>6040</td>\n",
       "      <td>1921</td>\n",
       "      <td>4</td>\n",
       "      <td>997454464</td>\n",
       "      <td>2001-08-10-23:41:04</td>\n",
       "    </tr>\n",
       "    <tr>\n",
       "      <th>1000172</th>\n",
       "      <td>6040</td>\n",
       "      <td>1784</td>\n",
       "      <td>3</td>\n",
       "      <td>997454464</td>\n",
       "      <td>2001-08-10-23:41:04</td>\n",
       "    </tr>\n",
       "    <tr>\n",
       "      <th>1000167</th>\n",
       "      <td>6040</td>\n",
       "      <td>161</td>\n",
       "      <td>3</td>\n",
       "      <td>997454486</td>\n",
       "      <td>2001-08-10-23:41:26</td>\n",
       "    </tr>\n",
       "    <tr>\n",
       "      <th>1000042</th>\n",
       "      <td>6040</td>\n",
       "      <td>1221</td>\n",
       "      <td>4</td>\n",
       "      <td>998315055</td>\n",
       "      <td>2001-08-20-22:44:15</td>\n",
       "    </tr>\n",
       "  </tbody>\n",
       "</table>\n",
       "<p>1000209 rows × 5 columns</p>\n",
       "</div>"
      ],
      "text/plain": [
       "         UserId  ItemId  Rating       Time              newTime\n",
       "31            1    3186       4  978300019  2001-01-01-07:00:19\n",
       "22            1    1270       5  978300055  2001-01-01-07:00:55\n",
       "27            1    1721       4  978300055  2001-01-01-07:00:55\n",
       "37            1    1022       5  978300055  2001-01-01-07:00:55\n",
       "24            1    2340       3  978300103  2001-01-01-07:01:43\n",
       "...         ...     ...     ...        ...                  ...\n",
       "1000019    6040    2917       4  997454429  2001-08-10-23:40:29\n",
       "999988     6040    1921       4  997454464  2001-08-10-23:41:04\n",
       "1000172    6040    1784       3  997454464  2001-08-10-23:41:04\n",
       "1000167    6040     161       3  997454486  2001-08-10-23:41:26\n",
       "1000042    6040    1221       4  998315055  2001-08-20-22:44:15\n",
       "\n",
       "[1000209 rows x 5 columns]"
      ]
     },
     "execution_count": 19,
     "metadata": {},
     "output_type": "execute_result"
    }
   ],
   "source": [
    "data_1['newTime'] = [time.strftime('%Y-%m-%d-%H:%M:%S', time.localtime(c_time)) for c_time in data_1['Time']]\n",
    "data_1"
   ]
  },
  {
   "cell_type": "code",
   "execution_count": 20,
   "id": "numeric-choir",
   "metadata": {},
   "outputs": [
    {
     "data": {
      "text/plain": [
       "31         2001-01-01-07:00:19\n",
       "22         2001-01-01-07:00:55\n",
       "27         2001-01-01-07:00:55\n",
       "37         2001-01-01-07:00:55\n",
       "24         2001-01-01-07:01:43\n",
       "                  ...         \n",
       "1000019    2001-08-10-23:40:29\n",
       "999988     2001-08-10-23:41:04\n",
       "1000172    2001-08-10-23:41:04\n",
       "1000167    2001-08-10-23:41:26\n",
       "1000042    2001-08-20-22:44:15\n",
       "Name: newTime, Length: 1000209, dtype: object"
      ]
     },
     "execution_count": 20,
     "metadata": {},
     "output_type": "execute_result"
    }
   ],
   "source": [
    "k = data_1['newTime']\n",
    "k"
   ]
  },
  {
   "cell_type": "code",
   "execution_count": 21,
   "id": "accurate-capital",
   "metadata": {},
   "outputs": [
    {
     "data": {
      "text/plain": [
       "['2002-03-12-12:58:05', '2002-03-12-12:52:07', '2002-02-03-12:41:37']"
      ]
     },
     "execution_count": 21,
     "metadata": {},
     "output_type": "execute_result"
    }
   ],
   "source": [
    "result = []\n",
    "for i in range(len(k)):\n",
    "    if k[i][:4] == '2003':\n",
    "        result.append(k[i])\n",
    "    elif k[i][:4] == '2002':\n",
    "        result.append(k[i])\n",
    "result[:3]"
   ]
  },
  {
   "cell_type": "code",
   "execution_count": 22,
   "id": "banned-condition",
   "metadata": {},
   "outputs": [
    {
     "data": {
      "text/plain": [
       "27436"
      ]
     },
     "execution_count": 22,
     "metadata": {},
     "output_type": "execute_result"
    }
   ],
   "source": [
    "len(result)"
   ]
  },
  {
   "cell_type": "code",
   "execution_count": 23,
   "id": "palestinian-maldives",
   "metadata": {},
   "outputs": [
    {
     "data": {
      "text/html": [
       "<div>\n",
       "<style scoped>\n",
       "    .dataframe tbody tr th:only-of-type {\n",
       "        vertical-align: middle;\n",
       "    }\n",
       "\n",
       "    .dataframe tbody tr th {\n",
       "        vertical-align: top;\n",
       "    }\n",
       "\n",
       "    .dataframe thead th {\n",
       "        text-align: right;\n",
       "    }\n",
       "</style>\n",
       "<table border=\"1\" class=\"dataframe\">\n",
       "  <thead>\n",
       "    <tr style=\"text-align: right;\">\n",
       "      <th></th>\n",
       "      <th>UserId</th>\n",
       "      <th>ItemId</th>\n",
       "      <th>Rating</th>\n",
       "      <th>Time</th>\n",
       "      <th>newTime</th>\n",
       "    </tr>\n",
       "  </thead>\n",
       "  <tbody>\n",
       "    <tr>\n",
       "      <th>5125</th>\n",
       "      <td>36</td>\n",
       "      <td>1292</td>\n",
       "      <td>5</td>\n",
       "      <td>1012707635</td>\n",
       "      <td>2002-02-03-12:40:35</td>\n",
       "    </tr>\n",
       "    <tr>\n",
       "      <th>5053</th>\n",
       "      <td>36</td>\n",
       "      <td>7</td>\n",
       "      <td>4</td>\n",
       "      <td>1012707697</td>\n",
       "      <td>2002-02-03-12:41:37</td>\n",
       "    </tr>\n",
       "    <tr>\n",
       "      <th>5170</th>\n",
       "      <td>36</td>\n",
       "      <td>1387</td>\n",
       "      <td>5</td>\n",
       "      <td>1015904819</td>\n",
       "      <td>2002-03-12-12:46:59</td>\n",
       "    </tr>\n",
       "    <tr>\n",
       "      <th>5267</th>\n",
       "      <td>36</td>\n",
       "      <td>1201</td>\n",
       "      <td>4</td>\n",
       "      <td>1015904819</td>\n",
       "      <td>2002-03-12-12:46:59</td>\n",
       "    </tr>\n",
       "    <tr>\n",
       "      <th>5122</th>\n",
       "      <td>36</td>\n",
       "      <td>1291</td>\n",
       "      <td>5</td>\n",
       "      <td>1015904836</td>\n",
       "      <td>2002-03-12-12:47:16</td>\n",
       "    </tr>\n",
       "    <tr>\n",
       "      <th>...</th>\n",
       "      <td>...</td>\n",
       "      <td>...</td>\n",
       "      <td>...</td>\n",
       "      <td>...</td>\n",
       "      <td>...</td>\n",
       "    </tr>\n",
       "    <tr>\n",
       "      <th>994100</th>\n",
       "      <td>6002</td>\n",
       "      <td>2013</td>\n",
       "      <td>4</td>\n",
       "      <td>1014524679</td>\n",
       "      <td>2002-02-24-13:24:39</td>\n",
       "    </tr>\n",
       "    <tr>\n",
       "      <th>993890</th>\n",
       "      <td>6002</td>\n",
       "      <td>2520</td>\n",
       "      <td>4</td>\n",
       "      <td>1014524680</td>\n",
       "      <td>2002-02-24-13:24:40</td>\n",
       "    </tr>\n",
       "    <tr>\n",
       "      <th>994045</th>\n",
       "      <td>6002</td>\n",
       "      <td>1387</td>\n",
       "      <td>5</td>\n",
       "      <td>1014524720</td>\n",
       "      <td>2002-02-24-13:25:20</td>\n",
       "    </tr>\n",
       "    <tr>\n",
       "      <th>993900</th>\n",
       "      <td>6002</td>\n",
       "      <td>1927</td>\n",
       "      <td>4</td>\n",
       "      <td>1014524758</td>\n",
       "      <td>2002-02-24-13:25:58</td>\n",
       "    </tr>\n",
       "    <tr>\n",
       "      <th>994050</th>\n",
       "      <td>6002</td>\n",
       "      <td>101</td>\n",
       "      <td>4</td>\n",
       "      <td>1014524817</td>\n",
       "      <td>2002-02-24-13:26:57</td>\n",
       "    </tr>\n",
       "  </tbody>\n",
       "</table>\n",
       "<p>27436 rows × 5 columns</p>\n",
       "</div>"
      ],
      "text/plain": [
       "        UserId  ItemId  Rating        Time              newTime\n",
       "5125        36    1292       5  1012707635  2002-02-03-12:40:35\n",
       "5053        36       7       4  1012707697  2002-02-03-12:41:37\n",
       "5170        36    1387       5  1015904819  2002-03-12-12:46:59\n",
       "5267        36    1201       4  1015904819  2002-03-12-12:46:59\n",
       "5122        36    1291       5  1015904836  2002-03-12-12:47:16\n",
       "...        ...     ...     ...         ...                  ...\n",
       "994100    6002    2013       4  1014524679  2002-02-24-13:24:39\n",
       "993890    6002    2520       4  1014524680  2002-02-24-13:24:40\n",
       "994045    6002    1387       5  1014524720  2002-02-24-13:25:20\n",
       "993900    6002    1927       4  1014524758  2002-02-24-13:25:58\n",
       "994050    6002     101       4  1014524817  2002-02-24-13:26:57\n",
       "\n",
       "[27436 rows x 5 columns]"
      ]
     },
     "execution_count": 23,
     "metadata": {},
     "output_type": "execute_result"
    }
   ],
   "source": [
    "df = data_1.loc[data_1['newTime'].isin(result), :]\n",
    "df"
   ]
  },
  {
   "cell_type": "code",
   "execution_count": 24,
   "id": "arabic-clarity",
   "metadata": {},
   "outputs": [
    {
     "data": {
      "text/plain": [
       "UserId     0\n",
       "ItemId     0\n",
       "Rating     0\n",
       "Time       0\n",
       "newTime    0\n",
       "dtype: int64"
      ]
     },
     "execution_count": 24,
     "metadata": {},
     "output_type": "execute_result"
    }
   ],
   "source": [
    "df.isna().sum()"
   ]
  },
  {
   "cell_type": "code",
   "execution_count": 25,
   "id": "consolidated-religious",
   "metadata": {},
   "outputs": [
    {
     "data": {
      "text/plain": [
       "20"
      ]
     },
     "execution_count": 25,
     "metadata": {},
     "output_type": "execute_result"
    }
   ],
   "source": [
    "user_min = data.groupby(['UserId']).size().min()\n",
    "user_min"
   ]
  },
  {
   "cell_type": "markdown",
   "id": "stretch-toyota",
   "metadata": {},
   "source": [
    "아이디당 세션의 경우 최소 1 이상이어야 다음 선택을 예측할 수 있는데 본 데이터는 최소 클릭 수가 20회이기 때문에 클렌징 생략"
   ]
  },
  {
   "cell_type": "code",
   "execution_count": 26,
   "id": "attached-polyester",
   "metadata": {},
   "outputs": [],
   "source": [
    "# # short_session을 제거한 다음 unpopular item을 제거하면 다시 길이가 1인 session이 생길 수 있습니다.\n",
    "# # 이를 위해 반복문을 통해 지속적으로 제거 합니다.\n",
    "# def cleanse_recursive(data: pd.DataFrame, shortest, least_click) -> pd.DataFrame:\n",
    "#     while True:\n",
    "#         before_len = len(data)\n",
    "#         data = cleanse_short_session(data, shortest)\n",
    "#         data = cleanse_unpopular_item(data, least_click)\n",
    "#         after_len = len(data)\n",
    "#         if before_len == after_len:\n",
    "#             break\n",
    "#     return data\n",
    "\n",
    "\n",
    "# def cleanse_short_session(data: pd.DataFrame, shortest):\n",
    "#     session_len = data.groupby('SessionId').size()\n",
    "#     session_use = session_len[session_len >= shortest].index\n",
    "#     data = data[data['SessionId'].isin(session_use)]\n",
    "#     return data\n",
    "\n",
    "\n",
    "# def cleanse_unpopular_item(data: pd.DataFrame, least_click):\n",
    "#     item_popular = data.groupby('ItemId').size()\n",
    "#     item_use = item_popular[item_popular >= least_click].index\n",
    "#     data = data[data['ItemId'].isin(item_use)]\n",
    "#     return data"
   ]
  },
  {
   "cell_type": "code",
   "execution_count": 27,
   "id": "early-rhythm",
   "metadata": {},
   "outputs": [],
   "source": [
    "# data = cleanse_recursive(data, shortest=2, least_click=5)\n",
    "# data"
   ]
  },
  {
   "cell_type": "code",
   "execution_count": null,
   "id": "dried-arlington",
   "metadata": {},
   "outputs": [],
   "source": []
  },
  {
   "cell_type": "code",
   "execution_count": 28,
   "id": "present-stadium",
   "metadata": {},
   "outputs": [
    {
     "data": {
      "text/plain": [
       "pandas.core.series.Series"
      ]
     },
     "execution_count": 28,
     "metadata": {},
     "output_type": "execute_result"
    }
   ],
   "source": [
    "type(df['newTime'])"
   ]
  },
  {
   "cell_type": "code",
   "execution_count": 29,
   "id": "failing-roads",
   "metadata": {
    "scrolled": true
   },
   "outputs": [
    {
     "data": {
      "text/plain": [
       "5125    2002-02-03-12:40:35\n",
       "Name: newTime, dtype: object"
      ]
     },
     "execution_count": 29,
     "metadata": {},
     "output_type": "execute_result"
    }
   ],
   "source": [
    "df['newTime'][:1]"
   ]
  },
  {
   "cell_type": "code",
   "execution_count": 30,
   "id": "imperial-smell",
   "metadata": {},
   "outputs": [],
   "source": [
    "# l = datetime.datetime.strptime('2002-12-22', '%Y-%m-%d').date()\n",
    "# print(type(l))"
   ]
  },
  {
   "cell_type": "code",
   "execution_count": 31,
   "id": "affiliated-english",
   "metadata": {},
   "outputs": [
    {
     "data": {
      "text/plain": [
       "[datetime.date(2002, 2, 3),\n",
       " datetime.date(2002, 2, 3),\n",
       " datetime.date(2002, 3, 12)]"
      ]
     },
     "execution_count": 31,
     "metadata": {},
     "output_type": "execute_result"
    }
   ],
   "source": [
    "result_1 = []\n",
    "for i in df['newTime']:\n",
    "    result_1.append(datetime.datetime.strptime(i, '%Y-%m-%d-%H:%M:%S').date())\n",
    "result_1[:3]"
   ]
  },
  {
   "cell_type": "code",
   "execution_count": 32,
   "id": "ongoing-intervention",
   "metadata": {},
   "outputs": [
    {
     "data": {
      "text/html": [
       "<div>\n",
       "<style scoped>\n",
       "    .dataframe tbody tr th:only-of-type {\n",
       "        vertical-align: middle;\n",
       "    }\n",
       "\n",
       "    .dataframe tbody tr th {\n",
       "        vertical-align: top;\n",
       "    }\n",
       "\n",
       "    .dataframe thead th {\n",
       "        text-align: right;\n",
       "    }\n",
       "</style>\n",
       "<table border=\"1\" class=\"dataframe\">\n",
       "  <thead>\n",
       "    <tr style=\"text-align: right;\">\n",
       "      <th></th>\n",
       "      <th>UserId</th>\n",
       "      <th>ItemId</th>\n",
       "      <th>Rating</th>\n",
       "      <th>Time</th>\n",
       "      <th>newTime</th>\n",
       "    </tr>\n",
       "  </thead>\n",
       "  <tbody>\n",
       "    <tr>\n",
       "      <th>5125</th>\n",
       "      <td>36</td>\n",
       "      <td>1292</td>\n",
       "      <td>5</td>\n",
       "      <td>1012707635</td>\n",
       "      <td>2002-02-03</td>\n",
       "    </tr>\n",
       "    <tr>\n",
       "      <th>5053</th>\n",
       "      <td>36</td>\n",
       "      <td>7</td>\n",
       "      <td>4</td>\n",
       "      <td>1012707697</td>\n",
       "      <td>2002-02-03</td>\n",
       "    </tr>\n",
       "    <tr>\n",
       "      <th>5170</th>\n",
       "      <td>36</td>\n",
       "      <td>1387</td>\n",
       "      <td>5</td>\n",
       "      <td>1015904819</td>\n",
       "      <td>2002-03-12</td>\n",
       "    </tr>\n",
       "    <tr>\n",
       "      <th>5267</th>\n",
       "      <td>36</td>\n",
       "      <td>1201</td>\n",
       "      <td>4</td>\n",
       "      <td>1015904819</td>\n",
       "      <td>2002-03-12</td>\n",
       "    </tr>\n",
       "    <tr>\n",
       "      <th>5122</th>\n",
       "      <td>36</td>\n",
       "      <td>1291</td>\n",
       "      <td>5</td>\n",
       "      <td>1015904836</td>\n",
       "      <td>2002-03-12</td>\n",
       "    </tr>\n",
       "    <tr>\n",
       "      <th>...</th>\n",
       "      <td>...</td>\n",
       "      <td>...</td>\n",
       "      <td>...</td>\n",
       "      <td>...</td>\n",
       "      <td>...</td>\n",
       "    </tr>\n",
       "    <tr>\n",
       "      <th>994100</th>\n",
       "      <td>6002</td>\n",
       "      <td>2013</td>\n",
       "      <td>4</td>\n",
       "      <td>1014524679</td>\n",
       "      <td>2002-02-24</td>\n",
       "    </tr>\n",
       "    <tr>\n",
       "      <th>993890</th>\n",
       "      <td>6002</td>\n",
       "      <td>2520</td>\n",
       "      <td>4</td>\n",
       "      <td>1014524680</td>\n",
       "      <td>2002-02-24</td>\n",
       "    </tr>\n",
       "    <tr>\n",
       "      <th>994045</th>\n",
       "      <td>6002</td>\n",
       "      <td>1387</td>\n",
       "      <td>5</td>\n",
       "      <td>1014524720</td>\n",
       "      <td>2002-02-24</td>\n",
       "    </tr>\n",
       "    <tr>\n",
       "      <th>993900</th>\n",
       "      <td>6002</td>\n",
       "      <td>1927</td>\n",
       "      <td>4</td>\n",
       "      <td>1014524758</td>\n",
       "      <td>2002-02-24</td>\n",
       "    </tr>\n",
       "    <tr>\n",
       "      <th>994050</th>\n",
       "      <td>6002</td>\n",
       "      <td>101</td>\n",
       "      <td>4</td>\n",
       "      <td>1014524817</td>\n",
       "      <td>2002-02-24</td>\n",
       "    </tr>\n",
       "  </tbody>\n",
       "</table>\n",
       "<p>27436 rows × 5 columns</p>\n",
       "</div>"
      ],
      "text/plain": [
       "        UserId  ItemId  Rating        Time     newTime\n",
       "5125        36    1292       5  1012707635  2002-02-03\n",
       "5053        36       7       4  1012707697  2002-02-03\n",
       "5170        36    1387       5  1015904819  2002-03-12\n",
       "5267        36    1201       4  1015904819  2002-03-12\n",
       "5122        36    1291       5  1015904836  2002-03-12\n",
       "...        ...     ...     ...         ...         ...\n",
       "994100    6002    2013       4  1014524679  2002-02-24\n",
       "993890    6002    2520       4  1014524680  2002-02-24\n",
       "994045    6002    1387       5  1014524720  2002-02-24\n",
       "993900    6002    1927       4  1014524758  2002-02-24\n",
       "994050    6002     101       4  1014524817  2002-02-24\n",
       "\n",
       "[27436 rows x 5 columns]"
      ]
     },
     "execution_count": 32,
     "metadata": {},
     "output_type": "execute_result"
    }
   ],
   "source": [
    "df['newTime'] = result_1\n",
    "df"
   ]
  },
  {
   "cell_type": "code",
   "execution_count": null,
   "id": "cooperative-course",
   "metadata": {},
   "outputs": [],
   "source": []
  },
  {
   "cell_type": "code",
   "execution_count": 33,
   "id": "progressive-rebound",
   "metadata": {},
   "outputs": [
    {
     "name": "stdout",
     "output_type": "stream",
     "text": [
      "2003-03-01\n",
      "UserId\n",
      "36      2002-12-22\n",
      "59      2003-01-08\n",
      "65      2002-12-29\n",
      "102     2003-01-29\n",
      "104     2002-03-14\n",
      "           ...    \n",
      "5950    2003-02-28\n",
      "5956    2002-09-30\n",
      "5991    2002-01-13\n",
      "5996    2002-11-05\n",
      "6002    2002-02-24\n",
      "Name: newTime, Length: 587, dtype: object\n"
     ]
    }
   ],
   "source": [
    "final_time = df['newTime'].max()\n",
    "print(final_time)\n",
    "session_last_time = df.groupby('UserId')['newTime'].max()\n",
    "print(session_last_time)"
   ]
  },
  {
   "cell_type": "code",
   "execution_count": null,
   "id": "golden-kinase",
   "metadata": {},
   "outputs": [],
   "source": []
  },
  {
   "cell_type": "code",
   "execution_count": 34,
   "id": "typical-technical",
   "metadata": {},
   "outputs": [],
   "source": [
    "def split_by_date(data: pd.DataFrame, n_days: int):\n",
    "    final_time = data['newTime'].max()\n",
    "    print(final_time)\n",
    "    session_last_time = data.groupby('UserId')['newTime'].max()\n",
    "    session_in_train = session_last_time[session_last_time < final_time - dt.timedelta(n_days)].index\n",
    "    session_in_test = session_last_time[session_last_time >= final_time - dt.timedelta(n_days)].index\n",
    "\n",
    "    before_date = data[data['UserId'].isin(session_in_train)]\n",
    "    after_date = data[data['UserId'].isin(session_in_test)]\n",
    "    after_date = after_date[after_date['ItemId'].isin(before_date['ItemId'])]\n",
    "    return before_date, after_date"
   ]
  },
  {
   "cell_type": "code",
   "execution_count": 35,
   "id": "compound-bones",
   "metadata": {},
   "outputs": [
    {
     "name": "stdout",
     "output_type": "stream",
     "text": [
      "2003-03-01\n",
      "2003-01-29\n"
     ]
    }
   ],
   "source": [
    "tr, test = split_by_date(df, n_days=30)\n",
    "tr, val = split_by_date(tr, n_days=30)"
   ]
  },
  {
   "cell_type": "code",
   "execution_count": 36,
   "id": "prime-underwear",
   "metadata": {},
   "outputs": [],
   "source": [
    "# data에 대한 정보를 살펴봅니다.\n",
    "def stats_info(data: pd.DataFrame, status: str):\n",
    "    print(f'* {status} Set Stats Info\\n'\n",
    "          f'\\t Events: {len(data)}\\n'\n",
    "          f'\\t Sessions: {data[\"UserId\"].nunique()}\\n'\n",
    "          f'\\t Items: {data[\"ItemId\"].nunique()}\\n'\n",
    "          f'\\t First Time : {data[\"newTime\"].min()}\\n'\n",
    "          f'\\t Last Time : {data[\"newTime\"].max()}\\n')"
   ]
  },
  {
   "cell_type": "code",
   "execution_count": 37,
   "id": "religious-symphony",
   "metadata": {},
   "outputs": [
    {
     "name": "stdout",
     "output_type": "stream",
     "text": [
      "* train Set Stats Info\n",
      "\t Events: 14888\n",
      "\t Sessions: 402\n",
      "\t Items: 2632\n",
      "\t First Time : 2002-01-01\n",
      "\t Last Time : 2002-12-29\n",
      "\n",
      "* valid Set Stats Info\n",
      "\t Events: 3474\n",
      "\t Sessions: 82\n",
      "\t Items: 1510\n",
      "\t First Time : 2002-01-01\n",
      "\t Last Time : 2003-01-29\n",
      "\n",
      "* test Set Stats Info\n",
      "\t Events: 8533\n",
      "\t Sessions: 103\n",
      "\t Items: 2259\n",
      "\t First Time : 2002-01-01\n",
      "\t Last Time : 2003-03-01\n",
      "\n"
     ]
    }
   ],
   "source": [
    "stats_info(tr, 'train')\n",
    "stats_info(val, 'valid')\n",
    "stats_info(test, 'test')"
   ]
  },
  {
   "cell_type": "code",
   "execution_count": 55,
   "id": "adult-filename",
   "metadata": {},
   "outputs": [
    {
     "data": {
      "text/plain": [
       "27436"
      ]
     },
     "execution_count": 55,
     "metadata": {},
     "output_type": "execute_result"
    }
   ],
   "source": [
    "len(df)"
   ]
  },
  {
   "cell_type": "code",
   "execution_count": 38,
   "id": "apparent-colleague",
   "metadata": {},
   "outputs": [],
   "source": [
    "# train set에 없는 아이템이 val, test기간에 생길 수 있으므로 train data를 기준으로 인덱싱합니다.\n",
    "id2idx = {item_id : index for index, item_id in enumerate(tr['ItemId'].unique())}\n",
    "\n",
    "def indexing(df, id2idx):\n",
    "    df['item_idx'] = df['ItemId'].map(lambda x: id2idx.get(x, -1))  # id2idx에 없는 아이템은 모르는 값(-1) 처리 해줍니다.\n",
    "    return df\n",
    "\n",
    "tr = indexing(tr, id2idx)\n",
    "val = indexing(val, id2idx)\n",
    "test = indexing(test, id2idx)"
   ]
  },
  {
   "cell_type": "code",
   "execution_count": 39,
   "id": "seven-allocation",
   "metadata": {},
   "outputs": [
    {
     "name": "stdout",
     "output_type": "stream",
     "text": [
      "* train Set Stats Info\n",
      "\t Events: 14888\n",
      "\t Sessions: 402\n",
      "\t Items: 2632\n",
      "\t First Time : 2002-01-01\n",
      "\t Last Time : 2002-12-29\n",
      "\n",
      "* valid Set Stats Info\n",
      "\t Events: 3474\n",
      "\t Sessions: 82\n",
      "\t Items: 1510\n",
      "\t First Time : 2002-01-01\n",
      "\t Last Time : 2003-01-29\n",
      "\n",
      "* test Set Stats Info\n",
      "\t Events: 8533\n",
      "\t Sessions: 103\n",
      "\t Items: 2259\n",
      "\t First Time : 2002-01-01\n",
      "\t Last Time : 2003-03-01\n",
      "\n"
     ]
    }
   ],
   "source": [
    "stats_info(tr, 'train')\n",
    "stats_info(val, 'valid')\n",
    "stats_info(test, 'test')"
   ]
  },
  {
   "cell_type": "code",
   "execution_count": 57,
   "id": "occupational-visibility",
   "metadata": {},
   "outputs": [
    {
     "data": {
      "text/plain": [
       "datetime.timedelta(days=12081, seconds=64190)"
      ]
     },
     "execution_count": 57,
     "metadata": {},
     "output_type": "execute_result"
    }
   ],
   "source": [
    "# from datetime import timedelta\n",
    "# # Default: days\n",
    "# timedelta(seconds = latest)-timedelta(days = 30)"
   ]
  },
  {
   "cell_type": "markdown",
   "id": "ongoing-leather",
   "metadata": {},
   "source": [
    "### Step 2. 미니 배치의 구성\n",
    "실습코드 내역을 참고하여 데이터셋과 미니 배치를 구성해 봅시다. Session-Parallel Mini-Batch의 개념에 따라, 학습 속도의 저하가 최소화될 수 있도록 구성합니다.\n",
    "단, 위 Step 1에서 Session 단위를 어떻게 정의했느냐에 따라서 Session-Parallel Mini-Batch이 굳이 필요하지 않을 수도 있습니다."
   ]
  },
  {
   "cell_type": "code",
   "execution_count": 41,
   "id": "ordinary-refrigerator",
   "metadata": {},
   "outputs": [],
   "source": [
    "class SessionDataset:\n",
    "    \"\"\"Credit to yhs-968/pyGRU4REC.\"\"\"\n",
    "\n",
    "    def __init__(self, data):\n",
    "        self.df = data\n",
    "        self.click_offsets = self.get_click_offsets()\n",
    "        self.session_idx = np.arange(self.df['UserId'].nunique())  # indexing to SessionId\n",
    "\n",
    "    def get_click_offsets(self):\n",
    "        \"\"\"\n",
    "        Return the indexes of the first click of each session IDs,\n",
    "        \"\"\"\n",
    "        offsets = np.zeros(self.df['UserId'].nunique() + 1, dtype=np.int32)\n",
    "        offsets[1:] = self.df.groupby('UserId').size().cumsum()\n",
    "        return offsets"
   ]
  },
  {
   "cell_type": "code",
   "execution_count": 42,
   "id": "wound-winner",
   "metadata": {
    "scrolled": true
   },
   "outputs": [
    {
     "data": {
      "text/html": [
       "<div>\n",
       "<style scoped>\n",
       "    .dataframe tbody tr th:only-of-type {\n",
       "        vertical-align: middle;\n",
       "    }\n",
       "\n",
       "    .dataframe tbody tr th {\n",
       "        vertical-align: top;\n",
       "    }\n",
       "\n",
       "    .dataframe thead th {\n",
       "        text-align: right;\n",
       "    }\n",
       "</style>\n",
       "<table border=\"1\" class=\"dataframe\">\n",
       "  <thead>\n",
       "    <tr style=\"text-align: right;\">\n",
       "      <th></th>\n",
       "      <th>UserId</th>\n",
       "      <th>ItemId</th>\n",
       "      <th>Rating</th>\n",
       "      <th>Time</th>\n",
       "      <th>newTime</th>\n",
       "      <th>item_idx</th>\n",
       "    </tr>\n",
       "  </thead>\n",
       "  <tbody>\n",
       "    <tr>\n",
       "      <th>5125</th>\n",
       "      <td>36</td>\n",
       "      <td>1292</td>\n",
       "      <td>5</td>\n",
       "      <td>1012707635</td>\n",
       "      <td>2002-02-03</td>\n",
       "      <td>0</td>\n",
       "    </tr>\n",
       "    <tr>\n",
       "      <th>5053</th>\n",
       "      <td>36</td>\n",
       "      <td>7</td>\n",
       "      <td>4</td>\n",
       "      <td>1012707697</td>\n",
       "      <td>2002-02-03</td>\n",
       "      <td>1</td>\n",
       "    </tr>\n",
       "    <tr>\n",
       "      <th>5170</th>\n",
       "      <td>36</td>\n",
       "      <td>1387</td>\n",
       "      <td>5</td>\n",
       "      <td>1015904819</td>\n",
       "      <td>2002-03-12</td>\n",
       "      <td>2</td>\n",
       "    </tr>\n",
       "    <tr>\n",
       "      <th>5267</th>\n",
       "      <td>36</td>\n",
       "      <td>1201</td>\n",
       "      <td>4</td>\n",
       "      <td>1015904819</td>\n",
       "      <td>2002-03-12</td>\n",
       "      <td>3</td>\n",
       "    </tr>\n",
       "    <tr>\n",
       "      <th>5122</th>\n",
       "      <td>36</td>\n",
       "      <td>1291</td>\n",
       "      <td>5</td>\n",
       "      <td>1015904836</td>\n",
       "      <td>2002-03-12</td>\n",
       "      <td>4</td>\n",
       "    </tr>\n",
       "    <tr>\n",
       "      <th>5123</th>\n",
       "      <td>36</td>\n",
       "      <td>2167</td>\n",
       "      <td>5</td>\n",
       "      <td>1015904905</td>\n",
       "      <td>2002-03-12</td>\n",
       "      <td>5</td>\n",
       "    </tr>\n",
       "    <tr>\n",
       "      <th>5290</th>\n",
       "      <td>36</td>\n",
       "      <td>2951</td>\n",
       "      <td>4</td>\n",
       "      <td>1015904905</td>\n",
       "      <td>2002-03-12</td>\n",
       "      <td>6</td>\n",
       "    </tr>\n",
       "    <tr>\n",
       "      <th>5359</th>\n",
       "      <td>36</td>\n",
       "      <td>2115</td>\n",
       "      <td>5</td>\n",
       "      <td>1015904905</td>\n",
       "      <td>2002-03-12</td>\n",
       "      <td>7</td>\n",
       "    </tr>\n",
       "    <tr>\n",
       "      <th>5073</th>\n",
       "      <td>36</td>\n",
       "      <td>1912</td>\n",
       "      <td>5</td>\n",
       "      <td>1015904924</td>\n",
       "      <td>2002-03-12</td>\n",
       "      <td>8</td>\n",
       "    </tr>\n",
       "    <tr>\n",
       "      <th>5113</th>\n",
       "      <td>36</td>\n",
       "      <td>2662</td>\n",
       "      <td>3</td>\n",
       "      <td>1015904924</td>\n",
       "      <td>2002-03-12</td>\n",
       "      <td>9</td>\n",
       "    </tr>\n",
       "  </tbody>\n",
       "</table>\n",
       "</div>"
      ],
      "text/plain": [
       "      UserId  ItemId  Rating        Time     newTime  item_idx\n",
       "5125      36    1292       5  1012707635  2002-02-03         0\n",
       "5053      36       7       4  1012707697  2002-02-03         1\n",
       "5170      36    1387       5  1015904819  2002-03-12         2\n",
       "5267      36    1201       4  1015904819  2002-03-12         3\n",
       "5122      36    1291       5  1015904836  2002-03-12         4\n",
       "5123      36    2167       5  1015904905  2002-03-12         5\n",
       "5290      36    2951       4  1015904905  2002-03-12         6\n",
       "5359      36    2115       5  1015904905  2002-03-12         7\n",
       "5073      36    1912       5  1015904924  2002-03-12         8\n",
       "5113      36    2662       3  1015904924  2002-03-12         9"
      ]
     },
     "execution_count": 42,
     "metadata": {},
     "output_type": "execute_result"
    }
   ],
   "source": [
    "tr_dataset = SessionDataset(tr)\n",
    "tr_dataset.df.head(10)"
   ]
  },
  {
   "cell_type": "markdown",
   "id": "younger-marshall",
   "metadata": {},
   "source": [
    "### SessionDataLoader"
   ]
  },
  {
   "cell_type": "markdown",
   "id": "domestic-politics",
   "metadata": {},
   "source": [
    "SessionDataset 객체를 받아서 Session-Parallel mini-batch를 만드는 클래스\n",
    "* __iter__ 메소드는 모델 인풋, 라벨, 세션이 끝나는 곳의 위치를 yield\n",
    "* mask는 후에 RNN Cell State를 초기화"
   ]
  },
  {
   "cell_type": "code",
   "execution_count": 43,
   "id": "recorded-slovakia",
   "metadata": {},
   "outputs": [],
   "source": [
    "class SessionDataLoader:\n",
    "    \"\"\"Credit to yhs-968/pyGRU4REC.\"\"\"\n",
    "\n",
    "    def __init__(self, dataset: SessionDataset, batch_size=50):\n",
    "        self.dataset = dataset\n",
    "        self.batch_size = batch_size\n",
    "\n",
    "    def __iter__(self):\n",
    "        \"\"\" Returns the iterator for producing session-parallel training mini-batches.\n",
    "        Yields:\n",
    "            input (B,):  Item indices that will be encoded as one-hot vectors later.\n",
    "            target (B,): a Variable that stores the target item indices\n",
    "            masks: Numpy array indicating the positions of the sessions to be terminated\n",
    "        \"\"\"\n",
    "\n",
    "        start, end, mask, last_session, finished = self.initialize()  # initialize 메소드에서 확인해주세요.\n",
    "        \"\"\"\n",
    "        start : Index Where Session Start\n",
    "        end : Index Where Session End\n",
    "        mask : indicator for the sessions to be terminated\n",
    "        \"\"\"\n",
    "\n",
    "        while not finished:\n",
    "            min_len = (end - start).min() - 1  # Shortest Length Among Sessions\n",
    "            for i in range(min_len):\n",
    "                # Build inputs & targets\n",
    "                inp = self.dataset.df['item_idx'].values[start + i]\n",
    "                target = self.dataset.df['item_idx'].values[start + i + 1]\n",
    "                yield inp, target, mask\n",
    "\n",
    "            start, end, mask, last_session, finished = self.update_status(start, end, min_len, last_session, finished)\n",
    "\n",
    "    def initialize(self):\n",
    "        first_iters = np.arange(self.batch_size)    # 첫 배치에 사용할 세션 Index를 가져옵니다.\n",
    "        last_session = self.batch_size - 1    # 마지막으로 다루고 있는 세션 Index를 저장해둡니다.\n",
    "        start = self.dataset.click_offsets[self.dataset.session_idx[first_iters]]       # data 상에서 session이 시작된 위치를 가져옵니다.\n",
    "        end = self.dataset.click_offsets[self.dataset.session_idx[first_iters] + 1]  # session이 끝난 위치 바로 다음 위치를 가져옵니다.\n",
    "        mask = np.array([])   # session의 모든 아이템을 다 돌은 경우 mask에 추가해줄 것입니다.\n",
    "        finished = False         # data를 전부 돌았는지 기록하기 위한 변수입니다.\n",
    "        return start, end, mask, last_session, finished\n",
    "\n",
    "    def update_status(self, start: np.ndarray, end: np.ndarray, min_len: int, last_session: int, finished: bool):  \n",
    "        # 다음 배치 데이터를 생성하기 위해 상태를 update합니다.\n",
    "        \n",
    "        start += min_len   # __iter__에서 min_len 만큼 for문을 돌았으므로 start를 min_len 만큼 더해줍니다.\n",
    "        mask = np.arange(self.batch_size)[(end - start) == 1]  \n",
    "        # end는 다음 세션이 시작되는 위치인데 start와 한 칸 차이난다는 것은 session이 끝났다는 뜻입니다. mask에 기록해줍니다.\n",
    "\n",
    "        for i, idx in enumerate(mask, start=1):  # mask에 추가된 세션 개수만큼 새로운 세션을 돌것입니다.\n",
    "            new_session = last_session + i  \n",
    "            if new_session > self.dataset.session_idx[-1]:  # 만약 새로운 세션이 마지막 세션 index보다 크다면 모든 학습데이터를 돈 것입니다.\n",
    "                finished = True\n",
    "                break\n",
    "            # update the next starting/ending point\n",
    "            start[idx] = self.dataset.click_offsets[self.dataset.session_idx[new_session]]     # 종료된 세션 대신 새로운 세션의 시작점을 기록합니다.\n",
    "            end[idx] = self.dataset.click_offsets[self.dataset.session_idx[new_session] + 1]\n",
    "\n",
    "        last_session += len(mask)  # 마지막 세션의 위치를 기록해둡니다.\n",
    "        return start, end, mask, last_session, finished"
   ]
  },
  {
   "cell_type": "code",
   "execution_count": null,
   "id": "professional-affect",
   "metadata": {},
   "outputs": [],
   "source": []
  },
  {
   "cell_type": "code",
   "execution_count": 44,
   "id": "dental-seating",
   "metadata": {},
   "outputs": [
    {
     "data": {
      "text/html": [
       "<div>\n",
       "<style scoped>\n",
       "    .dataframe tbody tr th:only-of-type {\n",
       "        vertical-align: middle;\n",
       "    }\n",
       "\n",
       "    .dataframe tbody tr th {\n",
       "        vertical-align: top;\n",
       "    }\n",
       "\n",
       "    .dataframe thead th {\n",
       "        text-align: right;\n",
       "    }\n",
       "</style>\n",
       "<table border=\"1\" class=\"dataframe\">\n",
       "  <thead>\n",
       "    <tr style=\"text-align: right;\">\n",
       "      <th></th>\n",
       "      <th>UserId</th>\n",
       "      <th>ItemId</th>\n",
       "      <th>Rating</th>\n",
       "      <th>Time</th>\n",
       "      <th>newTime</th>\n",
       "      <th>item_idx</th>\n",
       "    </tr>\n",
       "  </thead>\n",
       "  <tbody>\n",
       "    <tr>\n",
       "      <th>5125</th>\n",
       "      <td>36</td>\n",
       "      <td>1292</td>\n",
       "      <td>5</td>\n",
       "      <td>1012707635</td>\n",
       "      <td>2002-02-03</td>\n",
       "      <td>0</td>\n",
       "    </tr>\n",
       "    <tr>\n",
       "      <th>5053</th>\n",
       "      <td>36</td>\n",
       "      <td>7</td>\n",
       "      <td>4</td>\n",
       "      <td>1012707697</td>\n",
       "      <td>2002-02-03</td>\n",
       "      <td>1</td>\n",
       "    </tr>\n",
       "    <tr>\n",
       "      <th>5170</th>\n",
       "      <td>36</td>\n",
       "      <td>1387</td>\n",
       "      <td>5</td>\n",
       "      <td>1015904819</td>\n",
       "      <td>2002-03-12</td>\n",
       "      <td>2</td>\n",
       "    </tr>\n",
       "    <tr>\n",
       "      <th>5267</th>\n",
       "      <td>36</td>\n",
       "      <td>1201</td>\n",
       "      <td>4</td>\n",
       "      <td>1015904819</td>\n",
       "      <td>2002-03-12</td>\n",
       "      <td>3</td>\n",
       "    </tr>\n",
       "    <tr>\n",
       "      <th>5122</th>\n",
       "      <td>36</td>\n",
       "      <td>1291</td>\n",
       "      <td>5</td>\n",
       "      <td>1015904836</td>\n",
       "      <td>2002-03-12</td>\n",
       "      <td>4</td>\n",
       "    </tr>\n",
       "    <tr>\n",
       "      <th>5123</th>\n",
       "      <td>36</td>\n",
       "      <td>2167</td>\n",
       "      <td>5</td>\n",
       "      <td>1015904905</td>\n",
       "      <td>2002-03-12</td>\n",
       "      <td>5</td>\n",
       "    </tr>\n",
       "    <tr>\n",
       "      <th>5290</th>\n",
       "      <td>36</td>\n",
       "      <td>2951</td>\n",
       "      <td>4</td>\n",
       "      <td>1015904905</td>\n",
       "      <td>2002-03-12</td>\n",
       "      <td>6</td>\n",
       "    </tr>\n",
       "    <tr>\n",
       "      <th>5359</th>\n",
       "      <td>36</td>\n",
       "      <td>2115</td>\n",
       "      <td>5</td>\n",
       "      <td>1015904905</td>\n",
       "      <td>2002-03-12</td>\n",
       "      <td>7</td>\n",
       "    </tr>\n",
       "    <tr>\n",
       "      <th>5073</th>\n",
       "      <td>36</td>\n",
       "      <td>1912</td>\n",
       "      <td>5</td>\n",
       "      <td>1015904924</td>\n",
       "      <td>2002-03-12</td>\n",
       "      <td>8</td>\n",
       "    </tr>\n",
       "    <tr>\n",
       "      <th>5113</th>\n",
       "      <td>36</td>\n",
       "      <td>2662</td>\n",
       "      <td>3</td>\n",
       "      <td>1015904924</td>\n",
       "      <td>2002-03-12</td>\n",
       "      <td>9</td>\n",
       "    </tr>\n",
       "    <tr>\n",
       "      <th>5366</th>\n",
       "      <td>36</td>\n",
       "      <td>2985</td>\n",
       "      <td>4</td>\n",
       "      <td>1015904941</td>\n",
       "      <td>2002-03-12</td>\n",
       "      <td>10</td>\n",
       "    </tr>\n",
       "    <tr>\n",
       "      <th>5305</th>\n",
       "      <td>36</td>\n",
       "      <td>2527</td>\n",
       "      <td>3</td>\n",
       "      <td>1015904957</td>\n",
       "      <td>2002-03-12</td>\n",
       "      <td>11</td>\n",
       "    </tr>\n",
       "    <tr>\n",
       "      <th>5145</th>\n",
       "      <td>36</td>\n",
       "      <td>198</td>\n",
       "      <td>5</td>\n",
       "      <td>1015904988</td>\n",
       "      <td>2002-03-12</td>\n",
       "      <td>12</td>\n",
       "    </tr>\n",
       "    <tr>\n",
       "      <th>5296</th>\n",
       "      <td>36</td>\n",
       "      <td>1147</td>\n",
       "      <td>4</td>\n",
       "      <td>1015905111</td>\n",
       "      <td>2002-03-12</td>\n",
       "      <td>13</td>\n",
       "    </tr>\n",
       "    <tr>\n",
       "      <th>5034</th>\n",
       "      <td>36</td>\n",
       "      <td>581</td>\n",
       "      <td>4</td>\n",
       "      <td>1015905127</td>\n",
       "      <td>2002-03-12</td>\n",
       "      <td>14</td>\n",
       "    </tr>\n",
       "  </tbody>\n",
       "</table>\n",
       "</div>"
      ],
      "text/plain": [
       "      UserId  ItemId  Rating        Time     newTime  item_idx\n",
       "5125      36    1292       5  1012707635  2002-02-03         0\n",
       "5053      36       7       4  1012707697  2002-02-03         1\n",
       "5170      36    1387       5  1015904819  2002-03-12         2\n",
       "5267      36    1201       4  1015904819  2002-03-12         3\n",
       "5122      36    1291       5  1015904836  2002-03-12         4\n",
       "5123      36    2167       5  1015904905  2002-03-12         5\n",
       "5290      36    2951       4  1015904905  2002-03-12         6\n",
       "5359      36    2115       5  1015904905  2002-03-12         7\n",
       "5073      36    1912       5  1015904924  2002-03-12         8\n",
       "5113      36    2662       3  1015904924  2002-03-12         9\n",
       "5366      36    2985       4  1015904941  2002-03-12        10\n",
       "5305      36    2527       3  1015904957  2002-03-12        11\n",
       "5145      36     198       5  1015904988  2002-03-12        12\n",
       "5296      36    1147       4  1015905111  2002-03-12        13\n",
       "5034      36     581       4  1015905127  2002-03-12        14"
      ]
     },
     "execution_count": 44,
     "metadata": {},
     "output_type": "execute_result"
    }
   ],
   "source": [
    "tr_data_loader = SessionDataLoader(tr_dataset, batch_size=4)\n",
    "tr_dataset.df.head(15)"
   ]
  },
  {
   "cell_type": "code",
   "execution_count": 45,
   "id": "abandoned-eagle",
   "metadata": {},
   "outputs": [
    {
     "data": {
      "text/plain": [
       "<generator object SessionDataLoader.__iter__ at 0x7f647963bf50>"
      ]
     },
     "execution_count": 45,
     "metadata": {},
     "output_type": "execute_result"
    }
   ],
   "source": [
    "iter_ex = iter(tr_data_loader)\n",
    "iter_ex"
   ]
  },
  {
   "cell_type": "code",
   "execution_count": 46,
   "id": "integral-future",
   "metadata": {},
   "outputs": [
    {
     "name": "stdout",
     "output_type": "stream",
     "text": [
      "Model Input Item Idx are : [ 0 36 52 67]\n",
      "Label Item Idx are :       [ 1 37 53 68]\n",
      "Previous Masked Input Idx are []\n"
     ]
    }
   ],
   "source": [
    "inputs, labels, mask =  next(iter_ex)\n",
    "print(f'Model Input Item Idx are : {inputs}')\n",
    "print(f'Label Item Idx are : {\"\":5} {labels}')\n",
    "print(f'Previous Masked Input Idx are {mask}')"
   ]
  },
  {
   "cell_type": "code",
   "execution_count": null,
   "id": "relative-slovak",
   "metadata": {},
   "outputs": [],
   "source": []
  },
  {
   "cell_type": "markdown",
   "id": "entertaining-ballot",
   "metadata": {},
   "source": [
    "### Step 3. 모델 구성\n",
    "이 부분도 실습코드 내역을 참고하여 다양하게 모델 구조를 시도해볼 수 있습니다.\n",
    "* 이번 자료에서는 MRR과 Recall@k를 사용하겠습니다. MRR은 정답 아이템이 나온 순번의 역수 값입니다.\n",
    "* 따라서 정답 아이템이 추천 결과 앞쪽 순번에 나온다면 지표가 높아질 것이고 뒤쪽에 나오거나 안나온다면 지표가 낮아질 것입니다."
   ]
  },
  {
   "cell_type": "markdown",
   "id": "cosmetic-beast",
   "metadata": {},
   "source": [
    "### 3.1 Evaluation Metric\n",
    "* 모델 성능에 대한 지표로 precision이나 recall이 있음\n",
    "  * Session-Based Recommendation Task에서는 모델이 k개의 아이템을 제시했을 때, 유저가 클릭/ 구매한 n개의 아이템이 많아야 좋습니다.\n",
    "  * 이 때문에 recall의 개념을 확장한 recall@k 지표, precision의 개념을 확장한 Mean Average Precision@k 지표 등을 사용합니다.\n",
    "\n",
    "* 순서에 민감한 지표인 MRR, NDCG 같은 지표도 사용\n",
    "  * 추천에서는 몇 번째로 맞추느냐도 중요합니다. 구글에서 검색했을 때 1페이지에 원하는 결과가 나오지 않고 2페이지에 나온다면 유저 반응이 크게 떨어질 것입니다."
   ]
  },
  {
   "cell_type": "code",
   "execution_count": 47,
   "id": "random-martin",
   "metadata": {},
   "outputs": [],
   "source": [
    "def mrr_k(pred, truth: int, k: int):\n",
    "    indexing = np.where(pred[:k] == truth)[0]\n",
    "    if len(indexing) > 0:\n",
    "        return 1 / (indexing[0] + 1)\n",
    "    else:\n",
    "        return 0\n",
    "\n",
    "\n",
    "def recall_k(pred, truth: int, k: int) -> int:\n",
    "    answer = truth in pred[:k]\n",
    "    return int(answer)"
   ]
  },
  {
   "cell_type": "code",
   "execution_count": null,
   "id": "continuing-detective",
   "metadata": {},
   "outputs": [],
   "source": []
  },
  {
   "cell_type": "markdown",
   "id": "empirical-liverpool",
   "metadata": {},
   "source": [
    "### 3.2 Model Architecture\n",
    "\n",
    "* 모델 구조가 간단한 편이므로 Functional하게 모델 구현\n",
    "* 학습 진행률을 모니터링하기 위해 사용하는 tqdm 라이브러리 설치\n",
    "  * pip install tqdm"
   ]
  },
  {
   "cell_type": "code",
   "execution_count": 48,
   "id": "incoming-eagle",
   "metadata": {},
   "outputs": [],
   "source": [
    "import numpy as np\n",
    "import tensorflow as tf\n",
    "from tensorflow.keras.layers import Input, Dense, Dropout, GRU\n",
    "from tensorflow.keras.losses import categorical_crossentropy\n",
    "from tensorflow.keras.models import Model\n",
    "from tensorflow.keras.optimizers import Adam\n",
    "from tensorflow.keras.utils import to_categorical\n",
    "from tqdm import tqdm"
   ]
  },
  {
   "cell_type": "code",
   "execution_count": 49,
   "id": "executed-appearance",
   "metadata": {},
   "outputs": [],
   "source": [
    "def create_model(args):\n",
    "    inputs = Input(batch_shape=(args.batch_size, 1, args.num_items))\n",
    "    gru, _ = GRU(args.hsz, stateful=True, return_state=True, name='GRU')(inputs)\n",
    "    dropout = Dropout(args.drop_rate)(gru)\n",
    "    predictions = Dense(args.num_items, activation='softmax')(dropout)\n",
    "    model = Model(inputs=inputs, outputs=[predictions])\n",
    "    model.compile(loss=categorical_crossentropy, optimizer=Adam(args.lr), metrics=['accuracy'])\n",
    "    model.summary()\n",
    "    return model"
   ]
  },
  {
   "cell_type": "markdown",
   "id": "designing-nirvana",
   "metadata": {},
   "source": [
    "모델에 사용할 hyper-parameter를 class형식으로 관리"
   ]
  },
  {
   "cell_type": "code",
   "execution_count": 50,
   "id": "consistent-contractor",
   "metadata": {},
   "outputs": [],
   "source": [
    "class Args:\n",
    "    def __init__(self, tr, val, test, batch_size, hsz, drop_rate, lr, epochs, k):\n",
    "        self.tr = tr\n",
    "        self.val = val\n",
    "        self.test = test\n",
    "        self.num_items = tr['ItemId'].nunique()\n",
    "        self.num_sessions = tr['UserId'].nunique()\n",
    "        self.batch_size = batch_size\n",
    "        self.hsz = hsz\n",
    "        self.drop_rate = drop_rate\n",
    "        self.lr = lr\n",
    "        self.epochs = epochs\n",
    "        self.k = k\n",
    "\n",
    "args = Args(tr, val, test, batch_size=64, hsz=50, drop_rate=0.2, lr=0.001, epochs=20, k=20)"
   ]
  },
  {
   "cell_type": "code",
   "execution_count": 51,
   "id": "decreased-differential",
   "metadata": {},
   "outputs": [
    {
     "name": "stdout",
     "output_type": "stream",
     "text": [
      "Model: \"model\"\n",
      "_________________________________________________________________\n",
      "Layer (type)                 Output Shape              Param #   \n",
      "=================================================================\n",
      "input_1 (InputLayer)         [(64, 1, 2632)]           0         \n",
      "_________________________________________________________________\n",
      "GRU (GRU)                    [(64, 50), (64, 50)]      402600    \n",
      "_________________________________________________________________\n",
      "dropout (Dropout)            (64, 50)                  0         \n",
      "_________________________________________________________________\n",
      "dense (Dense)                (64, 2632)                134232    \n",
      "=================================================================\n",
      "Total params: 536,832\n",
      "Trainable params: 536,832\n",
      "Non-trainable params: 0\n",
      "_________________________________________________________________\n"
     ]
    }
   ],
   "source": [
    "model = create_model(args)"
   ]
  },
  {
   "cell_type": "markdown",
   "id": "virtual-accused",
   "metadata": {},
   "source": [
    "### 5.3 Model Training\n",
    "지금까지 준비한 데이터셋과 모델을 통해 학습을 진행\n",
    "\n",
    "배치 사이즈나 epoch 등의 설정은 위의 args에서 관리"
   ]
  },
  {
   "cell_type": "code",
   "execution_count": 52,
   "id": "authorized-annex",
   "metadata": {},
   "outputs": [],
   "source": [
    "# train 셋으로 학습하면서 valid 셋으로 검증합니다.\n",
    "def train_model(model, args):\n",
    "    train_dataset = SessionDataset(args.tr)\n",
    "    train_loader = SessionDataLoader(train_dataset, batch_size=args.batch_size)\n",
    "\n",
    "    for epoch in range(1, args.epochs + 1):\n",
    "        total_step = len(args.tr) - args.tr['UserId'].nunique()\n",
    "        tr_loader = tqdm(train_loader, total=total_step // args.batch_size, desc='Train', mininterval=1)\n",
    "        for feat, target, mask in tr_loader:\n",
    "            reset_hidden_states(model, mask)  # 종료된 session은 hidden_state를 초기화합니다. 아래 메서드에서 확인해주세요.\n",
    "\n",
    "            input_ohe = to_categorical(feat, num_classes=args.num_items)\n",
    "            input_ohe = np.expand_dims(input_ohe, axis=1)\n",
    "            target_ohe = to_categorical(target, num_classes=args.num_items)\n",
    "\n",
    "            result = model.train_on_batch(input_ohe, target_ohe)\n",
    "            tr_loader.set_postfix(train_loss=result[0], accuracy = result[1])\n",
    "\n",
    "        val_recall, val_mrr = get_metrics(args.val, model, args, args.k)  # valid set에 대해 검증합니다.\n",
    "\n",
    "        print(f\"\\t - Recall@{args.k} epoch {epoch}: {val_recall:3f}\")\n",
    "        print(f\"\\t - MRR@{args.k}    epoch {epoch}: {val_mrr:3f}\\n\")\n",
    "\n",
    "\n",
    "def reset_hidden_states(model, mask):\n",
    "    gru_layer = model.get_layer(name='GRU')  # model에서 gru layer를 가져옵니다.\n",
    "    hidden_states = gru_layer.states[0].numpy()  # gru_layer의 parameter를 가져옵니다.\n",
    "    for elt in mask:  # mask된 인덱스 즉, 종료된 세션의 인덱스를 돌면서\n",
    "        hidden_states[elt, :] = 0  # parameter를 초기화 합니다.\n",
    "    gru_layer.reset_states(states=hidden_states)\n",
    "\n",
    "\n",
    "def get_metrics(data, model, args, k: int):  # valid셋과 test셋을 평가하는 코드입니다. \n",
    "                                             # train과 거의 같지만 mrr, recall을 구하는 라인이 있습니다.\n",
    "    dataset = SessionDataset(data)\n",
    "    loader = SessionDataLoader(dataset, batch_size=args.batch_size)\n",
    "    recall_list, mrr_list = [], []\n",
    "\n",
    "    total_step = len(data) - data['UserId'].nunique()\n",
    "    for inputs, label, mask in tqdm(loader, total=total_step // args.batch_size, desc='Evaluation', mininterval=1):\n",
    "        reset_hidden_states(model, mask)\n",
    "        input_ohe = to_categorical(inputs, num_classes=args.num_items)\n",
    "        input_ohe = np.expand_dims(input_ohe, axis=1)\n",
    "\n",
    "        pred = model.predict(input_ohe, batch_size=args.batch_size)\n",
    "        pred_arg = tf.argsort(pred, direction='DESCENDING')  # softmax 값이 큰 순서대로 sorting 합니다.\n",
    "\n",
    "        length = len(inputs)\n",
    "        recall_list.extend([recall_k(pred_arg[i], label[i], k) for i in range(length)])\n",
    "        mrr_list.extend([mrr_k(pred_arg[i], label[i], k) for i in range(length)])\n",
    "\n",
    "    recall, mrr = np.mean(recall_list), np.mean(mrr_list)\n",
    "    return recall, mrr"
   ]
  },
  {
   "cell_type": "markdown",
   "id": "lesbian-comment",
   "metadata": {},
   "source": [
    "### Step 4. 모델 학습\n",
    "다양한 하이퍼파라미터를 변경해 보며 검증해 보도록 합니다. 실습코드에 언급되었던 Recall, MRR 등의 개념들도 함께 관리될 수 있도록 합니다."
   ]
  },
  {
   "cell_type": "code",
   "execution_count": 53,
   "id": "familiar-amino",
   "metadata": {},
   "outputs": [
    {
     "name": "stderr",
     "output_type": "stream",
     "text": [
      "Train:  75%|███████▍  | 169/226 [00:03<00:01, 48.80it/s, accuracy=0, train_loss=7.57]     \n",
      "Evaluation:  26%|██▋       | 14/53 [00:04<00:11,  3.49it/s]\n",
      "Train:   0%|          | 0/226 [00:00<?, ?it/s, accuracy=0, train_loss=7.24]     "
     ]
    },
    {
     "name": "stdout",
     "output_type": "stream",
     "text": [
      "\t - Recall@20 epoch 1: 0.071429\n",
      "\t - MRR@20    epoch 1: 0.017605\n",
      "\n"
     ]
    },
    {
     "name": "stderr",
     "output_type": "stream",
     "text": [
      "Train:  75%|███████▍  | 169/226 [00:01<00:00, 114.07it/s, accuracy=0, train_loss=7.49]     \n",
      "Evaluation:  26%|██▋       | 14/53 [00:03<00:10,  3.81it/s]\n",
      "Train:   0%|          | 0/226 [00:00<?, ?it/s, accuracy=0, train_loss=7.18]     "
     ]
    },
    {
     "name": "stdout",
     "output_type": "stream",
     "text": [
      "\t - Recall@20 epoch 2: 0.066964\n",
      "\t - MRR@20    epoch 2: 0.011928\n",
      "\n"
     ]
    },
    {
     "name": "stderr",
     "output_type": "stream",
     "text": [
      "Train:  75%|███████▍  | 169/226 [00:01<00:00, 114.61it/s, accuracy=0, train_loss=7.42]     \n",
      "Evaluation:  26%|██▋       | 14/53 [00:03<00:10,  3.81it/s]\n",
      "Train:   0%|          | 0/226 [00:00<?, ?it/s, accuracy=0, train_loss=7.15]     "
     ]
    },
    {
     "name": "stdout",
     "output_type": "stream",
     "text": [
      "\t - Recall@20 epoch 3: 0.069196\n",
      "\t - MRR@20    epoch 3: 0.013595\n",
      "\n"
     ]
    },
    {
     "name": "stderr",
     "output_type": "stream",
     "text": [
      "Train:  75%|███████▍  | 169/226 [00:01<00:00, 116.18it/s, accuracy=0, train_loss=7.39]     \n",
      "Evaluation:  26%|██▋       | 14/53 [00:03<00:10,  3.76it/s]\n",
      "Train:   0%|          | 0/226 [00:00<?, ?it/s, accuracy=0, train_loss=7.17]     "
     ]
    },
    {
     "name": "stdout",
     "output_type": "stream",
     "text": [
      "\t - Recall@20 epoch 4: 0.070312\n",
      "\t - MRR@20    epoch 4: 0.014294\n",
      "\n"
     ]
    },
    {
     "name": "stderr",
     "output_type": "stream",
     "text": [
      "Train:  75%|███████▍  | 169/226 [00:01<00:00, 115.33it/s, accuracy=0, train_loss=7.33]     \n",
      "Evaluation:  26%|██▋       | 14/53 [00:03<00:10,  3.74it/s]\n",
      "Train:   0%|          | 0/226 [00:00<?, ?it/s, accuracy=0, train_loss=7.08]     "
     ]
    },
    {
     "name": "stdout",
     "output_type": "stream",
     "text": [
      "\t - Recall@20 epoch 5: 0.068080\n",
      "\t - MRR@20    epoch 5: 0.014447\n",
      "\n"
     ]
    },
    {
     "name": "stderr",
     "output_type": "stream",
     "text": [
      "Train:  75%|███████▍  | 169/226 [00:01<00:00, 114.11it/s, accuracy=0, train_loss=7.32]     \n",
      "Evaluation:  26%|██▋       | 14/53 [00:03<00:10,  3.75it/s]\n",
      "Train:   0%|          | 0/226 [00:00<?, ?it/s, accuracy=0, train_loss=7.12]     "
     ]
    },
    {
     "name": "stdout",
     "output_type": "stream",
     "text": [
      "\t - Recall@20 epoch 6: 0.071429\n",
      "\t - MRR@20    epoch 6: 0.014225\n",
      "\n"
     ]
    },
    {
     "name": "stderr",
     "output_type": "stream",
     "text": [
      "Train:  75%|███████▍  | 169/226 [00:01<00:00, 114.58it/s, accuracy=0.0156, train_loss=7.24]\n",
      "Evaluation:  26%|██▋       | 14/53 [00:03<00:10,  3.71it/s]\n",
      "Train:   0%|          | 0/226 [00:00<?, ?it/s, accuracy=0, train_loss=7.03]     "
     ]
    },
    {
     "name": "stdout",
     "output_type": "stream",
     "text": [
      "\t - Recall@20 epoch 7: 0.062500\n",
      "\t - MRR@20    epoch 7: 0.012873\n",
      "\n"
     ]
    },
    {
     "name": "stderr",
     "output_type": "stream",
     "text": [
      "Train:  75%|███████▍  | 169/226 [00:01<00:00, 115.32it/s, accuracy=0.0156, train_loss=7.22]\n",
      "Evaluation:  26%|██▋       | 14/53 [00:03<00:10,  3.76it/s]\n",
      "Train:   0%|          | 0/226 [00:00<?, ?it/s, accuracy=0, train_loss=7]        "
     ]
    },
    {
     "name": "stdout",
     "output_type": "stream",
     "text": [
      "\t - Recall@20 epoch 8: 0.069196\n",
      "\t - MRR@20    epoch 8: 0.013858\n",
      "\n"
     ]
    },
    {
     "name": "stderr",
     "output_type": "stream",
     "text": [
      "Train:  75%|███████▍  | 169/226 [00:01<00:00, 113.73it/s, accuracy=0.0156, train_loss=7.15]\n",
      "Evaluation:  26%|██▋       | 14/53 [00:03<00:10,  3.74it/s]\n",
      "Train:   0%|          | 0/226 [00:00<?, ?it/s, accuracy=0, train_loss=7.03]     "
     ]
    },
    {
     "name": "stdout",
     "output_type": "stream",
     "text": [
      "\t - Recall@20 epoch 9: 0.065848\n",
      "\t - MRR@20    epoch 9: 0.013048\n",
      "\n"
     ]
    },
    {
     "name": "stderr",
     "output_type": "stream",
     "text": [
      "Train:  75%|███████▍  | 169/226 [00:01<00:00, 114.19it/s, accuracy=0, train_loss=7.13]     \n",
      "Evaluation:  26%|██▋       | 14/53 [00:03<00:10,  3.72it/s]\n",
      "Train:   0%|          | 0/226 [00:00<?, ?it/s, accuracy=0, train_loss=6.92]     "
     ]
    },
    {
     "name": "stdout",
     "output_type": "stream",
     "text": [
      "\t - Recall@20 epoch 10: 0.060268\n",
      "\t - MRR@20    epoch 10: 0.012055\n",
      "\n"
     ]
    },
    {
     "name": "stderr",
     "output_type": "stream",
     "text": [
      "Train:  75%|███████▍  | 169/226 [00:01<00:00, 112.68it/s, accuracy=0, train_loss=7.01]     \n",
      "Evaluation:  26%|██▋       | 14/53 [00:03<00:10,  3.67it/s]\n",
      "Train:   0%|          | 0/226 [00:00<?, ?it/s, accuracy=0, train_loss=6.85]     "
     ]
    },
    {
     "name": "stdout",
     "output_type": "stream",
     "text": [
      "\t - Recall@20 epoch 11: 0.045759\n",
      "\t - MRR@20    epoch 11: 0.010733\n",
      "\n"
     ]
    },
    {
     "name": "stderr",
     "output_type": "stream",
     "text": [
      "Train:  75%|███████▍  | 169/226 [00:01<00:00, 113.38it/s, accuracy=0, train_loss=6.97]     \n",
      "Evaluation:  26%|██▋       | 14/53 [00:03<00:10,  3.71it/s]\n",
      "Train:   0%|          | 0/226 [00:00<?, ?it/s, accuracy=0.0156, train_loss=6.85]"
     ]
    },
    {
     "name": "stdout",
     "output_type": "stream",
     "text": [
      "\t - Recall@20 epoch 12: 0.051339\n",
      "\t - MRR@20    epoch 12: 0.011028\n",
      "\n"
     ]
    },
    {
     "name": "stderr",
     "output_type": "stream",
     "text": [
      "Train:  75%|███████▍  | 169/226 [00:01<00:00, 114.19it/s, accuracy=0, train_loss=6.9]      \n",
      "Evaluation:  26%|██▋       | 14/53 [00:03<00:10,  3.69it/s]\n",
      "Train:   0%|          | 0/226 [00:00<?, ?it/s, accuracy=0, train_loss=6.74]     "
     ]
    },
    {
     "name": "stdout",
     "output_type": "stream",
     "text": [
      "\t - Recall@20 epoch 13: 0.047991\n",
      "\t - MRR@20    epoch 13: 0.011188\n",
      "\n"
     ]
    },
    {
     "name": "stderr",
     "output_type": "stream",
     "text": [
      "Train:  75%|███████▍  | 169/226 [00:01<00:00, 112.92it/s, accuracy=0.0156, train_loss=6.81]\n",
      "Evaluation:  26%|██▋       | 14/53 [00:03<00:10,  3.65it/s]\n",
      "Train:   0%|          | 0/226 [00:00<?, ?it/s, accuracy=0, train_loss=6.69]     "
     ]
    },
    {
     "name": "stdout",
     "output_type": "stream",
     "text": [
      "\t - Recall@20 epoch 14: 0.049107\n",
      "\t - MRR@20    epoch 14: 0.012398\n",
      "\n"
     ]
    },
    {
     "name": "stderr",
     "output_type": "stream",
     "text": [
      "Train:  75%|███████▍  | 169/226 [00:01<00:00, 113.01it/s, accuracy=0.0312, train_loss=6.68]\n",
      "Evaluation:  26%|██▋       | 14/53 [00:03<00:10,  3.74it/s]\n",
      "Train:   0%|          | 0/226 [00:00<?, ?it/s, accuracy=0.0156, train_loss=6.61]"
     ]
    },
    {
     "name": "stdout",
     "output_type": "stream",
     "text": [
      "\t - Recall@20 epoch 15: 0.050223\n",
      "\t - MRR@20    epoch 15: 0.011604\n",
      "\n"
     ]
    },
    {
     "name": "stderr",
     "output_type": "stream",
     "text": [
      "Train:  75%|███████▍  | 169/226 [00:01<00:00, 109.94it/s, accuracy=0.0625, train_loss=6.58]\n",
      "Evaluation:  26%|██▋       | 14/53 [00:03<00:10,  3.71it/s]\n",
      "Train:   0%|          | 0/226 [00:00<?, ?it/s, accuracy=0.0156, train_loss=6.47]"
     ]
    },
    {
     "name": "stdout",
     "output_type": "stream",
     "text": [
      "\t - Recall@20 epoch 16: 0.052455\n",
      "\t - MRR@20    epoch 16: 0.012083\n",
      "\n"
     ]
    },
    {
     "name": "stderr",
     "output_type": "stream",
     "text": [
      "Train:  75%|███████▍  | 169/226 [00:01<00:00, 114.73it/s, accuracy=0.0625, train_loss=6.43]\n",
      "Evaluation:  26%|██▋       | 14/53 [00:03<00:10,  3.73it/s]\n",
      "Train:   0%|          | 0/226 [00:00<?, ?it/s, accuracy=0.0312, train_loss=6.43]"
     ]
    },
    {
     "name": "stdout",
     "output_type": "stream",
     "text": [
      "\t - Recall@20 epoch 17: 0.051339\n",
      "\t - MRR@20    epoch 17: 0.012293\n",
      "\n"
     ]
    },
    {
     "name": "stderr",
     "output_type": "stream",
     "text": [
      "Train:  75%|███████▍  | 169/226 [00:01<00:00, 114.59it/s, accuracy=0.0312, train_loss=6.35]\n",
      "Evaluation:  26%|██▋       | 14/53 [00:03<00:10,  3.70it/s]\n",
      "Train:   0%|          | 0/226 [00:00<?, ?it/s, accuracy=0.0156, train_loss=6.36]"
     ]
    },
    {
     "name": "stdout",
     "output_type": "stream",
     "text": [
      "\t - Recall@20 epoch 18: 0.052455\n",
      "\t - MRR@20    epoch 18: 0.012838\n",
      "\n"
     ]
    },
    {
     "name": "stderr",
     "output_type": "stream",
     "text": [
      "Train:  75%|███████▍  | 169/226 [00:01<00:00, 116.50it/s, accuracy=0.0938, train_loss=6.17]\n",
      "Evaluation:  26%|██▋       | 14/53 [00:03<00:10,  3.81it/s]\n",
      "Train:   0%|          | 0/226 [00:00<?, ?it/s, accuracy=0.0625, train_loss=6.17]"
     ]
    },
    {
     "name": "stdout",
     "output_type": "stream",
     "text": [
      "\t - Recall@20 epoch 19: 0.054688\n",
      "\t - MRR@20    epoch 19: 0.014769\n",
      "\n"
     ]
    },
    {
     "name": "stderr",
     "output_type": "stream",
     "text": [
      "Train:  75%|███████▍  | 169/226 [00:01<00:00, 115.29it/s, accuracy=0.109, train_loss=5.99] \n",
      "Evaluation:  26%|██▋       | 14/53 [00:03<00:10,  3.77it/s]"
     ]
    },
    {
     "name": "stdout",
     "output_type": "stream",
     "text": [
      "\t - Recall@20 epoch 20: 0.058036\n",
      "\t - MRR@20    epoch 20: 0.015105\n",
      "\n"
     ]
    },
    {
     "name": "stderr",
     "output_type": "stream",
     "text": [
      "\n"
     ]
    }
   ],
   "source": [
    "train_model(model, args)"
   ]
  },
  {
   "cell_type": "code",
   "execution_count": null,
   "id": "accredited-warrior",
   "metadata": {},
   "outputs": [],
   "source": []
  },
  {
   "cell_type": "code",
   "execution_count": null,
   "id": "impossible-pledge",
   "metadata": {},
   "outputs": [],
   "source": []
  },
  {
   "cell_type": "markdown",
   "id": "bulgarian-beverage",
   "metadata": {},
   "source": [
    "### Step 5. 모델 테스트\n",
    "미리 구성한 테스트셋을 바탕으로 Recall, MRR 을 확인해 봅니다."
   ]
  },
  {
   "cell_type": "code",
   "execution_count": 54,
   "id": "confirmed-hamilton",
   "metadata": {},
   "outputs": [
    {
     "name": "stderr",
     "output_type": "stream",
     "text": [
      "Evaluation:  34%|███▍      | 45/131 [00:12<00:23,  3.71it/s]"
     ]
    },
    {
     "name": "stdout",
     "output_type": "stream",
     "text": [
      "\t - Recall@20: 0.041667\n",
      "\t - MRR@20: 0.012544\n",
      "\n"
     ]
    },
    {
     "name": "stderr",
     "output_type": "stream",
     "text": [
      "\n"
     ]
    }
   ],
   "source": [
    "def test_model(model, args, test):\n",
    "    test_recall, test_mrr = get_metrics(test, model, args, 20)\n",
    "    print(f\"\\t - Recall@{args.k}: {test_recall:3f}\")\n",
    "    print(f\"\\t - MRR@{args.k}: {test_mrr:3f}\\n\")\n",
    "\n",
    "test_model(model, args, test)"
   ]
  },
  {
   "cell_type": "markdown",
   "id": "continuous-fundamental",
   "metadata": {},
   "source": [
    "args = Args(tr, val, test, batch_size=64, hsz=20, drop_rate=0.3, lr=0.001, epochs=20, k=20)\n",
    "train, val = 30, 30\n",
    "\n",
    "   \t - Recall@20: 0.045833\n",
    "\t - MRR@20: 0.009747\n",
    "\n",
    "train, val = 60, 60\n",
    "\n",
    "\t - Recall@20: 0.042324\n",
    "\t - MRR@20: 0.008055\n",
    "     \n",
    "     \n",
    "args = Args(tr, val, test, batch_size=128, hsz=20, drop_rate=0.3, lr=0.001, epochs=20, k=20)\n"
   ]
  },
  {
   "cell_type": "code",
   "execution_count": null,
   "id": "exceptional-morocco",
   "metadata": {},
   "outputs": [],
   "source": []
  },
  {
   "cell_type": "code",
   "execution_count": null,
   "id": "latin-draft",
   "metadata": {},
   "outputs": [],
   "source": []
  },
  {
   "cell_type": "code",
   "execution_count": null,
   "id": "satisfied-wheat",
   "metadata": {},
   "outputs": [],
   "source": []
  },
  {
   "cell_type": "markdown",
   "id": "published-publication",
   "metadata": {},
   "source": [
    "### feature의 선택\n",
    "해당 영화를 개인이 다른 사람에게 추천해줄까를 예측하는 문제가 아닌 시스템이 어떠한 기준을 가지고 타인에게 영화를 추천해줄까의 문제입니다. 일반적으로 평점이라는 것은 개인의 취향에 따라 다르고, 영화의 특정 요소가 마음에 들지 않으면(예를 들어 배우의 연기, 클리셰, 결말 등) 개인의 평점은 낮아질 수도, 높아질 수도 있습니다. 그러나 시스템의 추천에 대한 내용을 판단하는 것이라면, 영화의 '선택'은 개인이 일관적으로 선호하는 요소를 가지고 있을 가능성이 높습니다(예를 들어 장르, 줄거리, 사전정보 등). 다시말해 개인이 선호하는 요소들을 군집화해 놓은 결과물이라고 해석할 수 있습니다. 따라서 평점 데이터는 활용하지 않았습니다. "
   ]
  },
  {
   "cell_type": "code",
   "execution_count": null,
   "id": "desirable-sending",
   "metadata": {},
   "outputs": [],
   "source": []
  }
 ],
 "metadata": {
  "kernelspec": {
   "display_name": "aiffel",
   "language": "python",
   "name": "aiffel"
  },
  "language_info": {
   "codemirror_mode": {
    "name": "ipython",
    "version": 3
   },
   "file_extension": ".py",
   "mimetype": "text/x-python",
   "name": "python",
   "nbconvert_exporter": "python",
   "pygments_lexer": "ipython3",
   "version": "3.7.10"
  }
 },
 "nbformat": 4,
 "nbformat_minor": 5
}
