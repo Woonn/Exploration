{
 "cells": [
  {
   "cell_type": "code",
   "execution_count": 1,
   "id": "large-resistance",
   "metadata": {},
   "outputs": [],
   "source": [
    "import re    # 정규표현식 관련된 작업에 필요한 패키지\n",
    "import os    # I/O 관련된 작업에 필요한 패키지 \n",
    "import pandas as pd     # 데이터 전처리 관련된 작업에 필요한 패키지\n",
    "import numpy as np      # 데이터 array 작업에 필요한 패키지\n",
    "import tensorflow as tf  # 딥러닝 관련된 작업에 필요한 패키지\n",
    "import matplotlib.pyplot as plt    # 데이터 시각화에 관련된 작업에 필요한 패키지\n",
    "from sklearn.model_selection import train_test_split  # 데이터 전처리에 필요한 패키지"
   ]
  },
  {
   "cell_type": "code",
   "execution_count": 2,
   "id": "impressive-state",
   "metadata": {},
   "outputs": [
    {
     "name": "stdout",
     "output_type": "stream",
     "text": [
      "/home/aiffel-dj62/aiffel\n"
     ]
    }
   ],
   "source": [
    "# 데이터 로드할 때 빠르게 로드할 수 있도록하는 설정 변수\n",
    "AUTOTUNE = tf.data.experimental.AUTOTUNE\n",
    "\n",
    "# 데이터 ROOT 경로 변수\n",
    "ROOT_PATH = os.path.join(os.getenv('HOME'), 'aiffel')\n",
    "\n",
    "# BATCH_SIZE 변수\n",
    "BATCH_SIZE = 16\n",
    "\n",
    "# X-RAY 이미지 사이즈 변수\n",
    "IMAGE_SIZE = [180, 180]\n",
    "\n",
    "# EPOCH 크기 변수\n",
    "EPOCHS = 20\n",
    "\n",
    "print(ROOT_PATH)"
   ]
  },
  {
   "cell_type": "markdown",
   "id": "empirical-thomson",
   "metadata": {},
   "source": [
    "### 데이터 불러오기\n",
    "* glob로 폴더 안의 모든 이미지 추출"
   ]
  },
  {
   "cell_type": "code",
   "execution_count": 3,
   "id": "behavioral-poster",
   "metadata": {},
   "outputs": [
    {
     "name": "stdout",
     "output_type": "stream",
     "text": [
      "5216\n",
      "624\n",
      "16\n"
     ]
    }
   ],
   "source": [
    "train_filenames = tf.io.gfile.glob(str(ROOT_PATH + '/chest_xray/train/*/*'))\n",
    "test_filenames = tf.io.gfile.glob(str(ROOT_PATH + '/chest_xray/test/*/*'))\n",
    "val_filenames = tf.io.gfile.glob(str(ROOT_PATH + '/chest_xray/val/*/*'))\n",
    "\n",
    "print(len(train_filenames))\n",
    "print(len(test_filenames))\n",
    "print(len(val_filenames))"
   ]
  },
  {
   "cell_type": "markdown",
   "id": "banner-while",
   "metadata": {},
   "source": [
    "### 갯수가 너무 부족하기 때문에 train data 일부를 val set에 추가\n",
    "* [a, b, c], [d, e]가 있을 때\n",
    "* append: list에 요소로 추가\n",
    "  * e.g. [a, b, c, [d, e]]\n",
    "* extend: list끼리 결합\n",
    "  * e.g. [a, b, c, d, e]"
   ]
  },
  {
   "cell_type": "code",
   "execution_count": 4,
   "id": "cutting-tobago",
   "metadata": {},
   "outputs": [
    {
     "name": "stdout",
     "output_type": "stream",
     "text": [
      "4185\n",
      "1047\n"
     ]
    }
   ],
   "source": [
    "filenames = tf.io.gfile.glob(str(ROOT_PATH + '/chest_xray/train/*/*'))# 파일명 불러오기\n",
    "# print(filenames)\n",
    "filenames.extend(tf.io.gfile.glob(str(ROOT_PATH + '/chest_xray/val/*/*')))# 두 디렉토리의 파일명 결합\n",
    "\n",
    "# train, test(val) dataset으로 분할. test_size의 0.2는 20%를 의미함.\n",
    "train_filenames, val_filenames = train_test_split(filenames, test_size=0.2, random_state = 1000)\n",
    "\n",
    "print(len(train_filenames))\n",
    "print(len(val_filenames))"
   ]
  },
  {
   "cell_type": "code",
   "execution_count": 5,
   "id": "gross-optimization",
   "metadata": {},
   "outputs": [
    {
     "name": "stdout",
     "output_type": "stream",
     "text": [
      "Normal images count in training set: 1083\n",
      "Pneumonia images count in training set: 3102\n"
     ]
    }
   ],
   "source": [
    "# filename에 NORMAL이 있으면 filename을 리스트에 추가\n",
    "COUNT_NORMAL = len([filename for filename in train_filenames if \"NORMAL\" in filename])\n",
    "print(\"Normal images count in training set: \" + str(COUNT_NORMAL))\n",
    "\n",
    "COUNT_PNEUMONIA = len([filename for filename in train_filenames if \"PNEUMONIA\" in filename])\n",
    "print(\"Pneumonia images count in training set: \" + str(COUNT_PNEUMONIA))"
   ]
  },
  {
   "cell_type": "markdown",
   "id": "laughing-appearance",
   "metadata": {},
   "source": [
    "### tf.data 인스턴스 생성\n",
    "* tf.data는 tensorflow에서 학습시킬 때, 배치처리 작업을 보다 효율적으로 만들어줌\n",
    "  * tf.data.Dataset.from_tensor_slices 함수는 tf.data.Dataset 를 생성하는 함수로 입력된 텐서로부터 slices를 생성합니다. 예를 들어 MNIST의 학습데이터 (60000, 28, 28)가 입력되면, 60000개의 slices로 만들고 각각의 slice는 28×28의 이미지 크기를 갖게 됩니다."
   ]
  },
  {
   "cell_type": "code",
   "execution_count": 6,
   "id": "behavioral-mobile",
   "metadata": {},
   "outputs": [],
   "source": [
    "train_list_ds = tf.data.Dataset.from_tensor_slices(train_filenames)\n",
    "val_list_ds = tf.data.Dataset.from_tensor_slices(val_filenames)"
   ]
  },
  {
   "cell_type": "markdown",
   "id": "scenic-companion",
   "metadata": {},
   "source": [
    "### Train 데이터 셋, validation 데이터 셋 갯수 확인\n",
    "* tf.data.experimental.cardinality는 데이터셋의 cardinality를 반환함 \n",
    "  * 중복도가 ‘낮으면’ cardinality가 ‘높다’고 표현\n",
    "  * 중복도가 ‘높으면’ cardinality가 ‘낮다’고 표현"
   ]
  },
  {
   "cell_type": "code",
   "execution_count": 7,
   "id": "solar-beverage",
   "metadata": {},
   "outputs": [
    {
     "name": "stdout",
     "output_type": "stream",
     "text": [
      "Training images count: 4185\n",
      "Validating images count: 1047\n"
     ]
    }
   ],
   "source": [
    "TRAIN_IMG_COUNT = tf.data.experimental.cardinality(train_list_ds).numpy()\n",
    "print(\"Training images count: \" + str(TRAIN_IMG_COUNT))\n",
    "\n",
    "VAL_IMG_COUNT = tf.data.experimental.cardinality(val_list_ds).numpy()\n",
    "print(\"Validating images count: \" + str(VAL_IMG_COUNT))"
   ]
  },
  {
   "cell_type": "markdown",
   "id": "intimate-assurance",
   "metadata": {},
   "source": [
    "### 라벨명 확인"
   ]
  },
  {
   "cell_type": "code",
   "execution_count": 8,
   "id": "silver-platinum",
   "metadata": {},
   "outputs": [
    {
     "data": {
      "text/plain": [
       "<tf.Tensor: shape=(7,), dtype=string, numpy=\n",
       "array([b'', b'home', b'aiffel-dj62', b'aiffel', b'chest_xray', b'train',\n",
       "       b'PNEUMONIA'], dtype=object)>"
      ]
     },
     "execution_count": 8,
     "metadata": {},
     "output_type": "execute_result"
    }
   ],
   "source": [
    "tf.strings.split('/home/aiffel-dj62/aiffel/chest_xray/train/PNEUMONIA', os.path.sep)"
   ]
  },
  {
   "cell_type": "code",
   "execution_count": 9,
   "id": "educated-drill",
   "metadata": {
    "scrolled": true
   },
   "outputs": [
    {
     "name": "stdout",
     "output_type": "stream",
     "text": [
      "[\"b'PNEUMONIA'\"]\n"
     ]
    }
   ],
   "source": [
    "a = np.array([str(tf.strings.split('/home/aiffel-dj62/aiffel/chest_xray/train/PNEUMONIA', os.path.sep)[-1].numpy())])\n",
    "print(a)"
   ]
  },
  {
   "cell_type": "code",
   "execution_count": 10,
   "id": "duplicate-taxation",
   "metadata": {},
   "outputs": [
    {
     "data": {
      "text/plain": [
       "[b'PNEUMONIA']"
      ]
     },
     "execution_count": 10,
     "metadata": {},
     "output_type": "execute_result"
    }
   ],
   "source": [
    "([tf.strings.split('/home/aiffel-dj62/aiffel/chest_xray/train/PNEUMONIA', os.path.sep)[-1].numpy()])"
   ]
  },
  {
   "cell_type": "markdown",
   "id": "homeless-stocks",
   "metadata": {},
   "source": [
    "### 해석\n",
    "* 1. tf.io.gfile.glob(str(ROOT_PATH + \"/chest_xray/train/*\"))\n",
    "  * 해당 경로 뒤의 /를 제외한 경로 불러오기 \n",
    "  > '/home/aiffel-dj62/aiffel/chest_xray/train/PNEUMONIA'\n",
    "  \n",
    "  \n",
    "* 2. str(tf.strings.split(item, os.path.sep)[-1].numpy())\n",
    "  * tensor -> numpy로 바꿔서 데이터 변형\n",
    "  * tf.strings.split의 인자로 (item, os.path.sep)를 사용하여 item의 경로를 분리(앞에 b'가 붙음)\n",
    "    * os.path.sep 예시\n",
    "      * \"C:\\Python35\\Scripts\\pip.exe\".split(os.path.sep)\n",
    "      * ['C:', 'Python35', 'Scripts', 'pip.exe']\n",
    "  \n",
    "  * 뒤에서 첫번째 요소를 가져옴\n",
    "  > [\"b'PNEUMONIA'\"]\n",
    "\n",
    "\n",
    "* 3. np.array([str(tf.strings.split(item, os.path.sep)[-1].numpy())[2:-1]])\n",
    "  * tf.tensor 형을 numpy배열로 바꿔주고 string형으로 바꿔준 후 인덱싱으로 b'를 제거\n",
    "  > [\"PNEUMONIA'\"]"
   ]
  },
  {
   "cell_type": "code",
   "execution_count": 11,
   "id": "severe-arkansas",
   "metadata": {},
   "outputs": [
    {
     "name": "stdout",
     "output_type": "stream",
     "text": [
      "['PNEUMONIA' 'NORMAL']\n"
     ]
    }
   ],
   "source": [
    "CLASS_NAMES = np.array([str(tf.strings.split(item, os.path.sep)[-1].numpy())[2:-1]\n",
    "                        for item in tf.io.gfile.glob(str(ROOT_PATH + \"/chest_xray/train/*\"))])\n",
    "print(CLASS_NAMES)"
   ]
  },
  {
   "cell_type": "markdown",
   "id": "right-illinois",
   "metadata": {},
   "source": [
    "### 라벨 데이터를 만들어주는 함수\n",
    "* 이미지에 라벨 데이터가 따로 없기 때문에 추출하는 함수 정의"
   ]
  },
  {
   "cell_type": "code",
   "execution_count": 12,
   "id": "turned-bradley",
   "metadata": {},
   "outputs": [],
   "source": [
    "def get_label(file_path):\n",
    "    parts = tf.strings.split(file_path, os.path.sep)\n",
    "    return parts[-2] == \"PNEUMONIA\"   # 폐렴이면 양성(True), 노말이면 음성(False)를 리턴하게 합니다."
   ]
  },
  {
   "cell_type": "markdown",
   "id": "underlying-character",
   "metadata": {},
   "source": [
    "##### 동작하는 방식을 확인"
   ]
  },
  {
   "cell_type": "code",
   "execution_count": 13,
   "id": "ambient-investor",
   "metadata": {},
   "outputs": [
    {
     "name": "stdout",
     "output_type": "stream",
     "text": [
      "True\n",
      "False\n"
     ]
    }
   ],
   "source": [
    "'/home/aiffel-dj62/aiffel/chest_xray/train/PNEUMONIA'\n",
    "def get_label(file_path):\n",
    "    parts = tf.strings.split(file_path, os.path.sep)\n",
    "    return parts[-2] == \"PNEUMONIA\"   # 폐렴이면 양성(True), 노말이면 음성(False)를 리턴하게 합니다.\n",
    "print(str(get_label('/home/aiffel-dj62/aiffel/chest_xray/train/PNEUMONIA/data_00001').numpy()))\n",
    "print(str(get_label('/home/aiffel-dj62/aiffel/chest_xray/train/NORMAL/data_00001').numpy()))"
   ]
  },
  {
   "cell_type": "markdown",
   "id": "greater-carpet",
   "metadata": {},
   "source": [
    "### 이미지의 사이즈 통일 및 축소(연산효율)"
   ]
  },
  {
   "cell_type": "code",
   "execution_count": 14,
   "id": "stupid-school",
   "metadata": {},
   "outputs": [],
   "source": [
    "def decode_img(img):\n",
    "  # 이미지를 uint8 tensor로 바꾼다.\n",
    "  img = tf.image.decode_jpeg(img, channels=3)\n",
    "  # img를 범위 [0,1]의 float32 데이터 타입으로 바꾼다.\n",
    "  img = tf.image.convert_image_dtype(img, tf.float32)\n",
    "  # img의 이미지 사이즈를 IMAGE_SIZE에서 지정한 사이즈로 수정한다.\n",
    "  return tf.image.resize(img, IMAGE_SIZE)\n",
    "\n",
    "def process_path(file_path):\n",
    "    label = get_label(file_path)\n",
    "    img = tf.io.read_file(file_path)\n",
    "    img = decode_img(img)\n",
    "    return img, label"
   ]
  },
  {
   "cell_type": "markdown",
   "id": "naughty-liverpool",
   "metadata": {},
   "source": [
    "### trainset과 validationset 만들기\n",
    "* num_parallel_calls 파라미터에서 set-up에서 초기화 한 AUTOTUNE을 이용하면 더욱 빠르게 데이터를 처리"
   ]
  },
  {
   "cell_type": "code",
   "execution_count": 15,
   "id": "annual-indication",
   "metadata": {},
   "outputs": [],
   "source": [
    "train_ds = train_list_ds.map(process_path, num_parallel_calls=AUTOTUNE)\n",
    "val_ds = val_list_ds.map(process_path, num_parallel_calls=AUTOTUNE)"
   ]
  },
  {
   "cell_type": "markdown",
   "id": "precious-ridge",
   "metadata": {},
   "source": [
    "* 이미지가 잘 리사이즈 되었는지, 그리고 라벨이 잘 들어가 있는지 확인\n",
    "* train_ds.take(1): 하나의 데이터만 가져온다는 의미"
   ]
  },
  {
   "cell_type": "code",
   "execution_count": 16,
   "id": "bizarre-subscription",
   "metadata": {},
   "outputs": [
    {
     "name": "stdout",
     "output_type": "stream",
     "text": [
      "Image shape:  (180, 180, 3)\n",
      "Label:  True\n"
     ]
    }
   ],
   "source": [
    "for image, label in train_ds.take(1):\n",
    "    print(\"Image shape: \", image.numpy().shape)\n",
    "    print(\"Label: \", label.numpy())"
   ]
  },
  {
   "cell_type": "markdown",
   "id": "visible-investigation",
   "metadata": {},
   "source": [
    "### testset 만들기"
   ]
  },
  {
   "cell_type": "code",
   "execution_count": 17,
   "id": "annual-malta",
   "metadata": {},
   "outputs": [
    {
     "name": "stdout",
     "output_type": "stream",
     "text": [
      "624\n"
     ]
    }
   ],
   "source": [
    "test_list_ds = tf.data.Dataset.list_files(str(ROOT_PATH + '/chest_xray/test/*/*'))\n",
    "TEST_IMAGE_COUNT = tf.data.experimental.cardinality(test_list_ds).numpy()\n",
    "test_ds = test_list_ds.map(process_path, num_parallel_calls=AUTOTUNE)\n",
    "test_ds = test_ds.batch(BATCH_SIZE)\n",
    "\n",
    "print(TEST_IMAGE_COUNT)"
   ]
  },
  {
   "cell_type": "markdown",
   "id": "thousand-darkness",
   "metadata": {},
   "source": [
    "#### prepare_for_training()함수에 쓰인 메서드 확인\n",
    "\n",
    "* tf.data 파이프라인: 학습 데이터를 효율적으로 사용할 수 있도록 함\n",
    "* prepare_for_training(): 학습 데이터를 효율적으로 할 수 있도록 데이터를 변환\n",
    "* shuffle(): 고정 크기 버퍼를 유지하고 해당 버퍼에서 무작위로 균일하게 다음 요소를 선택\n",
    "* repeat(): epoch를 진행하면서 여러번 데이터셋을 불러오게 되는데, 이때 repeat()를 사용한 데이터셋의 경우 여러번 데이터셋을 사용할 수 있게 해줍니다. 예를 들어, 100개의 데이터를 10번 반복하면 1000개의 데이터가 필요하게 됩니다. repeat()를 사용하면 자동으로 데이터를 맞춰줍니다.\n",
    "* batch()를 사용하면 BATCH_SIZE에서 정한 만큼의 배치로 주어집니다.\n",
    "* prefetch()를 사용하면 학습데이터를 나눠서 읽어오기 때문에, 첫 번째 데이터를 GPU에서 학습하는 동안 두 번째 데이터를 CPU에서 준비할 수 있어 리소스의 유휴 상태를 줄일 수 있습니다."
   ]
  },
  {
   "cell_type": "code",
   "execution_count": 18,
   "id": "powered-print",
   "metadata": {},
   "outputs": [],
   "source": [
    "def prepare_for_training(ds, shuffle_buffer_size=1000):\n",
    "\n",
    "    ds = ds.shuffle(buffer_size=shuffle_buffer_size)\n",
    "\n",
    "    ds = ds.repeat()\n",
    "\n",
    "    ds = ds.batch(BATCH_SIZE)\n",
    "\n",
    "    ds = ds.prefetch(buffer_size=AUTOTUNE)\n",
    "\n",
    "    return ds\n",
    "\n",
    "train_ds = prepare_for_training(train_ds)\n",
    "val_ds = prepare_for_training(val_ds)"
   ]
  },
  {
   "cell_type": "markdown",
   "id": "suffering-indicator",
   "metadata": {},
   "source": [
    "### 데이터 시각화\n",
    "* 첫 번째 배치를 추출\n",
    "* 추출된 배치를 image와 label 데이터 셋으로 나눔\n",
    "* show_batch()함수를 이용해서 결과 사진 확인"
   ]
  },
  {
   "cell_type": "code",
   "execution_count": 19,
   "id": "ordinary-glasgow",
   "metadata": {},
   "outputs": [
    {
     "data": {
      "image/png": "[encoded data removed]",
      "text/plain": [
       "<Figure size 720x720 with 16 Axes>"
      ]
     },
     "metadata": {
      "needs_background": "light"
     },
     "output_type": "display_data"
    }
   ],
   "source": [
    "image_batch, label_batch = next(iter(train_ds))\n",
    "\n",
    "def show_batch(image_batch, label_batch):\n",
    "    plt.figure(figsize=(10,10))\n",
    "    for n in range(BATCH_SIZE):\n",
    "        ax = plt.subplot(10,10,n+1)\n",
    "        plt.imshow(image_batch[n])\n",
    "        if label_batch[n]:\n",
    "            plt.title(\"PNEUMONIA\")\n",
    "        else:\n",
    "            plt.title(\"NORMAL\")\n",
    "        plt.axis(\"off\")\n",
    "\n",
    "show_batch(image_batch.numpy(), label_batch.numpy())"
   ]
  },
  {
   "cell_type": "markdown",
   "id": "processed-civilian",
   "metadata": {},
   "source": [
    "### CNN모델링"
   ]
  },
  {
   "cell_type": "markdown",
   "id": "falling-gambling",
   "metadata": {},
   "source": [
    "#### Conv block"
   ]
  },
  {
   "cell_type": "code",
   "execution_count": 20,
   "id": "monthly-measure",
   "metadata": {},
   "outputs": [],
   "source": [
    "def conv_block(filters):\n",
    "    block = tf.keras.Sequential([\n",
    "        tf.keras.layers.SeparableConv2D(filters, 3, activation='relu', padding='same'),\n",
    "        tf.keras.layers.SeparableConv2D(filters, 3, activation='relu', padding='same'),\n",
    "        tf.keras.layers.BatchNormalization(),\n",
    "        tf.keras.layers.MaxPool2D()\n",
    "    ]\n",
    "    )\n",
    "    \n",
    "    return block"
   ]
  },
  {
   "cell_type": "markdown",
   "id": "periodic-pacific",
   "metadata": {},
   "source": [
    "#### Dense block"
   ]
  },
  {
   "cell_type": "code",
   "execution_count": 21,
   "id": "separated-distributor",
   "metadata": {},
   "outputs": [],
   "source": [
    "def dense_block(units, dropout_rate):\n",
    "    block = tf.keras.Sequential([\n",
    "        tf.keras.layers.Dense(units, activation='relu'),\n",
    "        tf.keras.layers.BatchNormalization(),\n",
    "        tf.keras.layers.Dropout(dropout_rate)\n",
    "    ])\n",
    "    \n",
    "    return block"
   ]
  },
  {
   "cell_type": "markdown",
   "id": "unknown-customer",
   "metadata": {},
   "source": [
    "### 모델링"
   ]
  },
  {
   "cell_type": "code",
   "execution_count": 22,
   "id": "formal-moment",
   "metadata": {},
   "outputs": [],
   "source": [
    "def build_model():\n",
    "    model = tf.keras.Sequential([\n",
    "        tf.keras.Input(shape=(IMAGE_SIZE[0], IMAGE_SIZE[1], 3)),\n",
    "        \n",
    "        tf.keras.layers.Conv2D(16, 3, activation='relu', padding='same'),\n",
    "        tf.keras.layers.Conv2D(16, 3, activation='relu', padding='same'),\n",
    "        tf.keras.layers.MaxPool2D(),\n",
    "        \n",
    "        conv_block(32),\n",
    "        conv_block(64),\n",
    "        \n",
    "        conv_block(128),\n",
    "        tf.keras.layers.Dropout(0.3),\n",
    "        \n",
    "        conv_block(256),\n",
    "        tf.keras.layers.Dropout(0.3),\n",
    "        \n",
    "        tf.keras.layers.Flatten(),\n",
    "        dense_block(512, 0.5),\n",
    "        dense_block(128, 0.5),\n",
    "        dense_block(64, 0.3),\n",
    "        \n",
    "        tf.keras.layers.Dense(1, activation='sigmoid')\n",
    "    ])\n",
    "    \n",
    "    return model"
   ]
  },
  {
   "cell_type": "markdown",
   "id": "graduate-boring",
   "metadata": {},
   "source": [
    "### data imbalance 처리\n",
    "* Weight balancing\n",
    "  * Weight balancing 은 training set 의 각 데이터에서 loss 를 계산할 때 특정 클래스의 데이터에 더 큰 loss 값을 갖도록 하는 방법\n",
    "    * 1) 더 큰 정확도를 요구하는 클래스에 가중치를 크게 줌\n",
    "    * 2) 비율에 따라 적은 샘플수를 가진 클래스에 큰 가중치를 부여"
   ]
  },
  {
   "cell_type": "code",
   "execution_count": 23,
   "id": "satisfied-company",
   "metadata": {},
   "outputs": [
    {
     "name": "stdout",
     "output_type": "stream",
     "text": [
      "Weight for class 0: 1.93\n",
      "Weight for class 1: 0.67\n"
     ]
    }
   ],
   "source": [
    "weight_for_0 = (1 / COUNT_NORMAL)*(TRAIN_IMG_COUNT)/2.0 \n",
    "weight_for_1 = (1 / COUNT_PNEUMONIA)*(TRAIN_IMG_COUNT)/2.0\n",
    "\n",
    "class_weight = {0: weight_for_0, 1: weight_for_1}\n",
    "\n",
    "print('Weight for class 0: {:.2f}'.format(weight_for_0))\n",
    "print('Weight for class 1: {:.2f}'.format(weight_for_1))"
   ]
  },
  {
   "cell_type": "markdown",
   "id": "absent-division",
   "metadata": {},
   "source": [
    "### 모델 컴파일"
   ]
  },
  {
   "cell_type": "code",
   "execution_count": 24,
   "id": "greatest-colombia",
   "metadata": {},
   "outputs": [],
   "source": [
    "with tf.device('/GPU:0'):\n",
    "    model = build_model()\n",
    "\n",
    "    METRICS = [\n",
    "        'accuracy',\n",
    "        tf.keras.metrics.Precision(name='precision'),\n",
    "        tf.keras.metrics.Recall(name='recall')\n",
    "    ]\n",
    "    \n",
    "    model.compile(\n",
    "        optimizer='adam',\n",
    "        loss='binary_crossentropy',\n",
    "        metrics=METRICS\n",
    "    )"
   ]
  },
  {
   "cell_type": "markdown",
   "id": "focal-bachelor",
   "metadata": {},
   "source": [
    "### 모델 훈련"
   ]
  },
  {
   "cell_type": "code",
   "execution_count": 25,
   "id": "fiscal-niagara",
   "metadata": {},
   "outputs": [
    {
     "data": {
      "text/plain": [
       "[name: \"/device:CPU:0\"\n",
       " device_type: \"CPU\"\n",
       " memory_limit: 268435456\n",
       " locality {\n",
       " }\n",
       " incarnation: 13742550451420593884,\n",
       " name: \"/device:XLA_CPU:0\"\n",
       " device_type: \"XLA_CPU\"\n",
       " memory_limit: 17179869184\n",
       " locality {\n",
       " }\n",
       " incarnation: 17137976894739823349\n",
       " physical_device_desc: \"device: XLA_CPU device\",\n",
       " name: \"/device:GPU:0\"\n",
       " device_type: \"GPU\"\n",
       " memory_limit: 7542958976\n",
       " locality {\n",
       "   bus_id: 1\n",
       "   links {\n",
       "   }\n",
       " }\n",
       " incarnation: 17302613137655252627\n",
       " physical_device_desc: \"device: 0, name: GeForce RTX 2070, pci bus id: 0000:01:00.0, compute capability: 7.5\",\n",
       " name: \"/device:XLA_GPU:0\"\n",
       " device_type: \"XLA_GPU\"\n",
       " memory_limit: 17179869184\n",
       " locality {\n",
       " }\n",
       " incarnation: 4200853890733255356\n",
       " physical_device_desc: \"device: XLA_GPU device\"]"
      ]
     },
     "execution_count": 25,
     "metadata": {},
     "output_type": "execute_result"
    }
   ],
   "source": [
    "from tensorflow.python.client import device_lib\n",
    "device_lib.list_local_devices()"
   ]
  },
  {
   "cell_type": "code",
   "execution_count": 26,
   "id": "strange-method",
   "metadata": {},
   "outputs": [
    {
     "name": "stdout",
     "output_type": "stream",
     "text": [
      "Epoch 1/20\n",
      "261/261 [==============================] - 28s 106ms/step - loss: 0.3718 - accuracy: 0.8333 - precision: 0.9587 - recall: 0.8100 - val_loss: 0.5706 - val_accuracy: 0.7452 - val_precision: 0.7452 - val_recall: 1.0000\n",
      "Epoch 2/20\n",
      "261/261 [==============================] - 24s 92ms/step - loss: 0.2560 - accuracy: 0.9013 - precision: 0.9732 - recall: 0.8915 - val_loss: 0.7301 - val_accuracy: 0.7452 - val_precision: 0.7452 - val_recall: 1.0000\n",
      "Epoch 3/20\n",
      "261/261 [==============================] - 24s 91ms/step - loss: 0.2101 - accuracy: 0.9195 - precision: 0.9726 - recall: 0.9172 - val_loss: 0.3942 - val_accuracy: 0.7894 - val_precision: 0.7800 - val_recall: 0.9987\n",
      "Epoch 4/20\n",
      "261/261 [==============================] - 24s 91ms/step - loss: 0.1784 - accuracy: 0.9356 - precision: 0.9803 - recall: 0.9318 - val_loss: 0.2189 - val_accuracy: 0.8971 - val_precision: 0.8815 - val_recall: 0.9961\n",
      "Epoch 5/20\n",
      "261/261 [==============================] - 24s 91ms/step - loss: 0.1712 - accuracy: 0.9373 - precision: 0.9810 - recall: 0.9335 - val_loss: 0.1193 - val_accuracy: 0.9587 - val_precision: 0.9893 - val_recall: 0.9549\n",
      "Epoch 6/20\n",
      "261/261 [==============================] - 24s 90ms/step - loss: 0.1345 - accuracy: 0.9521 - precision: 0.9875 - recall: 0.9472 - val_loss: 0.1716 - val_accuracy: 0.9413 - val_precision: 0.9958 - val_recall: 0.9253\n",
      "Epoch 7/20\n",
      "261/261 [==============================] - 24s 91ms/step - loss: 0.1505 - accuracy: 0.9428 - precision: 0.9848 - recall: 0.9375 - val_loss: 0.4356 - val_accuracy: 0.8163 - val_precision: 1.0000 - val_recall: 0.7542\n",
      "Epoch 8/20\n",
      "261/261 [==============================] - 24s 92ms/step - loss: 0.1352 - accuracy: 0.9511 - precision: 0.9843 - recall: 0.9493 - val_loss: 0.3949 - val_accuracy: 0.8712 - val_precision: 1.0000 - val_recall: 0.8275\n",
      "Epoch 9/20\n",
      "261/261 [==============================] - 24s 92ms/step - loss: 0.1230 - accuracy: 0.9583 - precision: 0.9876 - recall: 0.9557 - val_loss: 0.1622 - val_accuracy: 0.9413 - val_precision: 0.9986 - val_recall: 0.9230\n",
      "Epoch 10/20\n",
      "261/261 [==============================] - 24s 92ms/step - loss: 0.1306 - accuracy: 0.9497 - precision: 0.9833 - recall: 0.9483 - val_loss: 0.1500 - val_accuracy: 0.9433 - val_precision: 0.9389 - val_recall: 0.9884\n",
      "Epoch 11/20\n",
      "261/261 [==============================] - 24s 91ms/step - loss: 0.1042 - accuracy: 0.9581 - precision: 0.9889 - recall: 0.9540 - val_loss: 0.4032 - val_accuracy: 0.8519 - val_precision: 1.0000 - val_recall: 0.8010\n",
      "Epoch 12/20\n",
      "261/261 [==============================] - 24s 91ms/step - loss: 0.1343 - accuracy: 0.9478 - precision: 0.9829 - recall: 0.9460 - val_loss: 0.0869 - val_accuracy: 0.9702 - val_precision: 0.9973 - val_recall: 0.9626\n",
      "Epoch 13/20\n",
      "261/261 [==============================] - 23s 90ms/step - loss: 0.1217 - accuracy: 0.9550 - precision: 0.9893 - recall: 0.9498 - val_loss: 0.1276 - val_accuracy: 0.9481 - val_precision: 0.9986 - val_recall: 0.9317\n",
      "Epoch 14/20\n",
      "261/261 [==============================] - 24s 91ms/step - loss: 0.0986 - accuracy: 0.9607 - precision: 0.9899 - recall: 0.9565 - val_loss: 0.7048 - val_accuracy: 0.9019 - val_precision: 0.8928 - val_recall: 0.9871\n",
      "Epoch 15/20\n",
      "261/261 [==============================] - 24s 91ms/step - loss: 0.0934 - accuracy: 0.9667 - precision: 0.9914 - recall: 0.9636 - val_loss: 0.5745 - val_accuracy: 0.8010 - val_precision: 1.0000 - val_recall: 0.7332\n",
      "Epoch 16/20\n",
      "261/261 [==============================] - 24s 92ms/step - loss: 0.0925 - accuracy: 0.9660 - precision: 0.9907 - recall: 0.9632 - val_loss: 0.1254 - val_accuracy: 0.9587 - val_precision: 1.0000 - val_recall: 0.9446\n",
      "Epoch 17/20\n",
      "261/261 [==============================] - 24s 91ms/step - loss: 0.0959 - accuracy: 0.9658 - precision: 0.9897 - recall: 0.9638 - val_loss: 0.2148 - val_accuracy: 0.9346 - val_precision: 0.9255 - val_recall: 0.9923\n",
      "Epoch 18/20\n",
      "261/261 [==============================] - 24s 90ms/step - loss: 0.0742 - accuracy: 0.9729 - precision: 0.9930 - recall: 0.9702 - val_loss: 0.0908 - val_accuracy: 0.9635 - val_precision: 0.9933 - val_recall: 0.9576\n",
      "Epoch 19/20\n",
      "261/261 [==============================] - 24s 91ms/step - loss: 0.1042 - accuracy: 0.9552 - precision: 0.9902 - recall: 0.9489 - val_loss: 1.0644 - val_accuracy: 0.6808 - val_precision: 1.0000 - val_recall: 0.5711\n",
      "Epoch 20/20\n",
      "261/261 [==============================] - 24s 90ms/step - loss: 0.1159 - accuracy: 0.9535 - precision: 0.9853 - recall: 0.9515 - val_loss: 0.2988 - val_accuracy: 0.8750 - val_precision: 1.0000 - val_recall: 0.8323\n"
     ]
    }
   ],
   "source": [
    "#모델을 fit 해보겠습니다. 각 파라미터에 위에서 선언했었던 변수, 데이터 셋을 가져와서 각각에 맞게 넣어줍니다.\n",
    "\n",
    "with tf.device('/GPU:0'):\n",
    "    history = model.fit(\n",
    "        train_ds,\n",
    "        steps_per_epoch=TRAIN_IMG_COUNT // BATCH_SIZE,\n",
    "        epochs=EPOCHS,\n",
    "        validation_data=val_ds,\n",
    "        validation_steps=VAL_IMG_COUNT // BATCH_SIZE,\n",
    "        class_weight=class_weight,\n",
    "    )"
   ]
  },
  {
   "cell_type": "markdown",
   "id": "southeast-georgia",
   "metadata": {},
   "source": [
    "### 결과 확인"
   ]
  },
  {
   "cell_type": "code",
   "execution_count": 27,
   "id": "third-original",
   "metadata": {},
   "outputs": [
    {
     "data": {
      "image/png": "[encoded data removed]",
      "text/plain": [
       "<Figure size 1440x216 with 4 Axes>"
      ]
     },
     "metadata": {
      "needs_background": "light"
     },
     "output_type": "display_data"
    }
   ],
   "source": [
    "fig, ax = plt.subplots(1, 4, figsize=(20, 3))\n",
    "ax = ax.ravel()\n",
    "\n",
    "for i, met in enumerate(['precision', 'recall', 'accuracy', 'loss']):\n",
    "    ax[i].plot(history.history[met])\n",
    "    ax[i].plot(history.history['val_' + met])\n",
    "    ax[i].set_title('Model {}'.format(met))\n",
    "    ax[i].set_xlabel('epochs')\n",
    "    ax[i].set_ylabel(met)\n",
    "    ax[i].legend(['train', 'val'])"
   ]
  },
  {
   "cell_type": "markdown",
   "id": "loose-jurisdiction",
   "metadata": {},
   "source": [
    "### 모델 평가"
   ]
  },
  {
   "cell_type": "code",
   "execution_count": 28,
   "id": "obvious-juice",
   "metadata": {},
   "outputs": [
    {
     "name": "stdout",
     "output_type": "stream",
     "text": [
      "39/39 [==============================] - 2s 59ms/step - loss: 0.4139 - accuracy: 0.8590 - precision: 0.8872 - recall: 0.8872\n"
     ]
    }
   ],
   "source": [
    "loss, acc, prec, rec = model.evaluate(test_ds)"
   ]
  },
  {
   "cell_type": "code",
   "execution_count": null,
   "id": "relevant-climate",
   "metadata": {},
   "outputs": [],
   "source": []
  },
  {
   "cell_type": "markdown",
   "id": "requested-examination",
   "metadata": {},
   "source": [
    "## 회고\n",
    "\n",
    "\n",
    "* 이번 노드는 이미지를 학습하여 해당 이미지에 질병이 있는지를 판단하는 노드였습니다. 폐렴 이미지 사진을 학습하여 정확도 85%의 모델을 만들기 위해 여러 하이퍼 파라미터들을 수정해 보았습니다.\n",
    "\n",
    "\n",
    "* 우선 데이터에 따라 학습의 결과와 조절해야 할 hyper params가 달라지는데, 일반 train_test_split 함수를 사용하면 추출하는 데이터가 지속적으로 달라져 이를 해결하기 위해 random_state를 사용하여 추출하여 분리하는 case를 고정하였습니다. 이로 인해 항상 같은 데이터로 학습을 시킬 수 있게 되었습니다.\n",
    "  * 실행함에 있어 랜덤값을 취하기 때문에 경미한 수치의 변동은 있습니다\n",
    "  \n",
    "  \n",
    "* 다음으로 예제에 기본적으로 주어진 hyper params로 학습을 시켜 결과를 보았습니다. random_state 1000으로 지정한 첫 validation accuracy는 85.10이었습니다. \n",
    "\n",
    "\n",
    "* 학습의 문제점을 찾기 위해 마지막 그래프를 시각화하여 확인하였습니다. accuracy 그래프를 보아 25회학습시 20회 부근에서 train accuracy는 증가하지만 validation accuracy는 감소한다는 것을 알 수 있었습니다. 이는 over fitting으로 판단하여 epoch를 20회로 줄여보았습니다. 이에 accuracy가 85.10에서 87.5로 증가하였습니다. 줄였음에도 마지막에 accuracy가 감소하여, 15회까지 줄여보니 validation accuracy는 증가하고 loss는 감소하였으나 test set으로 평가한 test accuracy는 다시 80으로 감소하였습니다. over fitting이 일어난듯하여 accuracy는 20회로 고정하였습니다.\n",
    "\n",
    "\n",
    "* batch size는 기존 16에서 8로 줄였을 때 val_acc는 80, 32로 늘렸을 때 66.83으로 기존 16의 성능이 좋았습니다.\n",
    "\n",
    "\n",
    "* 일반적으로 BN과 dropout은 함께 사용하지 않는다고 알고 있습니다. 따라서 dense layer의 dropout을 제거해 보았습니다. 기존의 87.5에서 75.96으로 감소하였습니다. convolution block에 dropout(0.3)을 추가해보니 성능이 76.76으로 감소하였습니다. dense block의 dropout을 0.5, 0.5, 0.3으로 고정하니 accuracy가 88.9까지 올라갔습니다.\n",
    "\n",
    "\n",
    "* 이 밖에도 레이어의 구조를 추가해보고 BN, Dropout을 추가해보기도 했지만 성능에 향상은 없었습니다.\n",
    "\n",
    "\n",
    "#### 느낀점\n",
    "\n",
    "* 항상 느끼는 것이지만 데이터에 대한 정확한 이해없이 하이퍼 파라미터를 수정해 가는것은 손으로 더듬어가며 입구를 찾는 느낌입니다. 수치를 올려보고, 내려보고를 반복해서 성능이 높아지는 방향으로 나아가는 것이기 때문입니다. 의료분야의 이미지를 딥러닝에 적용해 볼 수 있어서 새로운 경험이었고 이런식으로도 활용할 수 있다는 것을 알게되었습니다."
   ]
  },
  {
   "cell_type": "markdown",
   "id": "photographic-mission",
   "metadata": {},
   "source": []
  }
 ],
 "metadata": {
  "kernelspec": {
   "display_name": "aiffel",
   "language": "python",
   "name": "aiffel"
  },
  "language_info": {
   "codemirror_mode": {
    "name": "ipython",
    "version": 3
   },
   "file_extension": ".py",
   "mimetype": "text/x-python",
   "name": "python",
   "nbconvert_exporter": "python",
   "pygments_lexer": "ipython3",
   "version": "3.7.9"
  }
 },
 "nbformat": 4,
 "nbformat_minor": 5
}
