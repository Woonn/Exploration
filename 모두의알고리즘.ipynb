{
 "cells": [
  {
   "cell_type": "code",
   "execution_count": 2,
   "id": "rough-cleaners",
   "metadata": {},
   "outputs": [
    {
     "name": "stdout",
     "output_type": "stream",
     "text": [
      "55\n"
     ]
    }
   ],
   "source": [
    "n = 10\n",
    "result = 0\n",
    "for i in range(1, n+1):\n",
    "    result += i\n",
    "    \n",
    "print(result)"
   ]
  },
  {
   "cell_type": "code",
   "execution_count": 8,
   "id": "boolean-nursery",
   "metadata": {},
   "outputs": [
    {
     "data": {
      "text/plain": [
       "5050"
      ]
     },
     "execution_count": 8,
     "metadata": {},
     "output_type": "execute_result"
    }
   ],
   "source": [
    "def total_sum1(n):\n",
    "    result = 0\n",
    "    for i in range(1, n+1):\n",
    "        result += i\n",
    "        \n",
    "    return result\n",
    "total_sum1(100)"
   ]
  },
  {
   "cell_type": "code",
   "execution_count": 9,
   "id": "sound-saskatchewan",
   "metadata": {},
   "outputs": [
    {
     "data": {
      "text/plain": [
       "5050"
      ]
     },
     "execution_count": 9,
     "metadata": {},
     "output_type": "execute_result"
    }
   ],
   "source": [
    "def total_sum2(n):\n",
    "    result = n*(n+1)//2\n",
    "    return result\n",
    "total_sum2(100)"
   ]
  },
  {
   "cell_type": "code",
   "execution_count": 22,
   "id": "capital-replication",
   "metadata": {},
   "outputs": [
    {
     "data": {
      "text/plain": [
       "385"
      ]
     },
     "execution_count": 22,
     "metadata": {},
     "output_type": "execute_result"
    }
   ],
   "source": [
    "def squared_sum(n):\n",
    "    result = 0\n",
    "    for i in range(1, n+1):\n",
    "        result += i**2\n",
    "    return result\n",
    "\n",
    "squared_sum(10) "
   ]
  },
  {
   "cell_type": "markdown",
   "id": "accessible-berlin",
   "metadata": {},
   "source": [
    "### 최댓값"
   ]
  },
  {
   "cell_type": "code",
   "execution_count": 41,
   "id": "juvenile-morrison",
   "metadata": {},
   "outputs": [
    {
     "name": "stdout",
     "output_type": "stream",
     "text": [
      "[5, 7, 7, 7, 7, 100]\n"
     ]
    }
   ],
   "source": [
    "def max_num(ls):\n",
    "    for i in range(len(ls)-1):\n",
    "        if ls[i]>ls[i+1]:\n",
    "            ls[i+1]=ls[i]\n",
    "        else:continue\n",
    "    return ls[-1]\n",
    "ls = [5,7,3,4,1,100]\n",
    "max_num(ls) \n",
    "print(ls)"
   ]
  },
  {
   "cell_type": "code",
   "execution_count": 28,
   "id": "healthy-raise",
   "metadata": {},
   "outputs": [
    {
     "name": "stdout",
     "output_type": "stream",
     "text": [
      "range(0, 4)\n"
     ]
    }
   ],
   "source": [
    "print(range(4))"
   ]
  },
  {
   "cell_type": "code",
   "execution_count": 30,
   "id": "serious-concert",
   "metadata": {},
   "outputs": [
    {
     "name": "stdout",
     "output_type": "stream",
     "text": [
      "92\n"
     ]
    }
   ],
   "source": [
    "# 최댓값 구하기\n",
    "# 입력: 숫자가 n개 들어 있는 리스트\n",
    "# 출력: 숫자 n개 중 최댓값\n",
    "\n",
    "\n",
    "def find_max(a):\n",
    "    n = len(a)             # 입력 크기 n\n",
    "    max_v = a[0]           # 리스트의 첫 번째 값을 최댓값으로 기억\n",
    "    for i in range(1, n):  # 1부터 n -1까지 반복\n",
    "        if a[i] > max_v:   # 이번 값이 현재까지 기억된 최댓값보다 크면\n",
    "            max_v = a[i]   # 최댓값을 변경\n",
    "    return max_v\n",
    "\n",
    "v = [17, 92, 18, 33, 58, 7, 33, 42]\n",
    "print(find_max(v))"
   ]
  },
  {
   "cell_type": "code",
   "execution_count": 42,
   "id": "expected-necklace",
   "metadata": {},
   "outputs": [
    {
     "data": {
      "text/plain": [
       "1"
      ]
     },
     "execution_count": 42,
     "metadata": {},
     "output_type": "execute_result"
    }
   ],
   "source": [
    "def max_num(ls):\n",
    "    m = max(ls)\n",
    "    return ls.index(m)\n",
    "\n",
    "ls = [17, 92, 18, 33, 58, 7, 33, 42]\n",
    "max_num(ls)       "
   ]
  },
  {
   "cell_type": "code",
   "execution_count": 43,
   "id": "split-services",
   "metadata": {},
   "outputs": [
    {
     "data": {
      "text/plain": [
       "0"
      ]
     },
     "execution_count": 43,
     "metadata": {},
     "output_type": "execute_result"
    }
   ],
   "source": [
    "ls = [17, 92, 18, 33, 58, 7, 33, 42]\n",
    "ls.index(17)"
   ]
  },
  {
   "cell_type": "code",
   "execution_count": 55,
   "id": "first-detroit",
   "metadata": {},
   "outputs": [
    {
     "data": {
      "text/plain": [
       "1"
      ]
     },
     "execution_count": 55,
     "metadata": {},
     "output_type": "execute_result"
    }
   ],
   "source": [
    "def max_num(ls):\n",
    "    max_idx = 0\n",
    "    for i in range(len(ls)):\n",
    "        if ls[i]>ls[max_idx]:\n",
    "            max_idx = i\n",
    "    return max_idx\n",
    "\n",
    "ls = [17, 92, 18, 33, 58, 7, 33, 42]\n",
    "max_num(ls)"
   ]
  },
  {
   "cell_type": "markdown",
   "id": "breeding-feedback",
   "metadata": {},
   "source": [
    "### 동명이인"
   ]
  },
  {
   "cell_type": "code",
   "execution_count": 65,
   "id": "random-cloud",
   "metadata": {},
   "outputs": [
    {
     "data": {
      "text/plain": [
       "{'Mike', 'Tom'}"
      ]
     },
     "execution_count": 65,
     "metadata": {},
     "output_type": "execute_result"
    }
   ],
   "source": [
    "def find_name(name):\n",
    "    result = set()\n",
    "    n = len(name)\n",
    "    for i in range(n-1):\n",
    "        for j in range(i+1, n):\n",
    "            if name[i] == name[j]:\n",
    "                result.add(name[i])\n",
    "    return result\n",
    "\n",
    "\n",
    "name = ['Tom', 'Jerry', 'Mike', 'Tom', 'Mike']\n",
    "find_name(name)"
   ]
  },
  {
   "cell_type": "code",
   "execution_count": null,
   "id": "aggressive-landscape",
   "metadata": {},
   "outputs": [],
   "source": []
  }
 ],
 "metadata": {
  "kernelspec": {
   "display_name": "aiffel",
   "language": "python",
   "name": "aiffel"
  },
  "language_info": {
   "codemirror_mode": {
    "name": "ipython",
    "version": 3
   },
   "file_extension": ".py",
   "mimetype": "text/x-python",
   "name": "python",
   "nbconvert_exporter": "python",
   "pygments_lexer": "ipython3",
   "version": "3.7.10"
  }
 },
 "nbformat": 4,
 "nbformat_minor": 5
}
