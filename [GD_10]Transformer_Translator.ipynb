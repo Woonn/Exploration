{
 "cells": [
  {
   "cell_type": "code",
   "execution_count": null,
   "id": "charitable-american",
   "metadata": {},
   "outputs": [],
   "source": []
  },
  {
   "cell_type": "code",
   "execution_count": null,
   "id": "intelligent-eclipse",
   "metadata": {},
   "outputs": [],
   "source": []
  },
  {
   "cell_type": "code",
   "execution_count": 1,
   "id": "analyzed-makeup",
   "metadata": {},
   "outputs": [
    {
     "name": "stdout",
     "output_type": "stream",
     "text": [
      "2.2.0\n"
     ]
    }
   ],
   "source": [
    "import numpy as np\n",
    "import tensorflow as tf\n",
    "import matplotlib.pyplot as plt\n",
    "\n",
    "import re\n",
    "import os\n",
    "import io\n",
    "import time\n",
    "import random\n",
    "\n",
    "import seaborn # Attention 시각화를 위해 필요!\n",
    "\n",
    "print(tf.__version__)"
   ]
  },
  {
   "cell_type": "code",
   "execution_count": 2,
   "id": "changed-release",
   "metadata": {},
   "outputs": [
    {
     "name": "stdout",
     "output_type": "stream",
     "text": [
      "슝=3\n"
     ]
    }
   ],
   "source": [
    "import matplotlib as mpl\n",
    "import matplotlib.pyplot as plt\n",
    " \n",
    "%config InlineBackend.figure_format = 'retina'\n",
    " \n",
    "import matplotlib.font_manager as fm\n",
    "fontpath = '/usr/share/fonts/truetype/nanum/NanumBarunGothic.ttf'\n",
    "font = fm.FontProperties(fname=fontpath, size=9)\n",
    "plt.rc('font', family='NanumBarunGothic') \n",
    "mpl.font_manager._rebuild()\n",
    "\n",
    "print(\"슝=3\")"
   ]
  },
  {
   "cell_type": "markdown",
   "id": "cooperative-treat",
   "metadata": {},
   "source": [
    "### 포지셔널 인코딩\n",
    "* 임베딩까지 한번에 처리\n",
    "* 인코딩은 단순 구분을 위한 수치화, 임베딩은 단어에 의미를 부여"
   ]
  },
  {
   "cell_type": "markdown",
   "id": "manufactured-barcelona",
   "metadata": {},
   "source": [
    "* 입력 데이터 → [ batch_size x length ]\n",
    "* Source & Target Embedding → [ batch_size x length x d_emb ]\n",
    "* Positional Encoding 강의 노드에서 구현을 했었죠? 2번의 결과에 더해지므로 shape 변화는 없습니다.\n",
    "* Multi-Head Attention 아래와 같이 여러 개의 서브 모듈들이 존재합니다.\n",
    "* Split Heads → [ batch_size x length x heads x (d_emb / n_heads) ]\n",
    "* Masking for Masked Attention\n",
    "* Scaled Dot Product Attention\n",
    "* Combine Heads →[ batch_size x length x d_emb ]\n",
    "* esidual Connection\n",
    "* Layer Normalization\n",
    "* Position-wise Feed-Forward Network → [ batch_size x length x d_ff ]\n",
    "* Output Linear Layer → [ batch_size x length x vocab_size ]"
   ]
  },
  {
   "cell_type": "code",
   "execution_count": 3,
   "id": "vocational-error",
   "metadata": {},
   "outputs": [
    {
     "name": "stdout",
     "output_type": "stream",
     "text": [
      "슝=3\n"
     ]
    }
   ],
   "source": [
    "class MultiHeadAttention(tf.keras.layers.Layer):\n",
    "    def __init__(self, d_model, num_heads):\n",
    "        super(MultiHeadAttention, self).__init__()\n",
    "        self.num_heads = num_heads\n",
    "        self.d_model = d_model\n",
    "        \n",
    "        self.depth = d_model // self.num_heads\n",
    "        \n",
    "        self.W_q = tf.keras.layers.Dense(d_model) # Linear Layer\n",
    "        self.W_k = tf.keras.layers.Dense(d_model)\n",
    "        self.W_v = tf.keras.layers.Dense(d_model)\n",
    "        \n",
    "        self.linear = tf.keras.layers.Dense(d_model)\n",
    "\n",
    "    def scaled_dot_product_attention(self, Q, K, V, mask):\n",
    "        d_k = tf.cast(K.shape[-1], tf.float32)\n",
    "\n",
    "        \"\"\"\n",
    "        Scaled QK 값 구하기\n",
    "        \"\"\"\n",
    "        # tf.matmul을 사용하는 이유는 입력값으로 다양한 tenser와 None이 들어왔을때를 위해\n",
    "        # tf.math.sqrt를 사용하는 이유는 다양한 tenser를 받기 위해\n",
    "        scaled_qk = tf.matmul(Q, K, transpose_b = True) / tf.math.sqrt(d_k)\n",
    "        \n",
    "\n",
    "        if mask is not None: scaled_qk += (mask * -1e9) \n",
    "\n",
    "        \"\"\"\n",
    "        1. Attention Weights 값 구하기 -> attentions\n",
    "        2. Attention 값을 V에 곱하기 -> out\n",
    "        \"\"\" \n",
    "        #axis는 디폴트로 -1, 마지막 차원을 명시해주는것\n",
    "        attestions = tf.nn.softmax(scaled_qk, axis=-1)\n",
    "        out = tf.matmul(attentions, V)\n",
    "\n",
    "        return out, attentions\n",
    "        \n",
    "\n",
    "    def split_heads(self, x):\n",
    "        \"\"\"\n",
    "        Embedding을 Head의 수로 분할하는 함수\n",
    "\n",
    "        x: [ batch x length x emb ]\n",
    "        return: [ batch x length x heads x self.depth ]\n",
    "        \"\"\"\n",
    "        def split_heads(self, x):\n",
    "            bsz = x.shape[0]# 일반적으로 입력텐서는 (batch_size, max_len, embedding_dim으로 구성)\n",
    "            split_x = tf.reshape(x, (bsz, -1, self.num_heads, self.depth))# reshape(tensor, 변환형태), -1은 구조를 맞춰줌\n",
    "            split_x = tf.transpose(split_x, perm=[0, 2, 1, 3])# perm: 입력 텐서의 인덱스를 기준으로 변환\n",
    "\n",
    "        return split_x\n",
    "\n",
    "\n",
    "    def combine_heads(self, x):\n",
    "        \"\"\"\n",
    "        분할된 Embedding을 하나로 결합하는 함수\n",
    "\n",
    "        x: [ batch x length x heads x self.depth ]\n",
    "        return: [ batch x length x emb ]\n",
    "        \"\"\"\n",
    "\n",
    "        return combined_x\n",
    "    \n",
    "\n",
    "    def call(self, Q, K, V, mask):\n",
    "        \"\"\"\n",
    "        아래 순서에 따라 소스를 작성하세요.\n",
    "\n",
    "        Step 1: Linear_in(Q, K, V) -> WQ, WK, WV\n",
    "        Step 2: Split Heads(WQ, WK, WV) -> WQ_split, WK_split, WV_split\n",
    "        Step 3: Scaled Dot Product Attention(WQ_split, WK_split, WV_split)\n",
    "                 -> out, attention_weights\n",
    "        Step 4: Combine Heads(out) -> out\n",
    "        Step 5: Linear_out(out) -> out\n",
    "\n",
    "        \"\"\"\n",
    "\n",
    "        return out, attention_weights\n",
    "\n",
    "print(\"슝=3\")"
   ]
  },
  {
   "cell_type": "code",
   "execution_count": 4,
   "id": "accurate-maple",
   "metadata": {},
   "outputs": [],
   "source": [
    "class MultiHeadAttention(tf.keras.layers.Layer):\n",
    "    def __init__(self, d_model, num_heads):\n",
    "        super(MultiHeadAttention, self).__init__()\n",
    "        self.num_heads = num_heads\n",
    "        self.d_model = d_model\n",
    "\n",
    "        self.depth = d_model // self.num_heads\n",
    "\n",
    "        self.W_q = tf.keras.layers.Dense(d_model)\n",
    "        self.W_k = tf.keras.layers.Dense(d_model)\n",
    "        self.W_v = tf.keras.layers.Dense(d_model)\n",
    "\n",
    "        self.linear = tf.keras.layers.Dense(d_model)\n",
    "\n",
    "    def scaled_dot_product_attention(self, Q, K, V, mask):\n",
    "        d_k = tf.cast(K.shape[-1], tf.float32)\n",
    "        QK = tf.matmul(Q, K, transpose_b=True)\n",
    "\n",
    "        scaled_qk = QK / tf.math.sqrt(d_k)\n",
    "\n",
    "        if mask is not None: scaled_qk += (mask * -1e9)  \n",
    "\n",
    "        attentions = tf.nn.softmax(scaled_qk, axis=-1)\n",
    "        out = tf.matmul(attentions, V)\n",
    "\n",
    "        return out, attentions\n",
    "\n",
    "\n",
    "    def split_heads(self, x):\n",
    "        bsz = x.shape[0]\n",
    "        split_x = tf.reshape(x, (bsz, -1, self.num_heads, self.depth))\n",
    "        split_x = tf.transpose(split_x, perm=[0, 2, 1, 3])\n",
    "\n",
    "        return split_x\n",
    "\n",
    "    def combine_heads(self, x):\n",
    "        bsz = x.shape[0]\n",
    "        combined_x = tf.transpose(x, perm=[0, 2, 1, 3])\n",
    "        combined_x = tf.reshape(combined_x, (bsz, -1, self.d_model))\n",
    "\n",
    "        return combined_x\n",
    "\n",
    "\n",
    "    def call(self, Q, K, V, mask):\n",
    "        WQ = self.W_q(Q)# [1, 100, 300]\n",
    "        WK = self.W_k(K)\n",
    "        WV = self.W_v(V)\n",
    "\n",
    "        WQ_splits = self.split_heads(WQ)\n",
    "        WK_splits = self.split_heads(WK)\n",
    "        WV_splits = self.split_heads(WV)\n",
    "\n",
    "        out, attention_weights = self.scaled_dot_product_attention(\n",
    "            WQ_splits, WK_splits, WV_splits, mask)\n",
    "\n",
    "        out = self.combine_heads(out)\n",
    "        out = self.linear(out)\n",
    "\n",
    "        return out, attention_weights"
   ]
  },
  {
   "cell_type": "code",
   "execution_count": null,
   "id": "surrounded-platinum",
   "metadata": {},
   "outputs": [],
   "source": []
  },
  {
   "cell_type": "code",
   "execution_count": 5,
   "id": "wireless-affair",
   "metadata": {},
   "outputs": [
    {
     "name": "stdout",
     "output_type": "stream",
     "text": [
      "['개인용 컴퓨터 사용의 상당 부분은 \"이것보다 뛰어날 수 있느냐?\"', '모든 광마우스와 마찬가지 로 이 광마우스도 책상 위에 놓는 마우스 패드를 필요로 하지 않는다.', '그러나 이것은 또한 책상도 필요로 하지 않는다.', '79.95달러하는 이 최첨단 무선 광마우스는 허공에서 팔목, 팔, 그외에 어떤 부분이든 그 움직임에따라 커서의 움직임을 조절하는 회전 운동 센서를 사용하고 있다.', '정보 관리들은 동남 아시아에서의 선박들에 대한 많은 (테러) 계획들이 실패로 돌아갔음을 밝혔으며, 세계 해상 교역량의 거의 3분의 1을 운송하는 좁은 해로인 말라카 해협이 테러 공격을 당하기 쉽다고 경고하고 있다.'] ['Much of personal computing is about \"can you top this?\"', 'so a mention a few weeks ago about a rechargeable wireless optical mouse brought in another rechargeable, wireless mouse.', \"Like all optical mice, But it also doesn't need a desk.\", 'uses gyroscopic sensors to control the cursor movement as you move your wrist, arm, whatever through the air.', \"Intelligence officials have revealed a spate of foiled plots on ships in Southeast Asia and are warning that a narrow stretch of water carrying almost one third of the world's maritime trade is vulnerable to a terror attack.\"]\n"
     ]
    }
   ],
   "source": [
    "data_dir = os.getenv('HOME')+'/aiffel/transformer/data'\n",
    "kor_path = data_dir+\"/korean-english-park.train.ko\"\n",
    "eng_path = data_dir+\"/korean-english-park.train.en\"\n",
    "\n",
    "# 데이터 정제 및 토큰화\n",
    "def clean_corpus(kor_path, eng_path):\n",
    "    with open(kor_path, \"r\") as f: kor = f.read().splitlines()\n",
    "    with open(eng_path, \"r\") as f: eng = f.read().splitlines()\n",
    "    assert len(kor) == len(eng)\n",
    "    \n",
    "    check_point = {}\n",
    "    kor_cleaned_corpus = []\n",
    "    eng_cleaned_corpus = []\n",
    "\n",
    "    for k, e in zip(kor, eng):\n",
    "        if k not in check_point:\n",
    "            check_point[k] = 1\n",
    "            kor_cleaned_corpus.append(k)\n",
    "            eng_cleaned_corpus.append(e)\n",
    "\n",
    "            \n",
    "    return kor_cleaned_corpus, eng_cleaned_corpus\n",
    "\n",
    "k_corpus, e_corpus = clean_corpus(kor_path, eng_path)\n",
    "print(k_corpus[:5], e_corpus[:5])"
   ]
  },
  {
   "cell_type": "code",
   "execution_count": 6,
   "id": "unsigned-indie",
   "metadata": {},
   "outputs": [
    {
     "data": {
      "text/plain": [
       "77591"
      ]
     },
     "execution_count": 6,
     "metadata": {},
     "output_type": "execute_result"
    }
   ],
   "source": [
    "len(k_corpus)"
   ]
  },
  {
   "cell_type": "markdown",
   "id": "combined-purse",
   "metadata": {},
   "source": [
    "2) 정제 함수를 아래 조건을 만족하게 정의하세요.\n",
    "\n",
    "조건\n",
    "\n",
    "* 모든 입력을 소문자로 변환합니다.\n",
    "* 알파벳, 문장부호, 한글만 남기고 모두 제거합니다.\n",
    "* 문장부호 양옆에 공백을 추가합니다.\n",
    "* 문장 앞뒤의 불필요한 공백을 제거합니다."
   ]
  },
  {
   "cell_type": "code",
   "execution_count": 7,
   "id": "ruled-audio",
   "metadata": {},
   "outputs": [],
   "source": [
    "def preprocess_sentence(sentence, s_token=False, e_token=False):\n",
    "    sentence = sentence.lower().strip()\n",
    "    sentence = re.sub(r\"([!,.?])\", r\" \\1 \", sentence)\n",
    "    sentence = re.sub(r'[\" \"]+', \" \", sentence)\n",
    "    sentence = re.sub(r\"[^가-힣a-zA-Z!,.?]+\", \" \", sentence)\n",
    "    sentence = sentence.strip()\n",
    "        \n",
    "    return sentence"
   ]
  },
  {
   "cell_type": "code",
   "execution_count": null,
   "id": "athletic-arrest",
   "metadata": {},
   "outputs": [],
   "source": []
  },
  {
   "cell_type": "code",
   "execution_count": 8,
   "id": "international-sudan",
   "metadata": {},
   "outputs": [
    {
     "data": {
      "text/plain": [
       "'aaa에이에이에이에이 오늘도 힘들다 !'"
      ]
     },
     "execution_count": 8,
     "metadata": {},
     "output_type": "execute_result"
    }
   ],
   "source": [
    "preprocess_sentence(\"AAA에이에이에이에이 오늘도 힘들다 1 2  3 ! @   #\", s_token = True, e_token = True)"
   ]
  },
  {
   "cell_type": "markdown",
   "id": "leading-punishment",
   "metadata": {},
   "source": [
    "3) 한글 말뭉치 kor_corpus 와 영문 말뭉치 eng_corpus 를 각각 분리한 후, 정제하여 토큰화를 진행합니다! 토큰화에는 Sentencepiece를 활용하세요. 첨부된 공식 사이트를 참고해 아래 조건을 만족하는 generate_tokenizer() 함수를 정의합니다. 최종적으로 ko_tokenizer 과 en_tokenizer 를 얻으세요. en_tokenizer에는 set_encode_extra_options(\"bos:eos\") 함수를 실행해 타겟 입력이 문장의 시작 토큰과 끝 토큰을 포함할 수 있게 합니다.\n",
    "\n",
    "조건\n",
    "\n",
    "* 단어 사전을 매개변수로 받아 원하는 크기의 사전을 정의할 수 있게 합니다. (기본: 20,000)\n",
    "* 학습 후 저장된 model 파일을 SentencePieceProcessor() 클래스에 Load()한 후 반환합니다.\n",
    "* 특수 토큰의 인덱스를 아래와 동일하게 지정합니다.\n",
    "  * <PAD> : 0 / <BOS> : 1 / <EOS> : 2 / <UNK> : 3"
   ]
  },
  {
   "cell_type": "code",
   "execution_count": 9,
   "id": "abandoned-declaration",
   "metadata": {
    "scrolled": true
   },
   "outputs": [
    {
     "data": {
      "text/plain": [
       "True"
      ]
     },
     "execution_count": 9,
     "metadata": {},
     "output_type": "execute_result"
    }
   ],
   "source": [
    "# Sentencepiece를 활용하여 학습한 tokenizer를 생성합니다.\n",
    "def generate_tokenizer(corpus,\n",
    "                       vocab_size,\n",
    "                       lang,\n",
    "                       pad_id=0,\n",
    "                       bos_id=1,\n",
    "                       eos_id=2,\n",
    "                       unk_id=3):\n",
    "    file = \"./%s_corpus.txt\" % lang\n",
    "    model = \"%s_spm\" % lang\n",
    "\n",
    "    with open(file, 'w') as f:\n",
    "        for row in corpus: f.write('{}\\n'.format(row))\n",
    "\n",
    "    import sentencepiece as spm\n",
    "    spm.SentencePieceTrainer.Train(\n",
    "        '--input=./%s --model_prefix=%s --vocab_size=%d'\\\n",
    "        % (file, model, vocab_size) + \\\n",
    "        '--pad_id==%d --bos_id=%d --eos_id=%d --unk_id=%d'\\\n",
    "        % (pad_id, bos_id, eos_id, unk_id)\n",
    "    )\n",
    "\n",
    "    tokenizer = spm.SentencePieceProcessor()\n",
    "    tokenizer.Load('%s.model' % model)\n",
    "\n",
    "    return tokenizer\n",
    "    \n",
    "kor_corpus = []\n",
    "eng_corpus = []\n",
    "\n",
    "for k, e in zip(k_corpus, e_corpus):\n",
    "    \n",
    "    kor_corpus.append(preprocess_sentence(k))\n",
    "    eng_corpus.append(preprocess_sentence(e, s_token = True, e_token = True))\n",
    "    \n",
    "SRC_VOCAB_SIZE = TGT_VOCAB_SIZE = 10000\n",
    "\n",
    "ko_tokenizer = generate_tokenizer(kor_corpus, SRC_VOCAB_SIZE, \"ko\")\n",
    "en_tokenizer = generate_tokenizer(eng_corpus, TGT_VOCAB_SIZE, \"en\")\n",
    "en_tokenizer.set_encode_extra_options(\"bos:eos\")"
   ]
  },
  {
   "cell_type": "code",
   "execution_count": 10,
   "id": "adaptive-prospect",
   "metadata": {},
   "outputs": [
    {
     "name": "stdout",
     "output_type": "stream",
     "text": [
      "77591\n",
      "['개인용 컴퓨터 사용의 상당 부분은 이것보다 뛰어날 수 있느냐 ?', '모든 광마우스와 마찬가지 로 이 광마우스도 책상 위에 놓는 마우스 패드를 필요로 하지 않는다 .', '그러나 이것은 또한 책상도 필요로 하지 않는다 .', '. 달러하는 이 최첨단 무선 광마우스는 허공에서 팔목 , 팔 , 그외에 어떤 부분이든 그 움직임에따라 커서의 움직임을 조절하는 회전 운동 센서를 사용하고 있다 .', '정보 관리들은 동남 아시아에서의 선박들에 대한 많은 테러 계획들이 실패로 돌아갔음을 밝혔으며 , 세계 해상 교역량의 거의 분의 을 운송하는 좁은 해로인 말라카 해협이 테러 공격을 당하기 쉽다고 경고하고 있다 .'] ['much of personal computing is about can you top this ?', 'so a mention a few weeks ago about a rechargeable wireless optical mouse brought in another rechargeable , wireless mouse .', 'like all optical mice , but it also doesn t need a desk .', 'uses gyroscopic sensors to control the cursor movement as you move your wrist , arm , whatever through the air .', 'intelligence officials have revealed a spate of foiled plots on ships in southeast asia and are warning that a narrow stretch of water carrying almost one third of the world s maritime trade is vulnerable to a terror attack .']\n"
     ]
    }
   ],
   "source": [
    "print(len(kor_corpus))\n",
    "print(kor_corpus[:5], eng_corpus[:5])"
   ]
  },
  {
   "cell_type": "code",
   "execution_count": 11,
   "id": "utility-commander",
   "metadata": {},
   "outputs": [
    {
     "name": "stdout",
     "output_type": "stream",
     "text": [
      "그러나 이것은 또한 책상도 필요로 하지 않는다 .\n"
     ]
    }
   ],
   "source": [
    "print(kor_corpus[2])"
   ]
  },
  {
   "cell_type": "markdown",
   "id": "thorough-endorsement",
   "metadata": {},
   "source": [
    "### 텍스트를 토큰화하는 2가지 방법"
   ]
  },
  {
   "cell_type": "code",
   "execution_count": 12,
   "id": "moderate-tennessee",
   "metadata": {
    "scrolled": true
   },
   "outputs": [
    {
     "data": {
      "text/plain": [
       "range(0, 5)"
      ]
     },
     "execution_count": 12,
     "metadata": {},
     "output_type": "execute_result"
    }
   ],
   "source": [
    "range(5)"
   ]
  },
  {
   "cell_type": "code",
   "execution_count": 52,
   "id": "correct-shell",
   "metadata": {},
   "outputs": [
    {
     "data": {
      "text/plain": [
       "3"
      ]
     },
     "execution_count": 52,
     "metadata": {},
     "output_type": "execute_result"
    }
   ],
   "source": [
    "# 단어단위로 토큰화\n",
    "ko_tokenizer.piece_to_id(kor_corpus[2])"
   ]
  },
  {
   "cell_type": "code",
   "execution_count": 53,
   "id": "precise-entertainment",
   "metadata": {},
   "outputs": [
    {
     "data": {
      "text/plain": [
       "[0,\n",
       " 2645,\n",
       " 3780,\n",
       " 6169,\n",
       " 2391,\n",
       " 6828,\n",
       " 6389,\n",
       " 353,\n",
       " 4598,\n",
       " 0,\n",
       " 13,\n",
       " 1012,\n",
       " 2333,\n",
       " 4308,\n",
       " 0,\n",
       " 550,\n",
       " 54,\n",
       " 432,\n",
       " 4249,\n",
       " 880,\n",
       " 671,\n",
       " 1179,\n",
       " 0,\n",
       " 2052,\n",
       " 461,\n",
       " 332,\n",
       " 2273,\n",
       " 54,\n",
       " 633,\n",
       " 4]"
      ]
     },
     "execution_count": 53,
     "metadata": {},
     "output_type": "execute_result"
    }
   ],
   "source": [
    "# 문장 전체를 토큰화\n",
    "ko_tokenizer.EncodeAsIds(eng_corpus[2])"
   ]
  },
  {
   "cell_type": "code",
   "execution_count": 15,
   "id": "cognitive-award",
   "metadata": {},
   "outputs": [
    {
     "name": "stderr",
     "output_type": "stream",
     "text": [
      "/home/aiffel-dj62/anaconda3/envs/aiffel/lib/python3.7/site-packages/ipykernel_launcher.py:9: TqdmDeprecationWarning: This function will be removed in tqdm==5.0.0\n",
      "Please use `tqdm.notebook.tqdm` instead of `tqdm.tqdm_notebook`\n",
      "  if __name__ == '__main__':\n"
     ]
    },
    {
     "data": {
      "application/vnd.jupyter.widget-view+json": {
       "model_id": "64e223597e314938b81711d5b4660a7c",
       "version_major": 2,
       "version_minor": 0
      },
      "text/plain": [
       "  0%|          | 0/77591 [00:00<?, ?it/s]"
      ]
     },
     "metadata": {},
     "output_type": "display_data"
    }
   ],
   "source": [
    "from tqdm import tqdm_notebook    # Process 과정을 보기 위해\n",
    "\n",
    "src_corpus = []\n",
    "tgt_corpus = []\n",
    "\n",
    "assert len(kor_corpus) == len(eng_corpus)\n",
    "\n",
    "# 토큰의 길이가 50 이하인 문장만 남깁니다. \n",
    "for i in tqdm_notebook(range(len(kor_corpus))):# for문 진행상황을 보고싶을 때\n",
    "    # [[YOUR CODE]]\n",
    "    if len(kor_corpus[i])<=50:\n",
    "        kor = ko_tokenizer.EncodeAsIds(kor_corpus[i])\n",
    "        eng = en_tokenizer.EncodeAsIds(eng_corpus[i])\n",
    "        \n",
    "        src_corpus.append(kor)\n",
    "        tgt_corpus.append(eng)\n",
    "    \n",
    "# 패딩처리를 완료하여 학습용 데이터를 완성합니다. \n",
    "enc_train = tf.keras.preprocessing.sequence.pad_sequences(src_corpus, padding='pre', maxlen = 50)\n",
    "dec_train = tf.keras.preprocessing.sequence.pad_sequences(tgt_corpus, padding='pre', maxlen = 50)"
   ]
  },
  {
   "cell_type": "code",
   "execution_count": 40,
   "id": "serious-amsterdam",
   "metadata": {},
   "outputs": [
    {
     "name": "stdout",
     "output_type": "stream",
     "text": [
      "[   0    0    0    0    0    0    0    0    0    0    0    0    0    0\n",
      "    0    0    0    0    0    0    0    0    0    0    0    0    0    0\n",
      "    0    0    0    0    0 1242  214  689  599    6 1571 1316    8 1464\n",
      "  276 2099  894   30   99 4264    0  574]\n",
      "(25689, 50) (25689, 50)\n"
     ]
    }
   ],
   "source": [
    "print(enc_train[0])\n",
    "print(enc_train.shape, dec_train.shape)"
   ]
  },
  {
   "cell_type": "markdown",
   "id": "million-diary",
   "metadata": {},
   "source": [
    "## 모델 구현"
   ]
  },
  {
   "cell_type": "markdown",
   "id": "female-numbers",
   "metadata": {},
   "source": [
    "### positional encoding"
   ]
  },
  {
   "cell_type": "code",
   "execution_count": 17,
   "id": "familiar-satin",
   "metadata": {},
   "outputs": [
    {
     "name": "stdout",
     "output_type": "stream",
     "text": [
      "슝=3\n"
     ]
    }
   ],
   "source": [
    "def positional_encoding(pos, d_model):\n",
    "    def cal_angle(position, i):\n",
    "        return position / np.power(10000, int(i) / d_model)\n",
    "\n",
    "    def get_posi_angle_vec(position):\n",
    "        return [cal_angle(position, i) for i in range(d_model)]\n",
    "\n",
    "    sinusoid_table = np.array([get_posi_angle_vec(pos_i) for pos_i in range(pos)])\n",
    "\n",
    "    sinusoid_table[:, 0::2] = np.sin(sinusoid_table[:, 0::2])\n",
    "    sinusoid_table[:, 1::2] = np.cos(sinusoid_table[:, 1::2])\n",
    "\n",
    "    return sinusoid_table\n",
    "\n",
    "print(\"슝=3\")"
   ]
  },
  {
   "cell_type": "markdown",
   "id": "informative-fabric",
   "metadata": {},
   "source": [
    "### Scaled dot product attention"
   ]
  },
  {
   "cell_type": "code",
   "execution_count": 18,
   "id": "endless-separation",
   "metadata": {},
   "outputs": [],
   "source": [
    "class MultiHeadAttention(tf.keras.layers.Layer):\n",
    "    def __init__(self, d_model, num_heads):\n",
    "        super(MultiHeadAttention, self).__init__()\n",
    "        self.num_heads = num_heads\n",
    "        self.d_model = d_model\n",
    "\n",
    "        self.depth = d_model // self.num_heads\n",
    "\n",
    "        self.W_q = tf.keras.layers.Dense(d_model)\n",
    "        self.W_k = tf.keras.layers.Dense(d_model)\n",
    "        self.W_v = tf.keras.layers.Dense(d_model)\n",
    "\n",
    "        self.linear = tf.keras.layers.Dense(d_model)\n",
    "\n",
    "    def scaled_dot_product_attention(self, Q, K, V, mask):\n",
    "        d_k = tf.cast(K.shape[-1], tf.float32)\n",
    "        QK = tf.matmul(Q, K, transpose_b=True)\n",
    "\n",
    "        scaled_qk = QK / tf.math.sqrt(d_k)\n",
    "\n",
    "        if mask is not None: scaled_qk += (mask * -1e9)  \n",
    "\n",
    "        attentions = tf.nn.softmax(scaled_qk, axis=-1)\n",
    "        out = tf.matmul(attentions, V)\n",
    "\n",
    "        return out, attentions\n",
    "\n",
    "\n",
    "    def split_heads(self, x):\n",
    "        bsz = x.shape[0]\n",
    "        split_x = tf.reshape(x, (bsz, -1, self.num_heads, self.depth))\n",
    "        split_x = tf.transpose(split_x, perm=[0, 2, 1, 3])\n",
    "\n",
    "        return split_x\n",
    "\n",
    "    def combine_heads(self, x):\n",
    "        bsz = x.shape[0]\n",
    "        combined_x = tf.transpose(x, perm=[0, 2, 1, 3])\n",
    "        combined_x = tf.reshape(combined_x, (bsz, -1, self.d_model))\n",
    "\n",
    "        return combined_x\n",
    "\n",
    "\n",
    "    def call(self, Q, K, V, mask):\n",
    "        WQ = self.W_q(Q)\n",
    "        WK = self.W_k(K)\n",
    "        WV = self.W_v(V)\n",
    "\n",
    "        WQ_splits = self.split_heads(WQ)\n",
    "        WK_splits = self.split_heads(WK)\n",
    "        WV_splits = self.split_heads(WV)\n",
    "\n",
    "        out, attention_weights = self.scaled_dot_product_attention(\n",
    "            WQ_splits, WK_splits, WV_splits, mask)\n",
    "\n",
    "        out = self.combine_heads(out)\n",
    "        out = self.linear(out)\n",
    "\n",
    "        return out, attention_weights"
   ]
  },
  {
   "cell_type": "markdown",
   "id": "sticky-affairs",
   "metadata": {},
   "source": [
    "### Position-wise Feed-Forward Network"
   ]
  },
  {
   "cell_type": "code",
   "execution_count": 19,
   "id": "white-quick",
   "metadata": {},
   "outputs": [
    {
     "name": "stdout",
     "output_type": "stream",
     "text": [
      "슝=3\n"
     ]
    }
   ],
   "source": [
    "class PoswiseFeedForwardNet(tf.keras.layers.Layer):\n",
    "    def __init__(self, d_model, d_ff):\n",
    "        super(PoswiseFeedForwardNet, self).__init__()\n",
    "        self.w_1 = tf.keras.layers.Dense(d_ff, activation='relu')\n",
    "        self.w_2 = tf.keras.layers.Dense(d_model)\n",
    "\n",
    "    def call(self, x):\n",
    "        out = self.w_1(x)\n",
    "        out = self.w_2(out)\n",
    "            \n",
    "        return out\n",
    "\n",
    "print(\"슝=3\")"
   ]
  },
  {
   "cell_type": "markdown",
   "id": "stretch-tonight",
   "metadata": {},
   "source": [
    "### Encoder 레이어 구현하기"
   ]
  },
  {
   "cell_type": "code",
   "execution_count": 20,
   "id": "fatal-animation",
   "metadata": {},
   "outputs": [
    {
     "name": "stdout",
     "output_type": "stream",
     "text": [
      "슝=3\n"
     ]
    }
   ],
   "source": [
    "class EncoderLayer(tf.keras.layers.Layer):\n",
    "    def __init__(self, d_model, n_heads, d_ff, dropout):\n",
    "        super(EncoderLayer, self).__init__()\n",
    "\n",
    "        self.enc_self_attn = MultiHeadAttention(d_model, n_heads)\n",
    "        self.ffn = PoswiseFeedForwardNet(d_model, d_ff)\n",
    "\n",
    "        self.norm_1 = tf.keras.layers.LayerNormalization(epsilon=1e-6)\n",
    "        self.norm_2 = tf.keras.layers.LayerNormalization(epsilon=1e-6)\n",
    "\n",
    "        self.do = tf.keras.layers.Dropout(dropout)\n",
    "        \n",
    "    def call(self, x, mask):\n",
    "\n",
    "        \"\"\"\n",
    "        Multi-Head Attention\n",
    "        \"\"\"\n",
    "        residual = x\n",
    "        out = self.norm_1(x)\n",
    "        out, enc_attn = self.enc_self_attn(out, out, out, mask)\n",
    "        out = self.do(out)\n",
    "        out += residual\n",
    "        \n",
    "        \"\"\"\n",
    "        Position-Wise Feed Forward Network\n",
    "        \"\"\"\n",
    "        residual = out\n",
    "        out = self.norm_2(out)\n",
    "        out = self.ffn(out)\n",
    "        out = self.do(out)\n",
    "        out += residual\n",
    "        \n",
    "        return out, enc_attn\n",
    "\n",
    "print(\"슝=3\")"
   ]
  },
  {
   "cell_type": "markdown",
   "id": "selective-wheel",
   "metadata": {},
   "source": [
    "### Decoder 레이어 구현하기"
   ]
  },
  {
   "cell_type": "code",
   "execution_count": 21,
   "id": "paperback-stadium",
   "metadata": {},
   "outputs": [],
   "source": [
    "class DecoderLayer(tf.keras.layers.Layer):\n",
    "    def __init__(self, d_model, num_heads, d_ff, dropout):\n",
    "        super(DecoderLayer, self).__init__()\n",
    "\n",
    "        self.dec_self_attn = MultiHeadAttention(d_model, num_heads)\n",
    "        self.enc_dec_attn = MultiHeadAttention(d_model, num_heads)\n",
    "\n",
    "        self.ffn = PoswiseFeedForwardNet(d_model, d_ff)\n",
    "\n",
    "        self.norm_1 = tf.keras.layers.LayerNormalization(epsilon=1e-6)\n",
    "        self.norm_2 = tf.keras.layers.LayerNormalization(epsilon=1e-6)\n",
    "        self.norm_3 = tf.keras.layers.LayerNormalization(epsilon=1e-6)\n",
    "\n",
    "        self.do = tf.keras.layers.Dropout(dropout)\n",
    "\n",
    "    def call(self, x, enc_out, causality_mask, padding_mask):\n",
    "\n",
    "        \"\"\"\n",
    "        Masked Multi-Head Attention\n",
    "        \"\"\"\n",
    "        residual = x\n",
    "        out = self.norm_1(x)\n",
    "        out, dec_attn = self.dec_self_attn(out, out, out, causality_mask)\n",
    "        out = self.do(out)\n",
    "        out += residual\n",
    "\n",
    "        \"\"\"\n",
    "        Multi-Head Attention\n",
    "        \"\"\"\n",
    "        residual = out\n",
    "        out = self.norm_2(out)\n",
    "        out, dec_enc_attn = self.enc_dec_attn(out, enc_out, enc_out, padding_mask)\n",
    "        out = self.do(out)\n",
    "        out += residual\n",
    "\n",
    "        \"\"\"\n",
    "        Position-Wise Feed Forward Network\n",
    "        \"\"\"\n",
    "        residual = out\n",
    "        out = self.norm_3(out)\n",
    "        out = self.ffn(out)\n",
    "        out = self.do(out)\n",
    "        out += residual\n",
    "\n",
    "        return out, dec_attn, dec_enc_attn"
   ]
  },
  {
   "cell_type": "code",
   "execution_count": 22,
   "id": "sticky-proceeding",
   "metadata": {},
   "outputs": [
    {
     "name": "stdout",
     "output_type": "stream",
     "text": [
      "슝=3\n"
     ]
    }
   ],
   "source": [
    "class Encoder(tf.keras.Model):\n",
    "    def __init__(self,\n",
    "                 n_layers,\n",
    "                 d_model,\n",
    "                 n_heads,\n",
    "                 d_ff,\n",
    "                 dropout):\n",
    "        super(Encoder, self).__init__()\n",
    "        self.n_layers = n_layers\n",
    "        self.enc_layers = [EncoderLayer(d_model, n_heads, d_ff, dropout) \n",
    "                        for _ in range(n_layers)]\n",
    "    \n",
    "        self.do = tf.keras.layers.Dropout(dropout)\n",
    "        \n",
    "    def call(self, x, mask):\n",
    "        out = x\n",
    "    \n",
    "        enc_attns = list()\n",
    "        for i in range(self.n_layers):\n",
    "            out, enc_attn = self.enc_layers[i](out, mask)\n",
    "            enc_attns.append(enc_attn)\n",
    "        \n",
    "        return out, enc_attns\n",
    "\n",
    "print(\"슝=3\")"
   ]
  },
  {
   "cell_type": "code",
   "execution_count": 23,
   "id": "absent-dance",
   "metadata": {},
   "outputs": [
    {
     "name": "stdout",
     "output_type": "stream",
     "text": [
      "슝=3\n"
     ]
    }
   ],
   "source": [
    "class Decoder(tf.keras.Model):\n",
    "    def __init__(self,\n",
    "                 n_layers,\n",
    "                 d_model,\n",
    "                 n_heads,\n",
    "                 d_ff,\n",
    "                 dropout):\n",
    "        super(Decoder, self).__init__()\n",
    "        self.n_layers = n_layers\n",
    "        self.dec_layers = [DecoderLayer(d_model, n_heads, d_ff, dropout) \n",
    "                            for _ in range(n_layers)]\n",
    "                            \n",
    "                            \n",
    "    def call(self, x, enc_out, causality_mask, padding_mask):\n",
    "        out = x\n",
    "    \n",
    "        dec_attns = list()\n",
    "        dec_enc_attns = list()\n",
    "        for i in range(self.n_layers):\n",
    "            out, dec_attn, dec_enc_attn = \\\n",
    "            self.dec_layers[i](out, enc_out, causality_mask, padding_mask)\n",
    "\n",
    "            dec_attns.append(dec_attn)\n",
    "            dec_enc_attns.append(dec_enc_attn)\n",
    "\n",
    "        return out, dec_attns, dec_enc_attns\n",
    "\n",
    "print(\"슝=3\")"
   ]
  },
  {
   "cell_type": "markdown",
   "id": "suburban-master",
   "metadata": {},
   "source": [
    "### Transformer 완성하기\n",
    "조건\n",
    "\n",
    "* shared 변수를 매개변수로 받아 True 일 경우 Decoder Embedding과 출력층 Linear의 Weight를 공유할 수 있게 하세요! Weight가 공유될 경우 Embedding 값에 sqrt(d_model)을 곱해줘야 하는 것, 잊지 않으셨죠? (참고: tf.keras.layers.Layer.set_weights())\n",
    "* 우리가 정의한 positional_encoding 의 반환값 형태는 [ Length x d_model ] 인데, 이를 더해 줄 Embedding 값 형태가 [ Batch x Length x d_model ] 이라서 연산이 불가능합니다. 연산이 가능하도록 수정하세요! (참고: tf.expand_dims(), np.newaxis)"
   ]
  },
  {
   "cell_type": "code",
   "execution_count": 24,
   "id": "composite-harrison",
   "metadata": {},
   "outputs": [],
   "source": [
    "class Transformer(tf.keras.Model):\n",
    "    def __init__(self,\n",
    "                    n_layers,\n",
    "                    d_model,\n",
    "                    n_heads,\n",
    "                    d_ff,\n",
    "                    src_vocab_size,\n",
    "                    tgt_vocab_size,\n",
    "                    pos_len,\n",
    "                    dropout=0.2,\n",
    "                    shared=True):\n",
    "        super(Transformer, self).__init__()\n",
    "        self.d_model = tf.cast(d_model, tf.float32)\n",
    "\n",
    "        self.enc_emb = tf.keras.layers.Embedding(src_vocab_size, d_model)\n",
    "        self.dec_emb = tf.keras.layers.Embedding(tgt_vocab_size, d_model)\n",
    "\n",
    "        self.pos_encoding = positional_encoding(pos_len, d_model)\n",
    "        self.do = tf.keras.layers.Dropout(dropout)\n",
    "\n",
    "        self.encoder = Encoder(n_layers, d_model, n_heads, d_ff, dropout)\n",
    "        self.decoder = Decoder(n_layers, d_model, n_heads, d_ff, dropout)\n",
    "\n",
    "        self.fc = tf.keras.layers.Dense(tgt_vocab_size)\n",
    "\n",
    "        self.shared = shared\n",
    "\n",
    "        if shared: self.fc.set_weights(tf.transpose(self.dec_emb.weights))\n",
    "\n",
    "    def embedding(self, emb, x):\n",
    "        seq_len = x.shape[1]\n",
    "        out = emb(x)\n",
    "\n",
    "        if self.shared: out *= tf.math.sqrt(self.d_model)\n",
    "\n",
    "        out += self.pos_encoding[np.newaxis, ...][:, :seq_len, :]\n",
    "        out = self.do(out)\n",
    "\n",
    "        return out\n",
    "\n",
    "\n",
    "    def call(self, enc_in, dec_in, enc_mask, causality_mask, dec_mask):\n",
    "        enc_in = self.embedding(self.enc_emb, enc_in)\n",
    "        dec_in = self.embedding(self.dec_emb, dec_in)\n",
    "\n",
    "        enc_out, enc_attns = self.encoder(enc_in, enc_mask)\n",
    "\n",
    "        dec_out, dec_attns, dec_enc_attns = \\\n",
    "        self.decoder(dec_in, enc_out, causality_mask, dec_mask)\n",
    "\n",
    "        logits = self.fc(dec_out)\n",
    "\n",
    "        return logits, enc_attns, dec_attns, dec_enc_attns"
   ]
  },
  {
   "cell_type": "code",
   "execution_count": 25,
   "id": "regular-bunch",
   "metadata": {},
   "outputs": [],
   "source": [
    "n_layers = 2\n",
    "d_model = 512\n",
    "n_heads = 8\n",
    "d_ff = 2048\n",
    "dropout = 0.2\n",
    "vocab_size = SRC_VOCAB_SIZE\n",
    "\n",
    "transformer = Transformer(n_layers=n_layers,\n",
    "                         d_model=d_model,\n",
    "                         n_heads=n_heads,\n",
    "                         d_ff=d_ff,\n",
    "                         dropout=dropout,\n",
    "                         src_vocab_size=vocab_size,\n",
    "                         tgt_vocab_size=vocab_size,\n",
    "                         pos_len=200)"
   ]
  },
  {
   "cell_type": "code",
   "execution_count": 26,
   "id": "brown-point",
   "metadata": {},
   "outputs": [
    {
     "name": "stdout",
     "output_type": "stream",
     "text": [
      "슝=3\n"
     ]
    }
   ],
   "source": [
    "import numpy as np\n",
    "import tensorflow as tf\n",
    "\n",
    "def generate_padding_mask(seq):\n",
    "    seq = tf.cast(tf.math.equal(seq, 0), tf.float32)\n",
    "    return seq[:, tf.newaxis, tf.newaxis, :]\n",
    "\n",
    "def generate_causality_mask(src_len, tgt_len):\n",
    "    mask = 1 - np.cumsum(np.eye(src_len, tgt_len), 0)\n",
    "    return tf.cast(mask, tf.float32)\n",
    "\n",
    "def generate_masks(src, tgt):\n",
    "    enc_mask = generate_padding_mask(src)\n",
    "    dec_mask = generate_padding_mask(tgt)\n",
    "\n",
    "    dec_enc_causality_mask = generate_causality_mask(tgt.shape[1], src.shape[1])\n",
    "    dec_enc_mask = tf.maximum(enc_mask, dec_enc_causality_mask)\n",
    "\n",
    "    dec_causality_mask = generate_causality_mask(tgt.shape[1], tgt.shape[1])\n",
    "    dec_mask = tf.maximum(dec_mask, dec_causality_mask)\n",
    "\n",
    "    return enc_mask, dec_enc_mask, dec_mask\n",
    "\n",
    "print(\"슝=3\")"
   ]
  },
  {
   "cell_type": "markdown",
   "id": "stone-mainstream",
   "metadata": {},
   "source": [
    "### 10-4. 모델 밖의 조력자들"
   ]
  },
  {
   "cell_type": "code",
   "execution_count": 27,
   "id": "outside-bachelor",
   "metadata": {},
   "outputs": [
    {
     "name": "stdout",
     "output_type": "stream",
     "text": [
      "슝=3\n"
     ]
    }
   ],
   "source": [
    "import numpy as np\n",
    "import tensorflow as tf\n",
    "\n",
    "def generate_padding_mask(seq):\n",
    "    seq = tf.cast(tf.math.equal(seq, 0), tf.float32)\n",
    "    return seq[:, tf.newaxis, tf.newaxis, :]\n",
    "\n",
    "def generate_causality_mask(src_len, tgt_len):\n",
    "    mask = 1 - np.cumsum(np.eye(src_len, tgt_len), 0)\n",
    "    return tf.cast(mask, tf.float32)\n",
    "\n",
    "def generate_masks(src, tgt):\n",
    "    enc_mask = generate_padding_mask(src)\n",
    "    dec_mask = generate_padding_mask(tgt)\n",
    "\n",
    "    dec_enc_causality_mask = generate_causality_mask(tgt.shape[1], src.shape[1])\n",
    "    dec_enc_mask = tf.maximum(enc_mask, dec_enc_causality_mask)\n",
    "\n",
    "    dec_causality_mask = generate_causality_mask(tgt.shape[1], tgt.shape[1])\n",
    "    dec_mask = tf.maximum(dec_mask, dec_causality_mask)\n",
    "\n",
    "    return enc_mask, dec_enc_mask, dec_mask\n",
    "\n",
    "print(\"슝=3\")"
   ]
  },
  {
   "cell_type": "code",
   "execution_count": 28,
   "id": "statistical-calcium",
   "metadata": {},
   "outputs": [
    {
     "data": {
      "image/png": "[encoded data removed]",
      "text/plain": [
       "<Figure size 504x504 with 3 Axes>"
      ]
     },
     "metadata": {
      "image/png": {
       "height": 208,
       "width": 426
      },
      "needs_background": "light"
     },
     "output_type": "display_data"
    }
   ],
   "source": [
    "import matplotlib.pyplot as plt\n",
    "\n",
    "batch, length = 16, 20\n",
    "src_padding = 5\n",
    "tgt_padding = 15\n",
    "\n",
    "src_pad = tf.zeros(shape=(batch, src_padding))\n",
    "tgt_pad = tf.zeros(shape=(batch, tgt_padding))\n",
    "\n",
    "sample_data = tf.ones(shape=(batch, length))\n",
    "\n",
    "sample_src = tf.concat([sample_data, src_pad], axis=-1)\n",
    "sample_tgt = tf.concat([sample_data, tgt_pad], axis=-1)\n",
    "\n",
    "enc_mask, dec_enc_mask, dec_mask = \\\n",
    "generate_masks(sample_src, sample_tgt)\n",
    "\n",
    "fig = plt.figure(figsize=(7, 7))\n",
    "\n",
    "ax1 = fig.add_subplot(131)\n",
    "ax2 = fig.add_subplot(132)\n",
    "ax3 = fig.add_subplot(133)\n",
    "\n",
    "ax1.set_title('1) Encoder Mask')\n",
    "ax2.set_title('2) Encoder-Decoder Mask')\n",
    "ax3.set_title('3) Decoder Mask')\n",
    "\n",
    "ax1.imshow(enc_mask[:3, 0, 0].numpy(), cmap='Dark2')\n",
    "ax2.imshow(dec_enc_mask[0, 0].numpy(), cmap='Dark2')\n",
    "ax3.imshow(dec_mask[0, 0].numpy(), cmap='Dark2')\n",
    "\n",
    "plt.show()"
   ]
  },
  {
   "cell_type": "markdown",
   "id": "derived-employee",
   "metadata": {},
   "source": [
    "첫 번째 마스크는 각 배치 별로 데이터의 꼬리 부분을 Masking 하는 형태임을 알 수 있습니다. 낯선 부분은 두 번째와 세 번째의 Decoder가 연관된 마스크인데… 이것이 바로 Causality Mask와 Padding Mask를 결합한 형태입니다! 자기 회귀적인 특성을 살리기 위해 Masked Multi-Head Attention에서 인과 관계 마스킹을 했던 것을 기억하시죠? 인과 관계를 가리는 것도 중요하지만 Decoder 역시 <PAD> 토큰은 피해 가야 하기 때문에 이런 형태의 마스크가 사용된답니다!"
   ]
  },
  {
   "cell_type": "markdown",
   "id": "improved-touch",
   "metadata": {},
   "source": [
    "### LearningRateSchedule 클래스를 상속받아 구현"
   ]
  },
  {
   "cell_type": "code",
   "execution_count": 29,
   "id": "modular-halloween",
   "metadata": {},
   "outputs": [
    {
     "name": "stdout",
     "output_type": "stream",
     "text": [
      "슝=3\n"
     ]
    }
   ],
   "source": [
    "class LearningRateScheduler(tf.keras.optimizers.schedules.LearningRateSchedule):\n",
    "    def __init__(self, d_model, warmup_steps=4000):\n",
    "        super(LearningRateScheduler, self).__init__()\n",
    "        self.d_model = d_model\n",
    "        self.warmup_steps = warmup_steps\n",
    "    \n",
    "    def __call__(self, step):\n",
    "        arg1 = step ** -0.5\n",
    "        arg2 = step * (self.warmup_steps ** -1.5)\n",
    "        \n",
    "        return (self.d_model ** -0.5) * tf.math.minimum(arg1, arg2)\n",
    "\n",
    "learning_rate = LearningRateScheduler(512)\n",
    "optimizer = tf.keras.optimizers.Adam(learning_rate,\n",
    "                                     beta_1=0.9,\n",
    "                                     beta_2=0.98, \n",
    "                                     epsilon=1e-9)\n",
    "\n",
    "print(\"슝=3\")"
   ]
  },
  {
   "cell_type": "code",
   "execution_count": 30,
   "id": "organized-sight",
   "metadata": {},
   "outputs": [],
   "source": [
    "loss_object = tf.keras.losses.SparseCategoricalCrossentropy(\n",
    "    from_logits=True, reduction='none')\n",
    "\n",
    "def loss_function(real, pred):\n",
    "    mask = tf.math.logical_not(tf.math.equal(real, 0))\n",
    "    loss_ = loss_object(real, pred)\n",
    "\n",
    "    # Masking 되지 않은 입력의 개수로 Scaling하는 과정\n",
    "    mask = tf.cast(mask, dtype=loss_.dtype)\n",
    "    loss_ *= mask\n",
    "\n",
    "    return tf.reduce_sum(loss_)/tf.reduce_sum(mask)"
   ]
  },
  {
   "cell_type": "code",
   "execution_count": 31,
   "id": "olive-nowhere",
   "metadata": {},
   "outputs": [],
   "source": [
    "# Train Step 함수 정의\n",
    "\n",
    "@tf.function()\n",
    "def train_step(src, tgt, model, optimizer):\n",
    "    gold = tgt[:, 1:]\n",
    "        \n",
    "    enc_mask, dec_enc_mask, dec_mask = generate_masks(src, tgt)\n",
    "\n",
    "    # 계산된 loss에 tf.GradientTape()를 적용해 학습을 진행합니다.\n",
    "    with tf.GradientTape() as tape:\n",
    "        predictions, enc_attns, dec_attns, dec_enc_attns = \\\n",
    "        model(src, tgt, enc_mask, dec_enc_mask, dec_mask)\n",
    "        loss = loss_function(gold, predictions[:, :-1])\n",
    "\n",
    "    # 최종적으로 optimizer.apply_gradients()가 사용됩니다. \n",
    "    gradients = tape.gradient(loss, model.trainable_variables)    \n",
    "    optimizer.apply_gradients(zip(gradients, model.trainable_variables))\n",
    "    \n",
    "    return loss, enc_attns, dec_attns, dec_enc_attns"
   ]
  },
  {
   "cell_type": "code",
   "execution_count": 32,
   "id": "royal-soviet",
   "metadata": {},
   "outputs": [],
   "source": [
    "def visualize_attention(src, tgt, enc_attns, dec_attns, dec_enc_attns):\n",
    "    def draw(data, ax, x=\"auto\", y=\"auto\"):\n",
    "        import seaborn\n",
    "        seaborn.heatmap(data, \n",
    "                        square=True,\n",
    "                        vmin=0.0, vmax=1.0, \n",
    "                        cbar=False, ax=ax,\n",
    "                        xticklabels=x,\n",
    "                        yticklabels=y)\n",
    "\n",
    "    for layer in range(0, 2, 1):\n",
    "        fig, axs = plt.subplots(1, 4, figsize=(20, 10))\n",
    "        print(\"Encoder Layer\", layer + 1)\n",
    "        for h in range(4):\n",
    "            draw(enc_attns[layer][0, h, :len(src), :len(src)], axs[h], src, src)\n",
    "        plt.show()\n",
    "\n",
    "    for layer in range(0, 2, 1):\n",
    "        fig, axs = plt.subplots(1, 4, figsize=(20, 10))\n",
    "        print(\"Decoder Self Layer\", layer+1)\n",
    "        for h in range(4):\n",
    "            draw(dec_attns[layer][0, h, :len(tgt), :len(tgt)], axs[h], tgt, tgt)\n",
    "        plt.show()\n",
    "\n",
    "        print(\"Decoder Src Layer\", layer+1)\n",
    "        fig, axs = plt.subplots(1, 4, figsize=(20, 10))\n",
    "        for h in range(4):\n",
    "            draw(dec_enc_attns[layer][0, h, :len(tgt), :len(src)], axs[h], src, tgt)\n",
    "        plt.show()"
   ]
  },
  {
   "cell_type": "code",
   "execution_count": 33,
   "id": "dynamic-proxy",
   "metadata": {},
   "outputs": [],
   "source": [
    "def evaluate(sentence, model, src_tokenizer, tgt_tokenizer):\n",
    "    sentence = preprocess_sentence(sentence)\n",
    "\n",
    "    pieces = src_tokenizer.encode_as_pieces(sentence)\n",
    "    tokens = src_tokenizer.encode_as_ids(sentence)\n",
    "\n",
    "    _input = tf.keras.preprocessing.sequence.pad_sequences([tokens],\n",
    "                                                           maxlen=enc_train.shape[-1],\n",
    "                                                           padding='pre')\n",
    "\n",
    "    ids = []\n",
    "    output = tf.expand_dims([tgt_tokenizer.bos_id()], 0)\n",
    "    for i in range(dec_train.shape[-1]):\n",
    "        enc_padding_mask, combined_mask, dec_padding_mask = \\\n",
    "        generate_masks(_input, output)\n",
    "\n",
    "        predictions, enc_attns, dec_attns, dec_enc_attns =\\\n",
    "        model(_input, \n",
    "              output,\n",
    "              enc_padding_mask,\n",
    "              combined_mask,\n",
    "              dec_padding_mask)\n",
    "\n",
    "        predicted_id = \\\n",
    "        tf.argmax(tf.math.softmax(predictions, axis=-1)[0, -1]).numpy().item()\n",
    "\n",
    "        if tgt_tokenizer.eos_id() == predicted_id:\n",
    "            result = tgt_tokenizer.decode_ids(ids)\n",
    "            return pieces, result, enc_attns, dec_attns, dec_enc_attns\n",
    "\n",
    "        ids.append(predicted_id)\n",
    "        output = tf.concat([output, tf.expand_dims([predicted_id], 0)], axis=-1)\n",
    "\n",
    "    result = tgt_tokenizer.decode_ids(ids)\n",
    "\n",
    "    return pieces, result, enc_attns, dec_attns, dec_enc_attns"
   ]
  },
  {
   "cell_type": "code",
   "execution_count": 34,
   "id": "fleet-pacific",
   "metadata": {},
   "outputs": [],
   "source": [
    "def translate(sentence, model, src_tokenizer, tgt_tokenizer, plot_attention=False):\n",
    "    pieces, result, enc_attns, dec_attns, dec_enc_attns = \\\n",
    "    evaluate(sentence, model, src_tokenizer, tgt_tokenizer)\n",
    "\n",
    "    print('Input: %s' % (sentence))\n",
    "    print('Predicted translation: {}'.format(result))\n",
    "\n",
    "    if plot_attention:\n",
    "        visualize_attention(pieces, result.split(), enc_attns, dec_attns, dec_enc_attns)"
   ]
  },
  {
   "cell_type": "code",
   "execution_count": 35,
   "id": "painted-seller",
   "metadata": {},
   "outputs": [],
   "source": [
    "import numpy as np\n",
    "import tensorflow as tf\n",
    "\n",
    "def generate_masks(inp, tar):\n",
    "  # Encoder padding mask\n",
    "    enc_padding_mask = create_padding_mask(inp)\n",
    "\n",
    "  # Used in the 2nd attention block in the decoder.\n",
    "  # This padding mask is used to mask the encoder outputs.\n",
    "    dec_padding_mask = create_padding_mask(inp)\n",
    "\n",
    "  # Used in the 1st attention block in the decoder.\n",
    "  # It is used to pad and mask future tokens in the input received by \n",
    "  # the decoder.\n",
    "    look_ahead_mask = create_look_ahead_mask(tf.shape(tar)[1])\n",
    "    dec_target_padding_mask = create_padding_mask(tar)\n",
    "    combined_mask = tf.maximum(dec_target_padding_mask, look_ahead_mask)\n",
    "\n",
    "    return enc_padding_mask, combined_mask, dec_padding_mask"
   ]
  },
  {
   "cell_type": "code",
   "execution_count": 36,
   "id": "fitting-statement",
   "metadata": {},
   "outputs": [],
   "source": [
    "\n",
    "sentences = ['오바마는 대통령이다.', '시민들은 도시 속에 산다.', '커피는 필요 없다.', '일곱 명의 사망자가 발생했다.']"
   ]
  },
  {
   "cell_type": "code",
   "execution_count": 37,
   "id": "treated-greenhouse",
   "metadata": {},
   "outputs": [],
   "source": [
    "\n",
    "def create_padding_mask(seq):\n",
    "    seq = tf.cast(tf.math.equal(seq, 0), tf.float32)\n",
    "    return seq[:, tf.newaxis, tf.newaxis, :]  # (batch_size, 1, 1, seq_len)\n",
    "\n",
    "def create_look_ahead_mask(size):\n",
    "    mask = 1 - tf.linalg.band_part(tf.ones((size, size)), -1, 0)\n",
    "    return mask  # (seq_len, seq_len)"
   ]
  },
  {
   "cell_type": "code",
   "execution_count": null,
   "id": "golden-delight",
   "metadata": {},
   "outputs": [],
   "source": []
  },
  {
   "cell_type": "code",
   "execution_count": 38,
   "id": "mature-albany",
   "metadata": {
    "scrolled": false
   },
   "outputs": [
    {
     "name": "stderr",
     "output_type": "stream",
     "text": [
      "/home/aiffel-dj62/anaconda3/envs/aiffel/lib/python3.7/site-packages/ipykernel_launcher.py:12: TqdmDeprecationWarning: This function will be removed in tqdm==5.0.0\n",
      "Please use `tqdm.notebook.tqdm` instead of `tqdm.tqdm_notebook`\n",
      "  if sys.path[0] == '':\n"
     ]
    },
    {
     "data": {
      "application/vnd.jupyter.widget-view+json": {
       "model_id": "35c9a2b13c134ca8a2c5cb8cd6ee0dcc",
       "version_major": 2,
       "version_minor": 0
      },
      "text/plain": [
       "  0%|          | 0/402 [00:00<?, ?it/s]"
      ]
     },
     "metadata": {},
     "output_type": "display_data"
    },
    {
     "name": "stdout",
     "output_type": "stream",
     "text": [
      "Translations\n",
      "Input: 오바마는 대통령이다.\n",
      "Predicted translation: they was they was a a of they of they of they of they of they of they of they of they of they of they of they of they of they .\n",
      "Input: 시민들은 도시 속에 산다.\n",
      "Predicted translation: they was ay of they of they of they of they of they of they of they of they of they of they of they of they of they of they .\n",
      "Input: 커피는 필요 없다.\n",
      "Predicted translation: they was they was a of they . s . s . s . s . s . s . s . s . s . s . s . s . s . s . s . s . s . percent . .\n",
      "Input: 일곱 명의 사망자가 발생했다.\n",
      "Predicted translation: they was a a a of they of they of they of they of they of they of they of they of they of they of they of they of they of they .\n",
      "\n",
      "Hyperparameters\n",
      "n_layers : 2\n",
      "d_model : 512\n",
      "n_heads :  8\n",
      "d_ff : 2048\n",
      "dropout : 0.2\n",
      "\n",
      "TRAINING\n",
      "Warmup Steps: 4000\n",
      "Batch size : 64\n",
      "Epoch At :  1\n"
     ]
    },
    {
     "data": {
      "application/vnd.jupyter.widget-view+json": {
       "model_id": "e40cb89e19e54709862db0c5ff418880",
       "version_major": 2,
       "version_minor": 0
      },
      "text/plain": [
       "  0%|          | 0/402 [00:00<?, ?it/s]"
      ]
     },
     "metadata": {},
     "output_type": "display_data"
    },
    {
     "name": "stdout",
     "output_type": "stream",
     "text": [
      "Translations\n",
      "Input: 오바마는 대통령이다.\n",
      "Predicted translation: obama obama obama obama obama obama obama obama obama obama obama obama obama obama obama obama obama obama obama obama obama obama obama obama obama obama obama obama obama obama obama obama obama obama obama obama obama obama obama obama obama obama obama obama obama obama obama .\n",
      "Input: 시민들은 도시 속에 산다.\n",
      "Predicted translation: they have been they of they of they of they of they have been killed in the first times of they of they of they of they s around they s .\n",
      "Input: 커피는 필요 없다.\n",
      "Predicted translation: they have they don t know they have been they of they of they have been they of they were not been they of they were not been in they of they\n",
      "Input: 일곱 명의 사망자가 발생했다.\n",
      "Predicted translation: the death of the u . s . s . s . m . m . m . m . m . m . m . m . m . m . m . m . m . m . m . m . m . military\n",
      "\n",
      "Hyperparameters\n",
      "n_layers : 2\n",
      "d_model : 512\n",
      "n_heads :  8\n",
      "d_ff : 2048\n",
      "dropout : 0.2\n",
      "\n",
      "TRAINING\n",
      "Warmup Steps: 4000\n",
      "Batch size : 64\n",
      "Epoch At :  2\n"
     ]
    },
    {
     "data": {
      "application/vnd.jupyter.widget-view+json": {
       "model_id": "98e7f83348a1490abdccd7dc8eafcdc3",
       "version_major": 2,
       "version_minor": 0
      },
      "text/plain": [
       "  0%|          | 0/402 [00:00<?, ?it/s]"
      ]
     },
     "metadata": {},
     "output_type": "display_data"
    },
    {
     "name": "stdout",
     "output_type": "stream",
     "text": [
      "Translations\n",
      "Input: 오바마는 대통령이다.\n",
      "Predicted translation: obama is a campaign for the first of obama is a campaign is a campaign to be obama is a campaign for the first of the first of the first of the obama is leading to be obama to be obama to be a campaign . .\n",
      "Input: 시민들은 도시 속에 산다.\n",
      "Predicted translation: they were they were they of they were they were they in the first in the city of the city s . m . and they were in they were they were they in the city of .\n",
      "Input: 커피는 필요 없다.\n",
      "Predicted translation: they don t know they don t know they don t know they don t know they don t think they don t think they don t think they don t think they don t think they .\n",
      "Input: 일곱 명의 사망자가 발생했다.\n",
      "Predicted translation: the plane was killed in southern southern city of the southern city of the southern city s southern city of the southern city s . m . m . m . m . m . m . m . m . much of the city .\n",
      "\n",
      "Hyperparameters\n",
      "n_layers : 2\n",
      "d_model : 512\n",
      "n_heads :  8\n",
      "d_ff : 2048\n",
      "dropout : 0.2\n",
      "\n",
      "TRAINING\n",
      "Warmup Steps: 4000\n",
      "Batch size : 64\n",
      "Epoch At :  3\n"
     ]
    },
    {
     "data": {
      "application/vnd.jupyter.widget-view+json": {
       "model_id": "858a12e8fa1b4eecb4e0c7f46bb9a69a",
       "version_major": 2,
       "version_minor": 0
      },
      "text/plain": [
       "  0%|          | 0/402 [00:00<?, ?it/s]"
      ]
     },
     "metadata": {},
     "output_type": "display_data"
    },
    {
     "name": "stdout",
     "output_type": "stream",
     "text": [
      "Translations\n",
      "Input: 오바마는 대통령이다.\n",
      "Predicted translation: obama is a campaigning campaigning campaigning campaigning campaign obama on tuesday on sunday as obama is a obama campaigning obama on sundayself obama on sunday in the obama campaigns of obamas that obama is obama on the obama campaign .\n",
      "Input: 시민들은 도시 속에 산다.\n",
      "Predicted translation: they ve learned they struck the two city of the two city struck the two mountain s . meters in the city s . ms in the city of the city s office is a small city s office in .\n",
      "Input: 커피는 필요 없다.\n",
      "Predicted translation: the coffee don t know the coffee don t know the coffee don t know the coffee don t know the coffee don t know the coffee don t know the coffee won t know the coffee but the coffee won t because they . .\n",
      "Input: 일곱 명의 사망자가 발생했다.\n",
      "Predicted translation: four four four four four people were killed in the four four four people were killed in the four four four four four people were killed in the town of the blasts were killed in the town of the blasts . .\n",
      "\n",
      "Hyperparameters\n",
      "n_layers : 2\n",
      "d_model : 512\n",
      "n_heads :  8\n",
      "d_ff : 2048\n",
      "dropout : 0.2\n",
      "\n",
      "TRAINING\n",
      "Warmup Steps: 4000\n",
      "Batch size : 64\n",
      "Epoch At :  4\n"
     ]
    },
    {
     "data": {
      "application/vnd.jupyter.widget-view+json": {
       "model_id": "8456b17c6be741d6be4af48d771a3322",
       "version_major": 2,
       "version_minor": 0
      },
      "text/plain": [
       "  0%|          | 0/402 [00:00<?, ?it/s]"
      ]
     },
     "metadata": {},
     "output_type": "display_data"
    },
    {
     "name": "stdout",
     "output_type": "stream",
     "text": [
      "Translations\n",
      "Input: 오바마는 대통령이다.\n",
      "Predicted translation: obama on the president of obama on the obama is a presidential campaigning on obama on obama on the president on obama on obama on obama on obama on the presidential nominations obama on the president obama on obama on obama on . .\n",
      "Input: 시민들은 도시 속에 산다.\n",
      "Predicted translation: they have been one of the great placed in the great places of the greatest s main place in the city of the city s main city of the city of the city of the greatest city in the city of .\n",
      "Input: 커피는 필요 없다.\n",
      "Predicted translation: don t take anything there is no answer for anything in the coffee or no answers are no answers for the tables don t need to be given to be given up for but or but no answers or no coffee .\n",
      "Input: 일곱 명의 사망자가 발생했다.\n",
      "Predicted translation: four four four four four people were killed in the four weeks and the four people were killed and wednesday s death toll on wednesday wednesday s top fire since wednesday s fourth weeks .\n",
      "\n",
      "Hyperparameters\n",
      "n_layers : 2\n",
      "d_model : 512\n",
      "n_heads :  8\n",
      "d_ff : 2048\n",
      "dropout : 0.2\n",
      "\n",
      "TRAINING\n",
      "Warmup Steps: 4000\n",
      "Batch size : 64\n",
      "Epoch At :  5\n"
     ]
    },
    {
     "data": {
      "application/vnd.jupyter.widget-view+json": {
       "model_id": "b2c488686302447b80db2ef5f3528dfd",
       "version_major": 2,
       "version_minor": 0
      },
      "text/plain": [
       "  0%|          | 0/402 [00:00<?, ?it/s]"
      ]
     },
     "metadata": {},
     "output_type": "display_data"
    },
    {
     "name": "stdout",
     "output_type": "stream",
     "text": [
      "Translations\n",
      "Input: 오바마는 대통령이다.\n",
      "Predicted translation: obama is campaigning for the president who is campaigning for the president who is campaign for the president who is heading the president of the white house to head the president of the white house is heading out of the president of obama .\n",
      "Input: 시민들은 도시 속에 산다.\n",
      "Predicted translation: they walked in the mountain s streets and the mountain is heading on the mountain s the mountain s greatest in the mountain s peak peak peak in the mountain s main mountain in the beach on the mountain s peak peak beach .\n",
      "Input: 커피는 필요 없다.\n",
      "Predicted translation: coffee coffee coffee don t need coffee coffee coffee coffee coffee coffee coffee coffee coffee coffee don t need coffee don t need coffee coffee don t need coffee you can t need you won t need coffee coffee coffee you won t be coffee coffee coffee .\n",
      "Input: 일곱 명의 사망자가 발생했다.\n",
      "Predicted translation: all of the deadly were killed in wednesday night s deaths and wednesday and wednesday s deaths in the days and wednesday and wednesday s death toll in the days of .\n",
      "\n",
      "Hyperparameters\n",
      "n_layers : 2\n",
      "d_model : 512\n",
      "n_heads :  8\n",
      "d_ff : 2048\n",
      "dropout : 0.2\n",
      "\n",
      "TRAINING\n",
      "Warmup Steps: 4000\n",
      "Batch size : 64\n",
      "Epoch At :  6\n"
     ]
    },
    {
     "data": {
      "application/vnd.jupyter.widget-view+json": {
       "model_id": "db328a39fa3f43e6b947b728a2832bc8",
       "version_major": 2,
       "version_minor": 0
      },
      "text/plain": [
       "  0%|          | 0/402 [00:00<?, ?it/s]"
      ]
     },
     "metadata": {},
     "output_type": "display_data"
    },
    {
     "name": "stdout",
     "output_type": "stream",
     "text": [
      "Translations\n",
      "Input: 오바마는 대통령이다.\n",
      "Predicted translation: the president elected president elect will be obama lead the president elect on february president elected on a former president of the lead to the lead only lead on a figure of the president elect on his president elect to obama . .\n",
      "Input: 시민들은 도시 속에 산다.\n",
      "Predicted translation: the mountain is a mountainried as man s great mountain mountain mountain mountain mountain mountain s man is a mountain mountain to be a mountainried in a mountain sl meters of the greatest mountain to be a mountain s great .\n",
      "Input: 커피는 필요 없다.\n",
      "Predicted translation: needs to take to take the country to take on the other to take another country in the country to take on the table needs to take the need need to take on the other to need the need to take another country .\n",
      "Input: 일곱 명의 사망자가 발생했다.\n",
      "Predicted translation: nine people have died sunday in a crowd since sunday wednesday where a crowd chavez s death toll on sunday wednesday s death toll in a nationaliten since sunday s death toll since sunday were killed in a string .\n",
      "\n",
      "Hyperparameters\n",
      "n_layers : 2\n",
      "d_model : 512\n",
      "n_heads :  8\n",
      "d_ff : 2048\n",
      "dropout : 0.2\n",
      "\n",
      "TRAINING\n",
      "Warmup Steps: 4000\n",
      "Batch size : 64\n",
      "Epoch At :  7\n"
     ]
    },
    {
     "data": {
      "application/vnd.jupyter.widget-view+json": {
       "model_id": "44cc2fe591d941bb98069cd48c721500",
       "version_major": 2,
       "version_minor": 0
      },
      "text/plain": [
       "  0%|          | 0/402 [00:00<?, ?it/s]"
      ]
     },
     "metadata": {},
     "output_type": "display_data"
    },
    {
     "name": "stdout",
     "output_type": "stream",
     "text": [
      "Translations\n",
      "Input: 오바마는 대통령이다.\n",
      "Predicted translation: the president ll be in the first time when mccain hours race to be the president ll be a president ll be in the first time when mccain got the president to be president to the president of the president ll be in the first time .\n",
      "Input: 시민들은 도시 속에 산다.\n",
      "Predicted translation: they added to the crowds are almost always as far as far as far as med in the battle in which is the battle the mountain struck in which is the righted in the battle in the world s .\n",
      "Input: 커피는 필요 없다.\n",
      "Predicted translation: coffee coffee coffee any coffee but needs coffee coffee coffee coffee coffee coffee coffee coffee coffee coffee coffee coffee coffee coffee coffee coffee coffee coffee coffee coffee coffee coffee coffee coffee coffee coffee coffee any coffee coffee coffee coffee coffee coffee coffee coffee coffee coffee coffee .\n",
      "Input: 일곱 명의 사망자가 발생했다.\n",
      "Predicted translation: two nine nine people have died in two battles since friday sunday were killed with two dozens of deaths since death with two dozens of deaths and wounded sunday were killed with fires at least seven people .\n",
      "\n",
      "Hyperparameters\n",
      "n_layers : 2\n",
      "d_model : 512\n",
      "n_heads :  8\n",
      "d_ff : 2048\n",
      "dropout : 0.2\n",
      "\n",
      "TRAINING\n",
      "Warmup Steps: 4000\n",
      "Batch size : 64\n",
      "Epoch At :  8\n"
     ]
    },
    {
     "data": {
      "application/vnd.jupyter.widget-view+json": {
       "model_id": "32dbb8240e0c46d4a8e480809b469a74",
       "version_major": 2,
       "version_minor": 0
      },
      "text/plain": [
       "  0%|          | 0/402 [00:00<?, ?it/s]"
      ]
     },
     "metadata": {},
     "output_type": "display_data"
    },
    {
     "name": "stdout",
     "output_type": "stream",
     "text": [
      "Translations\n",
      "Input: 오바마는 대통령이다.\n",
      "Predicted translation: obama on the white house is a former percentage campaign trail to be obama to the obama of the obama hours to be a number of obama hours obama to be presidential candidates obama to the number to be obama on television of .\n",
      "Input: 시민들은 도시 속에 산다.\n",
      "Predicted translation: the man s harbor was place in many s harbor city of many in many city where many city of many in city where a man has a placed in manyahoo s harbor in many people in city .\n",
      "Input: 커피는 필요 없다.\n",
      "Predicted translation: need to take place but the north is to take place but if you need to place to take place the north is need to place but need to place to place that important to north korea for the need to put the need to place coffee .\n",
      "Input: 일곱 명의 사망자가 발생했다.\n",
      "Predicted translation: the death of the sunday s death was killed sunday after another narrow camp near the death of . another turkish s death was killed in the northern rocky s northern turkish deaths were killed in the blast .\n",
      "\n",
      "Hyperparameters\n",
      "n_layers : 2\n",
      "d_model : 512\n",
      "n_heads :  8\n",
      "d_ff : 2048\n",
      "dropout : 0.2\n",
      "\n",
      "TRAINING\n",
      "Warmup Steps: 4000\n",
      "Batch size : 64\n",
      "Epoch At :  9\n"
     ]
    },
    {
     "data": {
      "application/vnd.jupyter.widget-view+json": {
       "model_id": "1bed83b7aa374de794a3b5e6774dcaa8",
       "version_major": 2,
       "version_minor": 0
      },
      "text/plain": [
       "  0%|          | 0/402 [00:00<?, ?it/s]"
      ]
     },
     "metadata": {},
     "output_type": "display_data"
    },
    {
     "name": "stdout",
     "output_type": "stream",
     "text": [
      "Translations\n",
      "Input: 오바마는 대통령이다.\n",
      "Predicted translation: president obama said obama gave it should be president\n",
      "Input: 시민들은 도시 속에 산다.\n",
      "Predicted translation: it s learned many of many killings it s although places a crowded mante places and two places in places the always s place as many people have been placed in place .\n",
      "Input: 커피는 필요 없다.\n",
      "Predicted translation: it needs to take place for the coffee for the coffee for anything that it need only place on which is need on on sunday when you need need to coffee need to coffee for the coffee need to take another coffee . .\n",
      "Input: 일곱 명의 사망자가 발생했다.\n",
      "Predicted translation: seven civilian death toll wednesday gave another were killed nearly two people were killed in two neighborhoods on wednesday shooked two people dead were killed and two other people dead were killed in .\n",
      "\n",
      "Hyperparameters\n",
      "n_layers : 2\n",
      "d_model : 512\n",
      "n_heads :  8\n",
      "d_ff : 2048\n",
      "dropout : 0.2\n",
      "\n",
      "TRAINING\n",
      "Warmup Steps: 4000\n",
      "Batch size : 64\n",
      "Epoch At :  10\n"
     ]
    },
    {
     "data": {
      "application/vnd.jupyter.widget-view+json": {
       "model_id": "7b9d59f8c2b74b49b6bf2fcfecb70b89",
       "version_major": 2,
       "version_minor": 0
      },
      "text/plain": [
       "  0%|          | 0/402 [00:00<?, ?it/s]"
      ]
     },
     "metadata": {},
     "output_type": "display_data"
    },
    {
     "name": "stdout",
     "output_type": "stream",
     "text": [
      "Translations\n",
      "Input: 오바마는 대통령이다.\n",
      "Predicted translation: obama who said he needed to be a member president who the member of the two member of the democratic presidential candidates who needed to be a member of the democratic presidential candidate who virtual during the eighth can thing .\n",
      "Input: 시민들은 도시 속에 산다.\n",
      "Predicted translation: it s the crowd comes like many run as many as many as many as many as many as many as many as many as many as there are many as many opportunity .\n",
      "Input: 커피는 필요 없다.\n",
      "Predicted translation: need to take her gloves to feel whether there were no needs needed need needs to take pace for questions of the need need need need need important to use important to send for it to rough for no needs .\n",
      "Input: 일곱 명의 사망자가 발생했다.\n",
      "Predicted translation: death sunday a third earthquake rattled sunday thursday sunday . sunday . sunday . roads in may have killed sunday thursday and four other deaths in the area on tuesday as death toll on tuesday as firefighters tuesday on tuesday in the area .\n",
      "\n",
      "Hyperparameters\n",
      "n_layers : 2\n",
      "d_model : 512\n",
      "n_heads :  8\n",
      "d_ff : 2048\n",
      "dropout : 0.2\n",
      "\n",
      "TRAINING\n",
      "Warmup Steps: 4000\n",
      "Batch size : 64\n",
      "Epoch At :  11\n"
     ]
    },
    {
     "data": {
      "application/vnd.jupyter.widget-view+json": {
       "model_id": "d6b0fa475e9040f2908d33945e5fd6f2",
       "version_major": 2,
       "version_minor": 0
      },
      "text/plain": [
       "  0%|          | 0/402 [00:00<?, ?it/s]"
      ]
     },
     "metadata": {},
     "output_type": "display_data"
    },
    {
     "name": "stdout",
     "output_type": "stream",
     "text": [
      "Translations\n",
      "Input: 오바마는 대통령이다.\n",
      "Predicted translation: he will needs to be the shot in the first president seem delegate but will need to visit the united nations president seems to place the democratic president res presidential visiting presidential candidates should be presidential to delegate .\n",
      "Input: 시민들은 도시 속에 산다.\n",
      "Predicted translation: crowds believe crowds the country s place but in huge crowd an place crowded crowds that there are med crowded crowds in huge mountain and waves in italy believe a crowd of mancheing a crowded .\n",
      "Input: 커피는 필요 없다.\n",
      "Predicted translation: take coffee for the coffee needs need to take the coffee for the coffee need to take coffee in the coffee for the u . need to take coffee or decst needs to take coffee for the coffee for the dec coffee needs .\n",
      "Input: 일곱 명의 사망자가 발생했다.\n",
      "Predicted translation: two third director of nine people sunday s seven were killed in sevened in two weeks and nine others have been killed in two weeks since sunday . have been killed in seven others and other sunday .\n",
      "\n",
      "Hyperparameters\n",
      "n_layers : 2\n",
      "d_model : 512\n",
      "n_heads :  8\n",
      "d_ff : 2048\n",
      "dropout : 0.2\n",
      "\n",
      "TRAINING\n",
      "Warmup Steps: 4000\n",
      "Batch size : 64\n",
      "Epoch At :  12\n"
     ]
    },
    {
     "data": {
      "application/vnd.jupyter.widget-view+json": {
       "model_id": "64f5ce3ff1d6484f90e6003b7a6fe79c",
       "version_major": 2,
       "version_minor": 0
      },
      "text/plain": [
       "  0%|          | 0/402 [00:00<?, ?it/s]"
      ]
     },
     "metadata": {},
     "output_type": "display_data"
    },
    {
     "name": "stdout",
     "output_type": "stream",
     "text": [
      "Translations\n",
      "Input: 오바마는 대통령이다.\n",
      "Predicted translation: the presidential presidential candidate will presidential votes mccain member three presidential beak seems beak you to be president lee myung bak from his below the presidential presidential candidates will be president obama to all president .\n",
      "Input: 시민들은 도시 속에 산다.\n",
      "Predicted translation: many people in seoul and marked the crowd city of top city man city of man city city city of man city of man city of man city of man city of people are in two thirds of manado city in the city of .\n",
      "Input: 커피는 필요 없다.\n",
      "Predicted translation: take on coffee for the coffee for the coffee is been much coffee for the coffee for the coffee for you need coffee and take coffee for your coffee is not coffee for the need to coffee for you need coffee or coffee coffee . .\n",
      "Input: 일곱 명의 사망자가 발생했다.\n",
      "Predicted translation: on sunday two others were killed in the deaths last minutes of a voteed in detail sunday sunday thursday and others seven other areas were killed in details of engineering sunday in seven others were reported .\n",
      "\n",
      "Hyperparameters\n",
      "n_layers : 2\n",
      "d_model : 512\n",
      "n_heads :  8\n",
      "d_ff : 2048\n",
      "dropout : 0.2\n",
      "\n",
      "TRAINING\n",
      "Warmup Steps: 4000\n",
      "Batch size : 64\n",
      "Epoch At :  13\n"
     ]
    },
    {
     "data": {
      "application/vnd.jupyter.widget-view+json": {
       "model_id": "f988a62e6f8346f8b11f3ecdf46006d7",
       "version_major": 2,
       "version_minor": 0
      },
      "text/plain": [
       "  0%|          | 0/402 [00:00<?, ?it/s]"
      ]
     },
     "metadata": {},
     "output_type": "display_data"
    },
    {
     "name": "stdout",
     "output_type": "stream",
     "text": [
      "Translations\n",
      "Input: 오바마는 대통령이다.\n",
      "Predicted translation: i m proud of the president elect will president elect former president elect president elect barack obama of president elect barack obama being a president elected president elected president elect barack obama of mccain should be president to elect president a step on the president .\n",
      "Input: 시민들은 도시 속에 산다.\n",
      "Predicted translation: many of people are thought to places in place by many people are place . billion crowded in crowded crowds in mountain city of four people in place . man city of four people are thought to have be evacuated .\n",
      "Input: 커피는 필요 없다.\n",
      "Predicted translation: take caffeine is but you burially whether you take coffee will take place in sales for coffee in coffee in korea december . or deca is whether you will take coffee in december . but you don t take coffee .\n",
      "Input: 일곱 명의 사망자가 발생했다.\n",
      "Predicted translation: nine were officials have died in seven other deaths officials since friday s death of sunday were killed near the seven others were seven officials in the seven others were on monday s seven were killed seven week .\n",
      "\n",
      "Hyperparameters\n",
      "n_layers : 2\n",
      "d_model : 512\n",
      "n_heads :  8\n",
      "d_ff : 2048\n",
      "dropout : 0.2\n",
      "\n",
      "TRAINING\n",
      "Warmup Steps: 4000\n",
      "Batch size : 64\n",
      "Epoch At :  14\n"
     ]
    },
    {
     "data": {
      "application/vnd.jupyter.widget-view+json": {
       "model_id": "9afe89c7b3bb4abf95b6de34dcf7cc45",
       "version_major": 2,
       "version_minor": 0
      },
      "text/plain": [
       "  0%|          | 0/402 [00:00<?, ?it/s]"
      ]
     },
     "metadata": {},
     "output_type": "display_data"
    },
    {
     "name": "stdout",
     "output_type": "stream",
     "text": [
      "Translations\n",
      "Input: 오바마는 대통령이다.\n",
      "Predicted translation: she president seems fuller below of obama in the u . s . presidential visited his presidential visit down almost everybody i president a president who is presidential president so his aide for presidential presidential president .\n",
      "Input: 시민들은 도시 속에 산다.\n",
      "Predicted translation: many of two places are in miami where there was two places places in many place where there has two places in the place where there s places in two places and where huge places in their place\n",
      "Input: 커피는 필요 없다.\n",
      "Predicted translation: don t need to any care for the u . s . coffee need on penalty . coffee . don t care for any care whether coffee or but you need coffee need any care or that penalty or other penalty any care .\n",
      "Input: 일곱 명의 사망자가 발생했다.\n",
      "Predicted translation: nine were officials were injured sunday were reportedly hit with at the deaths and a hospital sunday night at the hospital sunday s streets sunday with at least people in the hospital sunday and others were injured sunday were reported .\n",
      "\n",
      "Hyperparameters\n",
      "n_layers : 2\n",
      "d_model : 512\n",
      "n_heads :  8\n",
      "d_ff : 2048\n",
      "dropout : 0.2\n",
      "\n",
      "TRAINING\n",
      "Warmup Steps: 4000\n",
      "Batch size : 64\n",
      "Epoch At :  15\n"
     ]
    }
   ],
   "source": [
    "import random\n",
    "from tqdm import tqdm_notebook \n",
    "\n",
    "BATCH_SIZE = 64\n",
    "EPOCHS = 15\n",
    "\n",
    "for epoch in range(EPOCHS):\n",
    "    total_loss = 0\n",
    "\n",
    "    idx_list = list(range(0, enc_train.shape[0], BATCH_SIZE))\n",
    "    random.shuffle(idx_list)\n",
    "    t = tqdm_notebook(idx_list)\n",
    "\n",
    "    for (batch, idx) in enumerate(t):\n",
    "        batch_loss, enc_attns, dec_attns, dec_enc_attns = \\\n",
    "        train_step(enc_train[idx:idx+BATCH_SIZE],\n",
    "                    dec_train[idx:idx+BATCH_SIZE],\n",
    "                    transformer,\n",
    "                    optimizer)\n",
    "\n",
    "        total_loss += batch_loss\n",
    "\n",
    "        t.set_description_str('Epoch %2d' % (epoch + 1))\n",
    "        t.set_postfix_str('Loss %.4f' % (total_loss.numpy() / (batch + 1)))\n",
    "    print('Translations' )\n",
    "    for sentence in sentences:\n",
    "        translate(sentence, transformer, ko_tokenizer, en_tokenizer)\n",
    "    print()\n",
    "    print('Hyperparameters' )\n",
    "    print('n_layers :', n_layers)\n",
    "    print('d_model :', d_model)\n",
    "    print('n_heads : ', n_heads)\n",
    "    print('d_ff :', d_ff)\n",
    "    print('dropout :', dropout)\n",
    "    print()\n",
    "    print('TRAINING')\n",
    "    print('Warmup Steps: 4000')\n",
    "    print('Batch size : 64')\n",
    "    print('Epoch At : ', epoch+1)"
   ]
  },
  {
   "cell_type": "markdown",
   "id": "swedish-brazil",
   "metadata": {},
   "source": [
    "## 회고\n",
    "\n",
    "Layer를 2개로 제한했기 때문인지 학습이 제대로 되지 않는 듯한 모습이었습니다. 모델을 단순히 이해하는 것이 아니라 구현한다는 것이 얼마나 어려운일인지 느낄 수 있었습니다."
   ]
  },
  {
   "cell_type": "code",
   "execution_count": null,
   "id": "convinced-flood",
   "metadata": {},
   "outputs": [],
   "source": []
  }
 ],
 "metadata": {
  "kernelspec": {
   "display_name": "Python 3",
   "language": "python",
   "name": "python3"
  },
  "language_info": {
   "codemirror_mode": {
    "name": "ipython",
    "version": 3
   },
   "file_extension": ".py",
   "mimetype": "text/x-python",
   "name": "python",
   "nbconvert_exporter": "python",
   "pygments_lexer": "ipython3",
   "version": "3.7.10"
  }
 },
 "nbformat": 4,
 "nbformat_minor": 5
}
