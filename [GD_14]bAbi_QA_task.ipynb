{
 "cells": [
  {
   "cell_type": "code",
   "execution_count": 1,
   "id": "encouraging-contamination",
   "metadata": {},
   "outputs": [
    {
     "name": "stdout",
     "output_type": "stream",
     "text": [
      "3.7.10\n"
     ]
    }
   ],
   "source": [
    "import platform\n",
    "print(platform.python_version())"
   ]
  },
  {
   "cell_type": "markdown",
   "id": "neural-compatibility",
   "metadata": {},
   "source": [
    "## 패키지 및 데이터 로드"
   ]
  },
  {
   "cell_type": "code",
   "execution_count": 2,
   "id": "sublime-great",
   "metadata": {},
   "outputs": [],
   "source": [
    "from tensorflow.keras.utils import get_file\n",
    "from tensorflow.keras.preprocessing.sequence import pad_sequences\n",
    "from tensorflow.keras.utils import to_categorical\n",
    "import numpy as np\n",
    "import tarfile\n",
    "from nltk import FreqDist\n",
    "from functools import reduce\n",
    "import os\n",
    "import re"
   ]
  },
  {
   "cell_type": "code",
   "execution_count": 3,
   "id": "light-hunter",
   "metadata": {},
   "outputs": [],
   "source": [
    "# # 환경에 맞게 경로 수정\n",
    "# home_dir = os.getenv('HOME')+'/aiffel/babi_memory_net'\n",
    "# file_to_save = home_dir + '/babi-tasks-v1-2.tar.gz'\n",
    "# path = get_file(file_to_save, origin='https://s3.amazonaws.com/text-datasets/babi_tasks_1-20_v1-2.tar.gz')\n",
    "# print(path)"
   ]
  },
  {
   "cell_type": "code",
   "execution_count": 4,
   "id": "elegant-prison",
   "metadata": {},
   "outputs": [],
   "source": [
    "# with tarfile.open(path) as tar:\n",
    "#     tar.extractall(home_dir)  # ~/aiffel/babi_memory_net 아래에 압축해제\n",
    "#     tar.close()"
   ]
  },
  {
   "cell_type": "code",
   "execution_count": 5,
   "id": "noted-withdrawal",
   "metadata": {},
   "outputs": [
    {
     "name": "stdout",
     "output_type": "stream",
     "text": [
      "/home/aiffel-dj62/aiffel/babi_memory_net/task_2\n"
     ]
    }
   ],
   "source": [
    "data_path = os.getenv('HOME')+'/aiffel/babi_memory_net/task_2'\n",
    "print(data_path)"
   ]
  },
  {
   "cell_type": "code",
   "execution_count": 6,
   "id": "alike-burning",
   "metadata": {},
   "outputs": [],
   "source": [
    "# 환경에 맞게 경로 적절히 수정\n",
    "# DATA_DIR = home_dir + '/tasks_1-20_v1-2/en-10k'\n",
    "TRAIN_FILE = os.path.join(data_path, \"qa1_single-supporting-fact_train_kor.txt\")\n",
    "TEST_FILE = os.path.join(data_path, \"qa1_single-supporting-fact_test_kor.txt\")"
   ]
  },
  {
   "cell_type": "code",
   "execution_count": 7,
   "id": "forced-israeli",
   "metadata": {},
   "outputs": [
    {
     "name": "stdout",
     "output_type": "stream",
     "text": [
      "1 필웅이는 화장실로 갔습니다.\n",
      "2 은경이는 복도로 이동했습니다.\n",
      "3 필웅이는 어디야? \t화장실\t1\n",
      "4 수종이는 복도로 복귀했습니다.\n",
      "5 경임이는 정원으로 갔습니다.\n",
      "6 수종이는 어디야? \t복도\t4\n",
      "7 은경이는 사무실로 갔습니다.\n",
      "8 경임이는 화장실로 뛰어갔습니다.\n",
      "9 수종이는 어디야? \t복도\t4\n",
      "10 필웅이는 복도로 갔습니다.\n",
      "11 수종이는 사무실로 가버렸습니다.\n",
      "12 수종이는 어디야? \t사무실\t11\n",
      "13 은경이는 정원으로 복귀했습니다.\n",
      "14 은경이는 침실로 갔습니다.\n",
      "15 경임이는 어디야? \t화장실\t8\n",
      "1 경임이는 사무실로 가버렸습니다.\n",
      "2 경임이는 화장실로 이동했습니다.\n",
      "3 경임이는 어디야? \t화장실\t2\n",
      "4 필웅이는 침실로 이동했습니다.\n",
      "5 수종이는 복도로 갔습니다.\n"
     ]
    }
   ],
   "source": [
    "i = 0\n",
    "lines = open(TRAIN_FILE , \"rb\")\n",
    "for line in lines:\n",
    "    line = line.decode(\"utf-8\").strip()\n",
    "    # lno, text = line.split(\" \", 1) # ID와 TEXT 분리\n",
    "    i = i + 1\n",
    "    print(line)\n",
    "    if i == 20:\n",
    "        break"
   ]
  },
  {
   "cell_type": "markdown",
   "id": "herbal-stack",
   "metadata": {},
   "source": [
    "## 데이터 전처리"
   ]
  },
  {
   "cell_type": "code",
   "execution_count": 8,
   "id": "cooked-buyer",
   "metadata": {},
   "outputs": [],
   "source": [
    "def read_data(dir):\n",
    "    stories, questions, answers = [], [], [] # 각각 스토리, 질문, 답변을 저장할 예정\n",
    "    story_temp = [] # 현재 시점의 스토리 임시 저장\n",
    "    lines = open(dir, \"rb\")\n",
    "\n",
    "    for line in lines:\n",
    "        line = line.decode(\"utf-8\") # b' 제거\n",
    "        line = line.strip() # '\\n' 제거\n",
    "        \n",
    "        # split(\"구분자\", 분리횟수)\n",
    "        idx, text = line.split(\" \", 1) # 맨 앞에 있는 id number 분리\n",
    "        # 여기까지는 모든 줄에 적용되는 전처리\n",
    "\n",
    "        if int(idx) == 1:\n",
    "            story_temp = []\n",
    "        \n",
    "        if \"\\t\" in text: # 현재 읽는 줄이 질문 (tab) 답변 (tab)인 경우\n",
    "            question, answer, _ = text.split(\"\\t\") # 질문과 답변을 각각 저장\n",
    "            stories.append([x for x in story_temp if x]) # 지금까지의 누적 스토리를 스토리에 저장\n",
    "            questions.append(question)\n",
    "            answers.append(answer)\n",
    "\n",
    "        else: # 현재 읽는 줄이 스토리인 경우\n",
    "            story_temp.append(text) # 임시 저장\n",
    "\n",
    "    lines.close()\n",
    "    return stories, questions, answers"
   ]
  },
  {
   "cell_type": "code",
   "execution_count": 9,
   "id": "rational-steam",
   "metadata": {},
   "outputs": [],
   "source": [
    "train_data = read_data(TRAIN_FILE)\n",
    "test_data = read_data(TEST_FILE)"
   ]
  },
  {
   "cell_type": "code",
   "execution_count": 10,
   "id": "raised-insurance",
   "metadata": {},
   "outputs": [
    {
     "name": "stdout",
     "output_type": "stream",
     "text": [
      "['필웅이는 화장실로 갔습니다.', '은경이는 복도로 이동했습니다.']\n"
     ]
    }
   ],
   "source": [
    "print(train_data[0][0])"
   ]
  },
  {
   "cell_type": "code",
   "execution_count": 11,
   "id": "frozen-appearance",
   "metadata": {},
   "outputs": [],
   "source": [
    "train_stories, train_questions, train_answers = read_data(TRAIN_FILE)\n",
    "test_stories, test_questions, test_answers = read_data(TEST_FILE)"
   ]
  },
  {
   "cell_type": "code",
   "execution_count": 12,
   "id": "continent-technician",
   "metadata": {},
   "outputs": [
    {
     "name": "stdout",
     "output_type": "stream",
     "text": [
      "['필웅이는 화장실로 갔습니다.', '은경이는 복도로 이동했습니다.']\n"
     ]
    }
   ],
   "source": [
    "print(train_stories[0])"
   ]
  },
  {
   "cell_type": "code",
   "execution_count": 13,
   "id": "altered-segment",
   "metadata": {},
   "outputs": [
    {
     "name": "stdout",
     "output_type": "stream",
     "text": [
      "train 스토리 개수: 10000\n",
      "train 질문 개수: 10000\n",
      "train 답변 개수: 10000\n",
      "test 스토리 개수: 1000\n",
      "test 질문 개수: 1000\n",
      "test 답변 개수: 1000\n"
     ]
    }
   ],
   "source": [
    "print(\"train 스토리 개수:\", len(train_stories))\n",
    "print(\"train 질문 개수:\", len(train_questions))\n",
    "print(\"train 답변 개수:\", len(train_answers))\n",
    "print(\"test 스토리 개수:\", len(test_stories))\n",
    "print(\"test 질문 개수:\", len(test_questions))\n",
    "print(\"test 답변 개수:\", len(test_answers))"
   ]
  },
  {
   "cell_type": "code",
   "execution_count": 14,
   "id": "incorporate-accreditation",
   "metadata": {},
   "outputs": [
    {
     "data": {
      "text/plain": [
       "['수종이는 화장실로 뛰어갔습니다.',\n",
       " '경임이는 사무실로 갔습니다.',\n",
       " '은경이는 부엌으로 이동했습니다.',\n",
       " '경임이는 화장실로 갔습니다.',\n",
       " '수종이는 복도로 갔습니다.',\n",
       " '필웅이는 부엌으로 가버렸습니다.',\n",
       " '수종이는 부엌으로 이동했습니다.',\n",
       " '수종이는 화장실로 가버렸습니다.']"
      ]
     },
     "execution_count": 14,
     "metadata": {},
     "output_type": "execute_result"
    }
   ],
   "source": [
    "train_stories[3878]"
   ]
  },
  {
   "cell_type": "code",
   "execution_count": 15,
   "id": "working-hours",
   "metadata": {},
   "outputs": [
    {
     "data": {
      "text/plain": [
       "['필웅이는 어디야? ', '수종이는 어디야? ', '수종이는 어디야? ', '수종이는 어디야? ', '경임이는 어디야? ']"
      ]
     },
     "execution_count": 15,
     "metadata": {},
     "output_type": "execute_result"
    }
   ],
   "source": [
    "train_questions[:5]"
   ]
  },
  {
   "cell_type": "code",
   "execution_count": 16,
   "id": "geological-garage",
   "metadata": {},
   "outputs": [
    {
     "data": {
      "text/plain": [
       "['화장실', '복도', '복도', '사무실', '화장실']"
      ]
     },
     "execution_count": 16,
     "metadata": {},
     "output_type": "execute_result"
    }
   ],
   "source": [
    "train_answers[:5]"
   ]
  },
  {
   "cell_type": "markdown",
   "id": "finite-texture",
   "metadata": {},
   "source": [
    "### Step 1. 토크나이저 변경하기 (매우 중요!!!)\n",
    "* 형태소분석기를 사용하면 단어 단위로 원하는 데이터를 가공하기 어렵기 때문에 사전 추가 필요"
   ]
  },
  {
   "cell_type": "code",
   "execution_count": 17,
   "id": "aboriginal-sitting",
   "metadata": {},
   "outputs": [
    {
     "name": "stderr",
     "output_type": "stream",
     "text": [
      "/home/aiffel-dj62/anaconda3/envs/aiffel/lib/python3.7/site-packages/konlpy/tag/_okt.py:16: UserWarning: \"Twitter\" has changed to \"Okt\" since KoNLPy v0.4.5.\n",
      "  warn('\"Twitter\" has changed to \"Okt\" since KoNLPy v0.4.5.')\n"
     ]
    },
    {
     "data": {
      "text/plain": [
       "['은경이', '는', '사무실', '로', '갔습니다', '.']"
      ]
     },
     "execution_count": 17,
     "metadata": {},
     "output_type": "execute_result"
    }
   ],
   "source": [
    "from ckonlpy.tag import Twitter\n",
    "\n",
    "twitter = Twitter()\n",
    "twitter.add_dictionary('은경이', 'Noun')\n",
    "twitter.add_dictionary('경임이', 'Noun')\n",
    "twitter.add_dictionary('수종이', 'Noun')\n",
    "\n",
    "twitter.morphs('은경이는 사무실로 갔습니다.')"
   ]
  },
  {
   "cell_type": "code",
   "execution_count": 18,
   "id": "incorrect-favor",
   "metadata": {},
   "outputs": [],
   "source": [
    "def tokenize(text):\n",
    "    word = twitter.morphs(text)\n",
    "    return word"
   ]
  },
  {
   "cell_type": "code",
   "execution_count": 19,
   "id": "rotary-musician",
   "metadata": {},
   "outputs": [
    {
     "data": {
      "text/plain": [
       "['필웅이', '는', '화장실', '로', '갔습니다', '.', '은경이', '는', '복도', '로', '이동', '했습니다', '.']"
      ]
     },
     "execution_count": 19,
     "metadata": {},
     "output_type": "execute_result"
    }
   ],
   "source": [
    "flatten = lambda data: reduce(lambda x, y: x + y, data)\n",
    "tokenize(flatten(train_stories[0]))"
   ]
  },
  {
   "cell_type": "code",
   "execution_count": 20,
   "id": "controlling-villa",
   "metadata": {},
   "outputs": [],
   "source": [
    "# # 예시 코드\n",
    "# from ckonlpy.tag import Twitter\n",
    "# twitter = Twitter()\n",
    "# twitter.add_dictionary('은경이', 'Noun')\n",
    "# twitter.morphs('은경이는 사무실로 갔습니다.')"
   ]
  },
  {
   "cell_type": "code",
   "execution_count": 21,
   "id": "every-papua",
   "metadata": {},
   "outputs": [],
   "source": [
    "# def tokenize(sent):\n",
    "#     return [ x.strip() for x in re.sub(r\"\\s+|\\b\", '\\f', sent).split('\\f') if x.strip() ] # python 3.7의 경우 \n",
    "#     # return [ x.strip() for x in re.split('(\\W+)?', sent) if x.strip()] # python 3.6의 경우"
   ]
  },
  {
   "cell_type": "markdown",
   "id": "legendary-cursor",
   "metadata": {},
   "source": [
    "### 전처리 과정에서 한 스토리 내의 모든 문장을 모두 이어 붙여서 1개의 문장으로 통합"
   ]
  },
  {
   "cell_type": "code",
   "execution_count": 22,
   "id": "behavioral-integer",
   "metadata": {},
   "outputs": [],
   "source": [
    "def preprocess_data(train_data, test_data):\n",
    "    # FreqDist 클래스는 문서에 사용된 단어(토큰)의 사용빈도 정보를 담는 클래스이다. Text 클래스의 vocab 메서드로 추출할 수 있다.\n",
    "    counter = FreqDist()\n",
    "    \n",
    "    # 두 문장의 story를 하나의 문장으로 통합하는 함수\n",
    "    flatten = lambda data: reduce(lambda x, y: x + y, data)\n",
    "\n",
    "    # 각 샘플의 길이를 저장하는 리스트\n",
    "    story_len = []\n",
    "    question_len = []\n",
    "    \n",
    "    for stories, questions, answers in [train_data, test_data]:\n",
    "        for story in stories:\n",
    "            stories = tokenize(flatten(story)) # 스토리의 문장들을 펼친 후 토큰화\n",
    "            story_len.append(len(stories)) # 각 story의 길이 저장\n",
    "            for word in stories: # 단어 집합에 단어 추가\n",
    "                counter[word] += 1\n",
    "        for question in questions:\n",
    "            question = tokenize(question)\n",
    "            question_len.append(len(question))\n",
    "            for word in question:\n",
    "                counter[word] += 1\n",
    "        for answer in answers:\n",
    "            answer = tokenize(answer)\n",
    "            for word in answer:\n",
    "                counter[word] += 1\n",
    "\n",
    "    # 단어장 생성\n",
    "    word2idx = {word : (idx + 1) for idx, (word, _) in enumerate(counter.most_common())}\n",
    "    word2idx['<PAD>'] = 0\n",
    "    idx2word = {idx : word for word, idx in word2idx.items()}\n",
    "    \n",
    "    \n",
    "    # 가장 긴 샘플의 길이\n",
    "    story_max_len = np.max(story_len)\n",
    "    question_max_len = np.max(question_len)\n",
    "\n",
    "    return word2idx, idx2word, story_max_len, question_max_len"
   ]
  },
  {
   "cell_type": "code",
   "execution_count": 23,
   "id": "hollow-portable",
   "metadata": {},
   "outputs": [],
   "source": [
    "word2idx, idx2word, story_max_len, question_max_len = preprocess_data(train_data, test_data)"
   ]
  },
  {
   "cell_type": "code",
   "execution_count": 24,
   "id": "genetic-allergy",
   "metadata": {},
   "outputs": [
    {
     "name": "stdout",
     "output_type": "stream",
     "text": [
      "{'는': 1, '.': 2, '로': 3, '했습니다': 4, '으로': 5, '경임이': 6, '은경이': 7, '수종이': 8, '필웅이': 9, '이동': 10, '가버렸습니다': 11, '뛰어갔습니다': 12, '복귀': 13, '화장실': 14, '정원': 15, '복도': 16, '갔습니다': 17, '사무실': 18, '부엌': 19, '침실': 20, '어디': 21, '야': 22, '?': 23, '<PAD>': 0}\n"
     ]
    }
   ],
   "source": [
    "print(word2idx)"
   ]
  },
  {
   "cell_type": "code",
   "execution_count": 25,
   "id": "apart-advocacy",
   "metadata": {},
   "outputs": [],
   "source": [
    "vocab_size = len(word2idx) + 1"
   ]
  },
  {
   "cell_type": "code",
   "execution_count": 26,
   "id": "dense-situation",
   "metadata": {},
   "outputs": [
    {
     "name": "stdout",
     "output_type": "stream",
     "text": [
      "스토리의 최대 길이 : 70\n",
      "질문의 최대 길이 : 5\n"
     ]
    }
   ],
   "source": [
    "print('스토리의 최대 길이 :',story_max_len)\n",
    "print('질문의 최대 길이 :',question_max_len)"
   ]
  },
  {
   "cell_type": "markdown",
   "id": "surrounded-destiny",
   "metadata": {},
   "source": [
    "## 14-4. 데이터 전처리 (2) 패딩, 정수 인코딩, 벡터화"
   ]
  },
  {
   "cell_type": "markdown",
   "id": "overall-phrase",
   "metadata": {},
   "source": [
    "* 현재 각 데이터는 전부 텍스트 데이터입니다. 이를 단어와 맵핑되는 정수로 인코딩해줍니다. 이 과정은 앞서 만들어놓은 word2idx를 활용합니다.\n",
    "\n",
    "* 스토리와 질문 데이터에 대해서 각각의 최대 길이로 패딩(padding)합니다. 이 과정은 앞서 계산해놓은 story_max_len과 question_max_len을 사용합니다.\n",
    "\n",
    "* 레이블에 해당되는 정답 데이터를 원-핫 인코딩합니다."
   ]
  },
  {
   "cell_type": "code",
   "execution_count": 27,
   "id": "greenhouse-sterling",
   "metadata": {},
   "outputs": [],
   "source": [
    "def vectorize(data, word2idx, story_maxlen, question_maxlen):\n",
    "    Xs, Xq, Y = [], [], []\n",
    "    flatten = lambda data: reduce(lambda x, y: x + y, data)\n",
    "\n",
    "    stories, questions, answers = data\n",
    "    for story, question, answer in zip(stories, questions, answers):\n",
    "        xs = [word2idx[w] for w in tokenize(flatten(story))]\n",
    "        xq = [word2idx[w] for w in tokenize(question)]\n",
    "        Xs.append(xs)\n",
    "        Xq.append(xq)\n",
    "        Y.append(word2idx[answer])\n",
    "\n",
    "    # 스토리와 질문은 각각의 최대 길이로 패딩\n",
    "    # 정답은 원-핫 인코딩\n",
    "    return pad_sequences(Xs, maxlen=story_maxlen),\\\n",
    "           pad_sequences(Xq, maxlen=question_maxlen),\\\n",
    "           to_categorical(Y, num_classes=len(word2idx) + 1)"
   ]
  },
  {
   "cell_type": "code",
   "execution_count": 28,
   "id": "sonic-maryland",
   "metadata": {},
   "outputs": [],
   "source": [
    "Xstrain, Xqtrain, Ytrain = vectorize(train_data, word2idx, story_max_len, question_max_len)\n",
    "Xstest, Xqtest, Ytest = vectorize(test_data, word2idx, story_max_len, question_max_len)"
   ]
  },
  {
   "cell_type": "code",
   "execution_count": 29,
   "id": "entitled-coalition",
   "metadata": {},
   "outputs": [
    {
     "name": "stdout",
     "output_type": "stream",
     "text": [
      "(10000, 70) (10000, 5) (10000, 25) (1000, 70) (1000, 5) (1000, 25)\n"
     ]
    }
   ],
   "source": [
    "print(Xstrain.shape, Xqtrain.shape, Ytrain.shape, Xstest.shape, Xqtest.shape, Ytest.shape)"
   ]
  },
  {
   "cell_type": "markdown",
   "id": "fifty-phenomenon",
   "metadata": {},
   "source": [
    "## 14-5. 메모리 네트워크 구현하기\n"
   ]
  },
  {
   "cell_type": "code",
   "execution_count": 30,
   "id": "preliminary-cheat",
   "metadata": {},
   "outputs": [],
   "source": [
    "from tensorflow.keras.models import Sequential, Model\n",
    "from tensorflow.keras.layers import Embedding\n",
    "from tensorflow.keras.layers import Permute, dot, add, concatenate\n",
    "from tensorflow.keras.layers import LSTM, Dense, Dropout, Input, Activation\n",
    "import matplotlib.pyplot as plt"
   ]
  },
  {
   "cell_type": "code",
   "execution_count": 31,
   "id": "hazardous-smart",
   "metadata": {},
   "outputs": [],
   "source": [
    "# 에포크 횟수\n",
    "train_epochs = 120\n",
    "# 배치 크기\n",
    "batch_size = 32\n",
    "# 임베딩 크기\n",
    "embed_size = 50\n",
    "# LSTM의 크기\n",
    "lstm_size = 64\n",
    "# 과적합 방지 기법인 드롭아웃 적용 비율\n",
    "dropout_rate = 0.30"
   ]
  },
  {
   "cell_type": "code",
   "execution_count": 32,
   "id": "falling-engineering",
   "metadata": {},
   "outputs": [
    {
     "name": "stdout",
     "output_type": "stream",
     "text": [
      "Stories : Tensor(\"input_1:0\", shape=(None, 70), dtype=float32)\n",
      "Question: Tensor(\"input_2:0\", shape=(None, 5), dtype=float32)\n"
     ]
    }
   ],
   "source": [
    "input_sequence = Input((story_max_len,))\n",
    "question = Input((question_max_len,))\n",
    " \n",
    "print('Stories :', input_sequence)\n",
    "print('Question:', question)"
   ]
  },
  {
   "attachments": {
    "image.png": {
     "image/png": "[encoded data removed]"
    }
   },
   "cell_type": "markdown",
   "id": "improved-myrtle",
   "metadata": {},
   "source": [
    "![image.png](attachment:image.png)"
   ]
  },
  {
   "cell_type": "code",
   "execution_count": 33,
   "id": "received-worth",
   "metadata": {},
   "outputs": [],
   "source": [
    "# 스토리를 위한 첫 번째 임베딩. 그림에서의 Embedding A\n",
    "input_encoder_m = Sequential()\n",
    "input_encoder_m.add(Embedding(input_dim=vocab_size,\n",
    "                              output_dim=embed_size))\n",
    "input_encoder_m.add(Dropout(dropout_rate))\n",
    "# 결과 : (samples, story_max_len, embed_size) / 샘플의 수, 문장의 최대 길이, 임베딩 벡터의 차원\n",
    " \n",
    "# 스토리를 위한 두 번째 임베딩. 그림에서의 Embedding C\n",
    "# 임베딩 벡터의 차원을 question_max_len(질문의 최대 길이)로 한다.\n",
    "input_encoder_c = Sequential()\n",
    "input_encoder_c.add(Embedding(input_dim=vocab_size,\n",
    "                              output_dim=question_max_len))\n",
    "input_encoder_c.add(Dropout(dropout_rate))\n",
    "# 결과 : (samples, story_max_len, question_max_len) / 샘플의 수, 문장의 최대 길이, 질문의 최대 길이(임베딩 벡터의 차원)"
   ]
  },
  {
   "cell_type": "code",
   "execution_count": 34,
   "id": "dental-specification",
   "metadata": {},
   "outputs": [],
   "source": [
    "# 질문을 위한 임베딩. 그림에서의 Embedding B\n",
    "question_encoder = Sequential()\n",
    "question_encoder.add(Embedding(input_dim=vocab_size,\n",
    "                               output_dim=embed_size,\n",
    "                               input_length=question_max_len))\n",
    "question_encoder.add(Dropout(dropout_rate))\n",
    "# 결과 : (samples, question_max_len, embed_size) / 샘플의 수, 질문의 최대 길이, 임베딩 벡터의 차원"
   ]
  },
  {
   "cell_type": "code",
   "execution_count": 35,
   "id": "statutory-space",
   "metadata": {},
   "outputs": [
    {
     "name": "stdout",
     "output_type": "stream",
     "text": [
      "Input encoded m Tensor(\"sequential/Identity:0\", shape=(None, 70, 50), dtype=float32) \n",
      "\n",
      "Input encoded c Tensor(\"sequential_1/Identity:0\", shape=(None, 70, 5), dtype=float32) \n",
      "\n",
      "Question encoded Tensor(\"sequential_2/Identity:0\", shape=(None, 5, 50), dtype=float32) \n",
      "\n"
     ]
    }
   ],
   "source": [
    "# 실질적인 임베딩 과정\n",
    "input_encoded_m = input_encoder_m(input_sequence)\n",
    "input_encoded_c = input_encoder_c(input_sequence)\n",
    "question_encoded = question_encoder(question)\n",
    "\n",
    "print('Input encoded m', input_encoded_m, '\\n')\n",
    "print('Input encoded c', input_encoded_c, '\\n')\n",
    "print('Question encoded', question_encoded, '\\n')"
   ]
  },
  {
   "attachments": {
    "image.png": {
     "image/png": "[encoded data removed]"
    }
   },
   "cell_type": "markdown",
   "id": "marked-upset",
   "metadata": {},
   "source": [
    "![image.png](attachment:image.png)"
   ]
  },
  {
   "cell_type": "code",
   "execution_count": 36,
   "id": "honey-coach",
   "metadata": {},
   "outputs": [
    {
     "name": "stdout",
     "output_type": "stream",
     "text": [
      "Match shape Tensor(\"activation/Identity:0\", shape=(None, 70, 5), dtype=float32)\n"
     ]
    }
   ],
   "source": [
    "# 스토리 단어들과 질문 단어들 간의 유사도를 구하는 과정\n",
    "# 유사도는 내적을 사용한다.\n",
    "match = dot([input_encoded_m, question_encoded], axes=-1, normalize=False)\n",
    "match = Activation('softmax')(match)\n",
    "print('Match shape', match)\n",
    "# 결과 : (samples, story_max_len, question_max_len) / 샘플의 수, 문장의 최대 길이, 질문의 최대 길이"
   ]
  },
  {
   "cell_type": "code",
   "execution_count": 37,
   "id": "prime-pierre",
   "metadata": {},
   "outputs": [
    {
     "name": "stdout",
     "output_type": "stream",
     "text": [
      "Response shape Tensor(\"permute/Identity:0\", shape=(None, 5, 70), dtype=float32)\n"
     ]
    }
   ],
   "source": [
    "# 매칭 유사도 행렬과 질문에 대한 임베딩을 더한다.\n",
    "response = add([match, input_encoded_c])  # (samples, story_maxlen, question_max_len)\n",
    "response = Permute((2, 1))(response)  # (samples, question_max_len, story_maxlen)\n",
    "print('Response shape', response)"
   ]
  },
  {
   "cell_type": "code",
   "execution_count": 38,
   "id": "regular-appraisal",
   "metadata": {},
   "outputs": [
    {
     "name": "stdout",
     "output_type": "stream",
     "text": [
      "Answer shape Tensor(\"concatenate/Identity:0\", shape=(None, 5, 120), dtype=float32)\n"
     ]
    }
   ],
   "source": [
    "# concatenate the response vector with the question vector sequence\n",
    "answer = concatenate([response, question_encoded])\n",
    "print('Answer shape', answer)\n",
    " \n",
    "answer = LSTM(lstm_size)(answer)  # Generate tensors of shape 32\n",
    "answer = Dropout(dropout_rate)(answer)\n",
    "answer = Dense(vocab_size)(answer)  # (samples, vocab_size)\n",
    "# we output a probability distribution over the vocabulary\n",
    "answer = Activation('softmax')(answer)"
   ]
  },
  {
   "cell_type": "code",
   "execution_count": 39,
   "id": "basic-temple",
   "metadata": {},
   "outputs": [
    {
     "name": "stdout",
     "output_type": "stream",
     "text": [
      "Epoch 1/120\n",
      "313/313 [==============================] - 3s 8ms/step - loss: 1.9008 - acc: 0.1722 - val_loss: 1.7907 - val_acc: 0.1770\n",
      "Epoch 2/120\n",
      "313/313 [==============================] - 2s 6ms/step - loss: 1.7022 - acc: 0.2500 - val_loss: 1.6458 - val_acc: 0.3280\n",
      "Epoch 3/120\n",
      "313/313 [==============================] - 2s 6ms/step - loss: 1.5737 - acc: 0.3566 - val_loss: 1.5170 - val_acc: 0.3980\n",
      "Epoch 4/120\n",
      "313/313 [==============================] - 2s 6ms/step - loss: 1.5062 - acc: 0.3911 - val_loss: 1.4611 - val_acc: 0.4080\n",
      "Epoch 5/120\n",
      "313/313 [==============================] - 2s 7ms/step - loss: 1.4653 - acc: 0.4251 - val_loss: 1.4107 - val_acc: 0.4750\n",
      "Epoch 6/120\n",
      "313/313 [==============================] - 2s 6ms/step - loss: 1.4015 - acc: 0.4642 - val_loss: 1.3590 - val_acc: 0.4820\n",
      "Epoch 7/120\n",
      "313/313 [==============================] - 2s 6ms/step - loss: 1.3588 - acc: 0.4804 - val_loss: 1.3225 - val_acc: 0.4850\n",
      "Epoch 8/120\n",
      "313/313 [==============================] - 2s 6ms/step - loss: 1.3473 - acc: 0.4768 - val_loss: 1.3018 - val_acc: 0.5010\n",
      "Epoch 9/120\n",
      "313/313 [==============================] - 2s 6ms/step - loss: 1.3100 - acc: 0.4976 - val_loss: 1.3147 - val_acc: 0.4850\n",
      "Epoch 10/120\n",
      "313/313 [==============================] - 2s 6ms/step - loss: 1.2789 - acc: 0.5020 - val_loss: 1.2398 - val_acc: 0.5220\n",
      "Epoch 11/120\n",
      "313/313 [==============================] - 2s 6ms/step - loss: 1.2535 - acc: 0.5043 - val_loss: 1.2524 - val_acc: 0.5190\n",
      "Epoch 12/120\n",
      "313/313 [==============================] - 2s 6ms/step - loss: 1.2391 - acc: 0.5096 - val_loss: 1.2060 - val_acc: 0.5190\n",
      "Epoch 13/120\n",
      "313/313 [==============================] - 2s 6ms/step - loss: 1.2168 - acc: 0.5106 - val_loss: 1.1989 - val_acc: 0.5270\n",
      "Epoch 14/120\n",
      "313/313 [==============================] - 2s 6ms/step - loss: 1.2054 - acc: 0.5153 - val_loss: 1.2114 - val_acc: 0.5200\n",
      "Epoch 15/120\n",
      "313/313 [==============================] - 2s 6ms/step - loss: 1.1948 - acc: 0.5175 - val_loss: 1.1879 - val_acc: 0.5150\n",
      "Epoch 16/120\n",
      "313/313 [==============================] - 2s 6ms/step - loss: 1.1815 - acc: 0.5227 - val_loss: 1.1849 - val_acc: 0.5210\n",
      "Epoch 17/120\n",
      "313/313 [==============================] - 2s 6ms/step - loss: 1.1644 - acc: 0.5205 - val_loss: 1.1966 - val_acc: 0.5210\n",
      "Epoch 18/120\n",
      "313/313 [==============================] - 2s 6ms/step - loss: 1.1537 - acc: 0.5252 - val_loss: 1.1865 - val_acc: 0.5210\n",
      "Epoch 19/120\n",
      "313/313 [==============================] - 2s 6ms/step - loss: 1.1418 - acc: 0.5297 - val_loss: 1.1673 - val_acc: 0.5180\n",
      "Epoch 20/120\n",
      "313/313 [==============================] - 2s 6ms/step - loss: 1.1355 - acc: 0.5284 - val_loss: 1.1847 - val_acc: 0.5190\n",
      "Epoch 21/120\n",
      "313/313 [==============================] - 2s 6ms/step - loss: 1.1197 - acc: 0.5311 - val_loss: 1.1737 - val_acc: 0.5200\n",
      "Epoch 22/120\n",
      "313/313 [==============================] - 2s 6ms/step - loss: 1.1191 - acc: 0.5286 - val_loss: 1.1918 - val_acc: 0.5120\n",
      "Epoch 23/120\n",
      "313/313 [==============================] - 2s 6ms/step - loss: 1.1112 - acc: 0.5314 - val_loss: 1.1650 - val_acc: 0.5100\n",
      "Epoch 24/120\n",
      "313/313 [==============================] - 2s 6ms/step - loss: 1.1049 - acc: 0.5381 - val_loss: 1.1598 - val_acc: 0.5170\n",
      "Epoch 25/120\n",
      "313/313 [==============================] - 2s 6ms/step - loss: 1.0871 - acc: 0.5375 - val_loss: 1.1658 - val_acc: 0.5180\n",
      "Epoch 26/120\n",
      "313/313 [==============================] - 2s 6ms/step - loss: 1.0772 - acc: 0.5389 - val_loss: 1.1733 - val_acc: 0.5080\n",
      "Epoch 27/120\n",
      "313/313 [==============================] - 2s 6ms/step - loss: 1.0675 - acc: 0.5416 - val_loss: 1.1847 - val_acc: 0.5120\n",
      "Epoch 28/120\n",
      "313/313 [==============================] - 2s 6ms/step - loss: 1.0622 - acc: 0.5417 - val_loss: 1.1589 - val_acc: 0.5040\n",
      "Epoch 29/120\n",
      "313/313 [==============================] - 2s 6ms/step - loss: 1.0538 - acc: 0.5518 - val_loss: 1.1877 - val_acc: 0.5040\n",
      "Epoch 30/120\n",
      "313/313 [==============================] - 2s 6ms/step - loss: 1.0381 - acc: 0.5562 - val_loss: 1.1618 - val_acc: 0.5110\n",
      "Epoch 31/120\n",
      "313/313 [==============================] - 2s 6ms/step - loss: 1.0279 - acc: 0.5570 - val_loss: 1.1487 - val_acc: 0.5190\n",
      "Epoch 32/120\n",
      "313/313 [==============================] - 2s 6ms/step - loss: 1.0266 - acc: 0.5526 - val_loss: 1.1661 - val_acc: 0.5100\n",
      "Epoch 33/120\n",
      "313/313 [==============================] - 2s 6ms/step - loss: 1.0173 - acc: 0.5652 - val_loss: 1.1329 - val_acc: 0.5220\n",
      "Epoch 34/120\n",
      "313/313 [==============================] - 2s 6ms/step - loss: 1.0025 - acc: 0.5740 - val_loss: 1.1758 - val_acc: 0.5130\n",
      "Epoch 35/120\n",
      "313/313 [==============================] - 2s 6ms/step - loss: 0.9705 - acc: 0.5897 - val_loss: 1.0750 - val_acc: 0.5650\n",
      "Epoch 36/120\n",
      "313/313 [==============================] - 2s 6ms/step - loss: 0.8599 - acc: 0.6605 - val_loss: 0.8760 - val_acc: 0.6770\n",
      "Epoch 37/120\n",
      "313/313 [==============================] - 2s 6ms/step - loss: 0.6923 - acc: 0.7438 - val_loss: 0.7659 - val_acc: 0.7080\n",
      "Epoch 38/120\n",
      "313/313 [==============================] - 2s 6ms/step - loss: 0.6080 - acc: 0.7724 - val_loss: 0.6707 - val_acc: 0.7450\n",
      "Epoch 39/120\n",
      "313/313 [==============================] - 2s 6ms/step - loss: 0.5603 - acc: 0.7831 - val_loss: 0.6370 - val_acc: 0.7570\n",
      "Epoch 40/120\n",
      "313/313 [==============================] - 2s 6ms/step - loss: 0.5288 - acc: 0.7941 - val_loss: 0.6059 - val_acc: 0.7570\n",
      "Epoch 41/120\n",
      "313/313 [==============================] - 2s 6ms/step - loss: 0.4895 - acc: 0.8082 - val_loss: 0.5614 - val_acc: 0.7800\n",
      "Epoch 42/120\n",
      "313/313 [==============================] - 2s 7ms/step - loss: 0.4515 - acc: 0.8271 - val_loss: 0.5345 - val_acc: 0.7840\n",
      "Epoch 43/120\n",
      "313/313 [==============================] - 2s 6ms/step - loss: 0.4054 - acc: 0.8466 - val_loss: 0.4681 - val_acc: 0.8350\n",
      "Epoch 44/120\n",
      "313/313 [==============================] - 2s 6ms/step - loss: 0.3680 - acc: 0.8617 - val_loss: 0.4278 - val_acc: 0.8440\n",
      "Epoch 45/120\n",
      "313/313 [==============================] - 2s 6ms/step - loss: 0.3299 - acc: 0.8787 - val_loss: 0.3941 - val_acc: 0.8620\n",
      "Epoch 46/120\n",
      "313/313 [==============================] - 2s 7ms/step - loss: 0.3037 - acc: 0.8864 - val_loss: 0.4114 - val_acc: 0.8540\n",
      "Epoch 47/120\n",
      "313/313 [==============================] - 2s 7ms/step - loss: 0.2806 - acc: 0.8959 - val_loss: 0.3793 - val_acc: 0.8660\n",
      "Epoch 48/120\n",
      "313/313 [==============================] - 2s 6ms/step - loss: 0.2666 - acc: 0.8983 - val_loss: 0.3569 - val_acc: 0.8650\n",
      "Epoch 49/120\n",
      "313/313 [==============================] - 2s 6ms/step - loss: 0.2553 - acc: 0.9025 - val_loss: 0.3546 - val_acc: 0.8660\n",
      "Epoch 50/120\n",
      "313/313 [==============================] - 2s 6ms/step - loss: 0.2349 - acc: 0.9125 - val_loss: 0.3282 - val_acc: 0.8750\n",
      "Epoch 51/120\n",
      "313/313 [==============================] - 2s 6ms/step - loss: 0.2324 - acc: 0.9123 - val_loss: 0.3333 - val_acc: 0.8820\n",
      "Epoch 52/120\n",
      "313/313 [==============================] - 2s 6ms/step - loss: 0.2173 - acc: 0.9183 - val_loss: 0.3247 - val_acc: 0.8820\n",
      "Epoch 53/120\n",
      "313/313 [==============================] - 2s 6ms/step - loss: 0.1978 - acc: 0.9279 - val_loss: 0.3263 - val_acc: 0.8850\n",
      "Epoch 54/120\n",
      "313/313 [==============================] - 2s 6ms/step - loss: 0.1893 - acc: 0.9299 - val_loss: 0.2731 - val_acc: 0.9010\n",
      "Epoch 55/120\n",
      "313/313 [==============================] - 2s 6ms/step - loss: 0.1721 - acc: 0.9389 - val_loss: 0.3026 - val_acc: 0.8960\n",
      "Epoch 56/120\n",
      "313/313 [==============================] - 2s 6ms/step - loss: 0.1519 - acc: 0.9437 - val_loss: 0.2781 - val_acc: 0.9060\n",
      "Epoch 57/120\n",
      "313/313 [==============================] - 2s 6ms/step - loss: 0.1403 - acc: 0.9513 - val_loss: 0.2434 - val_acc: 0.9150\n",
      "Epoch 58/120\n",
      "313/313 [==============================] - 2s 6ms/step - loss: 0.1371 - acc: 0.9531 - val_loss: 0.2214 - val_acc: 0.9190\n",
      "Epoch 59/120\n",
      "313/313 [==============================] - 2s 6ms/step - loss: 0.1352 - acc: 0.9544 - val_loss: 0.2154 - val_acc: 0.9300\n",
      "Epoch 60/120\n",
      "313/313 [==============================] - 2s 6ms/step - loss: 0.1129 - acc: 0.9599 - val_loss: 0.2136 - val_acc: 0.9270\n",
      "Epoch 61/120\n",
      "313/313 [==============================] - 2s 6ms/step - loss: 0.1117 - acc: 0.9614 - val_loss: 0.1937 - val_acc: 0.9390\n",
      "Epoch 62/120\n",
      "313/313 [==============================] - 2s 6ms/step - loss: 0.1019 - acc: 0.9655 - val_loss: 0.2021 - val_acc: 0.9350\n",
      "Epoch 63/120\n",
      "313/313 [==============================] - 2s 6ms/step - loss: 0.1026 - acc: 0.9637 - val_loss: 0.2308 - val_acc: 0.9320\n",
      "Epoch 64/120\n",
      "313/313 [==============================] - 2s 6ms/step - loss: 0.0973 - acc: 0.9675 - val_loss: 0.1870 - val_acc: 0.9380\n",
      "Epoch 65/120\n",
      "313/313 [==============================] - 2s 6ms/step - loss: 0.0902 - acc: 0.9716 - val_loss: 0.2390 - val_acc: 0.9310\n",
      "Epoch 66/120\n",
      "313/313 [==============================] - 2s 6ms/step - loss: 0.0789 - acc: 0.9730 - val_loss: 0.2027 - val_acc: 0.9340\n",
      "Epoch 67/120\n",
      "313/313 [==============================] - 2s 6ms/step - loss: 0.0832 - acc: 0.9719 - val_loss: 0.2014 - val_acc: 0.9380\n",
      "Epoch 68/120\n",
      "313/313 [==============================] - 2s 6ms/step - loss: 0.0794 - acc: 0.9741 - val_loss: 0.1713 - val_acc: 0.9440\n",
      "Epoch 69/120\n",
      "313/313 [==============================] - 2s 6ms/step - loss: 0.0720 - acc: 0.9758 - val_loss: 0.1922 - val_acc: 0.9420\n",
      "Epoch 70/120\n",
      "313/313 [==============================] - 2s 6ms/step - loss: 0.0708 - acc: 0.9749 - val_loss: 0.1846 - val_acc: 0.9470\n",
      "Epoch 71/120\n",
      "313/313 [==============================] - 2s 6ms/step - loss: 0.0632 - acc: 0.9780 - val_loss: 0.1560 - val_acc: 0.9500\n",
      "Epoch 72/120\n",
      "313/313 [==============================] - 2s 6ms/step - loss: 0.0632 - acc: 0.9792 - val_loss: 0.2174 - val_acc: 0.9390\n",
      "Epoch 73/120\n",
      "313/313 [==============================] - 2s 7ms/step - loss: 0.0660 - acc: 0.9797 - val_loss: 0.1640 - val_acc: 0.9460\n",
      "Epoch 74/120\n",
      "313/313 [==============================] - 2s 6ms/step - loss: 0.0486 - acc: 0.9838 - val_loss: 0.1800 - val_acc: 0.9510\n",
      "Epoch 75/120\n",
      "313/313 [==============================] - 2s 6ms/step - loss: 0.0511 - acc: 0.9836 - val_loss: 0.2059 - val_acc: 0.9430\n",
      "Epoch 76/120\n",
      "313/313 [==============================] - 2s 6ms/step - loss: 0.0606 - acc: 0.9817 - val_loss: 0.1787 - val_acc: 0.9450\n",
      "Epoch 77/120\n",
      "313/313 [==============================] - 2s 6ms/step - loss: 0.0567 - acc: 0.9815 - val_loss: 0.2066 - val_acc: 0.9430\n",
      "Epoch 78/120\n",
      "313/313 [==============================] - 2s 6ms/step - loss: 0.0427 - acc: 0.9854 - val_loss: 0.1878 - val_acc: 0.9440\n",
      "Epoch 79/120\n",
      "313/313 [==============================] - 2s 6ms/step - loss: 0.0517 - acc: 0.9842 - val_loss: 0.2172 - val_acc: 0.9440\n",
      "Epoch 80/120\n",
      "313/313 [==============================] - 2s 6ms/step - loss: 0.0475 - acc: 0.9840 - val_loss: 0.1687 - val_acc: 0.9500\n",
      "Epoch 81/120\n",
      "313/313 [==============================] - 2s 6ms/step - loss: 0.0489 - acc: 0.9847 - val_loss: 0.1635 - val_acc: 0.9510\n",
      "Epoch 82/120\n",
      "313/313 [==============================] - 2s 6ms/step - loss: 0.0386 - acc: 0.9886 - val_loss: 0.1954 - val_acc: 0.9470\n",
      "Epoch 83/120\n",
      "313/313 [==============================] - 2s 6ms/step - loss: 0.0469 - acc: 0.9861 - val_loss: 0.1461 - val_acc: 0.9580\n",
      "Epoch 84/120\n",
      "313/313 [==============================] - 2s 6ms/step - loss: 0.0390 - acc: 0.9876 - val_loss: 0.1411 - val_acc: 0.9610\n",
      "Epoch 85/120\n",
      "313/313 [==============================] - 2s 6ms/step - loss: 0.0377 - acc: 0.9879 - val_loss: 0.1637 - val_acc: 0.9570\n",
      "Epoch 86/120\n",
      "313/313 [==============================] - 2s 6ms/step - loss: 0.0416 - acc: 0.9874 - val_loss: 0.2183 - val_acc: 0.9490\n",
      "Epoch 87/120\n",
      "313/313 [==============================] - 2s 6ms/step - loss: 0.0424 - acc: 0.9878 - val_loss: 0.1728 - val_acc: 0.9580\n",
      "Epoch 88/120\n",
      "313/313 [==============================] - 2s 6ms/step - loss: 0.0366 - acc: 0.9887 - val_loss: 0.1858 - val_acc: 0.9510\n",
      "Epoch 89/120\n",
      "313/313 [==============================] - 2s 6ms/step - loss: 0.0340 - acc: 0.9885 - val_loss: 0.1756 - val_acc: 0.9520\n",
      "Epoch 90/120\n",
      "313/313 [==============================] - 2s 6ms/step - loss: 0.0351 - acc: 0.9893 - val_loss: 0.1798 - val_acc: 0.9530\n",
      "Epoch 91/120\n",
      "313/313 [==============================] - 2s 6ms/step - loss: 0.0345 - acc: 0.9897 - val_loss: 0.1589 - val_acc: 0.9580\n",
      "Epoch 92/120\n",
      "313/313 [==============================] - 2s 6ms/step - loss: 0.0413 - acc: 0.9886 - val_loss: 0.1547 - val_acc: 0.9600\n",
      "Epoch 93/120\n",
      "313/313 [==============================] - 2s 6ms/step - loss: 0.0334 - acc: 0.9905 - val_loss: 0.1834 - val_acc: 0.9540\n",
      "Epoch 94/120\n",
      "313/313 [==============================] - 2s 6ms/step - loss: 0.0239 - acc: 0.9916 - val_loss: 0.1609 - val_acc: 0.9600\n",
      "Epoch 95/120\n",
      "313/313 [==============================] - 2s 6ms/step - loss: 0.0321 - acc: 0.9913 - val_loss: 0.1579 - val_acc: 0.9580\n",
      "Epoch 96/120\n",
      "313/313 [==============================] - 2s 6ms/step - loss: 0.0323 - acc: 0.9920 - val_loss: 0.1607 - val_acc: 0.9590\n",
      "Epoch 97/120\n",
      "313/313 [==============================] - 2s 6ms/step - loss: 0.0330 - acc: 0.9926 - val_loss: 0.1605 - val_acc: 0.9630\n",
      "Epoch 98/120\n",
      "313/313 [==============================] - 2s 6ms/step - loss: 0.0240 - acc: 0.9924 - val_loss: 0.1748 - val_acc: 0.9580\n",
      "Epoch 99/120\n",
      "313/313 [==============================] - 2s 7ms/step - loss: 0.0257 - acc: 0.9924 - val_loss: 0.1627 - val_acc: 0.9540\n",
      "Epoch 100/120\n",
      "313/313 [==============================] - 2s 6ms/step - loss: 0.0266 - acc: 0.9913 - val_loss: 0.1881 - val_acc: 0.9600\n",
      "Epoch 101/120\n",
      "313/313 [==============================] - 2s 6ms/step - loss: 0.0227 - acc: 0.9936 - val_loss: 0.1777 - val_acc: 0.9580\n",
      "Epoch 102/120\n",
      "313/313 [==============================] - 2s 6ms/step - loss: 0.0275 - acc: 0.9930 - val_loss: 0.1769 - val_acc: 0.9590\n",
      "Epoch 103/120\n",
      "313/313 [==============================] - 2s 6ms/step - loss: 0.0296 - acc: 0.9919 - val_loss: 0.1766 - val_acc: 0.9600\n",
      "Epoch 104/120\n",
      "313/313 [==============================] - 2s 6ms/step - loss: 0.0300 - acc: 0.9921 - val_loss: 0.1857 - val_acc: 0.9520\n",
      "Epoch 105/120\n",
      "313/313 [==============================] - 2s 6ms/step - loss: 0.0243 - acc: 0.9943 - val_loss: 0.1403 - val_acc: 0.9620\n",
      "Epoch 106/120\n",
      "313/313 [==============================] - 2s 6ms/step - loss: 0.0226 - acc: 0.9940 - val_loss: 0.1930 - val_acc: 0.9590\n",
      "Epoch 107/120\n",
      "313/313 [==============================] - 2s 6ms/step - loss: 0.0236 - acc: 0.9933 - val_loss: 0.1593 - val_acc: 0.9630\n",
      "Epoch 108/120\n",
      "313/313 [==============================] - 2s 6ms/step - loss: 0.0239 - acc: 0.9931 - val_loss: 0.1611 - val_acc: 0.9640\n",
      "Epoch 109/120\n",
      "313/313 [==============================] - 2s 7ms/step - loss: 0.0287 - acc: 0.9921 - val_loss: 0.1509 - val_acc: 0.9650\n",
      "Epoch 110/120\n",
      "313/313 [==============================] - 2s 6ms/step - loss: 0.0231 - acc: 0.9940 - val_loss: 0.2138 - val_acc: 0.9540\n",
      "Epoch 111/120\n",
      "313/313 [==============================] - 2s 6ms/step - loss: 0.0175 - acc: 0.9954 - val_loss: 0.1537 - val_acc: 0.9620\n",
      "Epoch 112/120\n",
      "313/313 [==============================] - 2s 6ms/step - loss: 0.0170 - acc: 0.9944 - val_loss: 0.1941 - val_acc: 0.9610\n",
      "Epoch 113/120\n",
      "313/313 [==============================] - 2s 6ms/step - loss: 0.0228 - acc: 0.9938 - val_loss: 0.1854 - val_acc: 0.9500\n",
      "Epoch 114/120\n",
      "313/313 [==============================] - 2s 6ms/step - loss: 0.0224 - acc: 0.9943 - val_loss: 0.1668 - val_acc: 0.9630\n",
      "Epoch 115/120\n",
      "313/313 [==============================] - 2s 6ms/step - loss: 0.0231 - acc: 0.9938 - val_loss: 0.1692 - val_acc: 0.9610\n",
      "Epoch 116/120\n",
      "313/313 [==============================] - 2s 6ms/step - loss: 0.0182 - acc: 0.9938 - val_loss: 0.1855 - val_acc: 0.9630\n",
      "Epoch 117/120\n",
      "313/313 [==============================] - 2s 6ms/step - loss: 0.0232 - acc: 0.9943 - val_loss: 0.1805 - val_acc: 0.9580\n",
      "Epoch 118/120\n",
      "313/313 [==============================] - 2s 6ms/step - loss: 0.0221 - acc: 0.9947 - val_loss: 0.1995 - val_acc: 0.9570\n",
      "Epoch 119/120\n",
      "313/313 [==============================] - 2s 6ms/step - loss: 0.0202 - acc: 0.9949 - val_loss: 0.1629 - val_acc: 0.9620\n",
      "Epoch 120/120\n",
      "313/313 [==============================] - 2s 6ms/step - loss: 0.0165 - acc: 0.9955 - val_loss: 0.1587 - val_acc: 0.9650\n"
     ]
    }
   ],
   "source": [
    "import os\n",
    "\n",
    "# 모델 컴파일\n",
    "model = Model([input_sequence, question], answer)\n",
    "model.compile(optimizer='rmsprop', loss='categorical_crossentropy',\n",
    "              metrics=['acc'])\n",
    " \n",
    "# 테스트 데이터를 검증 데이터로 사용하면서 모델 훈련 시작\n",
    "history = model.fit([Xstrain, Xqtrain],\n",
    "         Ytrain, batch_size, train_epochs,\n",
    "         validation_data=([Xstest, Xqtest], Ytest))\n",
    " \n",
    "# 훈련 후에는 모델 저장\n",
    "model_path = os.getenv('HOME')+'/aiffel/babi_memory_net/model.h5'\n",
    "model.save(model_path)"
   ]
  },
  {
   "cell_type": "code",
   "execution_count": 40,
   "id": "russian-joseph",
   "metadata": {},
   "outputs": [
    {
     "name": "stdout",
     "output_type": "stream",
     "text": [
      "32/32 [==============================] - 0s 2ms/step - loss: 0.1587 - acc: 0.9650\n",
      "\n",
      " 테스트 정확도: 0.9650\n"
     ]
    }
   ],
   "source": [
    "print(\"\\n 테스트 정확도: %.4f\" % (model.evaluate([Xstest, Xqtest], Ytest)[1]))"
   ]
  },
  {
   "cell_type": "code",
   "execution_count": 41,
   "id": "protecting-edwards",
   "metadata": {},
   "outputs": [
    {
     "data": {
      "image/png": "[encoded data removed]",
      "text/plain": [
       "<Figure size 432x288 with 2 Axes>"
      ]
     },
     "metadata": {
      "needs_background": "light"
     },
     "output_type": "display_data"
    }
   ],
   "source": [
    "# plot accuracy and loss plot\n",
    "plt.subplot(211)\n",
    "plt.title(\"Accuracy\")\n",
    "plt.plot(history.history[\"acc\"], color=\"g\", label=\"train\")\n",
    "plt.plot(history.history[\"val_acc\"], color=\"b\", label=\"validation\")\n",
    "plt.legend(loc=\"best\")\n",
    "\n",
    "plt.subplot(212)\n",
    "plt.title(\"Loss\")\n",
    "plt.plot(history.history[\"loss\"], color=\"g\", label=\"train\")\n",
    "plt.plot(history.history[\"val_loss\"], color=\"b\", label=\"validation\")\n",
    "plt.legend(loc=\"best\")\n",
    "\n",
    "plt.tight_layout()\n",
    "plt.show()\n",
    "\n",
    "# labels\n",
    "ytest = np.argmax(Ytest, axis=1)\n",
    "\n",
    "# get predictions\n",
    "Ytest_ = model.predict([Xstest, Xqtest])\n",
    "ytest_ = np.argmax(Ytest_, axis=1)"
   ]
  },
  {
   "cell_type": "code",
   "execution_count": 42,
   "id": "challenging-wheel",
   "metadata": {},
   "outputs": [
    {
     "data": {
      "text/plain": [
       "[7, 1, 21, 22, 23]"
      ]
     },
     "execution_count": 42,
     "metadata": {},
     "output_type": "execute_result"
    }
   ],
   "source": [
    "a = Xqtest[0].tolist()\n",
    "a"
   ]
  },
  {
   "cell_type": "code",
   "execution_count": 43,
   "id": "virgin-roommate",
   "metadata": {},
   "outputs": [
    {
     "data": {
      "text/plain": [
       "'는'"
      ]
     },
     "execution_count": 43,
     "metadata": {},
     "output_type": "execute_result"
    }
   ],
   "source": [
    "idx2word[1]"
   ]
  },
  {
   "cell_type": "code",
   "execution_count": 44,
   "id": "possible-original",
   "metadata": {},
   "outputs": [
    {
     "name": "stdout",
     "output_type": "stream",
     "text": [
      "은경이\n",
      "는\n",
      "어디\n",
      "야\n",
      "?\n"
     ]
    }
   ],
   "source": [
    "for i in a:\n",
    "    print(idx2word[i])"
   ]
  },
  {
   "cell_type": "code",
   "execution_count": 45,
   "id": "integral-cement",
   "metadata": {},
   "outputs": [
    {
     "name": "stdout",
     "output_type": "stream",
     "text": [
      "질문                  |실제값    |예측값\n",
      "---------------------------------------\n",
      "은경이 는 어디 야 ?        : 복도       복도\n",
      "필웅이 는 어디 야 ?        : 화장실      화장실\n",
      "경임이 는 어디 야 ?        : 부엌       부엌\n",
      "경임이 는 어디 야 ?        : 복도       복도\n",
      "경임이 는 어디 야 ?        : 부엌       부엌\n",
      "경임이 는 어디 야 ?        : 복도       복도\n",
      "경임이 는 어디 야 ?        : 정원       정원\n",
      "수종이 는 어디 야 ?        : 복도       복도\n",
      "경임이 는 어디 야 ?        : 사무실      사무실\n",
      "수종이 는 어디 야 ?        : 사무실      화장실\n",
      "필웅이 는 어디 야 ?        : 부엌       부엌\n",
      "필웅이 는 어디 야 ?        : 정원       정원\n",
      "수종이 는 어디 야 ?        : 사무실      사무실\n",
      "필웅이 는 어디 야 ?        : 침실       침실\n",
      "필웅이 는 어디 야 ?        : 침실       침실\n",
      "은경이 는 어디 야 ?        : 부엌       부엌\n",
      "은경이 는 어디 야 ?        : 정원       정원\n",
      "은경이 는 어디 야 ?        : 부엌       부엌\n",
      "수종이 는 어디 야 ?        : 사무실      사무실\n",
      "은경이 는 어디 야 ?        : 부엌       부엌\n",
      "필웅이 는 어디 야 ?        : 복도       복도\n",
      "은경이 는 어디 야 ?        : 사무실      사무실\n",
      "은경이 는 어디 야 ?        : 사무실      사무실\n",
      "경임이 는 어디 야 ?        : 복도       복도\n",
      "수종이 는 어디 야 ?        : 침실       침실\n",
      "경임이 는 어디 야 ?        : 침실       침실\n",
      "필웅이 는 어디 야 ?        : 침실       침실\n",
      "수종이 는 어디 야 ?        : 부엌       부엌\n",
      "수종이 는 어디 야 ?        : 부엌       부엌\n",
      "수종이 는 어디 야 ?        : 부엌       부엌\n"
     ]
    }
   ],
   "source": [
    "NUM_DISPLAY = 30\n",
    "\n",
    "print(\"{:20}|{:7}|{}\".format(\"질문\", \"실제값\", \"예측값\"))\n",
    "print(39 * \"-\")\n",
    "\n",
    "for i in range(NUM_DISPLAY):\n",
    "    question = \" \".join([idx2word[x] for x in Xqtest[i].tolist()])\n",
    "    label = idx2word[ytest[i]]\n",
    "    prediction = idx2word[ytest_[i]]\n",
    "    print(\"{:20}: {:8} {}\".format(question, label, prediction))"
   ]
  },
  {
   "cell_type": "markdown",
   "id": "suspended-orchestra",
   "metadata": {},
   "source": [
    "## PROJECT"
   ]
  },
  {
   "cell_type": "markdown",
   "id": "pretty-therapist",
   "metadata": {},
   "source": [
    "### 평가문항 상세기준\n",
    "\n",
    "* 1. 한국어의 특성에 알맞게 전처리가 진행되었다.\n",
    "  * 한국어 특성에 따른 토큰화, 임베딩을 거쳐 데이터셋이 적절히 구성되었다.\n",
    "\n",
    "\n",
    "* 2. 메모리 네트워크가 정상적으로 구현되어 학습이 안정적으로 진행되었다.\n",
    "  * validation loss가 안정적으로 수렴하는 것을 확인하고 이를 시각화하였다.\n",
    "\n",
    "\n",
    "* 3. 메모리 네트워크를 통해 한국어 bAbI 태스크의 높은 정확도를 달성하였다.\n",
    "  * 추론 태스크의 테스트 정확도가 90% 이상 달성하였다."
   ]
  },
  {
   "cell_type": "markdown",
   "id": "patent-biography",
   "metadata": {},
   "source": [
    "### 후기\n",
    "\n",
    "주어진 코드와 노드를 따라 가다보면 크게 어렵지 않았습니다. 챗봇의 중요한 개념인 '기억'을 구현해볼 수 있었다는 점이 즐거웠습니다."
   ]
  },
  {
   "cell_type": "code",
   "execution_count": null,
   "id": "silver-airport",
   "metadata": {},
   "outputs": [],
   "source": []
  }
 ],
 "metadata": {
  "kernelspec": {
   "display_name": "aiffel",
   "language": "python",
   "name": "aiffel"
  },
  "language_info": {
   "codemirror_mode": {
    "name": "ipython",
    "version": 3
   },
   "file_extension": ".py",
   "mimetype": "text/x-python",
   "name": "python",
   "nbconvert_exporter": "python",
   "pygments_lexer": "ipython3",
   "version": "3.7.10"
  }
 },
 "nbformat": 4,
 "nbformat_minor": 5
}
