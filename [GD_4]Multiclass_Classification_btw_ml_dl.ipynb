{
 "cells": [
  {
   "cell_type": "markdown",
   "id": "important-exchange",
   "metadata": {},
   "source": [
    "## 4-9. 프로젝트: Vocabulary Size를 변경해서 시도해보기"
   ]
  },
  {
   "cell_type": "code",
   "execution_count": 1,
   "id": "protecting-glenn",
   "metadata": {},
   "outputs": [],
   "source": [
    "from tensorflow.keras.datasets import reuters\n",
    "from sklearn.metrics import classification_report\n",
    "import matplotlib.pyplot as plt\n",
    "import seaborn as sns\n",
    "import numpy as np\n",
    "import pandas as pd"
   ]
  },
  {
   "cell_type": "markdown",
   "id": "mathematical-section",
   "metadata": {},
   "source": [
    "### 데이터 로드시 갯수결정"
   ]
  },
  {
   "cell_type": "code",
   "execution_count": 2,
   "id": "behavioral-airfare",
   "metadata": {},
   "outputs": [],
   "source": [
    "(x_train, y_train), (x_test, y_test) = reuters.load_data(num_words=12000, test_split=0.2)"
   ]
  },
  {
   "cell_type": "code",
   "execution_count": 3,
   "id": "early-ministry",
   "metadata": {},
   "outputs": [
    {
     "name": "stdout",
     "output_type": "stream",
     "text": [
      "<class 'numpy.ndarray'> <class 'numpy.ndarray'>\n"
     ]
    }
   ],
   "source": [
    "print(type(x_train), type(y_train))"
   ]
  },
  {
   "cell_type": "code",
   "execution_count": 4,
   "id": "significant-ideal",
   "metadata": {},
   "outputs": [],
   "source": [
    "# (x_train, y_train), (x_test, y_test) = reuters.load_data(num_words=10000, test_split=0.2)"
   ]
  },
  {
   "cell_type": "code",
   "execution_count": 5,
   "id": "stock-mixer",
   "metadata": {},
   "outputs": [],
   "source": [
    "# (x_train, y_train), (x_test, y_test) = reuters.load_data(num_words=12000, test_split=0.2)"
   ]
  },
  {
   "cell_type": "code",
   "execution_count": 6,
   "id": "duplicate-slope",
   "metadata": {},
   "outputs": [
    {
     "name": "stdout",
     "output_type": "stream",
     "text": [
      "훈련 샘플의 수: 8982\n",
      "테스트 샘플의 수: 2246\n"
     ]
    }
   ],
   "source": [
    "print('훈련 샘플의 수: {}'.format(len(x_train)))\n",
    "print('테스트 샘플의 수: {}'.format(len(x_test)))"
   ]
  },
  {
   "cell_type": "markdown",
   "id": "architectural-jesus",
   "metadata": {},
   "source": [
    "### 데이터 로드 후 형태 확인"
   ]
  },
  {
   "cell_type": "code",
   "execution_count": 7,
   "id": "healthy-intervention",
   "metadata": {},
   "outputs": [
    {
     "name": "stdout",
     "output_type": "stream",
     "text": [
      "[1, 2, 2, 8, 43, 10, 447, 5, 25, 207, 270, 5, 3095, 111, 16, 369, 186, 90, 67, 7, 89, 5, 19, 102, 6, 19, 124, 15, 90, 67, 84, 22, 482, 26, 7, 48, 4, 49, 8, 864, 39, 209, 154, 6, 151, 6, 83, 11, 15, 22, 155, 11, 15, 7, 48, 9, 4579, 1005, 504, 6, 258, 6, 272, 11, 15, 22, 134, 44, 11, 15, 16, 8, 197, 1245, 90, 67, 52, 29, 209, 30, 32, 132, 6, 109, 15, 17, 12]\n",
      "[1, 4, 1378, 2025, 9, 697, 4622, 111, 8, 25, 109, 29, 3650, 11, 150, 244, 364, 33, 30, 30, 1398, 333, 6, 2, 159, 9, 1084, 363, 13, 2, 71, 9, 2, 71, 117, 4, 225, 78, 206, 10, 9, 1214, 8, 4, 270, 5, 2, 7, 748, 48, 9, 2, 7, 207, 1451, 966, 1864, 793, 97, 133, 336, 7, 4, 493, 98, 273, 104, 284, 25, 39, 338, 22, 905, 220, 3465, 644, 59, 20, 6, 119, 61, 11, 15, 58, 579, 26, 10, 67, 7, 4, 738, 98, 43, 88, 333, 722, 12, 20, 6, 19, 746, 35, 15, 10, 9, 1214, 855, 129, 783, 21, 4, 2280, 244, 364, 51, 16, 299, 452, 16, 515, 4, 99, 29, 5, 4, 364, 281, 48, 10, 9, 1214, 23, 644, 47, 20, 324, 27, 56, 2, 2, 5, 192, 510, 17, 12]\n"
     ]
    }
   ],
   "source": [
    "print(x_train[0])\n",
    "print(x_test[0])"
   ]
  },
  {
   "cell_type": "code",
   "execution_count": 8,
   "id": "experimental-yorkshire",
   "metadata": {},
   "outputs": [
    {
     "name": "stdout",
     "output_type": "stream",
     "text": [
      "클래스의 수 : 46\n"
     ]
    }
   ],
   "source": [
    "num_classes = max(y_train) + 1\n",
    "print('클래스의 수 : {}'.format(num_classes))"
   ]
  },
  {
   "cell_type": "code",
   "execution_count": 9,
   "id": "different-power",
   "metadata": {},
   "outputs": [
    {
     "name": "stdout",
     "output_type": "stream",
     "text": [
      "훈련용 뉴스의 최대 길이 :2376\n",
      "훈련용 뉴스의 평균 길이 :145.5398574927633\n"
     ]
    },
    {
     "data": {
      "image/png": "[encoded data removed]",
      "text/plain": [
       "<Figure size 432x288 with 1 Axes>"
      ]
     },
     "metadata": {
      "needs_background": "light"
     },
     "output_type": "display_data"
    }
   ],
   "source": [
    "print('훈련용 뉴스의 최대 길이 :{}'.format(max(len(l) for l in x_train)))\n",
    "print('훈련용 뉴스의 평균 길이 :{}'.format(sum(map(len, x_train))/len(x_train)))\n",
    "\n",
    "plt.hist([len(s) for s in x_train], bins=50)\n",
    "plt.xlabel('length of samples')\n",
    "plt.ylabel('number of samples')\n",
    "plt.show()"
   ]
  },
  {
   "cell_type": "code",
   "execution_count": 10,
   "id": "distinct-accident",
   "metadata": {},
   "outputs": [
    {
     "name": "stderr",
     "output_type": "stream",
     "text": [
      "/home/aiffel-dj62/anaconda3/envs/aiffel/lib/python3.7/site-packages/seaborn/_decorators.py:43: FutureWarning: Pass the following variable as a keyword arg: x. From version 0.12, the only valid positional argument will be `data`, and passing other arguments without an explicit keyword will result in an error or misinterpretation.\n",
      "  FutureWarning\n"
     ]
    },
    {
     "data": {
      "text/plain": [
       "<AxesSubplot:ylabel='count'>"
      ]
     },
     "execution_count": 10,
     "metadata": {},
     "output_type": "execute_result"
    },
    {
     "data": {
      "image/png": "[encoded data removed]",
      "text/plain": [
       "<Figure size 864x360 with 1 Axes>"
      ]
     },
     "metadata": {
      "needs_background": "light"
     },
     "output_type": "display_data"
    }
   ],
   "source": [
    "fig, axe = plt.subplots(ncols=1)\n",
    "fig.set_size_inches(12,5)\n",
    "sns.countplot(y_train)"
   ]
  },
  {
   "cell_type": "markdown",
   "id": "afraid-static",
   "metadata": {},
   "source": [
    "## 데이터 복원하기(TF-IDF방식을 사용하기 위해)"
   ]
  },
  {
   "cell_type": "code",
   "execution_count": 11,
   "id": "generous-silver",
   "metadata": {},
   "outputs": [],
   "source": [
    "word_index = reuters.get_word_index(path=\"reuters_word_index.json\")"
   ]
  },
  {
   "cell_type": "code",
   "execution_count": 12,
   "id": "oriented-experience",
   "metadata": {},
   "outputs": [
    {
     "data": {
      "text/plain": [
       "1"
      ]
     },
     "execution_count": 12,
     "metadata": {},
     "output_type": "execute_result"
    }
   ],
   "source": [
    "word_index['the']"
   ]
  },
  {
   "cell_type": "code",
   "execution_count": 13,
   "id": "floating-think",
   "metadata": {
    "scrolled": true
   },
   "outputs": [
    {
     "name": "stdout",
     "output_type": "stream",
     "text": [
      "30979\n"
     ]
    }
   ],
   "source": [
    "print(len(word_index.items()))"
   ]
  },
  {
   "cell_type": "code",
   "execution_count": 14,
   "id": "married-rogers",
   "metadata": {},
   "outputs": [
    {
     "data": {
      "text/plain": [
       "13"
      ]
     },
     "execution_count": 14,
     "metadata": {},
     "output_type": "execute_result"
    }
   ],
   "source": [
    "word_index['it']"
   ]
  },
  {
   "cell_type": "code",
   "execution_count": 15,
   "id": "banner-arbitration",
   "metadata": {},
   "outputs": [],
   "source": [
    "index_to_word = {index + 3 : word for word, index in word_index.items()}"
   ]
  },
  {
   "cell_type": "code",
   "execution_count": 16,
   "id": "corrected-terror",
   "metadata": {},
   "outputs": [
    {
     "name": "stdout",
     "output_type": "stream",
     "text": [
      "the\n",
      "it\n"
     ]
    }
   ],
   "source": [
    "print(index_to_word[4])\n",
    "print(index_to_word[16])"
   ]
  },
  {
   "cell_type": "code",
   "execution_count": 17,
   "id": "reduced-albany",
   "metadata": {},
   "outputs": [],
   "source": [
    "# index_to_word에 숫자 0은 <pad>, 숫자 1은 <sos>, 숫자 2는 <unk>를 넣어줍니다.\n",
    "for index, token in enumerate((\"<pad>\", \"<sos>\", \"<unk>\")):\n",
    "    index_to_word[index]=token"
   ]
  },
  {
   "cell_type": "code",
   "execution_count": 18,
   "id": "underlying-chain",
   "metadata": {},
   "outputs": [
    {
     "name": "stdout",
     "output_type": "stream",
     "text": [
      "<sos> <unk> <unk> said as a result of its december acquisition of space co it expects earnings per share in 1987 of 1 15 to 1 30 dlrs per share up from 70 cts in 1986 the company said pretax net should rise to nine to 10 mln dlrs from six mln dlrs in 1986 and rental operation revenues to 19 to 22 mln dlrs from 12 5 mln dlrs it said cash flow per share this year should be 2 50 to three dlrs reuter 3\n"
     ]
    }
   ],
   "source": [
    "print(' '.join([index_to_word[index] for index in x_train[0]]))"
   ]
  },
  {
   "cell_type": "code",
   "execution_count": 19,
   "id": "corrected-schedule",
   "metadata": {},
   "outputs": [
    {
     "data": {
      "text/plain": [
       "30982"
      ]
     },
     "execution_count": 19,
     "metadata": {},
     "output_type": "execute_result"
    }
   ],
   "source": [
    "len(index_to_word)"
   ]
  },
  {
   "cell_type": "code",
   "execution_count": 20,
   "id": "trying-midnight",
   "metadata": {},
   "outputs": [],
   "source": [
    "decoded = []\n",
    "for i in range(len(x_train)):\n",
    "    t = ' '.join([index_to_word[index] for index in x_train[i]])\n",
    "    decoded.append(t)\n",
    "\n",
    "x_train = decoded"
   ]
  },
  {
   "cell_type": "code",
   "execution_count": 21,
   "id": "defensive-crime",
   "metadata": {},
   "outputs": [],
   "source": [
    "decoded = []\n",
    "for i in range(len(x_test)):\n",
    "    t = ' '.join([index_to_word[index] for index in x_test[i]])\n",
    "    decoded.append(t)\n",
    "\n",
    "x_test = decoded"
   ]
  },
  {
   "cell_type": "code",
   "execution_count": 22,
   "id": "serial-boulder",
   "metadata": {},
   "outputs": [
    {
     "data": {
      "text/plain": [
       "['<sos> <unk> <unk> said as a result of its december acquisition of space co it expects earnings per share in 1987 of 1 15 to 1 30 dlrs per share up from 70 cts in 1986 the company said pretax net should rise to nine to 10 mln dlrs from six mln dlrs in 1986 and rental operation revenues to 19 to 22 mln dlrs from 12 5 mln dlrs it said cash flow per share this year should be 2 50 to three dlrs reuter 3']"
      ]
     },
     "execution_count": 22,
     "metadata": {},
     "output_type": "execute_result"
    }
   ],
   "source": [
    "x_train[:1]"
   ]
  },
  {
   "cell_type": "code",
   "execution_count": 23,
   "id": "protecting-tutorial",
   "metadata": {},
   "outputs": [
    {
     "data": {
      "text/plain": [
       "['<sos> the great atlantic and pacific tea co said its three year 345 mln dlr capital program will be be substantially increased to <unk> growth and expansion plans for <unk> inc and <unk> inc over the next two years a and p said the acquisition of <unk> in august 1986 and <unk> in december helped us achieve better than expected results in the fourth quarter ended february 28 its net income from continuing operations jumped 52 6 pct to 20 7 mln dlrs or 55 cts a share in the latest quarter as sales increased 48 3 pct to 1 58 billion dlrs a and p gave no details on the expanded capital program but it did say it completed the first year of the program during 1986 a and p is 52 4 pct owned by lt <unk> <unk> of west germany reuter 3']"
      ]
     },
     "execution_count": 23,
     "metadata": {},
     "output_type": "execute_result"
    }
   ],
   "source": [
    "x_test[:1]"
   ]
  },
  {
   "cell_type": "code",
   "execution_count": 24,
   "id": "canadian-above",
   "metadata": {},
   "outputs": [
    {
     "name": "stdout",
     "output_type": "stream",
     "text": [
      "8982 2246\n"
     ]
    }
   ],
   "source": [
    "print(len(x_train), len(x_test))"
   ]
  },
  {
   "cell_type": "markdown",
   "id": "fantastic-female",
   "metadata": {},
   "source": [
    "## 벡터화 하기"
   ]
  },
  {
   "cell_type": "code",
   "execution_count": 25,
   "id": "skilled-princess",
   "metadata": {},
   "outputs": [],
   "source": [
    "from sklearn.feature_extraction.text import CountVectorizer\n",
    "from sklearn.feature_extraction.text import TfidfTransformer"
   ]
  },
  {
   "cell_type": "code",
   "execution_count": 26,
   "id": "lyric-black",
   "metadata": {},
   "outputs": [
    {
     "name": "stdout",
     "output_type": "stream",
     "text": [
      "(8982, 11540)\n"
     ]
    }
   ],
   "source": [
    "dtmvector = CountVectorizer()\n",
    "x_train_dtm = dtmvector.fit_transform(x_train)\n",
    "print(x_train_dtm.shape)"
   ]
  },
  {
   "cell_type": "code",
   "execution_count": 27,
   "id": "solved-tumor",
   "metadata": {},
   "outputs": [
    {
     "name": "stdout",
     "output_type": "stream",
     "text": [
      "(8982, 11540)\n"
     ]
    }
   ],
   "source": [
    "tfidf_transformer = TfidfTransformer()\n",
    "tfidfv = tfidf_transformer.fit_transform(x_train_dtm)\n",
    "print(tfidfv.shape)"
   ]
  },
  {
   "cell_type": "markdown",
   "id": "peripheral-liquid",
   "metadata": {},
   "source": [
    "## 분류기"
   ]
  },
  {
   "cell_type": "markdown",
   "id": "caroline-claim",
   "metadata": {},
   "source": [
    "### 나이브베이즈 분류기"
   ]
  },
  {
   "cell_type": "code",
   "execution_count": 28,
   "id": "structural-queen",
   "metadata": {},
   "outputs": [],
   "source": [
    "from sklearn.naive_bayes import MultinomialNB #다항분포 나이브 베이즈 모델\n",
    "from sklearn.linear_model import LogisticRegression, SGDClassifier\n",
    "from sklearn.naive_bayes import ComplementNB\n",
    "from sklearn.tree import DecisionTreeClassifier\n",
    "from sklearn.ensemble import RandomForestClassifier\n",
    "from sklearn.ensemble import GradientBoostingClassifier\n",
    "from sklearn.ensemble import VotingClassifier\n",
    "from sklearn.svm import LinearSVC\n",
    "from sklearn.metrics import accuracy_score #정확도 계산"
   ]
  },
  {
   "cell_type": "code",
   "execution_count": 29,
   "id": "running-premises",
   "metadata": {},
   "outputs": [
    {
     "data": {
      "text/plain": [
       "MultinomialNB()"
      ]
     },
     "execution_count": 29,
     "metadata": {},
     "output_type": "execute_result"
    }
   ],
   "source": [
    "mod = MultinomialNB()\n",
    "mod.fit(tfidfv, y_train)"
   ]
  },
  {
   "cell_type": "code",
   "execution_count": 30,
   "id": "jewish-nomination",
   "metadata": {},
   "outputs": [
    {
     "name": "stdout",
     "output_type": "stream",
     "text": [
      "정확도: 0.6482635796972396\n"
     ]
    }
   ],
   "source": [
    "x_test_dtm = dtmvector.transform(x_test) #테스트 데이터를 DTM으로 변환\n",
    "tfidfv_test = tfidf_transformer.transform(x_test_dtm) #DTM을 TF-IDF 행렬로 변환\n",
    "\n",
    "predicted = mod.predict(tfidfv_test) #테스트 데이터에 대한 예측\n",
    "print(\"정확도:\", accuracy_score(y_test, predicted)) #예측값과 실제값 비교"
   ]
  },
  {
   "cell_type": "code",
   "execution_count": 31,
   "id": "social-arthur",
   "metadata": {},
   "outputs": [
    {
     "name": "stdout",
     "output_type": "stream",
     "text": [
      "              precision    recall  f1-score   support\n",
      "\n",
      "           0       0.00      0.00      0.00        12\n",
      "           1       0.66      0.61      0.63       105\n",
      "           2       0.00      0.00      0.00        20\n",
      "           3       0.79      0.90      0.84       813\n",
      "           4       0.50      0.96      0.65       474\n",
      "           5       0.00      0.00      0.00         5\n",
      "           6       0.00      0.00      0.00        14\n",
      "           7       0.00      0.00      0.00         3\n",
      "           8       0.00      0.00      0.00        38\n",
      "           9       1.00      0.04      0.08        25\n",
      "          10       0.00      0.00      0.00        30\n",
      "          11       0.68      0.53      0.59        83\n",
      "          12       0.00      0.00      0.00        13\n",
      "          13       0.00      0.00      0.00        37\n",
      "          14       0.00      0.00      0.00         2\n",
      "          15       0.00      0.00      0.00         9\n",
      "          16       0.74      0.53      0.62        99\n",
      "          17       0.00      0.00      0.00        12\n",
      "          18       0.00      0.00      0.00        20\n",
      "          19       0.62      0.77      0.69       133\n",
      "          20       1.00      0.03      0.06        70\n",
      "          21       0.00      0.00      0.00        27\n",
      "          22       0.00      0.00      0.00         7\n",
      "          23       0.00      0.00      0.00        12\n",
      "          24       0.00      0.00      0.00        19\n",
      "          25       0.00      0.00      0.00        31\n",
      "          26       0.00      0.00      0.00         8\n",
      "          27       0.00      0.00      0.00         4\n",
      "          28       0.00      0.00      0.00        10\n",
      "          29       0.00      0.00      0.00         4\n",
      "          30       0.00      0.00      0.00        12\n",
      "          31       0.00      0.00      0.00        13\n",
      "          32       0.00      0.00      0.00        10\n",
      "          33       0.00      0.00      0.00         5\n",
      "          34       0.00      0.00      0.00         7\n",
      "          35       0.00      0.00      0.00         6\n",
      "          36       0.00      0.00      0.00        11\n",
      "          37       0.00      0.00      0.00         2\n",
      "          38       0.00      0.00      0.00         3\n",
      "          39       0.00      0.00      0.00         5\n",
      "          40       0.00      0.00      0.00        10\n",
      "          41       0.00      0.00      0.00         8\n",
      "          42       0.00      0.00      0.00         3\n",
      "          43       0.00      0.00      0.00         6\n",
      "          44       0.00      0.00      0.00         5\n",
      "          45       0.00      0.00      0.00         1\n",
      "\n",
      "    accuracy                           0.65      2246\n",
      "   macro avg       0.13      0.10      0.09      2246\n",
      "weighted avg       0.56      0.65      0.57      2246\n",
      "\n"
     ]
    },
    {
     "name": "stderr",
     "output_type": "stream",
     "text": [
      "/home/aiffel-dj62/anaconda3/envs/aiffel/lib/python3.7/site-packages/sklearn/metrics/_classification.py:1245: UndefinedMetricWarning: Precision and F-score are ill-defined and being set to 0.0 in labels with no predicted samples. Use `zero_division` parameter to control this behavior.\n",
      "  _warn_prf(average, modifier, msg_start, len(result))\n",
      "/home/aiffel-dj62/anaconda3/envs/aiffel/lib/python3.7/site-packages/sklearn/metrics/_classification.py:1245: UndefinedMetricWarning: Precision and F-score are ill-defined and being set to 0.0 in labels with no predicted samples. Use `zero_division` parameter to control this behavior.\n",
      "  _warn_prf(average, modifier, msg_start, len(result))\n",
      "/home/aiffel-dj62/anaconda3/envs/aiffel/lib/python3.7/site-packages/sklearn/metrics/_classification.py:1245: UndefinedMetricWarning: Precision and F-score are ill-defined and being set to 0.0 in labels with no predicted samples. Use `zero_division` parameter to control this behavior.\n",
      "  _warn_prf(average, modifier, msg_start, len(result))\n"
     ]
    }
   ],
   "source": [
    "print(classification_report(y_test, mod.predict(tfidfv_test)))"
   ]
  },
  {
   "cell_type": "markdown",
   "id": "alternative-nigeria",
   "metadata": {},
   "source": [
    "## CNB\n",
    "* 데이터가 불균형할 경우를 대비해서 나이브 베이즈 분류기를 보완한 것이 컴플리먼트 나이브 베이즈 분류기"
   ]
  },
  {
   "cell_type": "code",
   "execution_count": 32,
   "id": "human-portfolio",
   "metadata": {},
   "outputs": [
    {
     "data": {
      "text/plain": [
       "ComplementNB()"
      ]
     },
     "execution_count": 32,
     "metadata": {},
     "output_type": "execute_result"
    }
   ],
   "source": [
    "cb = ComplementNB()\n",
    "cb.fit(tfidfv, y_train)"
   ]
  },
  {
   "cell_type": "code",
   "execution_count": 33,
   "id": "potential-chassis",
   "metadata": {},
   "outputs": [
    {
     "name": "stdout",
     "output_type": "stream",
     "text": [
      "정확도: 0.7742653606411398\n"
     ]
    }
   ],
   "source": [
    "predicted = cb.predict(tfidfv_test) #테스트 데이터에 대한 예측\n",
    "print(\"정확도:\", accuracy_score(y_test, predicted)) #예측값과 실제값 비교"
   ]
  },
  {
   "cell_type": "code",
   "execution_count": 34,
   "id": "annual-looking",
   "metadata": {},
   "outputs": [
    {
     "name": "stdout",
     "output_type": "stream",
     "text": [
      "              precision    recall  f1-score   support\n",
      "\n",
      "           0       0.89      0.67      0.76        12\n",
      "           1       0.65      0.90      0.75       105\n",
      "           2       0.91      0.50      0.65        20\n",
      "           3       0.90      0.90      0.90       813\n",
      "           4       0.76      0.92      0.83       474\n",
      "           5       0.00      0.00      0.00         5\n",
      "           6       0.92      0.86      0.89        14\n",
      "           7       1.00      0.67      0.80         3\n",
      "           8       0.50      0.13      0.21        38\n",
      "           9       0.82      0.92      0.87        25\n",
      "          10       0.96      0.80      0.87        30\n",
      "          11       0.55      0.72      0.62        83\n",
      "          12       0.00      0.00      0.00        13\n",
      "          13       0.63      0.59      0.61        37\n",
      "          14       0.00      0.00      0.00         2\n",
      "          15       0.50      0.11      0.18         9\n",
      "          16       0.67      0.79      0.73        99\n",
      "          17       0.00      0.00      0.00        12\n",
      "          18       0.57      0.60      0.59        20\n",
      "          19       0.55      0.80      0.65       133\n",
      "          20       0.78      0.30      0.43        70\n",
      "          21       0.74      0.63      0.68        27\n",
      "          22       0.00      0.00      0.00         7\n",
      "          23       0.78      0.58      0.67        12\n",
      "          24       0.50      0.11      0.17        19\n",
      "          25       0.85      0.74      0.79        31\n",
      "          26       0.88      0.88      0.88         8\n",
      "          27       1.00      0.25      0.40         4\n",
      "          28       0.25      0.10      0.14        10\n",
      "          29       0.00      0.00      0.00         4\n",
      "          30       0.00      0.00      0.00        12\n",
      "          31       1.00      0.31      0.47        13\n",
      "          32       1.00      0.80      0.89        10\n",
      "          33       1.00      0.80      0.89         5\n",
      "          34       1.00      0.71      0.83         7\n",
      "          35       1.00      0.17      0.29         6\n",
      "          36       0.00      0.00      0.00        11\n",
      "          37       0.00      0.00      0.00         2\n",
      "          38       1.00      0.33      0.50         3\n",
      "          39       1.00      0.20      0.33         5\n",
      "          40       0.00      0.00      0.00        10\n",
      "          41       0.67      0.25      0.36         8\n",
      "          42       1.00      0.33      0.50         3\n",
      "          43       1.00      0.17      0.29         6\n",
      "          44       0.67      0.80      0.73         5\n",
      "          45       1.00      1.00      1.00         1\n",
      "\n",
      "    accuracy                           0.77      2246\n",
      "   macro avg       0.63      0.44      0.48      2246\n",
      "weighted avg       0.76      0.77      0.75      2246\n",
      "\n"
     ]
    },
    {
     "name": "stderr",
     "output_type": "stream",
     "text": [
      "/home/aiffel-dj62/anaconda3/envs/aiffel/lib/python3.7/site-packages/sklearn/metrics/_classification.py:1245: UndefinedMetricWarning: Precision and F-score are ill-defined and being set to 0.0 in labels with no predicted samples. Use `zero_division` parameter to control this behavior.\n",
      "  _warn_prf(average, modifier, msg_start, len(result))\n",
      "/home/aiffel-dj62/anaconda3/envs/aiffel/lib/python3.7/site-packages/sklearn/metrics/_classification.py:1245: UndefinedMetricWarning: Precision and F-score are ill-defined and being set to 0.0 in labels with no predicted samples. Use `zero_division` parameter to control this behavior.\n",
      "  _warn_prf(average, modifier, msg_start, len(result))\n",
      "/home/aiffel-dj62/anaconda3/envs/aiffel/lib/python3.7/site-packages/sklearn/metrics/_classification.py:1245: UndefinedMetricWarning: Precision and F-score are ill-defined and being set to 0.0 in labels with no predicted samples. Use `zero_division` parameter to control this behavior.\n",
      "  _warn_prf(average, modifier, msg_start, len(result))\n"
     ]
    }
   ],
   "source": [
    "print(classification_report(y_test, cb.predict(tfidfv_test)))"
   ]
  },
  {
   "cell_type": "markdown",
   "id": "heated-instruction",
   "metadata": {},
   "source": [
    "## 로지스틱회귀(Softmax Regression)"
   ]
  },
  {
   "cell_type": "code",
   "execution_count": 35,
   "id": "pretty-silicon",
   "metadata": {},
   "outputs": [
    {
     "name": "stderr",
     "output_type": "stream",
     "text": [
      "/home/aiffel-dj62/anaconda3/envs/aiffel/lib/python3.7/site-packages/sklearn/linear_model/_logistic.py:765: ConvergenceWarning: lbfgs failed to converge (status=1):\n",
      "STOP: TOTAL NO. of ITERATIONS REACHED LIMIT.\n",
      "\n",
      "Increase the number of iterations (max_iter) or scale the data as shown in:\n",
      "    https://scikit-learn.org/stable/modules/preprocessing.html\n",
      "Please also refer to the documentation for alternative solver options:\n",
      "    https://scikit-learn.org/stable/modules/linear_model.html#logistic-regression\n",
      "  extra_warning_msg=_LOGISTIC_SOLVER_CONVERGENCE_MSG)\n"
     ]
    },
    {
     "data": {
      "text/plain": [
       "LogisticRegression(C=10000)"
      ]
     },
     "execution_count": 35,
     "metadata": {},
     "output_type": "execute_result"
    }
   ],
   "source": [
    "lr = LogisticRegression(C=10000, penalty='l2')\n",
    "lr.fit(tfidfv, y_train)"
   ]
  },
  {
   "cell_type": "code",
   "execution_count": 36,
   "id": "physical-championship",
   "metadata": {},
   "outputs": [
    {
     "name": "stdout",
     "output_type": "stream",
     "text": [
      "정확도: 0.8116651825467498\n"
     ]
    }
   ],
   "source": [
    "predicted = lr.predict(tfidfv_test) #테스트 데이터에 대한 예측\n",
    "print(\"정확도:\", accuracy_score(y_test, predicted)) #예측값과 실제값 비교"
   ]
  },
  {
   "cell_type": "code",
   "execution_count": 37,
   "id": "engaged-unemployment",
   "metadata": {},
   "outputs": [
    {
     "name": "stdout",
     "output_type": "stream",
     "text": [
      "              precision    recall  f1-score   support\n",
      "\n",
      "           0       0.89      0.67      0.76        12\n",
      "           1       0.75      0.79      0.77       105\n",
      "           2       0.71      0.75      0.73        20\n",
      "           3       0.91      0.93      0.92       813\n",
      "           4       0.81      0.87      0.84       474\n",
      "           5       0.00      0.00      0.00         5\n",
      "           6       0.93      0.93      0.93        14\n",
      "           7       1.00      0.67      0.80         3\n",
      "           8       0.67      0.74      0.70        38\n",
      "           9       0.82      0.92      0.87        25\n",
      "          10       0.96      0.87      0.91        30\n",
      "          11       0.64      0.73      0.68        83\n",
      "          12       0.57      0.31      0.40        13\n",
      "          13       0.64      0.62      0.63        37\n",
      "          14       0.67      1.00      0.80         2\n",
      "          15       0.83      0.56      0.67         9\n",
      "          16       0.71      0.76      0.73        99\n",
      "          17       0.80      0.67      0.73        12\n",
      "          18       0.87      0.65      0.74        20\n",
      "          19       0.66      0.70      0.68       133\n",
      "          20       0.62      0.47      0.54        70\n",
      "          21       0.67      0.81      0.73        27\n",
      "          22       0.00      0.00      0.00         7\n",
      "          23       0.62      0.67      0.64        12\n",
      "          24       0.62      0.53      0.57        19\n",
      "          25       0.96      0.71      0.81        31\n",
      "          26       1.00      0.88      0.93         8\n",
      "          27       1.00      0.25      0.40         4\n",
      "          28       0.67      0.40      0.50        10\n",
      "          29       0.57      1.00      0.73         4\n",
      "          30       0.89      0.67      0.76        12\n",
      "          31       0.80      0.62      0.70        13\n",
      "          32       1.00      0.80      0.89        10\n",
      "          33       0.80      0.80      0.80         5\n",
      "          34       1.00      0.43      0.60         7\n",
      "          35       1.00      0.33      0.50         6\n",
      "          36       0.38      0.27      0.32        11\n",
      "          37       0.50      0.50      0.50         2\n",
      "          38       0.50      0.33      0.40         3\n",
      "          39       0.50      0.40      0.44         5\n",
      "          40       0.67      0.20      0.31        10\n",
      "          41       0.83      0.62      0.71         8\n",
      "          42       1.00      1.00      1.00         3\n",
      "          43       0.86      1.00      0.92         6\n",
      "          44       1.00      0.80      0.89         5\n",
      "          45       1.00      1.00      1.00         1\n",
      "\n",
      "    accuracy                           0.81      2246\n",
      "   macro avg       0.75      0.64      0.67      2246\n",
      "weighted avg       0.81      0.81      0.81      2246\n",
      "\n"
     ]
    },
    {
     "name": "stderr",
     "output_type": "stream",
     "text": [
      "/home/aiffel-dj62/anaconda3/envs/aiffel/lib/python3.7/site-packages/sklearn/metrics/_classification.py:1245: UndefinedMetricWarning: Precision and F-score are ill-defined and being set to 0.0 in labels with no predicted samples. Use `zero_division` parameter to control this behavior.\n",
      "  _warn_prf(average, modifier, msg_start, len(result))\n",
      "/home/aiffel-dj62/anaconda3/envs/aiffel/lib/python3.7/site-packages/sklearn/metrics/_classification.py:1245: UndefinedMetricWarning: Precision and F-score are ill-defined and being set to 0.0 in labels with no predicted samples. Use `zero_division` parameter to control this behavior.\n",
      "  _warn_prf(average, modifier, msg_start, len(result))\n",
      "/home/aiffel-dj62/anaconda3/envs/aiffel/lib/python3.7/site-packages/sklearn/metrics/_classification.py:1245: UndefinedMetricWarning: Precision and F-score are ill-defined and being set to 0.0 in labels with no predicted samples. Use `zero_division` parameter to control this behavior.\n",
      "  _warn_prf(average, modifier, msg_start, len(result))\n"
     ]
    }
   ],
   "source": [
    "print(classification_report(y_test, lr.predict(tfidfv_test)))"
   ]
  },
  {
   "cell_type": "markdown",
   "id": "reverse-heath",
   "metadata": {},
   "source": [
    "## SVM"
   ]
  },
  {
   "cell_type": "code",
   "execution_count": 38,
   "id": "apart-crawford",
   "metadata": {},
   "outputs": [
    {
     "name": "stderr",
     "output_type": "stream",
     "text": [
      "/home/aiffel-dj62/anaconda3/envs/aiffel/lib/python3.7/site-packages/sklearn/svm/_base.py:986: ConvergenceWarning: Liblinear failed to converge, increase the number of iterations.\n",
      "  \"the number of iterations.\", ConvergenceWarning)\n"
     ]
    },
    {
     "data": {
      "text/plain": [
       "LinearSVC(C=1000, dual=False, max_iter=500, penalty='l1')"
      ]
     },
     "execution_count": 38,
     "metadata": {},
     "output_type": "execute_result"
    }
   ],
   "source": [
    "lsvc = LinearSVC(C=1000, penalty='l1', max_iter=500, dual=False)\n",
    "lsvc.fit(tfidfv, y_train)"
   ]
  },
  {
   "cell_type": "code",
   "execution_count": 39,
   "id": "chinese-emission",
   "metadata": {},
   "outputs": [
    {
     "name": "stdout",
     "output_type": "stream",
     "text": [
      "정확도: 0.7791629563668745\n"
     ]
    }
   ],
   "source": [
    "predicted = lsvc.predict(tfidfv_test) #테스트 데이터에 대한 예측\n",
    "print(\"정확도:\", accuracy_score(y_test, predicted)) #예측값과 실제값 비교"
   ]
  },
  {
   "cell_type": "code",
   "execution_count": 40,
   "id": "marine-farming",
   "metadata": {},
   "outputs": [
    {
     "name": "stdout",
     "output_type": "stream",
     "text": [
      "              precision    recall  f1-score   support\n",
      "\n",
      "           0       0.89      0.67      0.76        12\n",
      "           1       0.69      0.71      0.70       105\n",
      "           2       0.70      0.70      0.70        20\n",
      "           3       0.91      0.91      0.91       813\n",
      "           4       0.81      0.85      0.83       474\n",
      "           5       1.00      0.20      0.33         5\n",
      "           6       0.93      0.93      0.93        14\n",
      "           7       1.00      0.67      0.80         3\n",
      "           8       0.67      0.68      0.68        38\n",
      "           9       0.88      0.88      0.88        25\n",
      "          10       0.89      0.83      0.86        30\n",
      "          11       0.63      0.73      0.68        83\n",
      "          12       0.38      0.23      0.29        13\n",
      "          13       0.49      0.49      0.49        37\n",
      "          14       1.00      0.50      0.67         2\n",
      "          15       0.71      0.56      0.63         9\n",
      "          16       0.60      0.71      0.65        99\n",
      "          17       0.75      0.25      0.38        12\n",
      "          18       0.92      0.55      0.69        20\n",
      "          19       0.62      0.64      0.63       133\n",
      "          20       0.47      0.49      0.48        70\n",
      "          21       0.55      0.78      0.65        27\n",
      "          22       0.00      0.00      0.00         7\n",
      "          23       0.43      0.50      0.46        12\n",
      "          24       0.56      0.47      0.51        19\n",
      "          25       0.86      0.58      0.69        31\n",
      "          26       0.88      0.88      0.88         8\n",
      "          27       1.00      0.50      0.67         4\n",
      "          28       0.60      0.30      0.40        10\n",
      "          29       0.33      0.75      0.46         4\n",
      "          30       0.57      0.33      0.42        12\n",
      "          31       0.88      0.54      0.67        13\n",
      "          32       1.00      0.80      0.89        10\n",
      "          33       0.80      0.80      0.80         5\n",
      "          34       0.80      0.57      0.67         7\n",
      "          35       1.00      0.33      0.50         6\n",
      "          36       0.60      0.55      0.57        11\n",
      "          37       0.50      1.00      0.67         2\n",
      "          38       1.00      0.33      0.50         3\n",
      "          39       0.40      0.40      0.40         5\n",
      "          40       0.25      0.20      0.22        10\n",
      "          41       0.83      0.62      0.71         8\n",
      "          42       0.67      0.67      0.67         3\n",
      "          43       0.75      1.00      0.86         6\n",
      "          44       1.00      0.80      0.89         5\n",
      "          45       1.00      1.00      1.00         1\n",
      "\n",
      "    accuracy                           0.78      2246\n",
      "   macro avg       0.72      0.61      0.63      2246\n",
      "weighted avg       0.78      0.78      0.78      2246\n",
      "\n"
     ]
    },
    {
     "name": "stderr",
     "output_type": "stream",
     "text": [
      "/home/aiffel-dj62/anaconda3/envs/aiffel/lib/python3.7/site-packages/sklearn/metrics/_classification.py:1245: UndefinedMetricWarning: Precision and F-score are ill-defined and being set to 0.0 in labels with no predicted samples. Use `zero_division` parameter to control this behavior.\n",
      "  _warn_prf(average, modifier, msg_start, len(result))\n",
      "/home/aiffel-dj62/anaconda3/envs/aiffel/lib/python3.7/site-packages/sklearn/metrics/_classification.py:1245: UndefinedMetricWarning: Precision and F-score are ill-defined and being set to 0.0 in labels with no predicted samples. Use `zero_division` parameter to control this behavior.\n",
      "  _warn_prf(average, modifier, msg_start, len(result))\n",
      "/home/aiffel-dj62/anaconda3/envs/aiffel/lib/python3.7/site-packages/sklearn/metrics/_classification.py:1245: UndefinedMetricWarning: Precision and F-score are ill-defined and being set to 0.0 in labels with no predicted samples. Use `zero_division` parameter to control this behavior.\n",
      "  _warn_prf(average, modifier, msg_start, len(result))\n"
     ]
    }
   ],
   "source": [
    "print(classification_report(y_test, lsvc.predict(tfidfv_test)))"
   ]
  },
  {
   "cell_type": "markdown",
   "id": "medium-medicaid",
   "metadata": {},
   "source": [
    "## 결정 트리(Decision Tree)"
   ]
  },
  {
   "cell_type": "code",
   "execution_count": 41,
   "id": "crucial-possibility",
   "metadata": {},
   "outputs": [
    {
     "data": {
      "text/plain": [
       "DecisionTreeClassifier(max_depth=10, random_state=0)"
      ]
     },
     "execution_count": 41,
     "metadata": {},
     "output_type": "execute_result"
    }
   ],
   "source": [
    "tree = DecisionTreeClassifier(max_depth=10, random_state=0)\n",
    "tree.fit(tfidfv, y_train)"
   ]
  },
  {
   "cell_type": "code",
   "execution_count": 42,
   "id": "mediterranean-franchise",
   "metadata": {},
   "outputs": [
    {
     "name": "stdout",
     "output_type": "stream",
     "text": [
      "정확도: 0.6166518254674977\n"
     ]
    }
   ],
   "source": [
    "predicted = tree.predict(tfidfv_test) #테스트 데이터에 대한 예측\n",
    "print(\"정확도:\", accuracy_score(y_test, predicted)) #예측값과 실제값 비교"
   ]
  },
  {
   "cell_type": "code",
   "execution_count": 43,
   "id": "judicial-japanese",
   "metadata": {},
   "outputs": [
    {
     "name": "stdout",
     "output_type": "stream",
     "text": [
      "              precision    recall  f1-score   support\n",
      "\n",
      "           0       0.00      0.00      0.00        12\n",
      "           1       0.77      0.42      0.54       105\n",
      "           2       0.60      0.45      0.51        20\n",
      "           3       0.92      0.84      0.88       813\n",
      "           4       0.39      0.90      0.55       474\n",
      "           5       0.00      0.00      0.00         5\n",
      "           6       0.90      0.64      0.75        14\n",
      "           7       0.00      0.00      0.00         3\n",
      "           8       0.00      0.00      0.00        38\n",
      "           9       0.88      0.88      0.88        25\n",
      "          10       0.86      0.83      0.85        30\n",
      "          11       0.65      0.45      0.53        83\n",
      "          12       0.14      0.08      0.10        13\n",
      "          13       0.00      0.00      0.00        37\n",
      "          14       0.00      0.00      0.00         2\n",
      "          15       0.00      0.00      0.00         9\n",
      "          16       0.62      0.83      0.71        99\n",
      "          17       0.00      0.00      0.00        12\n",
      "          18       0.00      0.00      0.00        20\n",
      "          19       0.61      0.29      0.39       133\n",
      "          20       0.33      0.03      0.05        70\n",
      "          21       0.00      0.00      0.00        27\n",
      "          22       0.00      0.00      0.00         7\n",
      "          23       0.00      0.00      0.00        12\n",
      "          24       1.00      0.05      0.10        19\n",
      "          25       0.86      0.19      0.32        31\n",
      "          26       0.00      0.00      0.00         8\n",
      "          27       0.00      0.00      0.00         4\n",
      "          28       0.50      0.10      0.17        10\n",
      "          29       0.00      0.00      0.00         4\n",
      "          30       0.00      0.00      0.00        12\n",
      "          31       0.00      0.00      0.00        13\n",
      "          32       0.00      0.00      0.00        10\n",
      "          33       0.80      0.80      0.80         5\n",
      "          34       0.00      0.00      0.00         7\n",
      "          35       0.00      0.00      0.00         6\n",
      "          36       0.00      0.00      0.00        11\n",
      "          37       0.00      0.00      0.00         2\n",
      "          38       0.00      0.00      0.00         3\n",
      "          39       0.00      0.00      0.00         5\n",
      "          40       0.00      0.00      0.00        10\n",
      "          41       0.00      0.00      0.00         8\n",
      "          42       0.00      0.00      0.00         3\n",
      "          43       0.00      0.00      0.00         6\n",
      "          44       0.00      0.00      0.00         5\n",
      "          45       0.00      0.00      0.00         1\n",
      "\n",
      "    accuracy                           0.62      2246\n",
      "   macro avg       0.24      0.17      0.18      2246\n",
      "weighted avg       0.61      0.62      0.57      2246\n",
      "\n"
     ]
    },
    {
     "name": "stderr",
     "output_type": "stream",
     "text": [
      "/home/aiffel-dj62/anaconda3/envs/aiffel/lib/python3.7/site-packages/sklearn/metrics/_classification.py:1245: UndefinedMetricWarning: Precision and F-score are ill-defined and being set to 0.0 in labels with no predicted samples. Use `zero_division` parameter to control this behavior.\n",
      "  _warn_prf(average, modifier, msg_start, len(result))\n",
      "/home/aiffel-dj62/anaconda3/envs/aiffel/lib/python3.7/site-packages/sklearn/metrics/_classification.py:1245: UndefinedMetricWarning: Precision and F-score are ill-defined and being set to 0.0 in labels with no predicted samples. Use `zero_division` parameter to control this behavior.\n",
      "  _warn_prf(average, modifier, msg_start, len(result))\n",
      "/home/aiffel-dj62/anaconda3/envs/aiffel/lib/python3.7/site-packages/sklearn/metrics/_classification.py:1245: UndefinedMetricWarning: Precision and F-score are ill-defined and being set to 0.0 in labels with no predicted samples. Use `zero_division` parameter to control this behavior.\n",
      "  _warn_prf(average, modifier, msg_start, len(result))\n"
     ]
    }
   ],
   "source": [
    "print(classification_report(y_test, tree.predict(tfidfv_test)))"
   ]
  },
  {
   "cell_type": "markdown",
   "id": "exclusive-cliff",
   "metadata": {},
   "source": [
    "## 랜덤 포레스트(Random Forest)"
   ]
  },
  {
   "cell_type": "code",
   "execution_count": 44,
   "id": "creative-bahrain",
   "metadata": {},
   "outputs": [
    {
     "data": {
      "text/plain": [
       "RandomForestClassifier(n_estimators=5, random_state=0)"
      ]
     },
     "execution_count": 44,
     "metadata": {},
     "output_type": "execute_result"
    }
   ],
   "source": [
    "forest = RandomForestClassifier(n_estimators=5, random_state=0)\n",
    "forest.fit(tfidfv, y_train)"
   ]
  },
  {
   "cell_type": "code",
   "execution_count": 45,
   "id": "aware-venezuela",
   "metadata": {},
   "outputs": [
    {
     "name": "stdout",
     "output_type": "stream",
     "text": [
      "정확도: 0.6825467497773821\n"
     ]
    }
   ],
   "source": [
    "predicted = forest.predict(tfidfv_test) #테스트 데이터에 대한 예측\n",
    "print(\"정확도:\", accuracy_score(y_test, predicted)) #예측값과 실제값 비교"
   ]
  },
  {
   "cell_type": "code",
   "execution_count": 46,
   "id": "absent-killing",
   "metadata": {},
   "outputs": [
    {
     "name": "stdout",
     "output_type": "stream",
     "text": [
      "              precision    recall  f1-score   support\n",
      "\n",
      "           0       0.44      0.58      0.50        12\n",
      "           1       0.42      0.68      0.52       105\n",
      "           2       0.33      0.35      0.34        20\n",
      "           3       0.85      0.91      0.87       813\n",
      "           4       0.63      0.85      0.73       474\n",
      "           5       0.00      0.00      0.00         5\n",
      "           6       0.80      0.57      0.67        14\n",
      "           7       1.00      0.33      0.50         3\n",
      "           8       0.61      0.58      0.59        38\n",
      "           9       0.84      0.64      0.73        25\n",
      "          10       0.64      0.23      0.34        30\n",
      "          11       0.51      0.57      0.53        83\n",
      "          12       0.40      0.15      0.22        13\n",
      "          13       0.36      0.32      0.34        37\n",
      "          14       0.00      0.00      0.00         2\n",
      "          15       0.00      0.00      0.00         9\n",
      "          16       0.58      0.45      0.51        99\n",
      "          17       0.00      0.00      0.00        12\n",
      "          18       0.44      0.20      0.28        20\n",
      "          19       0.60      0.51      0.55       133\n",
      "          20       0.57      0.36      0.44        70\n",
      "          21       0.69      0.33      0.45        27\n",
      "          22       0.00      0.00      0.00         7\n",
      "          23       0.25      0.08      0.12        12\n",
      "          24       0.50      0.16      0.24        19\n",
      "          25       0.89      0.52      0.65        31\n",
      "          26       1.00      0.12      0.22         8\n",
      "          27       0.00      0.00      0.00         4\n",
      "          28       0.33      0.10      0.15        10\n",
      "          29       0.00      0.00      0.00         4\n",
      "          30       0.67      0.17      0.27        12\n",
      "          31       0.00      0.00      0.00        13\n",
      "          32       1.00      0.20      0.33        10\n",
      "          33       1.00      0.60      0.75         5\n",
      "          34       0.33      0.14      0.20         7\n",
      "          35       0.00      0.00      0.00         6\n",
      "          36       0.33      0.18      0.24        11\n",
      "          37       0.00      0.00      0.00         2\n",
      "          38       0.00      0.00      0.00         3\n",
      "          39       0.00      0.00      0.00         5\n",
      "          40       1.00      0.20      0.33        10\n",
      "          41       0.50      0.12      0.20         8\n",
      "          42       0.00      0.00      0.00         3\n",
      "          43       1.00      0.33      0.50         6\n",
      "          44       1.00      0.80      0.89         5\n",
      "          45       0.00      0.00      0.00         1\n",
      "\n",
      "    accuracy                           0.68      2246\n",
      "   macro avg       0.45      0.27      0.31      2246\n",
      "weighted avg       0.66      0.68      0.66      2246\n",
      "\n"
     ]
    },
    {
     "name": "stderr",
     "output_type": "stream",
     "text": [
      "/home/aiffel-dj62/anaconda3/envs/aiffel/lib/python3.7/site-packages/sklearn/metrics/_classification.py:1245: UndefinedMetricWarning: Precision and F-score are ill-defined and being set to 0.0 in labels with no predicted samples. Use `zero_division` parameter to control this behavior.\n",
      "  _warn_prf(average, modifier, msg_start, len(result))\n",
      "/home/aiffel-dj62/anaconda3/envs/aiffel/lib/python3.7/site-packages/sklearn/metrics/_classification.py:1245: UndefinedMetricWarning: Precision and F-score are ill-defined and being set to 0.0 in labels with no predicted samples. Use `zero_division` parameter to control this behavior.\n",
      "  _warn_prf(average, modifier, msg_start, len(result))\n",
      "/home/aiffel-dj62/anaconda3/envs/aiffel/lib/python3.7/site-packages/sklearn/metrics/_classification.py:1245: UndefinedMetricWarning: Precision and F-score are ill-defined and being set to 0.0 in labels with no predicted samples. Use `zero_division` parameter to control this behavior.\n",
      "  _warn_prf(average, modifier, msg_start, len(result))\n"
     ]
    }
   ],
   "source": [
    "print(classification_report(y_test, forest.predict(tfidfv_test)))"
   ]
  },
  {
   "cell_type": "markdown",
   "id": "alert-cameroon",
   "metadata": {},
   "source": [
    "## 그래디언트 부스팅 트리(GradientBoostingClassifier)\n"
   ]
  },
  {
   "cell_type": "code",
   "execution_count": 47,
   "id": "thrown-madness",
   "metadata": {},
   "outputs": [
    {
     "data": {
      "text/plain": [
       "GradientBoostingClassifier(random_state=0)"
      ]
     },
     "execution_count": 47,
     "metadata": {},
     "output_type": "execute_result"
    }
   ],
   "source": [
    "grbt = GradientBoostingClassifier(random_state=0) # verbose=3\n",
    "grbt.fit(tfidfv, y_train)"
   ]
  },
  {
   "cell_type": "code",
   "execution_count": 48,
   "id": "olive-standing",
   "metadata": {},
   "outputs": [
    {
     "name": "stdout",
     "output_type": "stream",
     "text": [
      "정확도: 0.7684772929652716\n"
     ]
    }
   ],
   "source": [
    "predicted = grbt.predict(tfidfv_test) #테스트 데이터에 대한 예측\n",
    "print(\"정확도:\", accuracy_score(y_test, predicted)) #예측값과 실제값 비교"
   ]
  },
  {
   "cell_type": "code",
   "execution_count": 49,
   "id": "stuffed-stockholm",
   "metadata": {},
   "outputs": [
    {
     "name": "stdout",
     "output_type": "stream",
     "text": [
      "              precision    recall  f1-score   support\n",
      "\n",
      "           0       0.78      0.58      0.67        12\n",
      "           1       0.79      0.70      0.74       105\n",
      "           2       0.67      0.70      0.68        20\n",
      "           3       0.88      0.90      0.89       813\n",
      "           4       0.76      0.84      0.80       474\n",
      "           5       0.25      0.20      0.22         5\n",
      "           6       0.91      0.71      0.80        14\n",
      "           7       0.50      0.33      0.40         3\n",
      "           8       0.63      0.63      0.63        38\n",
      "           9       0.83      0.76      0.79        25\n",
      "          10       0.86      0.83      0.85        30\n",
      "          11       0.67      0.72      0.69        83\n",
      "          12       0.43      0.46      0.44        13\n",
      "          13       0.59      0.43      0.50        37\n",
      "          14       0.09      0.50      0.15         2\n",
      "          15       0.29      0.22      0.25         9\n",
      "          16       0.68      0.74      0.71        99\n",
      "          17       0.44      0.33      0.38        12\n",
      "          18       0.64      0.45      0.53        20\n",
      "          19       0.72      0.66      0.69       133\n",
      "          20       0.65      0.46      0.54        70\n",
      "          21       0.73      0.70      0.72        27\n",
      "          22       0.67      0.29      0.40         7\n",
      "          23       0.50      0.58      0.54        12\n",
      "          24       0.71      0.63      0.67        19\n",
      "          25       0.88      0.74      0.81        31\n",
      "          26       0.75      0.75      0.75         8\n",
      "          27       0.50      0.50      0.50         4\n",
      "          28       0.43      0.30      0.35        10\n",
      "          29       0.25      0.75      0.38         4\n",
      "          30       0.42      0.42      0.42        12\n",
      "          31       0.54      0.54      0.54        13\n",
      "          32       1.00      0.80      0.89        10\n",
      "          33       0.75      0.60      0.67         5\n",
      "          34       0.60      0.43      0.50         7\n",
      "          35       0.25      0.17      0.20         6\n",
      "          36       0.58      0.64      0.61        11\n",
      "          37       0.67      1.00      0.80         2\n",
      "          38       0.33      0.33      0.33         3\n",
      "          39       0.33      0.20      0.25         5\n",
      "          40       1.00      0.40      0.57        10\n",
      "          41       0.50      0.62      0.56         8\n",
      "          42       1.00      0.67      0.80         3\n",
      "          43       0.38      0.50      0.43         6\n",
      "          44       0.57      0.80      0.67         5\n",
      "          45       0.50      1.00      0.67         1\n",
      "\n",
      "    accuracy                           0.77      2246\n",
      "   macro avg       0.61      0.58      0.57      2246\n",
      "weighted avg       0.77      0.77      0.77      2246\n",
      "\n"
     ]
    }
   ],
   "source": [
    "print(classification_report(y_test, grbt.predict(tfidfv_test)))"
   ]
  },
  {
   "cell_type": "markdown",
   "id": "significant-scene",
   "metadata": {},
   "source": [
    "## 보팅(Voting)"
   ]
  },
  {
   "cell_type": "code",
   "execution_count": 50,
   "id": "efficient-circus",
   "metadata": {},
   "outputs": [
    {
     "data": {
      "text/plain": [
       "VotingClassifier(estimators=[('lr', LogisticRegression(C=10000)),\n",
       "                             ('cb', ComplementNB()),\n",
       "                             ('grbt',\n",
       "                              GradientBoostingClassifier(random_state=0))],\n",
       "                 n_jobs=-1, voting='soft')"
      ]
     },
     "execution_count": 50,
     "metadata": {},
     "output_type": "execute_result"
    }
   ],
   "source": [
    "voting_classifier = VotingClassifier(estimators=[\n",
    "         ('lr', LogisticRegression(C=10000, penalty='l2')),\n",
    "        ('cb', ComplementNB()),\n",
    "        ('grbt', GradientBoostingClassifier(random_state=0))\n",
    "], voting='soft', n_jobs=-1)\n",
    "voting_classifier.fit(tfidfv, y_train)"
   ]
  },
  {
   "cell_type": "code",
   "execution_count": 51,
   "id": "substantial-gamma",
   "metadata": {},
   "outputs": [
    {
     "name": "stdout",
     "output_type": "stream",
     "text": [
      "정확도: 0.8178984861976848\n"
     ]
    }
   ],
   "source": [
    "predicted = voting_classifier.predict(tfidfv_test) #테스트 데이터에 대한 예측\n",
    "print(\"정확도:\", accuracy_score(y_test, predicted)) #예측값과 실제값 비교"
   ]
  },
  {
   "cell_type": "code",
   "execution_count": null,
   "id": "acute-marketing",
   "metadata": {},
   "outputs": [],
   "source": []
  },
  {
   "cell_type": "code",
   "execution_count": 52,
   "id": "basic-coach",
   "metadata": {},
   "outputs": [],
   "source": [
    "from sklearn.metrics import classification_report\n",
    "from sklearn.metrics import confusion_matrix"
   ]
  },
  {
   "cell_type": "code",
   "execution_count": 53,
   "id": "governing-advocate",
   "metadata": {},
   "outputs": [
    {
     "name": "stdout",
     "output_type": "stream",
     "text": [
      "              precision    recall  f1-score   support\n",
      "\n",
      "           0       0.82      0.75      0.78        12\n",
      "           1       0.79      0.77      0.78       105\n",
      "           2       0.73      0.80      0.76        20\n",
      "           3       0.92      0.94      0.93       813\n",
      "           4       0.82      0.88      0.85       474\n",
      "           5       0.00      0.00      0.00         5\n",
      "           6       0.92      0.86      0.89        14\n",
      "           7       1.00      0.67      0.80         3\n",
      "           8       0.70      0.68      0.69        38\n",
      "           9       0.81      0.84      0.82        25\n",
      "          10       0.96      0.87      0.91        30\n",
      "          11       0.67      0.71      0.69        83\n",
      "          12       0.46      0.46      0.46        13\n",
      "          13       0.69      0.65      0.67        37\n",
      "          14       0.22      1.00      0.36         2\n",
      "          15       0.57      0.44      0.50         9\n",
      "          16       0.72      0.76      0.74        99\n",
      "          17       0.70      0.58      0.64        12\n",
      "          18       0.81      0.65      0.72        20\n",
      "          19       0.71      0.71      0.71       133\n",
      "          20       0.63      0.47      0.54        70\n",
      "          21       0.67      0.81      0.73        27\n",
      "          22       0.67      0.29      0.40         7\n",
      "          23       0.56      0.75      0.64        12\n",
      "          24       0.72      0.68      0.70        19\n",
      "          25       0.92      0.74      0.82        31\n",
      "          26       0.88      0.88      0.88         8\n",
      "          27       0.67      0.50      0.57         4\n",
      "          28       0.43      0.30      0.35        10\n",
      "          29       0.43      0.75      0.55         4\n",
      "          30       0.64      0.58      0.61        12\n",
      "          31       0.82      0.69      0.75        13\n",
      "          32       1.00      1.00      1.00        10\n",
      "          33       0.80      0.80      0.80         5\n",
      "          34       0.75      0.43      0.55         7\n",
      "          35       1.00      0.33      0.50         6\n",
      "          36       0.70      0.64      0.67        11\n",
      "          37       0.67      1.00      0.80         2\n",
      "          38       0.50      0.33      0.40         3\n",
      "          39       0.33      0.20      0.25         5\n",
      "          40       1.00      0.40      0.57        10\n",
      "          41       0.80      0.50      0.62         8\n",
      "          42       1.00      0.67      0.80         3\n",
      "          43       0.57      0.67      0.62         6\n",
      "          44       0.57      0.80      0.67         5\n",
      "          45       0.50      1.00      0.67         1\n",
      "\n",
      "    accuracy                           0.82      2246\n",
      "   macro avg       0.70      0.66      0.66      2246\n",
      "weighted avg       0.82      0.82      0.81      2246\n",
      "\n"
     ]
    }
   ],
   "source": [
    "print(classification_report(y_test, voting_classifier.predict(tfidfv_test)))"
   ]
  },
  {
   "cell_type": "markdown",
   "id": "sticky-awareness",
   "metadata": {},
   "source": [
    "## 딥러닝 모델과 비교"
   ]
  },
  {
   "cell_type": "markdown",
   "id": "earlier-proof",
   "metadata": {},
   "source": [
    "평가문항\n",
    "상세기준\n",
    "1. 분류 모델의 accuracy가 기준 이상 높게 나왔는가?\n",
    "\n",
    "3가지 단어 개수에 대해 8가지 머신러닝 기법을 적용하여 그중 최적의 솔루션을 도출하였다.\n",
    "\n",
    "2. 분류 모델의 F1 score가 기준 이상 높게 나왔는가?\n",
    "\n",
    "Vocabulary size에 따른 각 머신러닝 모델의 성능변화 추이를 살피고, 해당 머신러닝 알고리즘의 특성에 근거해 원인을 분석하였다.\n",
    "\n",
    "3. 생성모델의 metric(BLEU 등) 기준 이상 높은 성능이 확인되었는가?\n",
    "\n",
    "동일한 데이터셋과 전처리 조건으로 딥러닝 모델의 성능과 비교하여 결과에 따른 원인을 분석하였다."
   ]
  },
  {
   "cell_type": "code",
   "execution_count": 236,
   "id": "perceived-product",
   "metadata": {},
   "outputs": [],
   "source": [
    "from tensorflow.keras.layers import Embedding, Dense, LSTM\n",
    "from tensorflow.keras.models import Sequential\n",
    "from tensorflow.keras.models import load_model\n",
    "from tensorflow.keras.callbacks import EarlyStopping, ModelCheckpoint\n",
    "from tensorflow.keras.datasets import reuters"
   ]
  },
  {
   "cell_type": "markdown",
   "id": "neither-network",
   "metadata": {},
   "source": [
    "## 데이터 복원하기(TF-IDF방식을 사용하기 위해)"
   ]
  },
  {
   "cell_type": "code",
   "execution_count": 237,
   "id": "charged-clinton",
   "metadata": {},
   "outputs": [],
   "source": [
    "(x_train, y_train), (x_test, y_test) = reuters.load_data(num_words=5000, test_split=0.2)"
   ]
  },
  {
   "cell_type": "code",
   "execution_count": 238,
   "id": "significant-messaging",
   "metadata": {},
   "outputs": [
    {
     "data": {
      "text/plain": [
       "[1,\n",
       " 2,\n",
       " 2,\n",
       " 8,\n",
       " 43,\n",
       " 10,\n",
       " 447,\n",
       " 5,\n",
       " 25,\n",
       " 207,\n",
       " 270,\n",
       " 5,\n",
       " 3095,\n",
       " 111,\n",
       " 16,\n",
       " 369,\n",
       " 186,\n",
       " 90,\n",
       " 67,\n",
       " 7,\n",
       " 89,\n",
       " 5,\n",
       " 19,\n",
       " 102,\n",
       " 6,\n",
       " 19,\n",
       " 124,\n",
       " 15,\n",
       " 90,\n",
       " 67,\n",
       " 84,\n",
       " 22,\n",
       " 482,\n",
       " 26,\n",
       " 7,\n",
       " 48,\n",
       " 4,\n",
       " 49,\n",
       " 8,\n",
       " 864,\n",
       " 39,\n",
       " 209,\n",
       " 154,\n",
       " 6,\n",
       " 151,\n",
       " 6,\n",
       " 83,\n",
       " 11,\n",
       " 15,\n",
       " 22,\n",
       " 155,\n",
       " 11,\n",
       " 15,\n",
       " 7,\n",
       " 48,\n",
       " 9,\n",
       " 4579,\n",
       " 1005,\n",
       " 504,\n",
       " 6,\n",
       " 258,\n",
       " 6,\n",
       " 272,\n",
       " 11,\n",
       " 15,\n",
       " 22,\n",
       " 134,\n",
       " 44,\n",
       " 11,\n",
       " 15,\n",
       " 16,\n",
       " 8,\n",
       " 197,\n",
       " 1245,\n",
       " 90,\n",
       " 67,\n",
       " 52,\n",
       " 29,\n",
       " 209,\n",
       " 30,\n",
       " 32,\n",
       " 132,\n",
       " 6,\n",
       " 109,\n",
       " 15,\n",
       " 17,\n",
       " 12]"
      ]
     },
     "execution_count": 238,
     "metadata": {},
     "output_type": "execute_result"
    }
   ],
   "source": [
    "x_train[0]"
   ]
  },
  {
   "cell_type": "code",
   "execution_count": 239,
   "id": "generous-silver",
   "metadata": {},
   "outputs": [],
   "source": [
    "word_index = reuters.get_word_index(path=\"reuters_word_index.json\")"
   ]
  },
  {
   "cell_type": "code",
   "execution_count": 240,
   "id": "oriented-experience",
   "metadata": {},
   "outputs": [
    {
     "data": {
      "text/plain": [
       "1"
      ]
     },
     "execution_count": 240,
     "metadata": {},
     "output_type": "execute_result"
    }
   ],
   "source": [
    "word_index['the']"
   ]
  },
  {
   "cell_type": "code",
   "execution_count": 241,
   "id": "floating-think",
   "metadata": {
    "scrolled": true
   },
   "outputs": [
    {
     "name": "stdout",
     "output_type": "stream",
     "text": [
      "30979\n"
     ]
    }
   ],
   "source": [
    "print(len(word_index.items()))"
   ]
  },
  {
   "cell_type": "code",
   "execution_count": 242,
   "id": "married-rogers",
   "metadata": {},
   "outputs": [
    {
     "data": {
      "text/plain": [
       "13"
      ]
     },
     "execution_count": 242,
     "metadata": {},
     "output_type": "execute_result"
    }
   ],
   "source": [
    "word_index['it']"
   ]
  },
  {
   "cell_type": "code",
   "execution_count": 243,
   "id": "banner-arbitration",
   "metadata": {},
   "outputs": [],
   "source": [
    "index_to_word = {index : word for word, index in word_index.items()}"
   ]
  },
  {
   "cell_type": "code",
   "execution_count": 244,
   "id": "corrected-terror",
   "metadata": {},
   "outputs": [
    {
     "name": "stdout",
     "output_type": "stream",
     "text": [
      "the\n",
      "it\n"
     ]
    }
   ],
   "source": [
    "print(index_to_word[1])\n",
    "print(index_to_word[13])"
   ]
  },
  {
   "cell_type": "code",
   "execution_count": 245,
   "id": "underlying-chain",
   "metadata": {},
   "outputs": [
    {
     "name": "stdout",
     "output_type": "stream",
     "text": [
      "the of of mln loss for plc said at only ended said commonwealth could 1 traders now april 0 a after said from 1985 and from foreign 000 april 0 prices its account year a but in this mln home an states earlier and rise and revs vs 000 its 16 vs 000 a but 3 psbr oils several and shareholders and dividend vs 000 its all 4 vs 000 1 mln agreed largely april 0 are 2 states will billion total and against 000 pct dlrs\n"
     ]
    }
   ],
   "source": [
    "print(' '.join([index_to_word[index] for index in x_train[0]]))"
   ]
  },
  {
   "cell_type": "code",
   "execution_count": 246,
   "id": "collaborative-voltage",
   "metadata": {},
   "outputs": [
    {
     "data": {
      "text/plain": [
       "87"
      ]
     },
     "execution_count": 246,
     "metadata": {},
     "output_type": "execute_result"
    }
   ],
   "source": [
    "len(x_train[0])"
   ]
  },
  {
   "cell_type": "code",
   "execution_count": 247,
   "id": "unable-atlantic",
   "metadata": {},
   "outputs": [],
   "source": [
    "decoded = []\n",
    "for i in range(len(x_train)):\n",
    "    t = ' '.join([index_to_word[index] for index in x_train[i]])\n",
    "    decoded.append(t)\n",
    "\n",
    "x_train = decoded"
   ]
  },
  {
   "cell_type": "code",
   "execution_count": 248,
   "id": "modern-glasgow",
   "metadata": {},
   "outputs": [],
   "source": [
    "decoded = []\n",
    "for i in range(len(x_test)):\n",
    "    t = ' '.join([index_to_word[index] for index in x_test[i]])\n",
    "    decoded.append(t)\n",
    "\n",
    "x_test = decoded"
   ]
  },
  {
   "cell_type": "code",
   "execution_count": 249,
   "id": "productive-potter",
   "metadata": {},
   "outputs": [
    {
     "data": {
      "text/plain": [
       "'the of of mln loss for plc said at only ended said commonwealth could 1 traders now april 0 a after said from 1985 and from foreign 000 april 0 prices its account year a but in this mln home an states earlier and rise and revs vs 000 its 16 vs 000 a but 3 psbr oils several and shareholders and dividend vs 000 its all 4 vs 000 1 mln agreed largely april 0 are 2 states will billion total and against 000 pct dlrs'"
      ]
     },
     "execution_count": 249,
     "metadata": {},
     "output_type": "execute_result"
    }
   ],
   "source": [
    "x_train[0]"
   ]
  },
  {
   "cell_type": "code",
   "execution_count": 250,
   "id": "annoying-closer",
   "metadata": {},
   "outputs": [
    {
     "data": {
      "text/plain": [
       "'the in wants intermediate 3 how types could mln at against 2 guidelines vs end products opec he will will along results and of exports 3 purchased each it of profit 3 of profit agreement in around corp should for 3 cannot mln in ended said of a 54 but 3 of a only generally political primarily date other under well a in british rate gain if demand at an div its taking report montreal systems were is and production had vs 000 7 issued year for 0 a in buffer rate loss may results tariffs dlrs is and from 39 s 000 for 3 cannot pre 50 east that in foods products opec last 1 fall change 1 approval in 15 2 said in opec 28 but for 3 cannot cts systems which is half be 6 of of said president amount pct dlrs'"
      ]
     },
     "execution_count": 250,
     "metadata": {},
     "output_type": "execute_result"
    }
   ],
   "source": [
    "x_test[0]"
   ]
  },
  {
   "cell_type": "code",
   "execution_count": 251,
   "id": "continent-gathering",
   "metadata": {},
   "outputs": [],
   "source": [
    "from konlpy.tag import Mecab\n",
    "mecab = Mecab()\n",
    "\n",
    "def mecab_split(sentence):\n",
    "    word = mecab.morphs(sentence)\n",
    "    return word\n",
    "\n",
    "X_train = []\n",
    "\n",
    "for sentence in x_train:\n",
    "    X_train.append(mecab_split(sentence))"
   ]
  },
  {
   "cell_type": "code",
   "execution_count": 252,
   "id": "southeast-audience",
   "metadata": {},
   "outputs": [],
   "source": [
    "def mecab_split(sentence):\n",
    "    word = mecab.morphs(sentence)\n",
    "    return word\n",
    "\n",
    "X_test = []\n",
    "\n",
    "for sentence in x_test:\n",
    "    X_test.append(mecab_split(sentence))"
   ]
  },
  {
   "cell_type": "code",
   "execution_count": 253,
   "id": "macro-scholar",
   "metadata": {},
   "outputs": [],
   "source": [
    "from tensorflow.keras.preprocessing.text import Tokenizer\n",
    "from tensorflow.keras.preprocessing.sequence import pad_sequences"
   ]
  },
  {
   "cell_type": "code",
   "execution_count": null,
   "id": "minus-liberal",
   "metadata": {},
   "outputs": [],
   "source": []
  },
  {
   "cell_type": "code",
   "execution_count": 254,
   "id": "twelve-lover",
   "metadata": {},
   "outputs": [],
   "source": [
    "def below_threshold_len(max_len, nested_list):\n",
    "    cnt = 0\n",
    "    for s in nested_list:\n",
    "        if(len(s) <= max_len):\n",
    "            cnt = cnt + 1\n",
    "    print('전체 샘플 중 길이가 %s 이하인 샘플의 비율: %s'%(max_len, (cnt / len(nested_list))*100))"
   ]
  },
  {
   "cell_type": "code",
   "execution_count": 255,
   "id": "relevant-clinton",
   "metadata": {},
   "outputs": [
    {
     "name": "stdout",
     "output_type": "stream",
     "text": [
      "전체 샘플 중 길이가 300 이하인 샘플의 비율: 88.77755511022045\n"
     ]
    }
   ],
   "source": [
    "max_len = 300\n",
    "below_threshold_len(max_len, X_train)"
   ]
  },
  {
   "cell_type": "code",
   "execution_count": null,
   "id": "editorial-samoa",
   "metadata": {},
   "outputs": [],
   "source": []
  },
  {
   "cell_type": "code",
   "execution_count": null,
   "id": "revolutionary-tulsa",
   "metadata": {},
   "outputs": [],
   "source": []
  },
  {
   "cell_type": "code",
   "execution_count": 256,
   "id": "coastal-carolina",
   "metadata": {},
   "outputs": [],
   "source": [
    "tokenizer = Tokenizer(len(X_train)) \n",
    "tokenizer.fit_on_texts(X_train)# 이걸 생략하면 단어장을 생성하지 않기 때문에 빈 리스트로 반환됨\n",
    "X_train = tokenizer.texts_to_sequences(X_train)\n",
    "X_test = tokenizer.texts_to_sequences(X_test)"
   ]
  },
  {
   "cell_type": "code",
   "execution_count": 257,
   "id": "early-nicholas",
   "metadata": {},
   "outputs": [],
   "source": [
    "import tensorflow as tf\n",
    "X_train = tf.keras.preprocessing.sequence.pad_sequences(\n",
    "    X_train, maxlen=300, padding='pre',\n",
    "    truncating='pre'\n",
    ")\n",
    "\n",
    "X_test = tf.keras.preprocessing.sequence.pad_sequences(\n",
    "    X_test, maxlen=300, dtype='int32', padding='pre',\n",
    "    truncating='pre', value=0.0\n",
    ")"
   ]
  },
  {
   "cell_type": "code",
   "execution_count": 258,
   "id": "european-carol",
   "metadata": {},
   "outputs": [
    {
     "data": {
      "text/plain": [
       "(8982, 300)"
      ]
     },
     "execution_count": 258,
     "metadata": {},
     "output_type": "execute_result"
    }
   ],
   "source": [
    "X_train.shape# (8982, 300)"
   ]
  },
  {
   "cell_type": "code",
   "execution_count": 259,
   "id": "thick-stupid",
   "metadata": {},
   "outputs": [
    {
     "data": {
      "text/plain": [
       "(8982,)"
      ]
     },
     "execution_count": 259,
     "metadata": {},
     "output_type": "execute_result"
    }
   ],
   "source": [
    "y_train.shape# (8982,)"
   ]
  },
  {
   "cell_type": "code",
   "execution_count": 260,
   "id": "agricultural-drama",
   "metadata": {},
   "outputs": [
    {
     "data": {
      "text/plain": [
       "8982"
      ]
     },
     "execution_count": 260,
     "metadata": {},
     "output_type": "execute_result"
    }
   ],
   "source": [
    "num_word = tokenizer.get_config()['num_words']\n",
    "num_word"
   ]
  },
  {
   "cell_type": "code",
   "execution_count": 261,
   "id": "covered-amendment",
   "metadata": {},
   "outputs": [],
   "source": [
    "# X_train = np.array(X_train).reshape((X_train.shape[0], X_train.shape[1], 1))\n",
    "# X_test = np.array(X_test).reshape((X_test.shape[0], X_test.shape[1], 1))\n"
   ]
  },
  {
   "cell_type": "code",
   "execution_count": 262,
   "id": "dense-technology",
   "metadata": {},
   "outputs": [],
   "source": [
    "# # 단층 LSTM을 구현하기 위한 함수\n",
    "from keras import Sequential\n",
    "from keras.layers import Dense, SimpleRNN, Activation, Embedding\n",
    "from keras import optimizers\n",
    "from keras.wrappers.scikit_learn import KerasClassifier\n",
    "\n",
    "# def lstm():\n",
    "#     model = Sequential()\n",
    "#     model.add(Embedding(8982, 100))\n",
    "#     model.add(LSTM(50, return_sequences = False))\n",
    "#     model.add(Dense(46, activation = 'softmax'))\n",
    "# #     model.add(Activation('softmax'))\n",
    "    \n",
    "#     adam = optimizers.Adam(lr = 0.001)\n",
    "#     model.compile(loss = 'categorical_crossentropy', optimizer = adam, metrics = ['accuracy'])\n",
    "    \n",
    "#     return model"
   ]
  },
  {
   "cell_type": "code",
   "execution_count": 263,
   "id": "current-attitude",
   "metadata": {},
   "outputs": [],
   "source": [
    "# del model"
   ]
  },
  {
   "cell_type": "code",
   "execution_count": 265,
   "id": "quick-earth",
   "metadata": {},
   "outputs": [
    {
     "name": "stdout",
     "output_type": "stream",
     "text": [
      "Model: \"sequential_5\"\n",
      "_________________________________________________________________\n",
      "Layer (type)                 Output Shape              Param #   \n",
      "=================================================================\n",
      "embedding_5 (Embedding)      (None, None, 100)         898200    \n",
      "_________________________________________________________________\n",
      "lstm_5 (LSTM)                (None, 50)                30200     \n",
      "_________________________________________________________________\n",
      "dense_5 (Dense)              (None, 46)                2346      \n",
      "=================================================================\n",
      "Total params: 930,746\n",
      "Trainable params: 930,746\n",
      "Non-trainable params: 0\n",
      "_________________________________________________________________\n"
     ]
    }
   ],
   "source": [
    "model = Sequential()\n",
    "model.add(Embedding(num_word, 100))\n",
    "model.add(LSTM(50))\n",
    "model.add(Dense(46, activation = 'softmax'))\n",
    "adam = optimizers.Adam(lr = 0.001)\n",
    "model.compile(loss = 'categorical_crossentropy', optimizer = adam, metrics = ['accuracy'])\n",
    "model.summary()\n"
   ]
  },
  {
   "cell_type": "code",
   "execution_count": 266,
   "id": "discrete-series",
   "metadata": {},
   "outputs": [
    {
     "data": {
      "text/plain": [
       "(8982, 300)"
      ]
     },
     "execution_count": 266,
     "metadata": {},
     "output_type": "execute_result"
    }
   ],
   "source": [
    "X_train.shape"
   ]
  },
  {
   "cell_type": "code",
   "execution_count": 267,
   "id": "fiscal-throw",
   "metadata": {},
   "outputs": [
    {
     "data": {
      "text/plain": [
       "(2246, 300)"
      ]
     },
     "execution_count": 267,
     "metadata": {},
     "output_type": "execute_result"
    }
   ],
   "source": [
    "X_test.shape"
   ]
  },
  {
   "cell_type": "code",
   "execution_count": 268,
   "id": "residential-australian",
   "metadata": {},
   "outputs": [],
   "source": [
    "y_train = tf.keras.utils.to_categorical(y_train, num_classes=46)"
   ]
  },
  {
   "cell_type": "code",
   "execution_count": 269,
   "id": "lined-berry",
   "metadata": {},
   "outputs": [],
   "source": [
    "y_test = tf.keras.utils.to_categorical(y_test, num_classes=46)"
   ]
  },
  {
   "cell_type": "code",
   "execution_count": 270,
   "id": "headed-replica",
   "metadata": {},
   "outputs": [
    {
     "name": "stdout",
     "output_type": "stream",
     "text": [
      "Epoch 1/10\n",
      "562/562 [==============================] - 7s 13ms/step - loss: 2.1807 - accuracy: 0.4391\n",
      "Epoch 2/10\n",
      "562/562 [==============================] - 7s 13ms/step - loss: 1.6580 - accuracy: 0.5728\n",
      "Epoch 3/10\n",
      "562/562 [==============================] - 7s 13ms/step - loss: 1.5092 - accuracy: 0.6083\n",
      "Epoch 4/10\n",
      "562/562 [==============================] - 7s 13ms/step - loss: 1.3550 - accuracy: 0.6580\n",
      "Epoch 5/10\n",
      "562/562 [==============================] - 7s 13ms/step - loss: 1.1615 - accuracy: 0.7076\n",
      "Epoch 6/10\n",
      "562/562 [==============================] - 7s 13ms/step - loss: 1.0174 - accuracy: 0.7427\n",
      "Epoch 7/10\n",
      "562/562 [==============================] - 7s 13ms/step - loss: 0.8789 - accuracy: 0.7782\n",
      "Epoch 8/10\n",
      "562/562 [==============================] - 7s 13ms/step - loss: 0.7507 - accuracy: 0.8147\n",
      "Epoch 9/10\n",
      "562/562 [==============================] - 7s 13ms/step - loss: 0.6464 - accuracy: 0.8366\n",
      "Epoch 10/10\n",
      "562/562 [==============================] - 7s 13ms/step - loss: 0.5409 - accuracy: 0.8652\n"
     ]
    }
   ],
   "source": [
    "# model = KerasClassifier(build_fn = lstm, epochs = 2, batch_size = 50, verbose = 1)\n",
    "model.fit(X_train, y_train, batch_size = 16, epochs = 10)\n",
    "y_pred = model.predict(X_test)\n",
    "# y_test_ = np.argmax(y_test)"
   ]
  },
  {
   "cell_type": "code",
   "execution_count": 271,
   "id": "involved-parameter",
   "metadata": {},
   "outputs": [
    {
     "name": "stdout",
     "output_type": "stream",
     "text": [
      "Evaluate on test data\n",
      "18/18 [==============================] - 0s 8ms/step - loss: 1.2428 - accuracy: 0.7257\n",
      "test loss, test acc: [1.2427741289138794, 0.7257346510887146]\n"
     ]
    }
   ],
   "source": [
    "# Evaluate the model on the test data using `evaluate`\n",
    "print(\"Evaluate on test data\")\n",
    "results = model.evaluate(X_test, y_test, batch_size=128)\n",
    "print(\"test loss, test acc:\", results)"
   ]
  },
  {
   "cell_type": "markdown",
   "id": "guilty-april",
   "metadata": {},
   "source": [
    "1. 분류 모델의 accuracy가 기준 이상 높게 나왔는가?\n",
    "* 3가지 단어 개수에 대해 8가지 머신러닝 기법을 적용하여 해당 조건에서 로지스틱 회귀가 가장 높은 성능을 보이는것을 확인했습니다.\n",
    "\n",
    "2. 분류 모델의 F1 score가 기준 이상 높게 나왔는가?\n",
    "* Vocabulary size에 따른 각 머신러닝 모델의 성능변화 추이를 살피고, 해당 머신러닝 알고리즘의 특성에 근거해 원인을 분석하였다.\n",
    "\n",
    "\n",
    "다음 3가지 조건(단어사이즈)에 맞춰 실험하였습니다. \n",
    "\n",
    "num_words: 5000\n",
    "* 나이브베이즈 0.67\n",
    "* CNB 0.77\n",
    "* 로지스틱회귀 0.81\n",
    "* SVM 0.67\n",
    "* 결정트리 0.61\n",
    "* 랜덤포레스트 0.67\n",
    "* 그래디언트 부스팅 0.77\n",
    "* 보팅 0.82\n",
    "\n",
    "num_words: 10000\n",
    "* 나이브베이즈 0.67\n",
    "* CNB 0.77\n",
    "* 로지스틱회귀 0.80\n",
    "* SVM 0.76\n",
    "* 결정트리 0.61\n",
    "* 랜덤포레스트 0.70\n",
    "* 그래디언트 부스팅 0.76\n",
    "* 보팅 0.81\n",
    "\n",
    "\n",
    "num_words: 12000\n",
    "* 나이브베이즈 0.65\n",
    "* CNB 0.77\n",
    "* 로지스틱회귀 0.81\n",
    "* SVM 0.78\n",
    "* 결정트리 0.61\n",
    "* 랜덤포레스트 0.68\n",
    "* 그래디언트 부스팅 0.77\n",
    "* 보팅 0.82\n",
    "\n",
    "결과적으로 너무 많은 단어, 너무 적은 단어는 오히려 성능이 하락했습니다. 평균적으로 가장 준수한 성능을 보인 단어 수는 10,000개였습니다. 가장 성능이 좋았던 모델은 보팅 모델이었으며, 훨씬 간단한 구조의 로지스틱 회귀가 이와 유사한 성능을 보여줬습니다. 트리계열은 고차원의 희소 데이터를 활용한 분류에는 구조적으로 맞지 않기 때문입니다. 따라서 이런 유형의 데이터는 선형분류 기법이 더 좋은 성능을 나타낼 수 밖에 없습니다.\n",
    "\n",
    "3. 생성모델의 metric(BLEU 등) 기준 이상 높은 성능이 확인되었는가?\n",
    "* LSTM모델을 만들어 학습시켰습니다. 동일하게 자체 인코딩된 단어를 디코딩 후 형태소 분석기를 사용하여 토크나이징 후 분석하였습니다. LSTM acc는 하이퍼 파라미터 조정 후 약 72%를 달성하였습니다. "
   ]
  },
  {
   "cell_type": "markdown",
   "id": "supposed-stephen",
   "metadata": {},
   "source": [
    "## 회고\n",
    "\n",
    "여러가지 머신러닝 예측모델을 알아볼 수 있어서 의미있는 노드였습니다. 기존 딥러닝 알고리즘뿐만 아니라 여러 방식으로 예측을 해보고 어떤식으로 차이가 있는지 알 수 있어서 좋았습니다. 딥러닝 모델도 만들어 전처리에서 모델 구현까지 일련의 과정을 경험해볼 수 있었습니다. 궁금한 점은 딥러닝 모델이 다른 머신러닝 방식에 비해 성능이 좋지 않았는데, 이것이 파인튜닝을 하면 나아질수 있는 문제인지, 아니면 모델이 너무 단순했기 때문인지 궁금합니다. "
   ]
  },
  {
   "cell_type": "code",
   "execution_count": null,
   "id": "informed-synthesis",
   "metadata": {},
   "outputs": [],
   "source": []
  }
 ],
 "metadata": {
  "kernelspec": {
   "display_name": "aiffel",
   "language": "python",
   "name": "aiffel"
  },
  "language_info": {
   "codemirror_mode": {
    "name": "ipython",
    "version": 3
   },
   "file_extension": ".py",
   "mimetype": "text/x-python",
   "name": "python",
   "nbconvert_exporter": "python",
   "pygments_lexer": "ipython3",
   "version": "3.7.10"
  }
 },
 "nbformat": 4,
 "nbformat_minor": 5
}
