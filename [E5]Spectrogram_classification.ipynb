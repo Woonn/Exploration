{
 "cells": [
  {
   "cell_type": "markdown",
   "id": "dramatic-violence",
   "metadata": {},
   "source": [
    "# 데이터 불러오기"
   ]
  },
  {
   "cell_type": "code",
   "execution_count": 1,
   "id": "lined-representative",
   "metadata": {
    "scrolled": true
   },
   "outputs": [
    {
     "data": {
      "text/plain": [
       "array(['wav_vals', 'label_vals'], dtype='<U10')"
      ]
     },
     "execution_count": 1,
     "metadata": {},
     "output_type": "execute_result"
    }
   ],
   "source": [
    "import numpy as np\n",
    "import os\n",
    "\n",
    "data_path = os.getenv(\"HOME\")+'/aiffel/speech_recognition/data/speech_wav_8000.npz'\n",
    "speech_data = np.load(data_path)\n",
    "\n",
    "# data1 = speech_data(['wav_vals'][:30000], ['label_vals'][:30000])\n",
    "# data2 = speech_data['label_vals'][:30000]\n",
    "\n",
    "\n",
    "np.array(speech_data)"
   ]
  },
  {
   "cell_type": "markdown",
   "id": "civic-communications",
   "metadata": {},
   "source": [
    "# 데이터셋 확인하기"
   ]
  },
  {
   "cell_type": "code",
   "execution_count": 2,
   "id": "computational-flesh",
   "metadata": {},
   "outputs": [
    {
     "name": "stdout",
     "output_type": "stream",
     "text": [
      "Wave data shape :  (50620, 8000)\n",
      "Label data shape :  (50620, 1)\n",
      "<class 'numpy.ndarray'>\n",
      "rand num :  42420\n",
      "Wave data shape :  (8000,)\n",
      "label :  ['yes']\n"
     ]
    },
    {
     "data": {
      "text/html": [
       "\n",
       "                <audio  controls=\"controls\" >\n",
       "                    <source src=\"data:audio/wav;base64,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\" type=\"audio/wav\" />\n",
       "                    Your browser does not support the audio element.\n",
       "                </audio>\n",
       "              "
      ],
      "text/plain": [
       "<IPython.lib.display.Audio object>"
      ]
     },
     "execution_count": 2,
     "metadata": {},
     "output_type": "execute_result"
    }
   ],
   "source": [
    "# 데이터 모양 확인하기\n",
    "print(\"Wave data shape : \", speech_data[\"wav_vals\"].shape)\n",
    "print(\"Label data shape : \", speech_data[\"label_vals\"].shape)\n",
    "print(type(speech_data[\"wav_vals\"]))\n",
    "\n",
    "\n",
    "import IPython.display as ipd\n",
    "import random\n",
    "\n",
    "# 데이터 확인\n",
    "# 데이터 선택 (랜덤하게 선택하고 있으니, 여러번 실행해 보세요)\n",
    "rand = random.randint(0, len(speech_data[\"wav_vals\"])) # 범위에서 랜덤추출\n",
    "print(\"rand num : \", rand)\n",
    "\n",
    "sr = 8000 # 1초동안 재생되는 샘플의 갯수\n",
    "data = speech_data[\"wav_vals\"][rand]\n",
    "print(\"Wave data shape : \", data.shape)\n",
    "print(\"label : \", speech_data[\"label_vals\"][rand])\n",
    "\n",
    "ipd.Audio(data, rate=sr)"
   ]
  },
  {
   "cell_type": "markdown",
   "id": "interpreted-combat",
   "metadata": {},
   "source": [
    "# 데이터 차원 변환"
   ]
  },
  {
   "cell_type": "markdown",
   "id": "furnished-drain",
   "metadata": {},
   "source": [
    "## Spectogram으로 시각화"
   ]
  },
  {
   "cell_type": "markdown",
   "id": "looking-wings",
   "metadata": {},
   "source": [
    "## speech_data 자체를 변환하고 split"
   ]
  },
  {
   "cell_type": "code",
   "execution_count": 3,
   "id": "further-boost",
   "metadata": {},
   "outputs": [],
   "source": [
    "# 1차원의 Waveform 데이터를 2차원의 Spectrogram 데이터로 변환\n",
    "import librosa\n",
    "\n",
    "def wav2spec(wav, fft_size=258): # spectrogram shape을 맞추기위해서 size 변형\n",
    "    D = np.abs(librosa.stft(wav, n_fft=fft_size))\n",
    "    return D"
   ]
  },
  {
   "cell_type": "markdown",
   "id": "caring-vanilla",
   "metadata": {},
   "source": [
    "## 데이터 변환(wav_vals)"
   ]
  },
  {
   "cell_type": "code",
   "execution_count": 4,
   "id": "painful-marks",
   "metadata": {},
   "outputs": [],
   "source": [
    "data_list = []\n",
    "for wav in speech_data['wav_vals']: # 1차원데이터 읽어와서 변환\n",
    "    x = wav2spec(wav, fft_size=258)\n",
    "    data_list.append(x)"
   ]
  },
  {
   "cell_type": "code",
   "execution_count": 5,
   "id": "cross-prerequisite",
   "metadata": {
    "scrolled": true
   },
   "outputs": [
    {
     "name": "stdout",
     "output_type": "stream",
     "text": [
      "(50620, 130, 126)\n"
     ]
    }
   ],
   "source": [
    "data_list = np.array(data_list)\n",
    "print(data_list.shape)"
   ]
  },
  {
   "cell_type": "markdown",
   "id": "annual-little",
   "metadata": {},
   "source": [
    "# Label data 처리"
   ]
  },
  {
   "cell_type": "code",
   "execution_count": 6,
   "id": "institutional-region",
   "metadata": {},
   "outputs": [
    {
     "name": "stdout",
     "output_type": "stream",
     "text": [
      "LABEL :  ['yes', 'no', 'up', 'down', 'left', 'right', 'on', 'off', 'stop', 'go', 'unknown', 'silence']\n",
      "Indexed LABEL :  {'yes': 0, 'no': 1, 'up': 2, 'down': 3, 'left': 4, 'right': 5, 'on': 6, 'off': 7, 'stop': 8, 'go': 9, 'unknown': 10, 'silence': 11}\n"
     ]
    }
   ],
   "source": [
    "target_list = ['yes', 'no', 'up', 'down', 'left', 'right', 'on', 'off', 'stop', 'go']\n",
    "\n",
    "label_value = target_list\n",
    "label_value.append('unknown')\n",
    "label_value.append('silence')\n",
    "\n",
    "print('LABEL : ', label_value)\n",
    "\n",
    "new_label_value = dict()# 딕셔너리여야 가능한 조작\n",
    "for i, l in enumerate(label_value): # 리스트의 인덱스와 요소에 각각 접근\n",
    "    new_label_value[l] = i # target_list의 idx와 value를 바꿔서 new_label_value에 저장\n",
    "label_value = new_label_value\n",
    "\n",
    "print('Indexed LABEL : ', new_label_value) # value:idx로 변환된 데이터 확인"
   ]
  },
  {
   "cell_type": "code",
   "execution_count": 7,
   "id": "blank-outline",
   "metadata": {},
   "outputs": [
    {
     "data": {
      "text/plain": [
       "array([ 3,  3,  3, ..., 11, 11, 11])"
      ]
     },
     "execution_count": 7,
     "metadata": {},
     "output_type": "execute_result"
    }
   ],
   "source": [
    "temp = []\n",
    "for v in speech_data[\"label_vals\"]:\n",
    "    temp.append(label_value[v[0]]) # ?\n",
    "label_data = np.array(temp)\n",
    "\n",
    "label_data"
   ]
  },
  {
   "cell_type": "markdown",
   "id": "operational-apparel",
   "metadata": {},
   "source": [
    "# 학습을 위한 데이터 분리"
   ]
  },
  {
   "cell_type": "code",
   "execution_count": 8,
   "id": "composed-birth",
   "metadata": {},
   "outputs": [],
   "source": [
    "from sklearn.model_selection import train_test_split\n",
    "\n",
    "sr = 8000\n",
    "train_wav, test_wav, train_label, test_label = train_test_split(data_list, \n",
    "                                                                label_data, \n",
    "                                                                test_size=0.1,\n",
    "                                                                shuffle=True)\n",
    "# train_wav = train_wav.reshape([-1, sr, 1]) # add channel for CNN\n",
    "# test_wav = test_wav.reshape([-1, sr, 1])\n",
    "del speech_data"
   ]
  },
  {
   "cell_type": "code",
   "execution_count": null,
   "id": "cultural-acceptance",
   "metadata": {},
   "outputs": [],
   "source": []
  },
  {
   "cell_type": "code",
   "execution_count": 9,
   "id": "fourth-insider",
   "metadata": {
    "scrolled": false
   },
   "outputs": [
    {
     "name": "stdout",
     "output_type": "stream",
     "text": [
      "train data :  (45558, 130, 126)\n",
      "train labels :  (45558,)\n",
      "test data :  (5062, 130, 126)\n",
      "test labels :  (5062,)\n",
      "✅\n"
     ]
    }
   ],
   "source": [
    "# 데이터셋 확인\n",
    "print(\"train data : \", train_wav.shape)\n",
    "print(\"train labels : \", train_label.shape)\n",
    "print(\"test data : \", test_wav.shape)\n",
    "print(\"test labels : \", test_label.shape)\n",
    "print(\"✅\")"
   ]
  },
  {
   "cell_type": "code",
   "execution_count": 10,
   "id": "another-belize",
   "metadata": {},
   "outputs": [
    {
     "name": "stdout",
     "output_type": "stream",
     "text": [
      "Waveform shape :  (45558, 130, 126)\n",
      "Spectrogram shape :  (50620, 130, 126)\n"
     ]
    }
   ],
   "source": [
    "#spec = wav2spec(train_wav)\n",
    "print(\"Waveform shape : \",train_wav.shape)\n",
    "print(\"Spectrogram shape : \",data_list.shape)"
   ]
  },
  {
   "cell_type": "code",
   "execution_count": 11,
   "id": "opponent-appointment",
   "metadata": {},
   "outputs": [
    {
     "data": {
      "image/png": "[encoded data removed]",
      "text/plain": [
       "<Figure size 432x288 with 2 Axes>"
      ]
     },
     "metadata": {
      "needs_background": "light"
     },
     "output_type": "display_data"
    }
   ],
   "source": [
    "import librosa.display\n",
    "import matplotlib.pyplot as plt\n",
    "\n",
    "librosa.display.specshow(librosa.amplitude_to_db(data_list[0], ref=np.max), x_axis='time')\n",
    "plt.title('Power spectrogram')\n",
    "plt.colorbar(format='%+2.0f dB')\n",
    "plt.xticks(range(0, 1))\n",
    "plt.tight_layout()\n",
    "plt.show()\n",
    "del data_list"
   ]
  },
  {
   "cell_type": "markdown",
   "id": "absolute-officer",
   "metadata": {},
   "source": [
    "# 하이퍼 파라미터 세팅 및 체크포인트 경로 설정\n",
    " * callback함수 사용시 활용"
   ]
  },
  {
   "cell_type": "code",
   "execution_count": 12,
   "id": "amateur-contractor",
   "metadata": {},
   "outputs": [
    {
     "data": {
      "text/plain": [
       "'/home/aiffel-dj62/aiffel/speech_recognition/models/wav'"
      ]
     },
     "execution_count": 12,
     "metadata": {},
     "output_type": "execute_result"
    }
   ],
   "source": [
    "batch_size = 8\n",
    "max_epochs = 10\n",
    "\n",
    "# the save point\n",
    "checkpoint_dir = os.getenv('HOME')+'/aiffel/speech_recognition/models/wav'\n",
    "\n",
    "checkpoint_dir"
   ]
  },
  {
   "cell_type": "markdown",
   "id": "blessed-playback",
   "metadata": {},
   "source": [
    "# data setting\n",
    " * tf.data.Dataset 사용\n",
    " * tf.data.Dataset.from_tensor_slices 함수에 return 받길 원하는 데이터를 튜플 (data, label) 형태로 넣어서 사용\n",
    " * 노드 [E5], [E6]에서 사용"
   ]
  },
  {
   "cell_type": "code",
   "execution_count": 13,
   "id": "located-trauma",
   "metadata": {},
   "outputs": [],
   "source": [
    "def one_hot_label(wav, label):\n",
    "    label = tf.one_hot(label, depth=12)\n",
    "    return wav, label"
   ]
  },
  {
   "cell_type": "code",
   "execution_count": 14,
   "id": "sporting-discretion",
   "metadata": {},
   "outputs": [
    {
     "name": "stdout",
     "output_type": "stream",
     "text": [
      "<BatchDataset shapes: ((None, 130, 126), (None, 12)), types: (tf.float32, tf.float32)>\n",
      "<BatchDataset shapes: ((None, 130, 126), (None, 12)), types: (tf.float32, tf.float32)>\n",
      "✅\n"
     ]
    }
   ],
   "source": [
    "import tensorflow as tf\n",
    "\n",
    "# for train\n",
    "train_dataset = tf.data.Dataset.from_tensor_slices((train_wav, train_label)) # 아래 함수에 인자로 들어감\n",
    "train_dataset = train_dataset.map(one_hot_label) # 데이터를 불러올 때마다 one-hot encoding(해당값만 1, 나머지는 0으로 인코딩)\n",
    "train_dataset = train_dataset.repeat().batch(batch_size=batch_size)\n",
    "print(train_dataset)\n",
    "\n",
    "# for test\n",
    "test_dataset = tf.data.Dataset.from_tensor_slices((test_wav, test_label))\n",
    "test_dataset = test_dataset.map(one_hot_label)\n",
    "test_dataset = test_dataset.batch(batch_size=batch_size)\n",
    "print(test_dataset)\n",
    "print(\"✅\")"
   ]
  },
  {
   "cell_type": "markdown",
   "id": "informative-discharge",
   "metadata": {},
   "source": [
    "2차원 Spectrogram 데이터를 처리하는 모델 구성\n",
    " * 2차원 Spectrogram 데이터의 시간축 방향으로 Conv1D layer를 적용, 혹은 Conv2D layer를 적용 가능\n",
    " * batchnorm, dropout, dense layer 등을 이용\n",
    " * 12개의 단어 class를 구분하는 loss를 사용하고 Adam optimizer를 사용\n",
    " * 모델 가중치를 저장하는 checkpoint callback 함수 추가\n",
    " * 다양한 모델의 실험을 진행해 보시기 바랍니다."
   ]
  },
  {
   "cell_type": "markdown",
   "id": "activated-aberdeen",
   "metadata": {},
   "source": [
    "# Wave classification 모델 구현"
   ]
  },
  {
   "cell_type": "markdown",
   "id": "quarterly-brief",
   "metadata": {},
   "source": [
    "## 기본모델"
   ]
  },
  {
   "cell_type": "code",
   "execution_count": 15,
   "id": "intimate-investment",
   "metadata": {},
   "outputs": [
    {
     "name": "stdout",
     "output_type": "stream",
     "text": [
      "Model: \"model\"\n",
      "_________________________________________________________________\n",
      "Layer (type)                 Output Shape              Param #   \n",
      "=================================================================\n",
      "input_1 (InputLayer)         [(None, 130, 126)]        0         \n",
      "_________________________________________________________________\n",
      "conv1d (Conv1D)              (None, 130, 32)           36320     \n",
      "_________________________________________________________________\n",
      "conv1d_1 (Conv1D)            (None, 130, 32)           9248      \n",
      "_________________________________________________________________\n",
      "max_pooling1d (MaxPooling1D) (None, 65, 32)            0         \n",
      "_________________________________________________________________\n",
      "conv1d_2 (Conv1D)            (None, 65, 64)            18496     \n",
      "_________________________________________________________________\n",
      "conv1d_3 (Conv1D)            (None, 65, 64)            36928     \n",
      "_________________________________________________________________\n",
      "max_pooling1d_1 (MaxPooling1 (None, 32, 64)            0         \n",
      "_________________________________________________________________\n",
      "conv1d_4 (Conv1D)            (None, 32, 128)           73856     \n",
      "_________________________________________________________________\n",
      "conv1d_5 (Conv1D)            (None, 32, 128)           147584    \n",
      "_________________________________________________________________\n",
      "conv1d_6 (Conv1D)            (None, 32, 128)           147584    \n",
      "_________________________________________________________________\n",
      "max_pooling1d_2 (MaxPooling1 (None, 16, 128)           0         \n",
      "_________________________________________________________________\n",
      "conv1d_7 (Conv1D)            (None, 16, 256)           295168    \n",
      "_________________________________________________________________\n",
      "conv1d_8 (Conv1D)            (None, 16, 256)           590080    \n",
      "_________________________________________________________________\n",
      "conv1d_9 (Conv1D)            (None, 16, 256)           590080    \n",
      "_________________________________________________________________\n",
      "max_pooling1d_3 (MaxPooling1 (None, 8, 256)            0         \n",
      "_________________________________________________________________\n",
      "dropout (Dropout)            (None, 8, 256)            0         \n",
      "_________________________________________________________________\n",
      "flatten (Flatten)            (None, 2048)              0         \n",
      "_________________________________________________________________\n",
      "dense (Dense)                (None, 256)               524544    \n",
      "_________________________________________________________________\n",
      "batch_normalization (BatchNo (None, 256)               1024      \n",
      "_________________________________________________________________\n",
      "activation (Activation)      (None, 256)               0         \n",
      "_________________________________________________________________\n",
      "dense_1 (Dense)              (None, 12)                3084      \n",
      "=================================================================\n",
      "Total params: 2,473,996\n",
      "Trainable params: 2,473,484\n",
      "Non-trainable params: 512\n",
      "_________________________________________________________________\n"
     ]
    }
   ],
   "source": [
    "from tensorflow.keras import layers\n",
    "\n",
    "input_tensor = layers.Input(shape=(130, 126))\n",
    "\n",
    "x = layers.Conv1D(32, 9, padding='same', activation='relu')(input_tensor)\n",
    "x = layers.Conv1D(32, 9, padding='same', activation='relu')(x)\n",
    "x = layers.MaxPool1D()(x)\n",
    "\n",
    "x = layers.Conv1D(64, 9, padding='same', activation='relu')(x)\n",
    "x = layers.Conv1D(64, 9, padding='same', activation='relu')(x)\n",
    "x = layers.MaxPool1D()(x)\n",
    "\n",
    "x = layers.Conv1D(128, 9, padding='same', activation='relu')(x)\n",
    "x = layers.Conv1D(128, 9, padding='same', activation='relu')(x)\n",
    "x = layers.Conv1D(128, 9, padding='same', activation='relu')(x)\n",
    "x = layers.MaxPool1D()(x)\n",
    "\n",
    "x = layers.Conv1D(256, 9, padding='same', activation='relu')(x)\n",
    "x = layers.Conv1D(256, 9, padding='same', activation='relu')(x)\n",
    "x = layers.Conv1D(256, 9, padding='same', activation='relu')(x)\n",
    "x = layers.MaxPool1D()(x)\n",
    "x = layers.Dropout(0.3)(x)\n",
    "\n",
    "x = layers.Flatten()(x)\n",
    "x = layers.Dense(256)(x)\n",
    "x = layers.BatchNormalization()(x)\n",
    "x = layers.Activation('relu')(x)\n",
    "\n",
    "output_tensor = layers.Dense(12)(x)\n",
    "\n",
    "model_wav = tf.keras.Model(input_tensor, output_tensor)\n",
    "\n",
    "model_wav.summary()"
   ]
  },
  {
   "cell_type": "markdown",
   "id": "toxic-presence",
   "metadata": {},
   "source": [
    "# Loss\n",
    " * 12개 클래스를 구분하기 위해서 Multi-class Classification이 필요함"
   ]
  },
  {
   "cell_type": "code",
   "execution_count": 16,
   "id": "lyric-relationship",
   "metadata": {},
   "outputs": [
    {
     "name": "stdout",
     "output_type": "stream",
     "text": [
      "✅\n"
     ]
    }
   ],
   "source": [
    "optimizer=tf.keras.optimizers.Adam(1e-4) # optimizer로는 Adam을, Loss function으로는 Categorical Cross-Entropy loss를 사용\n",
    "model_wav.compile(loss=tf.keras.losses.CategoricalCrossentropy(from_logits=True),\n",
    "             optimizer=optimizer,\n",
    "             metrics=['accuracy'])\n",
    "print(\"✅\")"
   ]
  },
  {
   "cell_type": "markdown",
   "id": "armed-ministry",
   "metadata": {},
   "source": [
    "# Training\n",
    " * model.fit 실행 시, callback 함수를 이용해서 학습 중간 중간 원하는 동작을 하도록 설정 가능\n",
    " * 모델을 재사용하기 위해 모델 가중치를 저장하는 callback 함수를 추가"
   ]
  },
  {
   "cell_type": "code",
   "execution_count": 17,
   "id": "annoying-sampling",
   "metadata": {},
   "outputs": [
    {
     "name": "stdout",
     "output_type": "stream",
     "text": [
      "✅\n"
     ]
    }
   ],
   "source": [
    "cp_callback = tf.keras.callbacks.ModelCheckpoint(checkpoint_dir,\n",
    "                                                 save_weights_only=True,\n",
    "                                                 monitor='val_loss',\n",
    "                                                 mode='auto',\n",
    "                                                 save_best_only=True,\n",
    "                                                 verbose=1)\n",
    "print(\"✅\")"
   ]
  },
  {
   "cell_type": "code",
   "execution_count": 18,
   "id": "virgin-speaker",
   "metadata": {},
   "outputs": [
    {
     "name": "stdout",
     "output_type": "stream",
     "text": [
      "Epoch 1/10\n",
      "5687/5694 [============================>.] - ETA: 0s - loss: 1.3474 - accuracy: 0.5443\n",
      "Epoch 00001: val_loss improved from inf to 0.75223, saving model to /home/aiffel-dj62/aiffel/speech_recognition/models/wav\n",
      "5694/5694 [==============================] - 26s 5ms/step - loss: 1.3468 - accuracy: 0.5444 - val_loss: 0.7522 - val_accuracy: 0.7441\n",
      "Epoch 2/10\n",
      "5683/5694 [============================>.] - ETA: 0s - loss: 0.6809 - accuracy: 0.7778\n",
      "Epoch 00002: val_loss improved from 0.75223 to 0.49151, saving model to /home/aiffel-dj62/aiffel/speech_recognition/models/wav\n",
      "5694/5694 [==============================] - 26s 5ms/step - loss: 0.6806 - accuracy: 0.7778 - val_loss: 0.4915 - val_accuracy: 0.8402\n",
      "Epoch 3/10\n",
      "5687/5694 [============================>.] - ETA: 0s - loss: 0.4857 - accuracy: 0.8427\n",
      "Epoch 00003: val_loss improved from 0.49151 to 0.43043, saving model to /home/aiffel-dj62/aiffel/speech_recognition/models/wav\n",
      "5694/5694 [==============================] - 26s 5ms/step - loss: 0.4856 - accuracy: 0.8428 - val_loss: 0.4304 - val_accuracy: 0.8641\n",
      "Epoch 4/10\n",
      "5686/5694 [============================>.] - ETA: 0s - loss: 0.3797 - accuracy: 0.8770\n",
      "Epoch 00004: val_loss improved from 0.43043 to 0.41829, saving model to /home/aiffel-dj62/aiffel/speech_recognition/models/wav\n",
      "5694/5694 [==============================] - 26s 5ms/step - loss: 0.3795 - accuracy: 0.8770 - val_loss: 0.4183 - val_accuracy: 0.8645\n",
      "Epoch 5/10\n",
      "5685/5694 [============================>.] - ETA: 0s - loss: 0.3083 - accuracy: 0.8991\n",
      "Epoch 00005: val_loss improved from 0.41829 to 0.39916, saving model to /home/aiffel-dj62/aiffel/speech_recognition/models/wav\n",
      "5694/5694 [==============================] - 26s 5ms/step - loss: 0.3081 - accuracy: 0.8992 - val_loss: 0.3992 - val_accuracy: 0.8703\n",
      "Epoch 6/10\n",
      "5690/5694 [============================>.] - ETA: 0s - loss: 0.2549 - accuracy: 0.9160\n",
      "Epoch 00006: val_loss improved from 0.39916 to 0.32668, saving model to /home/aiffel-dj62/aiffel/speech_recognition/models/wav\n",
      "5694/5694 [==============================] - 26s 5ms/step - loss: 0.2547 - accuracy: 0.9161 - val_loss: 0.3267 - val_accuracy: 0.8914\n",
      "Epoch 7/10\n",
      "5689/5694 [============================>.] - ETA: 0s - loss: 0.2202 - accuracy: 0.9270\n",
      "Epoch 00007: val_loss improved from 0.32668 to 0.29699, saving model to /home/aiffel-dj62/aiffel/speech_recognition/models/wav\n",
      "5694/5694 [==============================] - 26s 5ms/step - loss: 0.2202 - accuracy: 0.9271 - val_loss: 0.2970 - val_accuracy: 0.9066\n",
      "Epoch 8/10\n",
      "5689/5694 [============================>.] - ETA: 0s - loss: 0.1912 - accuracy: 0.9370\n",
      "Epoch 00008: val_loss did not improve from 0.29699\n",
      "5694/5694 [==============================] - 26s 5ms/step - loss: 0.1911 - accuracy: 0.9370 - val_loss: 0.2999 - val_accuracy: 0.9092\n",
      "Epoch 9/10\n",
      "5693/5694 [============================>.] - ETA: 0s - loss: 0.1692 - accuracy: 0.9435\n",
      "Epoch 00009: val_loss improved from 0.29699 to 0.28291, saving model to /home/aiffel-dj62/aiffel/speech_recognition/models/wav\n",
      "5694/5694 [==============================] - 26s 5ms/step - loss: 0.1692 - accuracy: 0.9435 - val_loss: 0.2829 - val_accuracy: 0.9152\n",
      "Epoch 10/10\n",
      "5684/5694 [============================>.] - ETA: 0s - loss: 0.1490 - accuracy: 0.9505\n",
      "Epoch 00010: val_loss did not improve from 0.28291\n",
      "5694/5694 [==============================] - 26s 5ms/step - loss: 0.1491 - accuracy: 0.9505 - val_loss: 0.3076 - val_accuracy: 0.9118\n",
      "✅\n"
     ]
    }
   ],
   "source": [
    "#30분 내외 소요 (메모리 사용량에 주의해 주세요.)\n",
    "history_wav = model_wav.fit(train_dataset, epochs=max_epochs,\n",
    "                    steps_per_epoch=len(train_wav) // batch_size,\n",
    "                    validation_data=test_dataset,\n",
    "                    validation_steps=len(test_wav) // batch_size,\n",
    "                    callbacks=[cp_callback]\n",
    "                    )\n",
    "print(\"✅\")"
   ]
  },
  {
   "cell_type": "markdown",
   "id": "functional-finland",
   "metadata": {},
   "source": [
    "# 학습결과 시각화"
   ]
  },
  {
   "cell_type": "code",
   "execution_count": 19,
   "id": "integral-haven",
   "metadata": {},
   "outputs": [
    {
     "data": {
      "image/png": "[encoded data removed]",
      "text/plain": [
       "<Figure size 576x576 with 2 Axes>"
      ]
     },
     "metadata": {
      "needs_background": "light"
     },
     "output_type": "display_data"
    },
    {
     "name": "stdout",
     "output_type": "stream",
     "text": [
      "✅\n"
     ]
    }
   ],
   "source": [
    "import matplotlib.pyplot as plt\n",
    "\n",
    "acc = history_wav.history['accuracy']\n",
    "val_acc = history_wav.history['val_accuracy']\n",
    "\n",
    "loss=history_wav.history['loss']\n",
    "val_loss=history_wav.history['val_loss']\n",
    "\n",
    "epochs_range = range(len(acc))\n",
    "\n",
    "plt.figure(figsize=(8, 8))\n",
    "plt.subplot(1, 2, 1)\n",
    "plt.plot(epochs_range, acc, label='Training Accuracy')\n",
    "plt.plot(epochs_range, val_acc, label='Validation Accuracy')\n",
    "plt.legend(loc='lower right')\n",
    "plt.title('Training and Validation Accuracy')\n",
    "\n",
    "plt.subplot(1, 2, 2)\n",
    "plt.plot(epochs_range, loss, label='Training Loss')\n",
    "plt.plot(epochs_range, val_loss, label='Validation Loss')\n",
    "plt.legend(loc='upper right')\n",
    "plt.title('Training and Validation Loss')\n",
    "plt.show()\n",
    "print(\"✅\")"
   ]
  },
  {
   "cell_type": "markdown",
   "id": "acoustic-guide",
   "metadata": {},
   "source": [
    "# 성능평가(Evaluation)\n",
    " * test_dataset으로 모델의 성능 평가"
   ]
  },
  {
   "cell_type": "code",
   "execution_count": 20,
   "id": "actual-stocks",
   "metadata": {},
   "outputs": [
    {
     "name": "stdout",
     "output_type": "stream",
     "text": [
      "✅\n"
     ]
    }
   ],
   "source": [
    "# checkpoint callback 함수가 저장한 weight를 다시 불러와서 테스트 준비\n",
    "model_wav.load_weights(checkpoint_dir)\n",
    "print(\"✅\")"
   ]
  },
  {
   "cell_type": "code",
   "execution_count": 21,
   "id": "purple-detector",
   "metadata": {},
   "outputs": [
    {
     "name": "stdout",
     "output_type": "stream",
     "text": [
      "633/633 [==============================] - 21s 33ms/step - loss: 0.2826 - accuracy: 0.9153\n",
      "✅\n"
     ]
    }
   ],
   "source": [
    "#test_dataset으로 예측값과 실제값의 차이 확인\n",
    "results = model_wav.evaluate(test_dataset)\n",
    "print(\"✅\")"
   ]
  },
  {
   "cell_type": "code",
   "execution_count": 22,
   "id": "initial-vampire",
   "metadata": {},
   "outputs": [
    {
     "name": "stdout",
     "output_type": "stream",
     "text": [
      "loss value: 0.283\n",
      "accuracy value: 91.5251%\n",
      "✅\n"
     ]
    }
   ],
   "source": [
    "# loss\n",
    "print(\"loss value: {:.3f}\".format(results[0]))\n",
    "# accuracy\n",
    "print(\"accuracy value: {:.4f}%\".format(results[1]*100))\n",
    "print(\"✅\")"
   ]
  },
  {
   "cell_type": "markdown",
   "id": "occupied-roulette",
   "metadata": {},
   "source": [
    "# 5-5. Skip-Connection model 추가"
   ]
  },
  {
   "cell_type": "markdown",
   "id": "second-yorkshire",
   "metadata": {},
   "source": [
    "## Skip-Connection model 구현\n",
    " * 위쪽의 데이터가 레이어를 뛰어넘어 레이어를 통과한 값에 더해주는 형식\n",
    " * 구현 방식 - tf.concat([#layer output tensor, layer output tensor#], axis=#)"
   ]
  },
  {
   "cell_type": "code",
   "execution_count": 16,
   "id": "interested-gibson",
   "metadata": {},
   "outputs": [
    {
     "name": "stdout",
     "output_type": "stream",
     "text": [
      "Model: \"model\"\n",
      "__________________________________________________________________________________________________\n",
      "Layer (type)                    Output Shape         Param #     Connected to                     \n",
      "==================================================================================================\n",
      "input_1 (InputLayer)            [(None, 130, 126)]   0                                            \n",
      "__________________________________________________________________________________________________\n",
      "conv1d (Conv1D)                 (None, 130, 32)      36320       input_1[0][0]                    \n",
      "__________________________________________________________________________________________________\n",
      "conv1d_1 (Conv1D)               (None, 130, 32)      9248        conv1d[0][0]                     \n",
      "__________________________________________________________________________________________________\n",
      "max_pooling1d (MaxPooling1D)    (None, 65, 32)       0           conv1d_1[0][0]                   \n",
      "__________________________________________________________________________________________________\n",
      "conv1d_2 (Conv1D)               (None, 65, 64)       18496       max_pooling1d[0][0]              \n",
      "__________________________________________________________________________________________________\n",
      "conv1d_3 (Conv1D)               (None, 65, 64)       36928       conv1d_2[0][0]                   \n",
      "__________________________________________________________________________________________________\n",
      "tf_op_layer_concat (TensorFlowO [(None, 65, 96)]     0           conv1d_3[0][0]                   \n",
      "                                                                 max_pooling1d[0][0]              \n",
      "__________________________________________________________________________________________________\n",
      "max_pooling1d_1 (MaxPooling1D)  (None, 32, 96)       0           tf_op_layer_concat[0][0]         \n",
      "__________________________________________________________________________________________________\n",
      "conv1d_4 (Conv1D)               (None, 32, 128)      110720      max_pooling1d_1[0][0]            \n",
      "__________________________________________________________________________________________________\n",
      "conv1d_5 (Conv1D)               (None, 32, 128)      147584      conv1d_4[0][0]                   \n",
      "__________________________________________________________________________________________________\n",
      "conv1d_6 (Conv1D)               (None, 32, 128)      147584      conv1d_5[0][0]                   \n",
      "__________________________________________________________________________________________________\n",
      "tf_op_layer_concat_1 (TensorFlo [(None, 32, 224)]    0           conv1d_6[0][0]                   \n",
      "                                                                 max_pooling1d_1[0][0]            \n",
      "__________________________________________________________________________________________________\n",
      "max_pooling1d_2 (MaxPooling1D)  (None, 16, 224)      0           tf_op_layer_concat_1[0][0]       \n",
      "__________________________________________________________________________________________________\n",
      "conv1d_7 (Conv1D)               (None, 16, 256)      516352      max_pooling1d_2[0][0]            \n",
      "__________________________________________________________________________________________________\n",
      "conv1d_8 (Conv1D)               (None, 16, 256)      590080      conv1d_7[0][0]                   \n",
      "__________________________________________________________________________________________________\n",
      "conv1d_9 (Conv1D)               (None, 16, 256)      590080      conv1d_8[0][0]                   \n",
      "__________________________________________________________________________________________________\n",
      "tf_op_layer_concat_2 (TensorFlo [(None, 16, 480)]    0           conv1d_9[0][0]                   \n",
      "                                                                 max_pooling1d_2[0][0]            \n",
      "__________________________________________________________________________________________________\n",
      "max_pooling1d_3 (MaxPooling1D)  (None, 8, 480)       0           tf_op_layer_concat_2[0][0]       \n",
      "__________________________________________________________________________________________________\n",
      "dropout (Dropout)               (None, 8, 480)       0           max_pooling1d_3[0][0]            \n",
      "__________________________________________________________________________________________________\n",
      "flatten (Flatten)               (None, 3840)         0           dropout[0][0]                    \n",
      "__________________________________________________________________________________________________\n",
      "dense (Dense)                   (None, 256)          983296      flatten[0][0]                    \n",
      "__________________________________________________________________________________________________\n",
      "batch_normalization (BatchNorma (None, 256)          1024        dense[0][0]                      \n",
      "__________________________________________________________________________________________________\n",
      "activation (Activation)         (None, 256)          0           batch_normalization[0][0]        \n",
      "__________________________________________________________________________________________________\n",
      "dense_1 (Dense)                 (None, 12)           3084        activation[0][0]                 \n",
      "==================================================================================================\n",
      "Total params: 3,190,796\n",
      "Trainable params: 3,190,284\n",
      "Non-trainable params: 512\n",
      "__________________________________________________________________________________________________\n"
     ]
    }
   ],
   "source": [
    "from tensorflow.keras import layers\n",
    "\n",
    "input_tensor = layers.Input(shape=(130, 126))\n",
    "\n",
    "x = layers.Conv1D(32, 9, padding='same', activation='relu')(input_tensor)\n",
    "x = layers.Conv1D(32, 9, padding='same', activation='relu')(x)\n",
    "skip_1 = layers.MaxPool1D()(x)\n",
    "\n",
    "x = layers.Conv1D(64, 9, padding='same', activation='relu')(skip_1)\n",
    "x = layers.Conv1D(64, 9, padding='same', activation='relu')(x)\n",
    "x = tf.concat([x, skip_1], -1)\n",
    "skip_2 = layers.MaxPool1D()(x)\n",
    "\n",
    "x = layers.Conv1D(128, 9, padding='same', activation='relu')(skip_2)\n",
    "x = layers.Conv1D(128, 9, padding='same', activation='relu')(x)\n",
    "x = layers.Conv1D(128, 9, padding='same', activation='relu')(x)\n",
    "x = tf.concat([x, skip_2], -1)\n",
    "skip_3 = layers.MaxPool1D()(x)\n",
    "\n",
    "x = layers.Conv1D(256, 9, padding='same', activation='relu')(skip_3)\n",
    "x = layers.Conv1D(256, 9, padding='same', activation='relu')(x)\n",
    "x = layers.Conv1D(256, 9, padding='same', activation='relu')(x)\n",
    "x = tf.concat([x, skip_3], -1)\n",
    "x = layers.MaxPool1D()(x)\n",
    "x = layers.Dropout(0.3)(x)\n",
    "\n",
    "x = layers.Flatten()(x)\n",
    "x = layers.Dense(256)(x)\n",
    "x = layers.BatchNormalization()(x)\n",
    "x = layers.Activation('relu')(x)\n",
    "\n",
    "output_tensor = layers.Dense(12)(x)\n",
    "\n",
    "model_wav_skip = tf.keras.Model(input_tensor, output_tensor)\n",
    "\n",
    "model_wav_skip.summary()"
   ]
  },
  {
   "cell_type": "markdown",
   "id": "renewable-diana",
   "metadata": {},
   "source": [
    "## Loss function 설정"
   ]
  },
  {
   "cell_type": "code",
   "execution_count": 17,
   "id": "descending-president",
   "metadata": {},
   "outputs": [
    {
     "name": "stdout",
     "output_type": "stream",
     "text": [
      "✅\n"
     ]
    }
   ],
   "source": [
    "optimizer=tf.keras.optimizers.Adam(1e-4)\n",
    "model_wav_skip.compile(loss=tf.keras.losses.CategoricalCrossentropy(from_logits=True),\n",
    "             optimizer=optimizer,\n",
    "             metrics=['accuracy'])\n",
    "print(\"✅\")"
   ]
  },
  {
   "cell_type": "markdown",
   "id": "formal-workshop",
   "metadata": {},
   "source": [
    "## 세이브 포인트"
   ]
  },
  {
   "cell_type": "code",
   "execution_count": 18,
   "id": "simplified-storm",
   "metadata": {},
   "outputs": [
    {
     "name": "stdout",
     "output_type": "stream",
     "text": [
      "✅\n"
     ]
    }
   ],
   "source": [
    "# the save point\n",
    "checkpoint_dir = os.getenv('HOME')+'/aiffel/speech_recognition/models/wav_skip'\n",
    "\n",
    "cp_callback = tf.keras.callbacks.ModelCheckpoint(checkpoint_dir,\n",
    "                                                 save_weights_only=True,\n",
    "                                                 monitor='val_loss',\n",
    "                                                 mode='auto',\n",
    "                                                 save_best_only=True,\n",
    "                                                 verbose=1)\n",
    "print(\"✅\")"
   ]
  },
  {
   "cell_type": "markdown",
   "id": "identical-chase",
   "metadata": {},
   "source": [
    "## 모델 훈련"
   ]
  },
  {
   "cell_type": "code",
   "execution_count": 19,
   "id": "constitutional-century",
   "metadata": {},
   "outputs": [
    {
     "name": "stdout",
     "output_type": "stream",
     "text": [
      "Epoch 1/10\n",
      "5684/5694 [============================>.] - ETA: 0s - loss: 1.4339 - accuracy: 0.5148\n",
      "Epoch 00001: val_loss improved from inf to 0.81309, saving model to /home/aiffel-dj62/aiffel/speech_recognition/models/wav_skip\n",
      "5694/5694 [==============================] - 29s 5ms/step - loss: 1.4330 - accuracy: 0.5150 - val_loss: 0.8131 - val_accuracy: 0.7383\n",
      "Epoch 2/10\n",
      "5691/5694 [============================>.] - ETA: 0s - loss: 0.7308 - accuracy: 0.7638\n",
      "Epoch 00002: val_loss improved from 0.81309 to 0.55148, saving model to /home/aiffel-dj62/aiffel/speech_recognition/models/wav_skip\n",
      "5694/5694 [==============================] - 29s 5ms/step - loss: 0.7307 - accuracy: 0.7638 - val_loss: 0.5515 - val_accuracy: 0.8165\n",
      "Epoch 3/10\n",
      "5692/5694 [============================>.] - ETA: 0s - loss: 0.5007 - accuracy: 0.8394\n",
      "Epoch 00003: val_loss improved from 0.55148 to 0.43660, saving model to /home/aiffel-dj62/aiffel/speech_recognition/models/wav_skip\n",
      "5694/5694 [==============================] - 29s 5ms/step - loss: 0.5007 - accuracy: 0.8394 - val_loss: 0.4366 - val_accuracy: 0.8578\n",
      "Epoch 4/10\n",
      "5685/5694 [============================>.] - ETA: 0s - loss: 0.3817 - accuracy: 0.8768\n",
      "Epoch 00004: val_loss improved from 0.43660 to 0.34695, saving model to /home/aiffel-dj62/aiffel/speech_recognition/models/wav_skip\n",
      "5694/5694 [==============================] - 28s 5ms/step - loss: 0.3815 - accuracy: 0.8768 - val_loss: 0.3470 - val_accuracy: 0.8778\n",
      "Epoch 5/10\n",
      "5687/5694 [============================>.] - ETA: 0s - loss: 0.2983 - accuracy: 0.9021\n",
      "Epoch 00005: val_loss improved from 0.34695 to 0.33379, saving model to /home/aiffel-dj62/aiffel/speech_recognition/models/wav_skip\n",
      "5694/5694 [==============================] - 29s 5ms/step - loss: 0.2981 - accuracy: 0.9022 - val_loss: 0.3338 - val_accuracy: 0.8894\n",
      "Epoch 6/10\n",
      "5691/5694 [============================>.] - ETA: 0s - loss: 0.2404 - accuracy: 0.9218\n",
      "Epoch 00006: val_loss improved from 0.33379 to 0.28781, saving model to /home/aiffel-dj62/aiffel/speech_recognition/models/wav_skip\n",
      "5694/5694 [==============================] - 30s 5ms/step - loss: 0.2404 - accuracy: 0.9218 - val_loss: 0.2878 - val_accuracy: 0.9047\n",
      "Epoch 7/10\n",
      "5688/5694 [============================>.] - ETA: 0s - loss: 0.1967 - accuracy: 0.9365\n",
      "Epoch 00007: val_loss did not improve from 0.28781\n",
      "5694/5694 [==============================] - 28s 5ms/step - loss: 0.1966 - accuracy: 0.9365 - val_loss: 0.3016 - val_accuracy: 0.9086\n",
      "Epoch 8/10\n",
      "5688/5694 [============================>.] - ETA: 0s - loss: 0.1728 - accuracy: 0.9427\n",
      "Epoch 00008: val_loss did not improve from 0.28781\n",
      "5694/5694 [==============================] - 30s 5ms/step - loss: 0.1728 - accuracy: 0.9427 - val_loss: 0.3566 - val_accuracy: 0.8920\n",
      "Epoch 9/10\n",
      "5688/5694 [============================>.] - ETA: 0s - loss: 0.1483 - accuracy: 0.9498\n",
      "Epoch 00009: val_loss improved from 0.28781 to 0.25725, saving model to /home/aiffel-dj62/aiffel/speech_recognition/models/wav_skip\n",
      "5694/5694 [==============================] - 28s 5ms/step - loss: 0.1484 - accuracy: 0.9498 - val_loss: 0.2573 - val_accuracy: 0.9217\n",
      "Epoch 10/10\n",
      "5690/5694 [============================>.] - ETA: 0s - loss: 0.1340 - accuracy: 0.9560\n",
      "Epoch 00010: val_loss improved from 0.25725 to 0.25651, saving model to /home/aiffel-dj62/aiffel/speech_recognition/models/wav_skip\n",
      "5694/5694 [==============================] - 30s 5ms/step - loss: 0.1340 - accuracy: 0.9560 - val_loss: 0.2565 - val_accuracy: 0.9241\n",
      "✅\n"
     ]
    }
   ],
   "source": [
    "#30분 내외 소요\n",
    "history_wav_skip = model_wav_skip.fit(train_dataset, epochs=max_epochs,\n",
    "                    steps_per_epoch=len(train_wav) // batch_size,\n",
    "                    validation_data=test_dataset,\n",
    "                    validation_steps=len(test_wav) // batch_size,\n",
    "                    callbacks=[cp_callback]\n",
    "                    )\n",
    "print(\"✅\")"
   ]
  },
  {
   "cell_type": "markdown",
   "id": "authorized-soundtrack",
   "metadata": {},
   "source": [
    "## 시각화"
   ]
  },
  {
   "cell_type": "code",
   "execution_count": 20,
   "id": "timely-range",
   "metadata": {},
   "outputs": [
    {
     "data": {
      "image/png": "[encoded data removed]",
      "text/plain": [
       "<Figure size 576x576 with 2 Axes>"
      ]
     },
     "metadata": {
      "needs_background": "light"
     },
     "output_type": "display_data"
    },
    {
     "name": "stdout",
     "output_type": "stream",
     "text": [
      "✅\n"
     ]
    }
   ],
   "source": [
    "import matplotlib.pyplot as plt\n",
    "\n",
    "acc = history_wav_skip.history['accuracy']\n",
    "val_acc = history_wav_skip.history['val_accuracy']\n",
    "\n",
    "loss=history_wav_skip.history['loss']\n",
    "val_loss=history_wav_skip.history['val_loss']\n",
    "\n",
    "epochs_range = range(len(acc))\n",
    "\n",
    "plt.figure(figsize=(8, 8))\n",
    "plt.subplot(1, 2, 1)\n",
    "plt.plot(epochs_range, acc, label='Training Accuracy')\n",
    "plt.plot(epochs_range, val_acc, label='Validation Accuracy')\n",
    "plt.legend(loc='lower right')\n",
    "plt.title('Training and Validation Accuracy')\n",
    "\n",
    "plt.subplot(1, 2, 2)\n",
    "plt.plot(epochs_range, loss, label='Training Loss')\n",
    "plt.plot(epochs_range, val_loss, label='Validation Loss')\n",
    "plt.legend(loc='upper right')\n",
    "plt.title('Training and Validation Loss')\n",
    "plt.show()\n",
    "print(\"✅\")"
   ]
  },
  {
   "cell_type": "markdown",
   "id": "searching-raleigh",
   "metadata": {},
   "source": [
    "## 성능평가"
   ]
  },
  {
   "cell_type": "code",
   "execution_count": 21,
   "id": "neutral-apple",
   "metadata": {},
   "outputs": [
    {
     "name": "stdout",
     "output_type": "stream",
     "text": [
      "633/633 [==============================] - 20s 31ms/step - loss: 0.2562 - accuracy: 0.9241\n",
      "loss value: 0.256\n",
      "accuracy value: 92.4141%\n",
      "✅\n"
     ]
    }
   ],
   "source": [
    "# Evaluation \n",
    "\n",
    "model_wav_skip.load_weights(checkpoint_dir)\n",
    "results = model_wav_skip.evaluate(test_dataset)\n",
    "\n",
    "# loss\n",
    "print(\"loss value: {:.3f}\".format(results[0]))\n",
    "# accuracy\n",
    "print(\"accuracy value: {:.4f}%\".format(results[1]*100))\n",
    "print(\"✅\")"
   ]
  },
  {
   "cell_type": "markdown",
   "id": "suffering-promotion",
   "metadata": {},
   "source": [
    "### 1. 음성데이터를 2차원 Spectrogram 으로 변환하여 데이터셋을 구성하였다.\n",
    "\n",
    " * 스펙트로그램 시각화 및 train/test 데이터셋 구성이 정상진행되었습니다."
   ]
  },
  {
   "cell_type": "markdown",
   "id": "proud-logan",
   "metadata": {},
   "source": [
    "### 2. 1,2차원 데이터를 처리하는 음성인식 모델이 정상 작동한다.\n",
    " * 스펙트로그램을 입력받은 모델의 loss값과 accuracy 곡선이 정상적으로 수렴하였고, 10회를 진행하는 동안 과적합이 일어나지 않았습니다. 1차원 데이터를 2차원으로 변환하여 이에 따라 evaluation/test 단계를 무리없이 끝냈습니다."
   ]
  },
  {
   "cell_type": "markdown",
   "id": "drawn-determination",
   "metadata": {},
   "source": [
    "### 3. 테스트셋 수행결과 음성인식 모델의 Accuracy가 일정 수준에 도달하였다.\n",
    "\n",
    " * evaluation 결과 75% 이상의 정확도를 달성하는 모델이 하나 이상 존재한다.\n",
    "   * 두 모델 모두 92% 이상의 정확도를 보였으며, 과적합이 일어나지 않았습니다.\n",
    "   * batch size를 8로 줄이고 돌렸을 뿐인데 정확도가 높게 나왔습니다. 다른 하이퍼파라미터도 변경해서 실험해보고 싶었지만, 커널이 지속적으로 죽는 현상이 반복되어 실패했습니다.\n",
    "   * 다만 좋은 아이디어라고 생각했던 skip의 accuracy에 비해 약간 높게 나온것은 의외였습니다. 해당 일반 모델이 데이터에 비해 지나치게 높은 성능을 낸 것인지, 아니면 단순히 skip connection에 맞지 않는 데이터였는지 궁금합니다."
   ]
  },
  {
   "cell_type": "markdown",
   "id": "facial-pitch",
   "metadata": {},
   "source": [
    "## 회고"
   ]
  },
  {
   "cell_type": "markdown",
   "id": "preceding-passport",
   "metadata": {},
   "source": [
    "1차원 데이터를 2차원으로 바꾸면서 여러 고비가 있었습니다. 어려운 수식이 나와서 부담이 큰 상태에서 노드를 진행하며 커널이 지속적으로 죽어서 하루종일 노드를 끝내지 못했습니다.(심지어 데이터를 지속적으로 지워가면서도 마지막 제출 모델을 일반, skip 2번에 나눠서 돌렸습니다..) 코드를 이해하는데도 엄청나게 많은 시간과 노력을 쏟았지만, 아직 깊이있게 이해하지 못한것이 아쉽습니다. 다른분들에 비해 느리더라도 꾸준히 하기 위해 노력하고 있습니다.\n",
    "\n",
    "그래도 자연어는 단순히 텍스트데이터만 생각했었는데 음성, 오디오데이터도 접해볼 수 있어서 좋았습니다. 보다 전문적인 지식이 필요하겠지만, 다양하게 활용될 수 있는 분야라는 생각이 들었습니다."
   ]
  }
 ],
 "metadata": {
  "kernelspec": {
   "display_name": "aiffel",
   "language": "python",
   "name": "aiffel"
  },
  "language_info": {
   "codemirror_mode": {
    "name": "ipython",
    "version": 3
   },
   "file_extension": ".py",
   "mimetype": "text/x-python",
   "name": "python",
   "nbconvert_exporter": "python",
   "pygments_lexer": "ipython3",
   "version": "3.7.9"
  }
 },
 "nbformat": 4,
 "nbformat_minor": 5
}
